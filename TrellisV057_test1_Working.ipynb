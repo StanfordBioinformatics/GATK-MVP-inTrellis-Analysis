{
 "cells": [
  {
   "cell_type": "markdown",
   "metadata": {},
   "source": [
    "Neo4J v057 test1 - Data Analysis and Visualizing \n",
    "================"
   ]
  },
  {
   "cell_type": "markdown",
   "metadata": {},
   "source": [
    "## Set up the environment\n"
   ]
  },
  {
   "cell_type": "markdown",
   "metadata": {},
   "source": [
    "### Install py2neo for querying Neo4J "
   ]
  },
  {
   "cell_type": "code",
   "execution_count": 3,
   "metadata": {},
   "outputs": [],
   "source": [
    "#!pip3 install -U py2neo\n",
    "\n",
    "# add python path of py2neo in system\n",
    "\n",
    "#!pip3 install -U neotime\n",
    "#!pip3 install -U neobolt\n",
    "#!pip3 install -U xlrd"
   ]
  },
  {
   "cell_type": "markdown",
   "metadata": {},
   "source": [
    "### Import Packages"
   ]
  },
  {
   "cell_type": "code",
   "execution_count": 4,
   "metadata": {},
   "outputs": [],
   "source": [
    "from py2neo import Graph\n",
    "\n",
    "from google.cloud import storage\n",
    "import yaml\n",
    "\n",
    "import pandas as pd\n",
    "import numpy as np\n",
    "import subprocess\n",
    "import matplotlib \n",
    "import matplotlib.pyplot as plt\n",
    "import seaborn as sns\n",
    "\n",
    "#plt.style.use('fivethirtyeight')\n",
    "#plt.style.use('ggplot')\n",
    "pd.set_option('display.float_format', lambda x: '%.2f' % x)"
   ]
  },
  {
   "cell_type": "markdown",
   "metadata": {},
   "source": [
    "### Load Neo4J DB"
   ]
  },
  {
   "cell_type": "code",
   "execution_count": 5,
   "metadata": {},
   "outputs": [],
   "source": [
    "# Option 1 : Read DB and Account Information in Google Storage (YAML)\n",
    "\n",
    "# create storage client\n",
    "storage_client = storage.Client()\n",
    "# get bucket with name\n",
    "bucket = storage_client.get_bucket('gbsc-gcp-project-mvp-{env}-trellis')\n",
    "# get bucket data as blob\n",
    "blob = bucket.get_blob('credentials/{env}-wgs35.yaml')\n",
    "# convert to string\n",
    "yaml_data = blob.download_as_string()\n",
    "\n",
    "account = yaml.load(yaml_data, Loader=yaml.FullLoader)\n",
    "\n",
    "## Main Account\n",
    "graph = Graph(account['NEO4J_SCHEME']+'://'+account['NEO4J_HOST']+\":\"+str(account['NEO4J_PORT']), auth=(account['NEO4J_USER'],account['NEO4J_PASSPHRASE']))"
   ]
  },
  {
   "cell_type": "markdown",
   "metadata": {},
   "source": [
    "--------\n",
    "## Merge sample table and job table"
   ]
  },
  {
   "cell_type": "code",
   "execution_count": 6,
   "metadata": {},
   "outputs": [],
   "source": [
    "sample_df=pd.read_csv('./sample-based-analysis-v057-simple.csv')\n",
    "job_df=pd.read_csv('./job-based-analysis-v057.csv')"
   ]
  },
  {
   "cell_type": "code",
   "execution_count": 7,
   "metadata": {},
   "outputs": [],
   "source": [
    "sample_pass=sample_df[['sample','pass']]\n",
    "merged_df=pd.merge(sample_pass,job_df,left_on=['sample'],right_on=['sample'],how='right')\n",
    "columnlist=['sample','pass','job','fq2urg_gatkid','dup','attempts','runtime','unit_runtime','dstat_status','dstat_msg','dstat_log']\n",
    "merged_df=merged_df[columnlist]\n",
    "#merged_df.head()"
   ]
  },
  {
   "cell_type": "code",
   "execution_count": 8,
   "metadata": {},
   "outputs": [
    {
     "data": {
      "text/plain": [
       "288"
      ]
     },
     "metadata": {},
     "output_type": "display_data"
    }
   ],
   "source": [
    "num_sample=len(merged_df['sample'].unique())\n",
    "display(num_sample)"
   ]
  },
  {
   "cell_type": "markdown",
   "metadata": {},
   "source": [
    "--------\n",
    "## Duplication Analysis"
   ]
  },
  {
   "cell_type": "markdown",
   "metadata": {},
   "source": [
    "### Duplication Count and Percentage"
   ]
  },
  {
   "cell_type": "code",
   "execution_count": 9,
   "metadata": {},
   "outputs": [],
   "source": [
    "## Total Jobs\n",
    "num_total_job=merged_df.loc[(merged_df['job']=='FQ2U')|(merged_df['job']=='GATK'),'job'].value_counts().to_frame()\n",
    "#display(num_total_job)\n",
    "\n",
    "## Duplicated Jobs (All, Pass, Fail)\n",
    "num_dup_job=merged_df.loc[(merged_df['dup']==True)&((merged_df['job']=='FQ2U')|(merged_df['job']=='GATK')),'job'].value_counts().to_frame()\n",
    "#display(num_dup_job)\n",
    "\n",
    "num_dup_job_inpass=merged_df.loc[(merged_df['pass']=='pass')&(merged_df['dup']==True)&((merged_df['job']=='FQ2U')|(merged_df['job']=='GATK')),'job'].value_counts().to_frame()\n",
    "#display(num_dup_job_inpass)\n",
    "\n",
    "num_dup_job_infail=merged_df.loc[(merged_df['pass']=='fail')&(merged_df['dup']==True)&((merged_df['job']=='FQ2U')|(merged_df['job']=='GATK')),'job'].value_counts().to_frame()\n",
    "#display(num_dup_job_infail)"
   ]
  },
  {
   "cell_type": "markdown",
   "metadata": {},
   "source": [
    "### Histogram of duplicated jobs by sample and Runtime"
   ]
  },
  {
   "cell_type": "code",
   "execution_count": 10,
   "metadata": {},
   "outputs": [],
   "source": [
    "## fq2u duplicated jobs\n",
    "fq2u_dup=merged_df.loc[(merged_df['dup']==True)&(merged_df['job']=='FQ2U'),['sample','runtime']]\n",
    "fq2u_dup_bysp=fq2u_dup['sample'].value_counts().to_frame()\n",
    "fq2u_dup_bysp_freq=fq2u_dup_bysp['sample'].value_counts().to_frame().reset_index()\n",
    "#display(fq2u_dup_bysp_freq)\n",
    "\n",
    "## gatk duplicated jobs\n",
    "gatk_dup=merged_df.loc[(merged_df['dup']==True)&(merged_df['job']=='GATK'),['sample','runtime']]\n",
    "gatk_dup_bysp=gatk_dup['sample'].value_counts().to_frame()\n",
    "gatk_dup_bysp_freq=gatk_dup_bysp['sample'].value_counts().to_frame().reset_index()\n",
    "#display(gatk_dup_bysp_freq)"
   ]
  },
  {
   "cell_type": "code",
   "execution_count": 11,
   "metadata": {},
   "outputs": [
    {
     "ename": "ValueError",
     "evalue": "min() arg is an empty sequence",
     "output_type": "error",
     "traceback": [
      "\u001b[0;31m---------------------------------------------------------------------------\u001b[0m",
      "\u001b[0;31mValueError\u001b[0m                                Traceback (most recent call last)",
      "\u001b[0;32m<ipython-input-11-e9a8896faffc>\u001b[0m in \u001b[0;36m<module>\u001b[0;34m\u001b[0m\n\u001b[1;32m      1\u001b[0m \u001b[0mf\u001b[0m\u001b[0;34m,\u001b[0m \u001b[0maxes\u001b[0m \u001b[0;34m=\u001b[0m \u001b[0mplt\u001b[0m\u001b[0;34m.\u001b[0m\u001b[0msubplots\u001b[0m\u001b[0;34m(\u001b[0m\u001b[0;36m1\u001b[0m\u001b[0;34m,\u001b[0m \u001b[0;36m2\u001b[0m\u001b[0;34m,\u001b[0m \u001b[0mfigsize\u001b[0m\u001b[0;34m=\u001b[0m\u001b[0;34m(\u001b[0m\u001b[0;36m12\u001b[0m\u001b[0;34m,\u001b[0m \u001b[0;36m5\u001b[0m\u001b[0;34m)\u001b[0m\u001b[0;34m,\u001b[0m \u001b[0msharex\u001b[0m\u001b[0;34m=\u001b[0m\u001b[0;32mTrue\u001b[0m\u001b[0;34m)\u001b[0m\u001b[0;34m\u001b[0m\u001b[0m\n\u001b[1;32m      2\u001b[0m \u001b[0;34m\u001b[0m\u001b[0m\n\u001b[0;32m----> 3\u001b[0;31m \u001b[0msns\u001b[0m\u001b[0;34m.\u001b[0m\u001b[0mbarplot\u001b[0m\u001b[0;34m(\u001b[0m\u001b[0mx\u001b[0m\u001b[0;34m=\u001b[0m\u001b[0;34m'index'\u001b[0m\u001b[0;34m,\u001b[0m \u001b[0my\u001b[0m\u001b[0;34m=\u001b[0m\u001b[0;34m'sample'\u001b[0m\u001b[0;34m,\u001b[0m \u001b[0mdata\u001b[0m\u001b[0;34m=\u001b[0m\u001b[0mfq2u_dup_bysp_freq\u001b[0m\u001b[0;34m,\u001b[0m \u001b[0mpalette\u001b[0m\u001b[0;34m=\u001b[0m\u001b[0;34m\"Blues_d\"\u001b[0m\u001b[0;34m,\u001b[0m \u001b[0max\u001b[0m\u001b[0;34m=\u001b[0m\u001b[0maxes\u001b[0m\u001b[0;34m[\u001b[0m\u001b[0;36m0\u001b[0m\u001b[0;34m]\u001b[0m\u001b[0;34m)\u001b[0m\u001b[0;34m.\u001b[0m\u001b[0mset\u001b[0m\u001b[0;34m(\u001b[0m\u001b[0mxlim\u001b[0m\u001b[0;34m=\u001b[0m\u001b[0;34m(\u001b[0m\u001b[0;34m-\u001b[0m\u001b[0;36m1\u001b[0m\u001b[0;34m,\u001b[0m\u001b[0;36m4\u001b[0m\u001b[0;34m)\u001b[0m\u001b[0;34m,\u001b[0m\u001b[0mylim\u001b[0m\u001b[0;34m=\u001b[0m\u001b[0;34m(\u001b[0m\u001b[0;36m0\u001b[0m\u001b[0;34m,\u001b[0m\u001b[0;36m12\u001b[0m\u001b[0;34m)\u001b[0m\u001b[0;34m)\u001b[0m\u001b[0;34m\u001b[0m\u001b[0m\n\u001b[0m\u001b[1;32m      4\u001b[0m \u001b[0maxes\u001b[0m\u001b[0;34m[\u001b[0m\u001b[0;36m0\u001b[0m\u001b[0;34m]\u001b[0m\u001b[0;34m.\u001b[0m\u001b[0mset_title\u001b[0m\u001b[0;34m(\u001b[0m\u001b[0;34m'Histogram of Duplicated FQ2U Jobs'\u001b[0m\u001b[0;34m,\u001b[0m \u001b[0mfontsize\u001b[0m\u001b[0;34m=\u001b[0m\u001b[0;36m18\u001b[0m\u001b[0;34m)\u001b[0m\u001b[0;34m\u001b[0m\u001b[0m\n\u001b[1;32m      5\u001b[0m \u001b[0maxes\u001b[0m\u001b[0;34m[\u001b[0m\u001b[0;36m0\u001b[0m\u001b[0;34m]\u001b[0m\u001b[0;34m.\u001b[0m\u001b[0mset_ylabel\u001b[0m\u001b[0;34m(\u001b[0m\u001b[0;34m'Number of samples '\u001b[0m\u001b[0;34m,\u001b[0m \u001b[0mfontsize\u001b[0m\u001b[0;34m=\u001b[0m\u001b[0;36m16\u001b[0m\u001b[0;34m)\u001b[0m\u001b[0;34m\u001b[0m\u001b[0m\n",
      "\u001b[0;32m/usr/local/lib/python3.5/dist-packages/seaborn/categorical.py\u001b[0m in \u001b[0;36mbarplot\u001b[0;34m(x, y, hue, data, order, hue_order, estimator, ci, n_boot, units, orient, color, palette, saturation, errcolor, errwidth, capsize, dodge, ax, **kwargs)\u001b[0m\n\u001b[1;32m   3147\u001b[0m                           \u001b[0mestimator\u001b[0m\u001b[0;34m,\u001b[0m \u001b[0mci\u001b[0m\u001b[0;34m,\u001b[0m \u001b[0mn_boot\u001b[0m\u001b[0;34m,\u001b[0m \u001b[0munits\u001b[0m\u001b[0;34m,\u001b[0m\u001b[0;34m\u001b[0m\u001b[0m\n\u001b[1;32m   3148\u001b[0m                           \u001b[0morient\u001b[0m\u001b[0;34m,\u001b[0m \u001b[0mcolor\u001b[0m\u001b[0;34m,\u001b[0m \u001b[0mpalette\u001b[0m\u001b[0;34m,\u001b[0m \u001b[0msaturation\u001b[0m\u001b[0;34m,\u001b[0m\u001b[0;34m\u001b[0m\u001b[0m\n\u001b[0;32m-> 3149\u001b[0;31m                           errcolor, errwidth, capsize, dodge)\n\u001b[0m\u001b[1;32m   3150\u001b[0m \u001b[0;34m\u001b[0m\u001b[0m\n\u001b[1;32m   3151\u001b[0m     \u001b[0;32mif\u001b[0m \u001b[0max\u001b[0m \u001b[0;32mis\u001b[0m \u001b[0;32mNone\u001b[0m\u001b[0;34m:\u001b[0m\u001b[0;34m\u001b[0m\u001b[0m\n",
      "\u001b[0;32m/usr/local/lib/python3.5/dist-packages/seaborn/categorical.py\u001b[0m in \u001b[0;36m__init__\u001b[0;34m(self, x, y, hue, data, order, hue_order, estimator, ci, n_boot, units, orient, color, palette, saturation, errcolor, errwidth, capsize, dodge)\u001b[0m\n\u001b[1;32m   1606\u001b[0m         self.establish_variables(x, y, hue, data, orient,\n\u001b[1;32m   1607\u001b[0m                                  order, hue_order, units)\n\u001b[0;32m-> 1608\u001b[0;31m         \u001b[0mself\u001b[0m\u001b[0;34m.\u001b[0m\u001b[0mestablish_colors\u001b[0m\u001b[0;34m(\u001b[0m\u001b[0mcolor\u001b[0m\u001b[0;34m,\u001b[0m \u001b[0mpalette\u001b[0m\u001b[0;34m,\u001b[0m \u001b[0msaturation\u001b[0m\u001b[0;34m)\u001b[0m\u001b[0;34m\u001b[0m\u001b[0m\n\u001b[0m\u001b[1;32m   1609\u001b[0m         \u001b[0mself\u001b[0m\u001b[0;34m.\u001b[0m\u001b[0mestimate_statistic\u001b[0m\u001b[0;34m(\u001b[0m\u001b[0mestimator\u001b[0m\u001b[0;34m,\u001b[0m \u001b[0mci\u001b[0m\u001b[0;34m,\u001b[0m \u001b[0mn_boot\u001b[0m\u001b[0;34m)\u001b[0m\u001b[0;34m\u001b[0m\u001b[0m\n\u001b[1;32m   1610\u001b[0m \u001b[0;34m\u001b[0m\u001b[0m\n",
      "\u001b[0;32m/usr/local/lib/python3.5/dist-packages/seaborn/categorical.py\u001b[0m in \u001b[0;36mestablish_colors\u001b[0;34m(self, color, palette, saturation)\u001b[0m\n\u001b[1;32m    313\u001b[0m         \u001b[0;31m# Determine the gray color to use for the lines framing the plot\u001b[0m\u001b[0;34m\u001b[0m\u001b[0;34m\u001b[0m\u001b[0m\n\u001b[1;32m    314\u001b[0m         \u001b[0mlight_vals\u001b[0m \u001b[0;34m=\u001b[0m \u001b[0;34m[\u001b[0m\u001b[0mcolorsys\u001b[0m\u001b[0;34m.\u001b[0m\u001b[0mrgb_to_hls\u001b[0m\u001b[0;34m(\u001b[0m\u001b[0;34m*\u001b[0m\u001b[0mc\u001b[0m\u001b[0;34m)\u001b[0m\u001b[0;34m[\u001b[0m\u001b[0;36m1\u001b[0m\u001b[0;34m]\u001b[0m \u001b[0;32mfor\u001b[0m \u001b[0mc\u001b[0m \u001b[0;32min\u001b[0m \u001b[0mrgb_colors\u001b[0m\u001b[0;34m]\u001b[0m\u001b[0;34m\u001b[0m\u001b[0m\n\u001b[0;32m--> 315\u001b[0;31m         \u001b[0mlum\u001b[0m \u001b[0;34m=\u001b[0m \u001b[0mmin\u001b[0m\u001b[0;34m(\u001b[0m\u001b[0mlight_vals\u001b[0m\u001b[0;34m)\u001b[0m \u001b[0;34m*\u001b[0m \u001b[0;36m.6\u001b[0m\u001b[0;34m\u001b[0m\u001b[0m\n\u001b[0m\u001b[1;32m    316\u001b[0m         \u001b[0mgray\u001b[0m \u001b[0;34m=\u001b[0m \u001b[0mmpl\u001b[0m\u001b[0;34m.\u001b[0m\u001b[0mcolors\u001b[0m\u001b[0;34m.\u001b[0m\u001b[0mrgb2hex\u001b[0m\u001b[0;34m(\u001b[0m\u001b[0;34m(\u001b[0m\u001b[0mlum\u001b[0m\u001b[0;34m,\u001b[0m \u001b[0mlum\u001b[0m\u001b[0;34m,\u001b[0m \u001b[0mlum\u001b[0m\u001b[0;34m)\u001b[0m\u001b[0;34m)\u001b[0m\u001b[0;34m\u001b[0m\u001b[0m\n\u001b[1;32m    317\u001b[0m \u001b[0;34m\u001b[0m\u001b[0m\n",
      "\u001b[0;31mValueError\u001b[0m: min() arg is an empty sequence"
     ]
    },
    {
     "data": {
      "image/png": "[encoded data removed]",
      "text/plain": [
       "<Figure size 864x360 with 2 Axes>"
      ]
     },
     "metadata": {
      "needs_background": "light"
     },
     "output_type": "display_data"
    }
   ],
   "source": [
    "f, axes = plt.subplots(1, 2, figsize=(12, 5), sharex=True)\n",
    "\n",
    "sns.barplot(x='index', y='sample', data=fq2u_dup_bysp_freq, palette=\"Blues_d\", ax=axes[0]).set(xlim=(-1,4),ylim=(0,12))\n",
    "axes[0].set_title('Histogram of Duplicated FQ2U Jobs', fontsize=18)\n",
    "axes[0].set_ylabel('Number of samples ', fontsize=16)\n",
    "axes[0].set_xlabel('Number of duplicated FQ2U jobs', fontsize=16)\n",
    "plt.show\n",
    "\n",
    "sns.barplot(x='index', y='sample', data=gatk_dup_bysp_freq, palette=\"Blues_d\", ax=axes[1]).set(xlim=(-1,4),ylim=(0,12))\n",
    "axes[1].set_title('Histogram of Duplicated GATK Jobs', fontsize=18)\n",
    "axes[1].set_ylabel('Number of samples ', fontsize=16)\n",
    "axes[1].set_xlabel('Number of duplicated GATK jobs', fontsize=16)\n",
    "plt.show"
   ]
  },
  {
   "cell_type": "code",
   "execution_count": 12,
   "metadata": {},
   "outputs": [],
   "source": [
    "#display(fq2u_dup)\n",
    "#display(gatk_dup)"
   ]
  },
  {
   "cell_type": "code",
   "execution_count": 13,
   "metadata": {},
   "outputs": [
    {
     "name": "stderr",
     "output_type": "stream",
     "text": [
      "/usr/local/lib/python3.5/dist-packages/seaborn/distributions.py:198: RuntimeWarning: Mean of empty slice.\n",
      "  line, = ax.plot(a.mean(), 0)\n",
      "/usr/local/lib/python3.5/site-packages/numpy/core/_methods.py:85: RuntimeWarning: invalid value encountered in double_scalars\n",
      "  ret = ret.dtype.type(ret / rcount)\n"
     ]
    },
    {
     "data": {
      "text/plain": [
       "<function matplotlib.pyplot.show(*args, **kw)>"
      ]
     },
     "execution_count": 13,
     "metadata": {},
     "output_type": "execute_result"
    },
    {
     "data": {
      "image/png": "[encoded data removed]",
      "text/plain": [
       "<Figure size 864x360 with 2 Axes>"
      ]
     },
     "metadata": {
      "needs_background": "light"
     },
     "output_type": "display_data"
    }
   ],
   "source": [
    "f, axes = plt.subplots(1, 2, figsize=(12, 5))\n",
    "\n",
    "sns.distplot(fq2u_dup.runtime, kde=False, ax=axes[0]).set(xlim=(0,70),ylim=(0,10));\n",
    "axes[0].set_title('Runtime of Duplicated FQ2U Jobs', fontsize=18)\n",
    "axes[0].set_ylabel('Frequecy', fontsize=16)\n",
    "axes[0].set_xlabel('Runtime', fontsize=16)\n",
    "plt.show\n",
    "\n",
    "sns.distplot(gatk_dup.runtime, kde=False, ax=axes[1]).set(xlim=(1780,1800),ylim=(0,1.1));\n",
    "axes[1].set_title('Runtime of Duplicated GATK Jobs', fontsize=18)\n",
    "axes[1].set_ylabel('Frequecy', fontsize=16)\n",
    "axes[1].set_xlabel('Runtime', fontsize=16)\n",
    "plt.show"
   ]
  },
  {
   "cell_type": "markdown",
   "metadata": {},
   "source": [
    "--------\n",
    "## Runtime Analysis"
   ]
  },
  {
   "cell_type": "markdown",
   "metadata": {},
   "source": [
    "### Distribution of FQ2U and GATK runtime "
   ]
  },
  {
   "cell_type": "code",
   "execution_count": 14,
   "metadata": {},
   "outputs": [],
   "source": [
    "## PASS case\n",
    "fq2u_runtime_inpass=merged_df.loc[(merged_df['dstat_status']=='SUCCESS')&(merged_df['dup']!=True)&(merged_df['job']=='FQ2U'),'runtime']\n",
    "gatk_runtime_inpass=merged_df.loc[(merged_df['pass']=='pass')&(merged_df['dup']!=True)&(merged_df['job']=='GATK'),'runtime']/60\n",
    "                                                                                        \n",
    "## FAIL case                                                                               \n",
    "fq2u_runtime_infail=merged_df.loc[(merged_df['dstat_status']!='SUCCESS')&(merged_df['dup']!=True)&(merged_df['job']=='FQ2U'),'runtime']\n",
    "gatk_runtime_infail=merged_df.loc[(merged_df['pass']=='fail')&(merged_df['dup']!=True)&(merged_df['job']=='GATK'),'runtime']/60                                                                                     "
   ]
  },
  {
   "cell_type": "markdown",
   "metadata": {},
   "source": [
    "### Histogram of Runtime"
   ]
  },
  {
   "cell_type": "code",
   "execution_count": 15,
   "metadata": {},
   "outputs": [
    {
     "name": "stderr",
     "output_type": "stream",
     "text": [
      "/usr/local/lib/python3.5/site-packages/scipy/stats/stats.py:1713: FutureWarning: Using a non-tuple sequence for multidimensional indexing is deprecated; use `arr[tuple(seq)]` instead of `arr[seq]`. In the future this will be interpreted as an array index, `arr[np.array(seq)]`, which will result either in an error or a different result.\n",
      "  return np.add.reduce(sorted[indexer] * weights, axis=axis) / sumval\n"
     ]
    },
    {
     "data": {
      "text/plain": [
       "<function matplotlib.pyplot.show(*args, **kw)>"
      ]
     },
     "execution_count": 15,
     "metadata": {},
     "output_type": "execute_result"
    },
    {
     "data": {
      "image/png": "[encoded data removed]",
      "text/plain": [
       "<Figure size 864x864 with 4 Axes>"
      ]
     },
     "metadata": {
      "needs_background": "light"
     },
     "output_type": "display_data"
    }
   ],
   "source": [
    "f, axes = plt.subplots(2, 2, figsize=(12, 12))\n",
    "\n",
    "sns.distplot(fq2u_runtime_inpass, kde=False, ax=axes[0,0]).set(xlim=(0,120))\n",
    "axes[0,0].set_title('Runtime Distribution of Success FQ2U Jobs', fontsize=16)\n",
    "axes[0,0].set_ylabel('Frequecy', fontsize=16)\n",
    "axes[0,0].set_xlabel('Runtime(min)', fontsize=16)\n",
    "plt.show\n",
    "\n",
    "sns.distplot(fq2u_runtime_infail, kde=False, ax=axes[0,1]).set(xlim=(0,120))\n",
    "axes[0,1].set_title('Runtime Distribution of Failed FQ2U Jobs', fontsize=16)\n",
    "axes[0,1].set_ylabel('Frequecy', fontsize=16)\n",
    "axes[0,1].set_xlabel('Runtime(min)', fontsize=16)\n",
    "plt.show\n",
    "\n",
    "sns.distplot(gatk_runtime_inpass, kde=False, ax=axes[1,0]).set(xlim=(15,50))\n",
    "axes[1,0].set_title('Runtime Distribution of Success GATK Jobs', fontsize=16)\n",
    "axes[1,0].set_ylabel('Frequecy', fontsize=16)\n",
    "axes[1,0].set_xlabel('Runtime(hour)', fontsize=16)\n",
    "plt.show\n",
    "\n",
    "sns.distplot(gatk_runtime_infail, kde=False, ax=axes[1,1]).set(xlim=(0,35))\n",
    "axes[1,1].set_title('Runtime Distribution of Failed GATK Jobs', fontsize=16)\n",
    "axes[1,1].set_ylabel('Frequecy', fontsize=16)\n",
    "axes[1,1].set_xlabel('Runtime(hour)', fontsize=16)\n",
    "plt.show"
   ]
  },
  {
   "cell_type": "markdown",
   "metadata": {},
   "source": [
    "--------\n",
    "## Attempts Analysis"
   ]
  },
  {
   "cell_type": "markdown",
   "metadata": {},
   "source": [
    "### Add expected_vm and added_vm"
   ]
  },
  {
   "cell_type": "code",
   "execution_count": 16,
   "metadata": {},
   "outputs": [],
   "source": [
    "## expected vm data frame\n",
    "exp_vm_df=pd.read_excel(\"./GATKstep_expected_vm.xlsx\")"
   ]
  },
  {
   "cell_type": "code",
   "execution_count": 17,
   "metadata": {},
   "outputs": [],
   "source": [
    "merged_attemps_df=pd.merge(exp_vm_df,merged_df,left_on=['job'],right_on=['job'],how='right')\n",
    "merged_attemps_df['added_vm']=merged_attemps_df['attempts']-merged_attemps_df['exp_vm']\n",
    "columnlist=['sample','pass','job','fq2urg_gatkid','dup','attempts','exp_vm','added_vm','runtime','unit_runtime','dstat_status','dstat_msg','dstat_log']\n",
    "merged_attemps_df=merged_attemps_df[columnlist]\n",
    "#merged_attemps_df.head(2)"
   ]
  },
  {
   "cell_type": "markdown",
   "metadata": {},
   "source": [
    "### Extract GATK substeps - code issue"
   ]
  },
  {
   "cell_type": "code",
   "execution_count": 18,
   "metadata": {},
   "outputs": [],
   "source": [
    "gatk_substeps_df=merged_attemps_df.loc[(merged_attemps_df['job']!='FQ2U')|(merged_attemps_df['job']!='GATK'),:]"
   ]
  },
  {
   "cell_type": "markdown",
   "metadata": {},
   "source": [
    "### Re-attempted work analysis"
   ]
  },
  {
   "cell_type": "code",
   "execution_count": 19,
   "metadata": {},
   "outputs": [
    {
     "data": {
      "text/html": [
       "<div>\n",
       "<style scoped>\n",
       "    .dataframe tbody tr th:only-of-type {\n",
       "        vertical-align: middle;\n",
       "    }\n",
       "\n",
       "    .dataframe tbody tr th {\n",
       "        vertical-align: top;\n",
       "    }\n",
       "\n",
       "    .dataframe thead th {\n",
       "        text-align: right;\n",
       "    }\n",
       "</style>\n",
       "<table border=\"1\" class=\"dataframe\">\n",
       "  <thead>\n",
       "    <tr style=\"text-align: right;\">\n",
       "      <th></th>\n",
       "      <th>added_vm</th>\n",
       "      <th>exp_vm</th>\n",
       "      <th>added_vm_ratio</th>\n",
       "    </tr>\n",
       "    <tr>\n",
       "      <th>job</th>\n",
       "      <th></th>\n",
       "      <th></th>\n",
       "      <th></th>\n",
       "    </tr>\n",
       "  </thead>\n",
       "  <tbody>\n",
       "    <tr>\n",
       "      <th>FQ2U</th>\n",
       "      <td>nan</td>\n",
       "      <td>nan</td>\n",
       "      <td>nan</td>\n",
       "    </tr>\n",
       "    <tr>\n",
       "      <th>GATK</th>\n",
       "      <td>nan</td>\n",
       "      <td>nan</td>\n",
       "      <td>nan</td>\n",
       "    </tr>\n",
       "    <tr>\n",
       "      <th>applybqsr</th>\n",
       "      <td>0.83</td>\n",
       "      <td>20.00</td>\n",
       "      <td>4.14</td>\n",
       "    </tr>\n",
       "    <tr>\n",
       "      <th>baserecalibrator</th>\n",
       "      <td>0.81</td>\n",
       "      <td>19.00</td>\n",
       "      <td>4.26</td>\n",
       "    </tr>\n",
       "    <tr>\n",
       "      <th>checkcontamination</th>\n",
       "      <td>0.17</td>\n",
       "      <td>1.00</td>\n",
       "      <td>17.02</td>\n",
       "    </tr>\n",
       "    <tr>\n",
       "      <th>converttocram</th>\n",
       "      <td>0.09</td>\n",
       "      <td>1.00</td>\n",
       "      <td>9.02</td>\n",
       "    </tr>\n",
       "    <tr>\n",
       "      <th>createsequencegroupingtsv</th>\n",
       "      <td>0.00</td>\n",
       "      <td>1.00</td>\n",
       "      <td>0.35</td>\n",
       "    </tr>\n",
       "    <tr>\n",
       "      <th>gatherbamfiles</th>\n",
       "      <td>0.17</td>\n",
       "      <td>1.00</td>\n",
       "      <td>16.92</td>\n",
       "    </tr>\n",
       "    <tr>\n",
       "      <th>gatherbqsrreports</th>\n",
       "      <td>0.02</td>\n",
       "      <td>1.00</td>\n",
       "      <td>1.83</td>\n",
       "    </tr>\n",
       "    <tr>\n",
       "      <th>gathermonolithicbamfile</th>\n",
       "      <td>nan</td>\n",
       "      <td>nan</td>\n",
       "      <td>nan</td>\n",
       "    </tr>\n",
       "    <tr>\n",
       "      <th>getbwaversion</th>\n",
       "      <td>0.00</td>\n",
       "      <td>1.00</td>\n",
       "      <td>0.35</td>\n",
       "    </tr>\n",
       "    <tr>\n",
       "      <th>haplotypecaller4</th>\n",
       "      <td>6.19</td>\n",
       "      <td>50.00</td>\n",
       "      <td>12.38</td>\n",
       "    </tr>\n",
       "    <tr>\n",
       "      <th>markduplicates</th>\n",
       "      <td>0.29</td>\n",
       "      <td>1.00</td>\n",
       "      <td>29.08</td>\n",
       "    </tr>\n",
       "    <tr>\n",
       "      <th>mergevcfs</th>\n",
       "      <td>0.07</td>\n",
       "      <td>1.00</td>\n",
       "      <td>7.28</td>\n",
       "    </tr>\n",
       "    <tr>\n",
       "      <th>samsplitter</th>\n",
       "      <td>nan</td>\n",
       "      <td>nan</td>\n",
       "      <td>nan</td>\n",
       "    </tr>\n",
       "    <tr>\n",
       "      <th>samtofastqandbwamemandmba</th>\n",
       "      <td>1.97</td>\n",
       "      <td>4.00</td>\n",
       "      <td>49.30</td>\n",
       "    </tr>\n",
       "    <tr>\n",
       "      <th>scatterintervallist</th>\n",
       "      <td>0.00</td>\n",
       "      <td>1.00</td>\n",
       "      <td>0.35</td>\n",
       "    </tr>\n",
       "    <tr>\n",
       "      <th>sortsamplebam</th>\n",
       "      <td>0.37</td>\n",
       "      <td>1.00</td>\n",
       "      <td>36.88</td>\n",
       "    </tr>\n",
       "    <tr>\n",
       "      <th>sumfloats</th>\n",
       "      <td>0.01</td>\n",
       "      <td>1.00</td>\n",
       "      <td>0.71</td>\n",
       "    </tr>\n",
       "    <tr>\n",
       "      <th>sumsplitalignedsizes</th>\n",
       "      <td>nan</td>\n",
       "      <td>nan</td>\n",
       "      <td>nan</td>\n",
       "    </tr>\n",
       "    <tr>\n",
       "      <th>validatecram</th>\n",
       "      <td>1.50</td>\n",
       "      <td>1.00</td>\n",
       "      <td>150.19</td>\n",
       "    </tr>\n",
       "  </tbody>\n",
       "</table>\n",
       "</div>"
      ],
      "text/plain": [
       "                           added_vm  exp_vm  added_vm_ratio\n",
       "job                                                        \n",
       "FQ2U                            nan     nan             nan\n",
       "GATK                            nan     nan             nan\n",
       "applybqsr                      0.83   20.00            4.14\n",
       "baserecalibrator               0.81   19.00            4.26\n",
       "checkcontamination             0.17    1.00           17.02\n",
       "converttocram                  0.09    1.00            9.02\n",
       "createsequencegroupingtsv      0.00    1.00            0.35\n",
       "gatherbamfiles                 0.17    1.00           16.92\n",
       "gatherbqsrreports              0.02    1.00            1.83\n",
       "gathermonolithicbamfile         nan     nan             nan\n",
       "getbwaversion                  0.00    1.00            0.35\n",
       "haplotypecaller4               6.19   50.00           12.38\n",
       "markduplicates                 0.29    1.00           29.08\n",
       "mergevcfs                      0.07    1.00            7.28\n",
       "samsplitter                     nan     nan             nan\n",
       "samtofastqandbwamemandmba      1.97    4.00           49.30\n",
       "scatterintervallist            0.00    1.00            0.35\n",
       "sortsamplebam                  0.37    1.00           36.88\n",
       "sumfloats                      0.01    1.00            0.71\n",
       "sumsplitalignedsizes            nan     nan             nan\n",
       "validatecram                   1.50    1.00          150.19"
      ]
     },
     "metadata": {},
     "output_type": "display_data"
    }
   ],
   "source": [
    "added_vm_df=gatk_substeps_df[['job','added_vm','exp_vm']]\n",
    "added_vm_mean_df=added_vm_df.groupby('job').mean()\n",
    "added_vm_mean_df['added_vm_ratio']=100*(np.array(added_vm_mean_df['added_vm'])/np.array(added_vm_mean_df['exp_vm']))\n",
    "display(added_vm_mean_df)"
   ]
  },
  {
   "cell_type": "code",
   "execution_count": 20,
   "metadata": {},
   "outputs": [
    {
     "data": {
      "text/plain": [
       "5893"
      ]
     },
     "execution_count": 20,
     "metadata": {},
     "output_type": "execute_result"
    }
   ],
   "source": [
    "len(np.array(added_vm_df['added_vm']))\n",
    "len(np.array(added_vm_df['exp_vm']))"
   ]
  },
  {
   "cell_type": "code",
   "execution_count": 21,
   "metadata": {},
   "outputs": [
    {
     "data": {
      "text/html": [
       "<div>\n",
       "<style scoped>\n",
       "    .dataframe tbody tr th:only-of-type {\n",
       "        vertical-align: middle;\n",
       "    }\n",
       "\n",
       "    .dataframe tbody tr th {\n",
       "        vertical-align: top;\n",
       "    }\n",
       "\n",
       "    .dataframe thead th {\n",
       "        text-align: right;\n",
       "    }\n",
       "</style>\n",
       "<table border=\"1\" class=\"dataframe\">\n",
       "  <thead>\n",
       "    <tr style=\"text-align: right;\">\n",
       "      <th></th>\n",
       "      <th>job</th>\n",
       "      <th>added_vm_ratio</th>\n",
       "    </tr>\n",
       "  </thead>\n",
       "  <tbody>\n",
       "    <tr>\n",
       "      <th>15</th>\n",
       "      <td>validatecram</td>\n",
       "      <td>150.19</td>\n",
       "    </tr>\n",
       "    <tr>\n",
       "      <th>14</th>\n",
       "      <td>sumfloats</td>\n",
       "      <td>0.71</td>\n",
       "    </tr>\n",
       "    <tr>\n",
       "      <th>13</th>\n",
       "      <td>sortsamplebam</td>\n",
       "      <td>36.88</td>\n",
       "    </tr>\n",
       "    <tr>\n",
       "      <th>12</th>\n",
       "      <td>scatterintervallist</td>\n",
       "      <td>0.35</td>\n",
       "    </tr>\n",
       "    <tr>\n",
       "      <th>11</th>\n",
       "      <td>samtofastqandbwamemandmba</td>\n",
       "      <td>49.30</td>\n",
       "    </tr>\n",
       "  </tbody>\n",
       "</table>\n",
       "</div>"
      ],
      "text/plain": [
       "                          job  added_vm_ratio\n",
       "15               validatecram          150.19\n",
       "14                  sumfloats            0.71\n",
       "13              sortsamplebam           36.88\n",
       "12        scatterintervallist            0.35\n",
       "11  samtofastqandbwamemandmba           49.30"
      ]
     },
     "execution_count": 21,
     "metadata": {},
     "output_type": "execute_result"
    }
   ],
   "source": [
    "added_vm_perc=added_vm_mean_df.loc[added_vm_mean_df['added_vm'].notnull(),'added_vm_ratio'].reset_index().sort_values('job',ascending=False)\n",
    "added_vm_perc.head()"
   ]
  },
  {
   "cell_type": "code",
   "execution_count": 22,
   "metadata": {},
   "outputs": [
    {
     "data": {
      "image/png": "[encoded data removed]",
      "text/plain": [
       "<Figure size 720x720 with 1 Axes>"
      ]
     },
     "metadata": {
      "needs_background": "light"
     },
     "output_type": "display_data"
    }
   ],
   "source": [
    "fig=plt.figure(figsize=(10, 10))\n",
    "#ax.set_ylim(ax.get_ylim()[::-1])\n",
    "plt.barh(\"job\", \"added_vm_ratio\", data = added_vm_perc, color = \"blue\")\n",
    "plt.xlabel(\"VM Restart Rate (%)\", size=18)\n",
    "plt.xticks(rotation = 90)\n",
    "plt.ylabel(\"GATK steps\", size=18)\n",
    "plt.title(\"Preemptable VM restart rate\", size=18)\n",
    "plt.tick_params(axis='both', labelsize=12)\n",
    "plt.grid(True)\n",
    "plt.show()"
   ]
  },
  {
   "cell_type": "markdown",
   "metadata": {},
   "source": [
    "--------\n",
    "## Validation Cram Analysis"
   ]
  },
  {
   "cell_type": "code",
   "execution_count": 23,
   "metadata": {},
   "outputs": [],
   "source": [
    "job_df=pd.read_csv('./job-based-analysis-v057.csv')"
   ]
  },
  {
   "cell_type": "code",
   "execution_count": 24,
   "metadata": {},
   "outputs": [
    {
     "data": {
      "text/html": [
       "<div>\n",
       "<style scoped>\n",
       "    .dataframe tbody tr th:only-of-type {\n",
       "        vertical-align: middle;\n",
       "    }\n",
       "\n",
       "    .dataframe tbody tr th {\n",
       "        vertical-align: top;\n",
       "    }\n",
       "\n",
       "    .dataframe thead th {\n",
       "        text-align: right;\n",
       "    }\n",
       "</style>\n",
       "<table border=\"1\" class=\"dataframe\">\n",
       "  <thead>\n",
       "    <tr style=\"text-align: right;\">\n",
       "      <th></th>\n",
       "      <th>sample</th>\n",
       "      <th>job</th>\n",
       "      <th>fq2urg_gatkid</th>\n",
       "      <th>dup</th>\n",
       "      <th>attempts</th>\n",
       "      <th>runtime</th>\n",
       "      <th>unit_runtime</th>\n",
       "      <th>VMtype</th>\n",
       "      <th>dstat_status</th>\n",
       "      <th>dstat_msg</th>\n",
       "      <th>dstat_log</th>\n",
       "    </tr>\n",
       "  </thead>\n",
       "  <tbody>\n",
       "    <tr>\n",
       "      <th>0</th>\n",
       "      <td>SHIP4946367</td>\n",
       "      <td>FQ2U</td>\n",
       "      <td>0</td>\n",
       "      <td>nan</td>\n",
       "      <td>nan</td>\n",
       "      <td>56.00</td>\n",
       "      <td>nan</td>\n",
       "      <td>custom-2-7680</td>\n",
       "      <td>SUCCESS</td>\n",
       "      <td>Success</td>\n",
       "      <td>gs://gbsc-gcp-project-mvp-test-from-personalis...</td>\n",
       "    </tr>\n",
       "    <tr>\n",
       "      <th>1</th>\n",
       "      <td>SHIP4946367</td>\n",
       "      <td>FQ2U</td>\n",
       "      <td>1</td>\n",
       "      <td>nan</td>\n",
       "      <td>nan</td>\n",
       "      <td>54.00</td>\n",
       "      <td>nan</td>\n",
       "      <td>custom-2-7680</td>\n",
       "      <td>SUCCESS</td>\n",
       "      <td>Success</td>\n",
       "      <td>gs://gbsc-gcp-project-mvp-test-from-personalis...</td>\n",
       "    </tr>\n",
       "    <tr>\n",
       "      <th>2</th>\n",
       "      <td>SHIP4946367</td>\n",
       "      <td>FQ2U</td>\n",
       "      <td>2</td>\n",
       "      <td>nan</td>\n",
       "      <td>nan</td>\n",
       "      <td>55.00</td>\n",
       "      <td>nan</td>\n",
       "      <td>custom-2-7680</td>\n",
       "      <td>SUCCESS</td>\n",
       "      <td>Success</td>\n",
       "      <td>gs://gbsc-gcp-project-mvp-test-from-personalis...</td>\n",
       "    </tr>\n",
       "    <tr>\n",
       "      <th>3</th>\n",
       "      <td>SHIP4946367</td>\n",
       "      <td>FQ2U</td>\n",
       "      <td>3</td>\n",
       "      <td>nan</td>\n",
       "      <td>nan</td>\n",
       "      <td>55.00</td>\n",
       "      <td>nan</td>\n",
       "      <td>custom-2-7680</td>\n",
       "      <td>SUCCESS</td>\n",
       "      <td>Success</td>\n",
       "      <td>gs://gbsc-gcp-project-mvp-test-from-personalis...</td>\n",
       "    </tr>\n",
       "    <tr>\n",
       "      <th>4</th>\n",
       "      <td>SHIP4946367</td>\n",
       "      <td>GATK</td>\n",
       "      <td>73470e9e-1a2d-4ad6-b55d-a8a3ddc54700</td>\n",
       "      <td>nan</td>\n",
       "      <td>nan</td>\n",
       "      <td>1705.00</td>\n",
       "      <td>nan</td>\n",
       "      <td>custom-2-12288</td>\n",
       "      <td>FAILURE</td>\n",
       "      <td>ient.googleapis.services.AbstractGoogleClient ...</td>\n",
       "      <td>gs://gbsc-gcp-project-mvp-test-from-personalis...</td>\n",
       "    </tr>\n",
       "  </tbody>\n",
       "</table>\n",
       "</div>"
      ],
      "text/plain": [
       "        sample   job                         fq2urg_gatkid  dup  attempts  \\\n",
       "0  SHIP4946367  FQ2U                                     0  nan       nan   \n",
       "1  SHIP4946367  FQ2U                                     1  nan       nan   \n",
       "2  SHIP4946367  FQ2U                                     2  nan       nan   \n",
       "3  SHIP4946367  FQ2U                                     3  nan       nan   \n",
       "4  SHIP4946367  GATK  73470e9e-1a2d-4ad6-b55d-a8a3ddc54700  nan       nan   \n",
       "\n",
       "   runtime  unit_runtime          VMtype dstat_status  \\\n",
       "0    56.00           nan   custom-2-7680      SUCCESS   \n",
       "1    54.00           nan   custom-2-7680      SUCCESS   \n",
       "2    55.00           nan   custom-2-7680      SUCCESS   \n",
       "3    55.00           nan   custom-2-7680      SUCCESS   \n",
       "4  1705.00           nan  custom-2-12288      FAILURE   \n",
       "\n",
       "                                           dstat_msg  \\\n",
       "0                                            Success   \n",
       "1                                            Success   \n",
       "2                                            Success   \n",
       "3                                            Success   \n",
       "4  ient.googleapis.services.AbstractGoogleClient ...   \n",
       "\n",
       "                                           dstat_log  \n",
       "0  gs://gbsc-gcp-project-mvp-test-from-personalis...  \n",
       "1  gs://gbsc-gcp-project-mvp-test-from-personalis...  \n",
       "2  gs://gbsc-gcp-project-mvp-test-from-personalis...  \n",
       "3  gs://gbsc-gcp-project-mvp-test-from-personalis...  \n",
       "4  gs://gbsc-gcp-project-mvp-test-from-personalis...  "
      ]
     },
     "execution_count": 24,
     "metadata": {},
     "output_type": "execute_result"
    }
   ],
   "source": [
    "job_df.head()"
   ]
  },
  {
   "cell_type": "code",
   "execution_count": 25,
   "metadata": {},
   "outputs": [],
   "source": [
    "vcram_df=job_df.loc[job_df['job']=='validatecram',['attempts','runtime','dstat_status']]"
   ]
  },
  {
   "cell_type": "code",
   "execution_count": 26,
   "metadata": {},
   "outputs": [
    {
     "data": {
      "text/html": [
       "<div>\n",
       "<style scoped>\n",
       "    .dataframe tbody tr th:only-of-type {\n",
       "        vertical-align: middle;\n",
       "    }\n",
       "\n",
       "    .dataframe tbody tr th {\n",
       "        vertical-align: top;\n",
       "    }\n",
       "\n",
       "    .dataframe thead th {\n",
       "        text-align: right;\n",
       "    }\n",
       "</style>\n",
       "<table border=\"1\" class=\"dataframe\">\n",
       "  <thead>\n",
       "    <tr style=\"text-align: right;\">\n",
       "      <th></th>\n",
       "      <th>index</th>\n",
       "      <th>attempts</th>\n",
       "    </tr>\n",
       "  </thead>\n",
       "  <tbody>\n",
       "    <tr>\n",
       "      <th>0</th>\n",
       "      <td>4.00</td>\n",
       "      <td>92</td>\n",
       "    </tr>\n",
       "    <tr>\n",
       "      <th>1</th>\n",
       "      <td>1.00</td>\n",
       "      <td>87</td>\n",
       "    </tr>\n",
       "    <tr>\n",
       "      <th>2</th>\n",
       "      <td>2.00</td>\n",
       "      <td>50</td>\n",
       "    </tr>\n",
       "    <tr>\n",
       "      <th>3</th>\n",
       "      <td>3.00</td>\n",
       "      <td>31</td>\n",
       "    </tr>\n",
       "    <tr>\n",
       "      <th>4</th>\n",
       "      <td>5.00</td>\n",
       "      <td>1</td>\n",
       "    </tr>\n",
       "  </tbody>\n",
       "</table>\n",
       "</div>"
      ],
      "text/plain": [
       "   index  attempts\n",
       "0   4.00        92\n",
       "1   1.00        87\n",
       "2   2.00        50\n",
       "3   3.00        31\n",
       "4   5.00         1"
      ]
     },
     "metadata": {},
     "output_type": "display_data"
    },
    {
     "data": {
      "text/plain": [
       "<function matplotlib.pyplot.show(*args, **kw)>"
      ]
     },
     "execution_count": 26,
     "metadata": {},
     "output_type": "execute_result"
    },
    {
     "data": {
      "image/png": "[encoded data removed]",
      "text/plain": [
       "<Figure size 648x432 with 1 Axes>"
      ]
     },
     "metadata": {
      "needs_background": "light"
     },
     "output_type": "display_data"
    }
   ],
   "source": [
    "attempts_freq=vcram_df['attempts'].value_counts().to_frame()\n",
    "attempts_freq.reset_index(inplace=True)\n",
    "display(attempts_freq)\n",
    "plt.figure(figsize=(9,6))\n",
    "\n",
    "sns.barplot(x='index', y='attempts', data=attempts_freq)\n",
    "# sns.distplot(vcram_df.attempts, kde=False);\n",
    "plt.title('Histogram of attempts of validate cram jobs in GATK', fontsize=18)\n",
    "plt.ylabel('Number of jobs ', fontsize=16)\n",
    "plt.xlabel('Attempts for each validate cram job', fontsize=16)\n",
    "plt.show"
   ]
  },
  {
   "cell_type": "code",
   "execution_count": 27,
   "metadata": {},
   "outputs": [],
   "source": [
    "vcram_df=job_df.loc[(job_df['job']=='validatecram') & (job_df['dstat_status']=='SUCCESS'),['attempts','runtime','dstat_status']]"
   ]
  },
  {
   "cell_type": "code",
   "execution_count": 28,
   "metadata": {},
   "outputs": [
    {
     "data": {
      "text/plain": [
       "<function matplotlib.pyplot.show(*args, **kw)>"
      ]
     },
     "execution_count": 28,
     "metadata": {},
     "output_type": "execute_result"
    },
    {
     "data": {
      "image/png": "[encoded data removed]",
      "text/plain": [
       "<Figure size 432x288 with 1 Axes>"
      ]
     },
     "metadata": {
      "needs_background": "light"
     },
     "output_type": "display_data"
    }
   ],
   "source": [
    "sns.scatterplot(x=\"attempts\", y=\"runtime\",data=vcram_df)\n",
    "\n",
    "# sns.distplot(vcram_df.attempts, kde=False);\n",
    "plt.title(' # of attemts and runtime of validate cram jobs in GATK', fontsize=18)\n",
    "plt.ylabel('runtime ', fontsize=16)\n",
    "plt.xlabel('Attempts for each validate cram job', fontsize=16)\n",
    "plt.show"
   ]
  },
  {
   "cell_type": "code",
   "execution_count": 29,
   "metadata": {},
   "outputs": [
    {
     "data": {
      "text/html": [
       "<div>\n",
       "<style scoped>\n",
       "    .dataframe tbody tr th:only-of-type {\n",
       "        vertical-align: middle;\n",
       "    }\n",
       "\n",
       "    .dataframe tbody tr th {\n",
       "        vertical-align: top;\n",
       "    }\n",
       "\n",
       "    .dataframe thead th {\n",
       "        text-align: right;\n",
       "    }\n",
       "</style>\n",
       "<table border=\"1\" class=\"dataframe\">\n",
       "  <thead>\n",
       "    <tr style=\"text-align: right;\">\n",
       "      <th></th>\n",
       "      <th>index</th>\n",
       "      <th>attempts</th>\n",
       "    </tr>\n",
       "  </thead>\n",
       "  <tbody>\n",
       "    <tr>\n",
       "      <th>0</th>\n",
       "      <td>1.00</td>\n",
       "      <td>79</td>\n",
       "    </tr>\n",
       "    <tr>\n",
       "      <th>1</th>\n",
       "      <td>2.00</td>\n",
       "      <td>47</td>\n",
       "    </tr>\n",
       "    <tr>\n",
       "      <th>2</th>\n",
       "      <td>3.00</td>\n",
       "      <td>29</td>\n",
       "    </tr>\n",
       "    <tr>\n",
       "      <th>3</th>\n",
       "      <td>4.00</td>\n",
       "      <td>26</td>\n",
       "    </tr>\n",
       "  </tbody>\n",
       "</table>\n",
       "</div>"
      ],
      "text/plain": [
       "   index  attempts\n",
       "0   1.00        79\n",
       "1   2.00        47\n",
       "2   3.00        29\n",
       "3   4.00        26"
      ]
     },
     "metadata": {},
     "output_type": "display_data"
    },
    {
     "data": {
      "text/plain": [
       "<function matplotlib.pyplot.show(*args, **kw)>"
      ]
     },
     "execution_count": 29,
     "metadata": {},
     "output_type": "execute_result"
    },
    {
     "data": {
      "image/png": "[encoded data removed]",
      "text/plain": [
       "<Figure size 648x432 with 1 Axes>"
      ]
     },
     "metadata": {
      "needs_background": "light"
     },
     "output_type": "display_data"
    }
   ],
   "source": [
    "attempts_freq=vcram_df['attempts'].value_counts().to_frame()\n",
    "attempts_freq.reset_index(inplace=True)\n",
    "display(attempts_freq)\n",
    "plt.figure(figsize=(9,6))\n",
    "\n",
    "sns.barplot(x='index', y='attempts', data=attempts_freq)\n",
    "# sns.distplot(vcram_df.attempts, kde=False);\n",
    "plt.title('Histogram of attempts of validate cram jobs in GATK', fontsize=18)\n",
    "plt.ylabel('Number of jobs ', fontsize=16)\n",
    "plt.xlabel('Attempts for each validate cram job', fontsize=16)\n",
    "plt.show"
   ]
  },
  {
   "cell_type": "code",
   "execution_count": 30,
   "metadata": {},
   "outputs": [],
   "source": [
    "vcram_df=job_df.loc[(job_df['job']=='validatecram') & (job_df['dstat_status']=='FAILURE'),['attempts','runtime','dstat_status']]"
   ]
  },
  {
   "cell_type": "code",
   "execution_count": 31,
   "metadata": {},
   "outputs": [
    {
     "data": {
      "text/plain": [
       "<function matplotlib.pyplot.show(*args, **kw)>"
      ]
     },
     "execution_count": 31,
     "metadata": {},
     "output_type": "execute_result"
    },
    {
     "data": {
      "image/png": "[encoded data removed]",
      "text/plain": [
       "<Figure size 432x288 with 1 Axes>"
      ]
     },
     "metadata": {
      "needs_background": "light"
     },
     "output_type": "display_data"
    }
   ],
   "source": [
    "sns.scatterplot(x=\"attempts\", y=\"runtime\",data=vcram_df)\n",
    "\n",
    "# sns.distplot(vcram_df.attempts, kde=False);\n",
    "plt.title(' # of attemts and runtime of validate cram jobs in GATK', fontsize=18)\n",
    "plt.ylabel('runtime ', fontsize=16)\n",
    "plt.xlabel('Attempts for each validate cram job', fontsize=16)\n",
    "plt.show"
   ]
  },
  {
   "cell_type": "code",
   "execution_count": 32,
   "metadata": {},
   "outputs": [
    {
     "data": {
      "text/html": [
       "<div>\n",
       "<style scoped>\n",
       "    .dataframe tbody tr th:only-of-type {\n",
       "        vertical-align: middle;\n",
       "    }\n",
       "\n",
       "    .dataframe tbody tr th {\n",
       "        vertical-align: top;\n",
       "    }\n",
       "\n",
       "    .dataframe thead th {\n",
       "        text-align: right;\n",
       "    }\n",
       "</style>\n",
       "<table border=\"1\" class=\"dataframe\">\n",
       "  <thead>\n",
       "    <tr style=\"text-align: right;\">\n",
       "      <th></th>\n",
       "      <th>index</th>\n",
       "      <th>attempts</th>\n",
       "    </tr>\n",
       "  </thead>\n",
       "  <tbody>\n",
       "    <tr>\n",
       "      <th>0</th>\n",
       "      <td>4.00</td>\n",
       "      <td>66</td>\n",
       "    </tr>\n",
       "    <tr>\n",
       "      <th>1</th>\n",
       "      <td>1.00</td>\n",
       "      <td>8</td>\n",
       "    </tr>\n",
       "    <tr>\n",
       "      <th>2</th>\n",
       "      <td>2.00</td>\n",
       "      <td>3</td>\n",
       "    </tr>\n",
       "    <tr>\n",
       "      <th>3</th>\n",
       "      <td>3.00</td>\n",
       "      <td>2</td>\n",
       "    </tr>\n",
       "    <tr>\n",
       "      <th>4</th>\n",
       "      <td>5.00</td>\n",
       "      <td>1</td>\n",
       "    </tr>\n",
       "  </tbody>\n",
       "</table>\n",
       "</div>"
      ],
      "text/plain": [
       "   index  attempts\n",
       "0   4.00        66\n",
       "1   1.00         8\n",
       "2   2.00         3\n",
       "3   3.00         2\n",
       "4   5.00         1"
      ]
     },
     "metadata": {},
     "output_type": "display_data"
    },
    {
     "data": {
      "text/plain": [
       "<function matplotlib.pyplot.show(*args, **kw)>"
      ]
     },
     "execution_count": 32,
     "metadata": {},
     "output_type": "execute_result"
    },
    {
     "data": {
      "image/png": "[encoded data removed]",
      "text/plain": [
       "<Figure size 648x432 with 1 Axes>"
      ]
     },
     "metadata": {
      "needs_background": "light"
     },
     "output_type": "display_data"
    }
   ],
   "source": [
    "attempts_freq=vcram_df['attempts'].value_counts().to_frame()\n",
    "attempts_freq.reset_index(inplace=True)\n",
    "display(attempts_freq)\n",
    "plt.figure(figsize=(9,6))\n",
    "\n",
    "sns.barplot(x='index', y='attempts', data=attempts_freq)\n",
    "# sns.distplot(vcram_df.attempts, kde=False);\n",
    "plt.title('Histogram of attempts of validate cram jobs in GATK', fontsize=18)\n",
    "plt.ylabel('Number of jobs ', fontsize=16)\n",
    "plt.xlabel('Attempts for each validate cram job', fontsize=16)\n",
    "plt.show"
   ]
  },
  {
   "cell_type": "markdown",
   "metadata": {},
   "source": [
    "--------\n",
    "## Attemps Analysis"
   ]
  },
  {
   "cell_type": "code",
   "execution_count": null,
   "metadata": {},
   "outputs": [],
   "source": []
  },
  {
   "cell_type": "markdown",
   "metadata": {},
   "source": [
    "--------\n",
    "## Log Analysis (Temp)"
   ]
  },
  {
   "cell_type": "code",
   "execution_count": 33,
   "metadata": {},
   "outputs": [],
   "source": [
    "sample_analysis_df=pd.read_csv('./sample-based-analysis-v057-withDupDstatLog.csv')"
   ]
  },
  {
   "cell_type": "code",
   "execution_count": 34,
   "metadata": {},
   "outputs": [],
   "source": [
    "issued_log=sample_analysis_df.loc[(sample_analysis_df['status']=='success') & (sample_analysis_df['dstat_failed']=='GATK'),['sample','log']]"
   ]
  },
  {
   "cell_type": "code",
   "execution_count": 35,
   "metadata": {},
   "outputs": [
    {
     "data": {
      "text/plain": [
       "index     81\n",
       "sample    81\n",
       "log       81\n",
       "dtype: int64"
      ]
     },
     "metadata": {},
     "output_type": "display_data"
    },
    {
     "data": {
      "text/html": [
       "<div>\n",
       "<style scoped>\n",
       "    .dataframe tbody tr th:only-of-type {\n",
       "        vertical-align: middle;\n",
       "    }\n",
       "\n",
       "    .dataframe tbody tr th {\n",
       "        vertical-align: top;\n",
       "    }\n",
       "\n",
       "    .dataframe thead th {\n",
       "        text-align: right;\n",
       "    }\n",
       "</style>\n",
       "<table border=\"1\" class=\"dataframe\">\n",
       "  <thead>\n",
       "    <tr style=\"text-align: right;\">\n",
       "      <th></th>\n",
       "      <th>index</th>\n",
       "      <th>sample</th>\n",
       "      <th>log</th>\n",
       "    </tr>\n",
       "  </thead>\n",
       "  <tbody>\n",
       "    <tr>\n",
       "      <th>0</th>\n",
       "      <td>3</td>\n",
       "      <td>SHIP5119449</td>\n",
       "      <td>gs://gbsc-gcp-project-mvp-test-from-personalis...</td>\n",
       "    </tr>\n",
       "    <tr>\n",
       "      <th>1</th>\n",
       "      <td>4</td>\n",
       "      <td>SHIP5141879</td>\n",
       "      <td>gs://gbsc-gcp-project-mvp-test-from-personalis...</td>\n",
       "    </tr>\n",
       "    <tr>\n",
       "      <th>2</th>\n",
       "      <td>7</td>\n",
       "      <td>SHIP4962324</td>\n",
       "      <td>gs://gbsc-gcp-project-mvp-test-from-personalis...</td>\n",
       "    </tr>\n",
       "    <tr>\n",
       "      <th>3</th>\n",
       "      <td>8</td>\n",
       "      <td>SHIP5119437</td>\n",
       "      <td>gs://gbsc-gcp-project-mvp-test-from-personalis...</td>\n",
       "    </tr>\n",
       "    <tr>\n",
       "      <th>4</th>\n",
       "      <td>10</td>\n",
       "      <td>SHIP4962327</td>\n",
       "      <td>gs://gbsc-gcp-project-mvp-test-from-personalis...</td>\n",
       "    </tr>\n",
       "    <tr>\n",
       "      <th>5</th>\n",
       "      <td>11</td>\n",
       "      <td>SHIP5119430</td>\n",
       "      <td>gs://gbsc-gcp-project-mvp-test-from-personalis...</td>\n",
       "    </tr>\n",
       "    <tr>\n",
       "      <th>6</th>\n",
       "      <td>18</td>\n",
       "      <td>SHIP5119451</td>\n",
       "      <td>gs://gbsc-gcp-project-mvp-test-from-personalis...</td>\n",
       "    </tr>\n",
       "    <tr>\n",
       "      <th>7</th>\n",
       "      <td>21</td>\n",
       "      <td>SHIP4962319</td>\n",
       "      <td>gs://gbsc-gcp-project-mvp-test-from-personalis...</td>\n",
       "    </tr>\n",
       "    <tr>\n",
       "      <th>8</th>\n",
       "      <td>26</td>\n",
       "      <td>SHIP5119442</td>\n",
       "      <td>gs://gbsc-gcp-project-mvp-test-from-personalis...</td>\n",
       "    </tr>\n",
       "    <tr>\n",
       "      <th>9</th>\n",
       "      <td>33</td>\n",
       "      <td>SHIP5141883</td>\n",
       "      <td>gs://gbsc-gcp-project-mvp-test-from-personalis...</td>\n",
       "    </tr>\n",
       "    <tr>\n",
       "      <th>10</th>\n",
       "      <td>36</td>\n",
       "      <td>SHIP5141891</td>\n",
       "      <td>gs://gbsc-gcp-project-mvp-test-from-personalis...</td>\n",
       "    </tr>\n",
       "    <tr>\n",
       "      <th>11</th>\n",
       "      <td>38</td>\n",
       "      <td>SHIP5141897</td>\n",
       "      <td>gs://gbsc-gcp-project-mvp-test-from-personalis...</td>\n",
       "    </tr>\n",
       "    <tr>\n",
       "      <th>12</th>\n",
       "      <td>39</td>\n",
       "      <td>SHIP5141895</td>\n",
       "      <td>gs://gbsc-gcp-project-mvp-test-from-personalis...</td>\n",
       "    </tr>\n",
       "    <tr>\n",
       "      <th>13</th>\n",
       "      <td>42</td>\n",
       "      <td>SHIP4962332</td>\n",
       "      <td>gs://gbsc-gcp-project-mvp-test-from-personalis...</td>\n",
       "    </tr>\n",
       "    <tr>\n",
       "      <th>14</th>\n",
       "      <td>43</td>\n",
       "      <td>SHIP5141906</td>\n",
       "      <td>gs://gbsc-gcp-project-mvp-test-from-personalis...</td>\n",
       "    </tr>\n",
       "    <tr>\n",
       "      <th>15</th>\n",
       "      <td>45</td>\n",
       "      <td>SHIP5119448</td>\n",
       "      <td>gs://gbsc-gcp-project-mvp-test-from-personalis...</td>\n",
       "    </tr>\n",
       "    <tr>\n",
       "      <th>16</th>\n",
       "      <td>46</td>\n",
       "      <td>SHIP5141881</td>\n",
       "      <td>gs://gbsc-gcp-project-mvp-test-from-personalis...</td>\n",
       "    </tr>\n",
       "    <tr>\n",
       "      <th>17</th>\n",
       "      <td>53</td>\n",
       "      <td>SHIP5119461</td>\n",
       "      <td>gs://gbsc-gcp-project-mvp-test-from-personalis...</td>\n",
       "    </tr>\n",
       "    <tr>\n",
       "      <th>18</th>\n",
       "      <td>59</td>\n",
       "      <td>SHIP5119453</td>\n",
       "      <td>gs://gbsc-gcp-project-mvp-test-from-personalis...</td>\n",
       "    </tr>\n",
       "    <tr>\n",
       "      <th>19</th>\n",
       "      <td>60</td>\n",
       "      <td>SHIP5141930</td>\n",
       "      <td>gs://gbsc-gcp-project-mvp-test-from-personalis...</td>\n",
       "    </tr>\n",
       "    <tr>\n",
       "      <th>20</th>\n",
       "      <td>68</td>\n",
       "      <td>SHIP5119484</td>\n",
       "      <td>gs://gbsc-gcp-project-mvp-test-from-personalis...</td>\n",
       "    </tr>\n",
       "    <tr>\n",
       "      <th>21</th>\n",
       "      <td>78</td>\n",
       "      <td>SHIP4962329</td>\n",
       "      <td>gs://gbsc-gcp-project-mvp-test-from-personalis...</td>\n",
       "    </tr>\n",
       "  </tbody>\n",
       "</table>\n",
       "</div>"
      ],
      "text/plain": [
       "    index       sample                                                log\n",
       "0       3  SHIP5119449  gs://gbsc-gcp-project-mvp-test-from-personalis...\n",
       "1       4  SHIP5141879  gs://gbsc-gcp-project-mvp-test-from-personalis...\n",
       "2       7  SHIP4962324  gs://gbsc-gcp-project-mvp-test-from-personalis...\n",
       "3       8  SHIP5119437  gs://gbsc-gcp-project-mvp-test-from-personalis...\n",
       "4      10  SHIP4962327  gs://gbsc-gcp-project-mvp-test-from-personalis...\n",
       "5      11  SHIP5119430  gs://gbsc-gcp-project-mvp-test-from-personalis...\n",
       "6      18  SHIP5119451  gs://gbsc-gcp-project-mvp-test-from-personalis...\n",
       "7      21  SHIP4962319  gs://gbsc-gcp-project-mvp-test-from-personalis...\n",
       "8      26  SHIP5119442  gs://gbsc-gcp-project-mvp-test-from-personalis...\n",
       "9      33  SHIP5141883  gs://gbsc-gcp-project-mvp-test-from-personalis...\n",
       "10     36  SHIP5141891  gs://gbsc-gcp-project-mvp-test-from-personalis...\n",
       "11     38  SHIP5141897  gs://gbsc-gcp-project-mvp-test-from-personalis...\n",
       "12     39  SHIP5141895  gs://gbsc-gcp-project-mvp-test-from-personalis...\n",
       "13     42  SHIP4962332  gs://gbsc-gcp-project-mvp-test-from-personalis...\n",
       "14     43  SHIP5141906  gs://gbsc-gcp-project-mvp-test-from-personalis...\n",
       "15     45  SHIP5119448  gs://gbsc-gcp-project-mvp-test-from-personalis...\n",
       "16     46  SHIP5141881  gs://gbsc-gcp-project-mvp-test-from-personalis...\n",
       "17     53  SHIP5119461  gs://gbsc-gcp-project-mvp-test-from-personalis...\n",
       "18     59  SHIP5119453  gs://gbsc-gcp-project-mvp-test-from-personalis...\n",
       "19     60  SHIP5141930  gs://gbsc-gcp-project-mvp-test-from-personalis...\n",
       "20     68  SHIP5119484  gs://gbsc-gcp-project-mvp-test-from-personalis...\n",
       "21     78  SHIP4962329  gs://gbsc-gcp-project-mvp-test-from-personalis..."
      ]
     },
     "metadata": {},
     "output_type": "display_data"
    }
   ],
   "source": [
    "issued_log.reset_index(inplace=True)\n",
    "display(issued_log.count())\n",
    "display(issued_log.head(22))"
   ]
  },
  {
   "cell_type": "code",
   "execution_count": 36,
   "metadata": {},
   "outputs": [],
   "source": [
    "f = open(\"./issued_log_success_v057.txt\", 'w')\n",
    "for s, i in enumerate(issued_log['log']):\n",
    "    i = i + '/*out.log'\n",
    "    try:\n",
    "        f.write(str(issued_log['sample'][s])+'\\n')\n",
    "        f.write(str(subprocess.check_output('gsutil cat ' + i + '| grep \"failed\"', shell=True),'utf-8'))\n",
    "        f.write('\\n')\n",
    "    except:\n",
    "        continue\n",
    "f.close()\n",
    "\n",
    "# for log in success_issued_log['log'][0:1]:\n",
    "#     log = log + '/*out.log'\n",
    "#     print(log)\n",
    "#     !gsutil cat gs://gbsc-gcp-project-mvp-test-from-personalis-wgs35-logs/DVALABP000398/SHIP4946378/gatk-5-dollar/200202-230755-888-c8678bdf/logs/*[0-9].log | grep 'error'\n"
   ]
  },
  {
   "cell_type": "code",
   "execution_count": 37,
   "metadata": {},
   "outputs": [],
   "source": [
    "failed_log=sample_analysis_df.loc[(sample_analysis_df['pass']=='fail'),['sample','log']]"
   ]
  },
  {
   "cell_type": "code",
   "execution_count": 38,
   "metadata": {},
   "outputs": [
    {
     "data": {
      "text/plain": [
       "index     23\n",
       "sample    23\n",
       "log       21\n",
       "dtype: int64"
      ]
     },
     "metadata": {},
     "output_type": "display_data"
    },
    {
     "data": {
      "text/html": [
       "<div>\n",
       "<style scoped>\n",
       "    .dataframe tbody tr th:only-of-type {\n",
       "        vertical-align: middle;\n",
       "    }\n",
       "\n",
       "    .dataframe tbody tr th {\n",
       "        vertical-align: top;\n",
       "    }\n",
       "\n",
       "    .dataframe thead th {\n",
       "        text-align: right;\n",
       "    }\n",
       "</style>\n",
       "<table border=\"1\" class=\"dataframe\">\n",
       "  <thead>\n",
       "    <tr style=\"text-align: right;\">\n",
       "      <th></th>\n",
       "      <th>index</th>\n",
       "      <th>sample</th>\n",
       "      <th>log</th>\n",
       "    </tr>\n",
       "  </thead>\n",
       "  <tbody>\n",
       "    <tr>\n",
       "      <th>0</th>\n",
       "      <td>5</td>\n",
       "      <td>SHIP4962321</td>\n",
       "      <td>gs://gbsc-gcp-project-mvp-test-from-personalis...</td>\n",
       "    </tr>\n",
       "    <tr>\n",
       "      <th>1</th>\n",
       "      <td>9</td>\n",
       "      <td>SHIP5119432</td>\n",
       "      <td>gs://gbsc-gcp-project-mvp-test-from-personalis...</td>\n",
       "    </tr>\n",
       "    <tr>\n",
       "      <th>2</th>\n",
       "      <td>17</td>\n",
       "      <td>SHIP5119457</td>\n",
       "      <td>gs://gbsc-gcp-project-mvp-test-from-personalis...</td>\n",
       "    </tr>\n",
       "    <tr>\n",
       "      <th>3</th>\n",
       "      <td>23</td>\n",
       "      <td>SHIP5119431</td>\n",
       "      <td>NaN</td>\n",
       "    </tr>\n",
       "    <tr>\n",
       "      <th>4</th>\n",
       "      <td>35</td>\n",
       "      <td>SHIP5119477</td>\n",
       "      <td>gs://gbsc-gcp-project-mvp-test-from-personalis...</td>\n",
       "    </tr>\n",
       "    <tr>\n",
       "      <th>5</th>\n",
       "      <td>48</td>\n",
       "      <td>SHIP4962334</td>\n",
       "      <td>gs://gbsc-gcp-project-mvp-test-from-personalis...</td>\n",
       "    </tr>\n",
       "    <tr>\n",
       "      <th>6</th>\n",
       "      <td>55</td>\n",
       "      <td>SHIP5141919</td>\n",
       "      <td>gs://gbsc-gcp-project-mvp-test-from-personalis...</td>\n",
       "    </tr>\n",
       "    <tr>\n",
       "      <th>7</th>\n",
       "      <td>62</td>\n",
       "      <td>SHIP5141911</td>\n",
       "      <td>gs://gbsc-gcp-project-mvp-test-from-personalis...</td>\n",
       "    </tr>\n",
       "    <tr>\n",
       "      <th>8</th>\n",
       "      <td>66</td>\n",
       "      <td>SHIP5141910</td>\n",
       "      <td>gs://gbsc-gcp-project-mvp-test-from-personalis...</td>\n",
       "    </tr>\n",
       "    <tr>\n",
       "      <th>9</th>\n",
       "      <td>93</td>\n",
       "      <td>SHIP5119466</td>\n",
       "      <td>gs://gbsc-gcp-project-mvp-test-from-personalis...</td>\n",
       "    </tr>\n",
       "    <tr>\n",
       "      <th>10</th>\n",
       "      <td>95</td>\n",
       "      <td>SHIP5119470</td>\n",
       "      <td>gs://gbsc-gcp-project-mvp-test-from-personalis...</td>\n",
       "    </tr>\n",
       "    <tr>\n",
       "      <th>11</th>\n",
       "      <td>98</td>\n",
       "      <td>SHIP5119452</td>\n",
       "      <td>gs://gbsc-gcp-project-mvp-test-from-personalis...</td>\n",
       "    </tr>\n",
       "    <tr>\n",
       "      <th>12</th>\n",
       "      <td>102</td>\n",
       "      <td>SHIP5119474</td>\n",
       "      <td>gs://gbsc-gcp-project-mvp-test-from-personalis...</td>\n",
       "    </tr>\n",
       "    <tr>\n",
       "      <th>13</th>\n",
       "      <td>107</td>\n",
       "      <td>SHIP4962333</td>\n",
       "      <td>gs://gbsc-gcp-project-mvp-test-from-personalis...</td>\n",
       "    </tr>\n",
       "    <tr>\n",
       "      <th>14</th>\n",
       "      <td>121</td>\n",
       "      <td>SHIP5141884</td>\n",
       "      <td>gs://gbsc-gcp-project-mvp-test-from-personalis...</td>\n",
       "    </tr>\n",
       "    <tr>\n",
       "      <th>15</th>\n",
       "      <td>128</td>\n",
       "      <td>SHIP5119462</td>\n",
       "      <td>gs://gbsc-gcp-project-mvp-test-from-personalis...</td>\n",
       "    </tr>\n",
       "    <tr>\n",
       "      <th>16</th>\n",
       "      <td>138</td>\n",
       "      <td>SHIP5141885</td>\n",
       "      <td>gs://gbsc-gcp-project-mvp-test-from-personalis...</td>\n",
       "    </tr>\n",
       "    <tr>\n",
       "      <th>17</th>\n",
       "      <td>168</td>\n",
       "      <td>SHIP4954745</td>\n",
       "      <td>NaN</td>\n",
       "    </tr>\n",
       "    <tr>\n",
       "      <th>18</th>\n",
       "      <td>217</td>\n",
       "      <td>SHIP5119502</td>\n",
       "      <td>gs://gbsc-gcp-project-mvp-test-from-personalis...</td>\n",
       "    </tr>\n",
       "    <tr>\n",
       "      <th>19</th>\n",
       "      <td>232</td>\n",
       "      <td>SHIP5141859</td>\n",
       "      <td>gs://gbsc-gcp-project-mvp-test-from-personalis...</td>\n",
       "    </tr>\n",
       "    <tr>\n",
       "      <th>20</th>\n",
       "      <td>244</td>\n",
       "      <td>SHIP5141849</td>\n",
       "      <td>gs://gbsc-gcp-project-mvp-test-from-personalis...</td>\n",
       "    </tr>\n",
       "    <tr>\n",
       "      <th>21</th>\n",
       "      <td>275</td>\n",
       "      <td>SHIP5141864</td>\n",
       "      <td>gs://gbsc-gcp-project-mvp-test-from-personalis...</td>\n",
       "    </tr>\n",
       "  </tbody>\n",
       "</table>\n",
       "</div>"
      ],
      "text/plain": [
       "    index       sample                                                log\n",
       "0       5  SHIP4962321  gs://gbsc-gcp-project-mvp-test-from-personalis...\n",
       "1       9  SHIP5119432  gs://gbsc-gcp-project-mvp-test-from-personalis...\n",
       "2      17  SHIP5119457  gs://gbsc-gcp-project-mvp-test-from-personalis...\n",
       "3      23  SHIP5119431                                                NaN\n",
       "4      35  SHIP5119477  gs://gbsc-gcp-project-mvp-test-from-personalis...\n",
       "5      48  SHIP4962334  gs://gbsc-gcp-project-mvp-test-from-personalis...\n",
       "6      55  SHIP5141919  gs://gbsc-gcp-project-mvp-test-from-personalis...\n",
       "7      62  SHIP5141911  gs://gbsc-gcp-project-mvp-test-from-personalis...\n",
       "8      66  SHIP5141910  gs://gbsc-gcp-project-mvp-test-from-personalis...\n",
       "9      93  SHIP5119466  gs://gbsc-gcp-project-mvp-test-from-personalis...\n",
       "10     95  SHIP5119470  gs://gbsc-gcp-project-mvp-test-from-personalis...\n",
       "11     98  SHIP5119452  gs://gbsc-gcp-project-mvp-test-from-personalis...\n",
       "12    102  SHIP5119474  gs://gbsc-gcp-project-mvp-test-from-personalis...\n",
       "13    107  SHIP4962333  gs://gbsc-gcp-project-mvp-test-from-personalis...\n",
       "14    121  SHIP5141884  gs://gbsc-gcp-project-mvp-test-from-personalis...\n",
       "15    128  SHIP5119462  gs://gbsc-gcp-project-mvp-test-from-personalis...\n",
       "16    138  SHIP5141885  gs://gbsc-gcp-project-mvp-test-from-personalis...\n",
       "17    168  SHIP4954745                                                NaN\n",
       "18    217  SHIP5119502  gs://gbsc-gcp-project-mvp-test-from-personalis...\n",
       "19    232  SHIP5141859  gs://gbsc-gcp-project-mvp-test-from-personalis...\n",
       "20    244  SHIP5141849  gs://gbsc-gcp-project-mvp-test-from-personalis...\n",
       "21    275  SHIP5141864  gs://gbsc-gcp-project-mvp-test-from-personalis..."
      ]
     },
     "metadata": {},
     "output_type": "display_data"
    }
   ],
   "source": [
    "failed_log.reset_index(inplace=True)\n",
    "display(failed_log.count())\n",
    "display(failed_log.head(22))"
   ]
  },
  {
   "cell_type": "code",
   "execution_count": 39,
   "metadata": {},
   "outputs": [],
   "source": [
    "f = open(\"./failed_log_success_v057.txt\", 'w')\n",
    "for s, i in enumerate(failed_log['log']):\n",
    "    try:\n",
    "        i = i + '/*out.log'\n",
    "        f.write(str(failed_log['sample'][s])+'\\n')\n",
    "        f.write(str(subprocess.check_output('gsutil cat ' + i + '| grep \"failed\"', shell=True),'utf-8'))\n",
    "        f.write('\\n')\n",
    "    except:\n",
    "        continue\n",
    "f.close()\n",
    "\n",
    "# for log in success_issued_log['log'][0:1]:\n",
    "#     log = log + '/*out.log'\n",
    "#     print(log)\n",
    "#     !gsutil cat gs://gbsc-gcp-project-mvp-test-from-personalis-wgs35-logs/DVALABP000398/SHIP4946378/gatk-5-dollar/200202-230755-888-c8678bdf/logs/*[0-9].log | grep 'error'\n"
   ]
  }
 ],
 "metadata": {
  "kernelspec": {
   "display_name": "Python 3",
   "language": "python",
   "name": "python3"
  },
  "language_info": {
   "codemirror_mode": {
    "name": "ipython",
    "version": 3
   },
   "file_extension": ".py",
   "mimetype": "text/x-python",
   "name": "python",
   "nbconvert_exporter": "python",
   "pygments_lexer": "ipython3",
   "version": "3.5.3"
  }
 },
 "nbformat": 4,
 "nbformat_minor": 4
}
