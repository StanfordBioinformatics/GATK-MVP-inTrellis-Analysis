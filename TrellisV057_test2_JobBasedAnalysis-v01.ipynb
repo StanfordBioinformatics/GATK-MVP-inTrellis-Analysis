{
 "cells": [
  {
   "cell_type": "markdown",
   "metadata": {},
   "source": [
    "# Neo4J v057 test2 v01 - Trellis : Job based Analysis\n",
    "================"
   ]
  },
  {
   "cell_type": "markdown",
   "metadata": {},
   "source": [
    "## Set up the environment\n"
   ]
  },
  {
   "cell_type": "markdown",
   "metadata": {},
   "source": [
    "### Install py2neo for querying Neo4J "
   ]
  },
  {
   "cell_type": "code",
   "execution_count": 132,
   "metadata": {},
   "outputs": [],
   "source": [
    "#!pip3 install -U py2neo\n",
    "\n",
    "# add python path of py2neo in system\n",
    "\n",
    "#!pip3 install -U neotime\n",
    "#!pip3 install -U neobolt\n",
    "#!pip3 install -U pandas-gbq"
   ]
  },
  {
   "cell_type": "markdown",
   "metadata": {},
   "source": [
    "### Import Packages"
   ]
  },
  {
   "cell_type": "code",
   "execution_count": 133,
   "metadata": {},
   "outputs": [],
   "source": [
    "from py2neo import Graph\n",
    "from google.cloud import storage\n",
    "import yaml\n",
    "\n",
    "import pandas as pd\n",
    "import pandas_gbq\n",
    "\n",
    "import numpy as np\n",
    "import subprocess\n",
    "import matplotlib \n",
    "import matplotlib.pyplot as plt\n",
    "import seaborn as sns\n",
    "\n",
    "#plt.style.use('fivethirtyeight')\n",
    "#plt.style.use('ggplot')\n",
    "pd.set_option('display.float_format', lambda x: '%.2f' % x)"
   ]
  },
  {
   "cell_type": "markdown",
   "metadata": {},
   "source": [
    "### Load Neo4J DB"
   ]
  },
  {
   "cell_type": "code",
   "execution_count": 134,
   "metadata": {},
   "outputs": [],
   "source": [
    "## Option 1 : Read DB and Account Information in Google Storage (YAML)\n",
    "\n",
    "# create storage client\n",
    "storage_client = storage.Client()\n",
    "# get bucket with name\n",
    "bucket = storage_client.get_bucket('gbsc-gcp-project-mvp-{env}-trellis')\n",
    "# get bucket data as blob\n",
    "blob = bucket.get_blob('credentials/{env}-wgs35.yaml')\n",
    "# convert to string\n",
    "yaml_data = blob.download_as_string()\n",
    "\n",
    "account = yaml.load(yaml_data, Loader=yaml.FullLoader)\n",
    "\n",
    "## Main Account\n",
    "graph = Graph(account['NEO4J_SCHEME']+'://'+account['NEO4J_HOST']+\":\"+str(account['NEO4J_PORT']), auth=(account['NEO4J_USER'],account['NEO4J_PASSPHRASE']))"
   ]
  },
  {
   "cell_type": "markdown",
   "metadata": {},
   "source": [
    "-------\n",
    "## FQ2U Job"
   ]
  },
  {
   "cell_type": "markdown",
   "metadata": {},
   "source": [
    "### FQ2U table"
   ]
  },
  {
   "cell_type": "code",
   "execution_count": 135,
   "metadata": {},
   "outputs": [
    {
     "name": "stdout",
     "output_type": "stream",
     "text": [
      "The number of samples with FQ2U jobs : 288\n",
      "The number of FQ2U jobs : 1156\n"
     ]
    }
   ],
   "source": [
    "## Query\n",
    "query = \"Match (fu:Job:Dsub {name:'fastq-to-ubam'})-[:STATUS]->(s:Dstat) RETURN fu.sample AS sample, fu.readGroup AS fq2urg_gatkid, fu.duplicate AS dup, fu.machineType AS VMtype, fu.durationMinutes as runtime, s.status as dstat_status, s.statusMessage as dstat_msg, s.logging as dstat_log\"\n",
    "job_fq2u = graph.run(query).to_data_frame()\n",
    "job_fq2u.set_index('sample')\n",
    "\n",
    "## Variable\n",
    "num_fq2u_sample=len(job_fq2u['sample'].unique())\n",
    "num_fq2u_job=len(job_fq2u)\n",
    "\n",
    "## Print (Info)\n",
    "print(\"The number of samples with FQ2U jobs : \" + str(num_fq2u_sample))\n",
    "print(\"The number of FQ2U jobs : \" + str(num_fq2u_job))\n",
    "\n",
    "## Bigquery Table Format\n",
    "job_fq2u['exp_vm']=1\n",
    "job_fq2u['unit_cost']=0\n",
    "job_fq2u['cost']=0\n",
    "job_fq2u['job']='FQ2U'\n",
    "job_fq2u['attempts']=None\n",
    "job_fq2u['unit_runtime']=None\n",
    "columnlist=['sample','job','fq2urg_gatkid','dup','attempts','exp_vm','runtime','unit_runtime','VMtype','unit_cost','cost','dstat_status','dstat_msg','dstat_log']\n",
    "job_fq2u=job_fq2u[columnlist]\n",
    "\n",
    "#display(job_fq2u.head())"
   ]
  },
  {
   "cell_type": "markdown",
   "metadata": {},
   "source": [
    "### FQ2U Duplication Check"
   ]
  },
  {
   "cell_type": "code",
   "execution_count": 136,
   "metadata": {},
   "outputs": [
    {
     "name": "stdout",
     "output_type": "stream",
     "text": [
      "The number(percentage) of samples with duplicated FQ2U jobs : 1 (0.347222%)\n",
      "The number(percentage) of FQ2U duplicated jobs : 1 (0.086505%)\n"
     ]
    }
   ],
   "source": [
    "## Query\n",
    "fq2u_dup=job_fq2u.loc[job_fq2u['dup']==True,:]\n",
    "\n",
    "## Variable\n",
    "num_dup_fq2u_sample=len(fq2u_dup['sample'].unique())\n",
    "num_dup_fq2u_job=len(fq2u_dup)\n",
    "\n",
    "print(\"The number(percentage) of samples with duplicated FQ2U jobs : \" + str(len(fq2u_dup['sample'].unique()))+\" (\"+'{:2f}'.format((num_dup_fq2u_sample/num_fq2u_sample)*100)+\"%)\")\n",
    "print(\"The number(percentage) of FQ2U duplicated jobs : \" + str(num_dup_fq2u_job)+\" (\"+'{:2f}'.format((num_dup_fq2u_job/num_fq2u_job)*100)+\"%)\")\n",
    "\n",
    "#display(test)"
   ]
  },
  {
   "cell_type": "markdown",
   "metadata": {},
   "source": [
    "-------\n",
    "## GATK Job"
   ]
  },
  {
   "cell_type": "markdown",
   "metadata": {},
   "source": [
    "### GATK table"
   ]
  },
  {
   "cell_type": "code",
   "execution_count": 137,
   "metadata": {},
   "outputs": [
    {
     "name": "stdout",
     "output_type": "stream",
     "text": [
      "The number of samples with GATK jobs : 288\n",
      "The number of GATK jobs : 360\n"
     ]
    },
    {
     "data": {
      "text/html": [
       "<div>\n",
       "<style scoped>\n",
       "    .dataframe tbody tr th:only-of-type {\n",
       "        vertical-align: middle;\n",
       "    }\n",
       "\n",
       "    .dataframe tbody tr th {\n",
       "        vertical-align: top;\n",
       "    }\n",
       "\n",
       "    .dataframe thead th {\n",
       "        text-align: right;\n",
       "    }\n",
       "</style>\n",
       "<table border=\"1\" class=\"dataframe\">\n",
       "  <thead>\n",
       "    <tr style=\"text-align: right;\">\n",
       "      <th></th>\n",
       "      <th>sample</th>\n",
       "      <th>job</th>\n",
       "      <th>fq2urg_gatkid</th>\n",
       "      <th>dup</th>\n",
       "      <th>attempts</th>\n",
       "      <th>runtime</th>\n",
       "      <th>unit_runtime</th>\n",
       "      <th>VMtype</th>\n",
       "      <th>dstat_status</th>\n",
       "      <th>dstat_msg</th>\n",
       "      <th>dstat_log</th>\n",
       "    </tr>\n",
       "  </thead>\n",
       "  <tbody>\n",
       "    <tr>\n",
       "      <th>0</th>\n",
       "      <td>SHIP4962328</td>\n",
       "      <td>GATK</td>\n",
       "      <td>None</td>\n",
       "      <td>None</td>\n",
       "      <td>None</td>\n",
       "      <td>3</td>\n",
       "      <td>None</td>\n",
       "      <td>custom-2-12288</td>\n",
       "      <td>FAILURE</td>\n",
       "      <td>Workflow fdbf619e-f1e2-4693-9283-e312bbe53e06 ...</td>\n",
       "      <td>gs://gbsc-gcp-project-mvp-test-from-personalis...</td>\n",
       "    </tr>\n",
       "    <tr>\n",
       "      <th>1</th>\n",
       "      <td>SHIP5119477</td>\n",
       "      <td>GATK</td>\n",
       "      <td>None</td>\n",
       "      <td>None</td>\n",
       "      <td>None</td>\n",
       "      <td>3</td>\n",
       "      <td>None</td>\n",
       "      <td>custom-2-12288</td>\n",
       "      <td>FAILURE</td>\n",
       "      <td>Workflow c6fcc01a-0806-4a2d-8ca4-69730213cc00 ...</td>\n",
       "      <td>gs://gbsc-gcp-project-mvp-test-from-personalis...</td>\n",
       "    </tr>\n",
       "    <tr>\n",
       "      <th>2</th>\n",
       "      <td>SHIP5119479</td>\n",
       "      <td>GATK</td>\n",
       "      <td>None</td>\n",
       "      <td>None</td>\n",
       "      <td>None</td>\n",
       "      <td>3</td>\n",
       "      <td>None</td>\n",
       "      <td>custom-2-12288</td>\n",
       "      <td>FAILURE</td>\n",
       "      <td>Workflow 8a7ae6ab-5cb3-4c87-93a6-afbf8e43d4cb ...</td>\n",
       "      <td>gs://gbsc-gcp-project-mvp-test-from-personalis...</td>\n",
       "    </tr>\n",
       "    <tr>\n",
       "      <th>3</th>\n",
       "      <td>SHIP5141884</td>\n",
       "      <td>GATK</td>\n",
       "      <td>None</td>\n",
       "      <td>None</td>\n",
       "      <td>None</td>\n",
       "      <td>3</td>\n",
       "      <td>None</td>\n",
       "      <td>custom-2-12288</td>\n",
       "      <td>FAILURE</td>\n",
       "      <td>Workflow 33cd21bf-96a2-4e46-9ba7-d316d43f274a ...</td>\n",
       "      <td>gs://gbsc-gcp-project-mvp-test-from-personalis...</td>\n",
       "    </tr>\n",
       "    <tr>\n",
       "      <th>4</th>\n",
       "      <td>SHIP5141929</td>\n",
       "      <td>GATK</td>\n",
       "      <td>None</td>\n",
       "      <td>None</td>\n",
       "      <td>None</td>\n",
       "      <td>3</td>\n",
       "      <td>None</td>\n",
       "      <td>custom-2-12288</td>\n",
       "      <td>FAILURE</td>\n",
       "      <td>Workflow 637727fa-f9f7-4a84-ab37-55bf4dca4673 ...</td>\n",
       "      <td>gs://gbsc-gcp-project-mvp-test-from-personalis...</td>\n",
       "    </tr>\n",
       "  </tbody>\n",
       "</table>\n",
       "</div>"
      ],
      "text/plain": [
       "        sample   job fq2urg_gatkid   dup attempts  runtime unit_runtime  \\\n",
       "0  SHIP4962328  GATK          None  None     None        3         None   \n",
       "1  SHIP5119477  GATK          None  None     None        3         None   \n",
       "2  SHIP5119479  GATK          None  None     None        3         None   \n",
       "3  SHIP5141884  GATK          None  None     None        3         None   \n",
       "4  SHIP5141929  GATK          None  None     None        3         None   \n",
       "\n",
       "           VMtype dstat_status  \\\n",
       "0  custom-2-12288      FAILURE   \n",
       "1  custom-2-12288      FAILURE   \n",
       "2  custom-2-12288      FAILURE   \n",
       "3  custom-2-12288      FAILURE   \n",
       "4  custom-2-12288      FAILURE   \n",
       "\n",
       "                                           dstat_msg  \\\n",
       "0  Workflow fdbf619e-f1e2-4693-9283-e312bbe53e06 ...   \n",
       "1  Workflow c6fcc01a-0806-4a2d-8ca4-69730213cc00 ...   \n",
       "2  Workflow 8a7ae6ab-5cb3-4c87-93a6-afbf8e43d4cb ...   \n",
       "3  Workflow 33cd21bf-96a2-4e46-9ba7-d316d43f274a ...   \n",
       "4  Workflow 637727fa-f9f7-4a84-ab37-55bf4dca4673 ...   \n",
       "\n",
       "                                           dstat_log  \n",
       "0  gs://gbsc-gcp-project-mvp-test-from-personalis...  \n",
       "1  gs://gbsc-gcp-project-mvp-test-from-personalis...  \n",
       "2  gs://gbsc-gcp-project-mvp-test-from-personalis...  \n",
       "3  gs://gbsc-gcp-project-mvp-test-from-personalis...  \n",
       "4  gs://gbsc-gcp-project-mvp-test-from-personalis...  "
      ]
     },
     "metadata": {},
     "output_type": "display_data"
    }
   ],
   "source": [
    "## Query\n",
    "query = \"MATCH (j:Job:CromwellWorkflow)-[:STATUS]->(s:Dstat) RETURN j.sample AS sample, j.cromwellWorkflowId AS fq2urg_gatkid, \\\n",
    "j.duplicate AS dup, j.durationMinutes as runtime, j.machineType as VMtype, s.status as dstat_status, s.statusMessage as dstat_msg, s.logging as dstat_log\"\n",
    "job_gatk = graph.run(query).to_data_frame()\n",
    "job_gatk.set_index('sample')\n",
    "\n",
    "## Variable\n",
    "num_gatk_sample=len(job_gatk['sample'].unique())\n",
    "num_gatk_job=len(job_gatk)\n",
    "\n",
    "## Print (Info)\n",
    "print(\"The number of samples with GATK jobs : \" + str(num_gatk_sample))\n",
    "print(\"The number of GATK jobs : \" + str(num_gatk_job))\n",
    "\n",
    "## Bigquery Table Format\n",
    "job_gatk['job']='GATK'\n",
    "job_gatk['attempts']=None\n",
    "job_gatk['unit_runtime']=None\n",
    "columnlist=['sample','job','fq2urg_gatkid','dup','attempts','runtime','unit_runtime','VMtype','dstat_status','dstat_msg','dstat_log']\n",
    "job_gatk=job_gatk[columnlist]\n",
    "\n",
    "display(job_gatk.head())"
   ]
  },
  {
   "cell_type": "markdown",
   "metadata": {},
   "source": [
    "### GATK Duplication Check"
   ]
  },
  {
   "cell_type": "code",
   "execution_count": 138,
   "metadata": {},
   "outputs": [
    {
     "name": "stdout",
     "output_type": "stream",
     "text": [
      "The number(percentage) of samples with duplicated GATK jobs : 0 (0.000000%)\n",
      "The number(percentage) of GATK duplicated jobs : 0 (0.000000%)\n"
     ]
    }
   ],
   "source": [
    "## Query\n",
    "gatk_dup=job_gatk.loc[job_gatk['dup']==True,:]\n",
    "\n",
    "## Variable\n",
    "num_dup_gatk_sample=len(gatk_dup['sample'].unique())\n",
    "num_dup_gatk_job=len(gatk_dup)\n",
    "\n",
    "print(\"The number(percentage) of samples with duplicated GATK jobs : \" + str(len(gatk_dup['sample'].unique()))+\" (\"+'{:2f}'.format((num_dup_gatk_sample/num_gatk_sample)*100)+\"%)\")\n",
    "print(\"The number(percentage) of GATK duplicated jobs : \" + str(num_dup_gatk_job)+\" (\"+'{:2f}'.format((num_dup_gatk_job/num_gatk_job)*100)+\"%)\")\n",
    "\n",
    "#display(test)"
   ]
  },
  {
   "cell_type": "markdown",
   "metadata": {},
   "source": [
    "### GATK exp_vm and add_vm"
   ]
  },
  {
   "cell_type": "code",
   "execution_count": 139,
   "metadata": {},
   "outputs": [],
   "source": [
    "## expected vm data frame\n",
    "exp_vm_df=pd.read_excel(\"./GATKstep_expected_vm.xlsx\")"
   ]
  },
  {
   "cell_type": "code",
   "execution_count": 140,
   "metadata": {},
   "outputs": [],
   "source": [
    "merged_attemps_df=pd.merge(exp_vm_df,job_gatk,left_on=['job'],right_on=['job'],how='right')\n",
    "#merged_attemps_df['added_vm']=job_gatk['attempts']-merged_attemps_df['exp_vm']"
   ]
  },
  {
   "cell_type": "markdown",
   "metadata": {},
   "source": [
    "-------\n",
    "## GATK substeps"
   ]
  },
  {
   "cell_type": "markdown",
   "metadata": {},
   "source": [
    "### Attempts table"
   ]
  },
  {
   "cell_type": "code",
   "execution_count": 141,
   "metadata": {},
   "outputs": [
    {
     "name": "stdout",
     "output_type": "stream",
     "text": [
      "The number of samples with GATK steps : 288\n",
      "The number of GATK subjobs : 6302\n"
     ]
    }
   ],
   "source": [
    "## Query\n",
    "query = \"MATCH (g:Job:CromwellWorkflow)-[:LED_TO*]->(s:CromwellStep)-[:HAS_ATTEMPT]-()-[*0..100]->(j:Job) \\\n",
    "WHERE g.cromwellWorkflowId=s.cromwellWorkflowId RETURN g.sample as sample, s.cromwellWorkflowId as fq2urg_gatkid, \\\n",
    "s.wdlCallAlias as job, count(distinct j) as attempts, (max(j.stopTimeEpoch)-min(j.startTimeEpoch))/60 as runtime, avg(j.durationMinutes) as unit_runtime, j.machineType as VMtype\"\n",
    "#query = \"MATCH (j:Job:CromwellWorkflow)-[:STATUS]->(s:Dstat) RETURN j.sample AS sample, j.duplicate AS dup, j.durationMinutes as runtime, s.status as dstat_status, s.statusMessage as dstat_msg, s.logging as dstat_log\"\n",
    "job_gatk_step = graph.run(query).to_data_frame()\n",
    "job_gatk_step.set_index('sample')\n",
    "\n",
    "## Variable\n",
    "num_gatk_sample=len(job_gatk_step['sample'].unique())\n",
    "num_gatk_subjobs=len(job_gatk_step)\n",
    "\n",
    "## Print (Info)\n",
    "print(\"The number of samples with GATK steps : \" + str(num_gatk_sample))\n",
    "print(\"The number of GATK subjobs : \" + str(num_gatk_subjobs))"
   ]
  },
  {
   "cell_type": "markdown",
   "metadata": {},
   "source": [
    "### GATK Duplication Check"
   ]
  },
  {
   "cell_type": "code",
   "execution_count": 142,
   "metadata": {},
   "outputs": [
    {
     "data": {
      "text/html": [
       "<div>\n",
       "<style scoped>\n",
       "    .dataframe tbody tr th:only-of-type {\n",
       "        vertical-align: middle;\n",
       "    }\n",
       "\n",
       "    .dataframe tbody tr th {\n",
       "        vertical-align: top;\n",
       "    }\n",
       "\n",
       "    .dataframe thead th {\n",
       "        text-align: right;\n",
       "    }\n",
       "</style>\n",
       "<table border=\"1\" class=\"dataframe\">\n",
       "  <thead>\n",
       "    <tr style=\"text-align: right;\">\n",
       "      <th></th>\n",
       "      <th>sample</th>\n",
       "      <th>job</th>\n",
       "      <th>fq2urg_gatkid</th>\n",
       "      <th>dup</th>\n",
       "      <th>attempts</th>\n",
       "      <th>runtime</th>\n",
       "      <th>unit_runtime</th>\n",
       "      <th>VMtype</th>\n",
       "      <th>dstat_status</th>\n",
       "      <th>dstat_msg</th>\n",
       "      <th>dstat_log</th>\n",
       "    </tr>\n",
       "  </thead>\n",
       "  <tbody>\n",
       "    <tr>\n",
       "      <th>0</th>\n",
       "      <td>SHIP5141880</td>\n",
       "      <td>getbwaversion</td>\n",
       "      <td>cce30376-db76-44e0-b308-6d9163b5f195</td>\n",
       "      <td>None</td>\n",
       "      <td>1</td>\n",
       "      <td>3.43</td>\n",
       "      <td>3.00</td>\n",
       "      <td>custom-1-1024</td>\n",
       "      <td>FAILURE</td>\n",
       "      <td>nt.googleapis.services.AbstractGoogleClient &lt;i...</td>\n",
       "      <td>gs://gbsc-gcp-project-mvp-test-from-personalis...</td>\n",
       "    </tr>\n",
       "    <tr>\n",
       "      <th>1</th>\n",
       "      <td>SHIP5141880</td>\n",
       "      <td>scatterintervallist</td>\n",
       "      <td>cce30376-db76-44e0-b308-6d9163b5f195</td>\n",
       "      <td>None</td>\n",
       "      <td>1</td>\n",
       "      <td>4.06</td>\n",
       "      <td>4.00</td>\n",
       "      <td>custom-1-2048</td>\n",
       "      <td>FAILURE</td>\n",
       "      <td>nt.googleapis.services.AbstractGoogleClient &lt;i...</td>\n",
       "      <td>gs://gbsc-gcp-project-mvp-test-from-personalis...</td>\n",
       "    </tr>\n",
       "    <tr>\n",
       "      <th>2</th>\n",
       "      <td>SHIP5141880</td>\n",
       "      <td>samsplitter</td>\n",
       "      <td>cce30376-db76-44e0-b308-6d9163b5f195</td>\n",
       "      <td>None</td>\n",
       "      <td>5</td>\n",
       "      <td>189.35</td>\n",
       "      <td>99.40</td>\n",
       "      <td>custom-1-3840</td>\n",
       "      <td>FAILURE</td>\n",
       "      <td>nt.googleapis.services.AbstractGoogleClient &lt;i...</td>\n",
       "      <td>gs://gbsc-gcp-project-mvp-test-from-personalis...</td>\n",
       "    </tr>\n",
       "    <tr>\n",
       "      <th>3</th>\n",
       "      <td>SHIP5141880</td>\n",
       "      <td>samtofastqandbwamemandmba</td>\n",
       "      <td>cce30376-db76-44e0-b308-6d9163b5f195</td>\n",
       "      <td>None</td>\n",
       "      <td>24</td>\n",
       "      <td>181.89</td>\n",
       "      <td>44.00</td>\n",
       "      <td>custom-16-14848</td>\n",
       "      <td>FAILURE</td>\n",
       "      <td>nt.googleapis.services.AbstractGoogleClient &lt;i...</td>\n",
       "      <td>gs://gbsc-gcp-project-mvp-test-from-personalis...</td>\n",
       "    </tr>\n",
       "    <tr>\n",
       "      <th>4</th>\n",
       "      <td>SHIP5141880</td>\n",
       "      <td>sumsplitalignedsizes</td>\n",
       "      <td>cce30376-db76-44e0-b308-6d9163b5f195</td>\n",
       "      <td>None</td>\n",
       "      <td>4</td>\n",
       "      <td>131.10</td>\n",
       "      <td>2.50</td>\n",
       "      <td>custom-2-10240</td>\n",
       "      <td>FAILURE</td>\n",
       "      <td>nt.googleapis.services.AbstractGoogleClient &lt;i...</td>\n",
       "      <td>gs://gbsc-gcp-project-mvp-test-from-personalis...</td>\n",
       "    </tr>\n",
       "  </tbody>\n",
       "</table>\n",
       "</div>"
      ],
      "text/plain": [
       "        sample                        job  \\\n",
       "0  SHIP5141880              getbwaversion   \n",
       "1  SHIP5141880        scatterintervallist   \n",
       "2  SHIP5141880                samsplitter   \n",
       "3  SHIP5141880  samtofastqandbwamemandmba   \n",
       "4  SHIP5141880       sumsplitalignedsizes   \n",
       "\n",
       "                          fq2urg_gatkid   dup  attempts  runtime  \\\n",
       "0  cce30376-db76-44e0-b308-6d9163b5f195  None         1     3.43   \n",
       "1  cce30376-db76-44e0-b308-6d9163b5f195  None         1     4.06   \n",
       "2  cce30376-db76-44e0-b308-6d9163b5f195  None         5   189.35   \n",
       "3  cce30376-db76-44e0-b308-6d9163b5f195  None        24   181.89   \n",
       "4  cce30376-db76-44e0-b308-6d9163b5f195  None         4   131.10   \n",
       "\n",
       "   unit_runtime           VMtype dstat_status  \\\n",
       "0          3.00    custom-1-1024      FAILURE   \n",
       "1          4.00    custom-1-2048      FAILURE   \n",
       "2         99.40    custom-1-3840      FAILURE   \n",
       "3         44.00  custom-16-14848      FAILURE   \n",
       "4          2.50   custom-2-10240      FAILURE   \n",
       "\n",
       "                                           dstat_msg  \\\n",
       "0  nt.googleapis.services.AbstractGoogleClient <i...   \n",
       "1  nt.googleapis.services.AbstractGoogleClient <i...   \n",
       "2  nt.googleapis.services.AbstractGoogleClient <i...   \n",
       "3  nt.googleapis.services.AbstractGoogleClient <i...   \n",
       "4  nt.googleapis.services.AbstractGoogleClient <i...   \n",
       "\n",
       "                                           dstat_log  \n",
       "0  gs://gbsc-gcp-project-mvp-test-from-personalis...  \n",
       "1  gs://gbsc-gcp-project-mvp-test-from-personalis...  \n",
       "2  gs://gbsc-gcp-project-mvp-test-from-personalis...  \n",
       "3  gs://gbsc-gcp-project-mvp-test-from-personalis...  \n",
       "4  gs://gbsc-gcp-project-mvp-test-from-personalis...  "
      ]
     },
     "metadata": {},
     "output_type": "display_data"
    }
   ],
   "source": [
    "## Bigquery Table Format\n",
    "job_gatk_info=job_gatk[['sample','fq2urg_gatkid','dup','dstat_status','dstat_msg','dstat_log']]\n",
    "job_gatk_stepm=pd.merge(job_gatk_info, job_gatk_step, left_on=['sample','fq2urg_gatkid'], right_on=['sample','fq2urg_gatkid'], how='right')\n",
    "columnlist=['sample','job','fq2urg_gatkid','dup','attempts','runtime','unit_runtime','VMtype','dstat_status','dstat_msg','dstat_log']\n",
    "job_gatk_stepm=job_gatk_stepm[columnlist]\n",
    "\n",
    "display(job_gatk_stepm.head())"
   ]
  },
  {
   "cell_type": "markdown",
   "metadata": {},
   "source": [
    "### GATK exp_vm and add_vm"
   ]
  },
  {
   "cell_type": "code",
   "execution_count": 143,
   "metadata": {},
   "outputs": [],
   "source": [
    "## expected vm data frame\n",
    "exp_vm_df=pd.read_excel(\"./GATKstep_expected_vm.xlsx\")"
   ]
  },
  {
   "cell_type": "code",
   "execution_count": 144,
   "metadata": {},
   "outputs": [],
   "source": [
    "job_gatk_stepm=pd.merge(exp_vm_df,job_gatk_stepm,left_on=['job'],right_on=['job'],how='right')\n",
    "#merged_attemps_df['added_vm']=job_gatk['attempts']-merged_attemps_df['exp_vm']"
   ]
  },
  {
   "cell_type": "markdown",
   "metadata": {},
   "source": [
    "-------\n",
    "## Merge "
   ]
  },
  {
   "cell_type": "code",
   "execution_count": 145,
   "metadata": {},
   "outputs": [
    {
     "name": "stderr",
     "output_type": "stream",
     "text": [
      "/usr/local/lib/python3.5/dist-packages/ipykernel_launcher.py:1: FutureWarning: Sorting because non-concatenation axis is not aligned. A future version\n",
      "of pandas will change to not sort by default.\n",
      "\n",
      "To accept the future behavior, pass 'sort=False'.\n",
      "\n",
      "To retain the current behavior and silence the warning, pass 'sort=True'.\n",
      "\n",
      "  \"\"\"Entry point for launching an IPython kernel.\n"
     ]
    },
    {
     "data": {
      "text/html": [
       "<div>\n",
       "<style scoped>\n",
       "    .dataframe tbody tr th:only-of-type {\n",
       "        vertical-align: middle;\n",
       "    }\n",
       "\n",
       "    .dataframe tbody tr th {\n",
       "        vertical-align: top;\n",
       "    }\n",
       "\n",
       "    .dataframe thead th {\n",
       "        text-align: right;\n",
       "    }\n",
       "</style>\n",
       "<table border=\"1\" class=\"dataframe\">\n",
       "  <thead>\n",
       "    <tr style=\"text-align: right;\">\n",
       "      <th></th>\n",
       "      <th>VMtype</th>\n",
       "      <th>attempts</th>\n",
       "      <th>cost</th>\n",
       "      <th>dstat_log</th>\n",
       "      <th>dstat_msg</th>\n",
       "      <th>dstat_status</th>\n",
       "      <th>dup</th>\n",
       "      <th>exp_vm</th>\n",
       "      <th>fq2urg_gatkid</th>\n",
       "      <th>job</th>\n",
       "      <th>runtime</th>\n",
       "      <th>sample</th>\n",
       "      <th>unit_cost</th>\n",
       "      <th>unit_runtime</th>\n",
       "    </tr>\n",
       "  </thead>\n",
       "  <tbody>\n",
       "    <tr>\n",
       "      <th>337</th>\n",
       "      <td>custom-2-7680</td>\n",
       "      <td>None</td>\n",
       "      <td>0.00</td>\n",
       "      <td>gs://gbsc-gcp-project-mvp-test-from-personalis...</td>\n",
       "      <td>Success</td>\n",
       "      <td>SUCCESS</td>\n",
       "      <td>None</td>\n",
       "      <td>1.00</td>\n",
       "      <td>0</td>\n",
       "      <td>FQ2U</td>\n",
       "      <td>53.00</td>\n",
       "      <td>SHIP4946367</td>\n",
       "      <td>0.00</td>\n",
       "      <td>None</td>\n",
       "    </tr>\n",
       "    <tr>\n",
       "      <th>238</th>\n",
       "      <td>custom-2-7680</td>\n",
       "      <td>None</td>\n",
       "      <td>0.00</td>\n",
       "      <td>gs://gbsc-gcp-project-mvp-test-from-personalis...</td>\n",
       "      <td>Success</td>\n",
       "      <td>SUCCESS</td>\n",
       "      <td>None</td>\n",
       "      <td>1.00</td>\n",
       "      <td>1</td>\n",
       "      <td>FQ2U</td>\n",
       "      <td>54.00</td>\n",
       "      <td>SHIP4946367</td>\n",
       "      <td>0.00</td>\n",
       "      <td>None</td>\n",
       "    </tr>\n",
       "    <tr>\n",
       "      <th>379</th>\n",
       "      <td>custom-2-7680</td>\n",
       "      <td>None</td>\n",
       "      <td>0.00</td>\n",
       "      <td>gs://gbsc-gcp-project-mvp-test-from-personalis...</td>\n",
       "      <td>Success</td>\n",
       "      <td>SUCCESS</td>\n",
       "      <td>None</td>\n",
       "      <td>1.00</td>\n",
       "      <td>2</td>\n",
       "      <td>FQ2U</td>\n",
       "      <td>53.00</td>\n",
       "      <td>SHIP4946367</td>\n",
       "      <td>0.00</td>\n",
       "      <td>None</td>\n",
       "    </tr>\n",
       "    <tr>\n",
       "      <th>341</th>\n",
       "      <td>custom-2-7680</td>\n",
       "      <td>None</td>\n",
       "      <td>0.00</td>\n",
       "      <td>gs://gbsc-gcp-project-mvp-test-from-personalis...</td>\n",
       "      <td>Success</td>\n",
       "      <td>SUCCESS</td>\n",
       "      <td>None</td>\n",
       "      <td>1.00</td>\n",
       "      <td>3</td>\n",
       "      <td>FQ2U</td>\n",
       "      <td>52.00</td>\n",
       "      <td>SHIP4946367</td>\n",
       "      <td>0.00</td>\n",
       "      <td>None</td>\n",
       "    </tr>\n",
       "    <tr>\n",
       "      <th>107</th>\n",
       "      <td>custom-2-12288</td>\n",
       "      <td>None</td>\n",
       "      <td>nan</td>\n",
       "      <td>gs://gbsc-gcp-project-mvp-test-from-personalis...</td>\n",
       "      <td>Success</td>\n",
       "      <td>SUCCESS</td>\n",
       "      <td>None</td>\n",
       "      <td>nan</td>\n",
       "      <td>aeac1b5a-8a63-4014-8771-93efca54bdcd</td>\n",
       "      <td>GATK</td>\n",
       "      <td>1350.00</td>\n",
       "      <td>SHIP4946367</td>\n",
       "      <td>nan</td>\n",
       "      <td>None</td>\n",
       "    </tr>\n",
       "    <tr>\n",
       "      <th>...</th>\n",
       "      <td>...</td>\n",
       "      <td>...</td>\n",
       "      <td>...</td>\n",
       "      <td>...</td>\n",
       "      <td>...</td>\n",
       "      <td>...</td>\n",
       "      <td>...</td>\n",
       "      <td>...</td>\n",
       "      <td>...</td>\n",
       "      <td>...</td>\n",
       "      <td>...</td>\n",
       "      <td>...</td>\n",
       "      <td>...</td>\n",
       "      <td>...</td>\n",
       "    </tr>\n",
       "    <tr>\n",
       "      <th>942</th>\n",
       "      <td>custom-16-14848</td>\n",
       "      <td>7</td>\n",
       "      <td>nan</td>\n",
       "      <td>gs://gbsc-gcp-project-mvp-test-from-personalis...</td>\n",
       "      <td>Success</td>\n",
       "      <td>SUCCESS</td>\n",
       "      <td>None</td>\n",
       "      <td>4.00</td>\n",
       "      <td>439b1b52-b16d-41e8-af5f-22b88bdfc7dd</td>\n",
       "      <td>samtofastqandbwamemandmba</td>\n",
       "      <td>329.73</td>\n",
       "      <td>SHIP5141934</td>\n",
       "      <td>nan</td>\n",
       "      <td>142.71</td>\n",
       "    </tr>\n",
       "    <tr>\n",
       "      <th>486</th>\n",
       "      <td>custom-1-2048</td>\n",
       "      <td>1</td>\n",
       "      <td>nan</td>\n",
       "      <td>gs://gbsc-gcp-project-mvp-test-from-personalis...</td>\n",
       "      <td>Success</td>\n",
       "      <td>SUCCESS</td>\n",
       "      <td>None</td>\n",
       "      <td>1.00</td>\n",
       "      <td>439b1b52-b16d-41e8-af5f-22b88bdfc7dd</td>\n",
       "      <td>scatterintervallist</td>\n",
       "      <td>4.02</td>\n",
       "      <td>SHIP5141934</td>\n",
       "      <td>nan</td>\n",
       "      <td>4.00</td>\n",
       "    </tr>\n",
       "    <tr>\n",
       "      <th>2760</th>\n",
       "      <td>custom-2-5120</td>\n",
       "      <td>2</td>\n",
       "      <td>nan</td>\n",
       "      <td>gs://gbsc-gcp-project-mvp-test-from-personalis...</td>\n",
       "      <td>Success</td>\n",
       "      <td>SUCCESS</td>\n",
       "      <td>None</td>\n",
       "      <td>1.00</td>\n",
       "      <td>439b1b52-b16d-41e8-af5f-22b88bdfc7dd</td>\n",
       "      <td>sortsamplebam</td>\n",
       "      <td>306.87</td>\n",
       "      <td>SHIP5141934</td>\n",
       "      <td>nan</td>\n",
       "      <td>150.00</td>\n",
       "    </tr>\n",
       "    <tr>\n",
       "      <th>1852</th>\n",
       "      <td>custom-2-10240</td>\n",
       "      <td>1</td>\n",
       "      <td>nan</td>\n",
       "      <td>gs://gbsc-gcp-project-mvp-test-from-personalis...</td>\n",
       "      <td>Success</td>\n",
       "      <td>SUCCESS</td>\n",
       "      <td>None</td>\n",
       "      <td>1.00</td>\n",
       "      <td>439b1b52-b16d-41e8-af5f-22b88bdfc7dd</td>\n",
       "      <td>sumfloats</td>\n",
       "      <td>3.20</td>\n",
       "      <td>SHIP5141934</td>\n",
       "      <td>nan</td>\n",
       "      <td>3.00</td>\n",
       "    </tr>\n",
       "    <tr>\n",
       "      <th>5718</th>\n",
       "      <td>custom-2-7168</td>\n",
       "      <td>1</td>\n",
       "      <td>nan</td>\n",
       "      <td>gs://gbsc-gcp-project-mvp-test-from-personalis...</td>\n",
       "      <td>Success</td>\n",
       "      <td>SUCCESS</td>\n",
       "      <td>None</td>\n",
       "      <td>1.00</td>\n",
       "      <td>439b1b52-b16d-41e8-af5f-22b88bdfc7dd</td>\n",
       "      <td>validatecram</td>\n",
       "      <td>128.10</td>\n",
       "      <td>SHIP5141934</td>\n",
       "      <td>nan</td>\n",
       "      <td>128.00</td>\n",
       "    </tr>\n",
       "  </tbody>\n",
       "</table>\n",
       "<p>7818 rows × 14 columns</p>\n",
       "</div>"
      ],
      "text/plain": [
       "               VMtype attempts  cost  \\\n",
       "337     custom-2-7680     None  0.00   \n",
       "238     custom-2-7680     None  0.00   \n",
       "379     custom-2-7680     None  0.00   \n",
       "341     custom-2-7680     None  0.00   \n",
       "107    custom-2-12288     None   nan   \n",
       "...               ...      ...   ...   \n",
       "942   custom-16-14848        7   nan   \n",
       "486     custom-1-2048        1   nan   \n",
       "2760    custom-2-5120        2   nan   \n",
       "1852   custom-2-10240        1   nan   \n",
       "5718    custom-2-7168        1   nan   \n",
       "\n",
       "                                              dstat_log dstat_msg  \\\n",
       "337   gs://gbsc-gcp-project-mvp-test-from-personalis...   Success   \n",
       "238   gs://gbsc-gcp-project-mvp-test-from-personalis...   Success   \n",
       "379   gs://gbsc-gcp-project-mvp-test-from-personalis...   Success   \n",
       "341   gs://gbsc-gcp-project-mvp-test-from-personalis...   Success   \n",
       "107   gs://gbsc-gcp-project-mvp-test-from-personalis...   Success   \n",
       "...                                                 ...       ...   \n",
       "942   gs://gbsc-gcp-project-mvp-test-from-personalis...   Success   \n",
       "486   gs://gbsc-gcp-project-mvp-test-from-personalis...   Success   \n",
       "2760  gs://gbsc-gcp-project-mvp-test-from-personalis...   Success   \n",
       "1852  gs://gbsc-gcp-project-mvp-test-from-personalis...   Success   \n",
       "5718  gs://gbsc-gcp-project-mvp-test-from-personalis...   Success   \n",
       "\n",
       "     dstat_status   dup  exp_vm                         fq2urg_gatkid  \\\n",
       "337       SUCCESS  None    1.00                                     0   \n",
       "238       SUCCESS  None    1.00                                     1   \n",
       "379       SUCCESS  None    1.00                                     2   \n",
       "341       SUCCESS  None    1.00                                     3   \n",
       "107       SUCCESS  None     nan  aeac1b5a-8a63-4014-8771-93efca54bdcd   \n",
       "...           ...   ...     ...                                   ...   \n",
       "942       SUCCESS  None    4.00  439b1b52-b16d-41e8-af5f-22b88bdfc7dd   \n",
       "486       SUCCESS  None    1.00  439b1b52-b16d-41e8-af5f-22b88bdfc7dd   \n",
       "2760      SUCCESS  None    1.00  439b1b52-b16d-41e8-af5f-22b88bdfc7dd   \n",
       "1852      SUCCESS  None    1.00  439b1b52-b16d-41e8-af5f-22b88bdfc7dd   \n",
       "5718      SUCCESS  None    1.00  439b1b52-b16d-41e8-af5f-22b88bdfc7dd   \n",
       "\n",
       "                            job  runtime       sample  unit_cost unit_runtime  \n",
       "337                        FQ2U    53.00  SHIP4946367       0.00         None  \n",
       "238                        FQ2U    54.00  SHIP4946367       0.00         None  \n",
       "379                        FQ2U    53.00  SHIP4946367       0.00         None  \n",
       "341                        FQ2U    52.00  SHIP4946367       0.00         None  \n",
       "107                        GATK  1350.00  SHIP4946367        nan         None  \n",
       "...                         ...      ...          ...        ...          ...  \n",
       "942   samtofastqandbwamemandmba   329.73  SHIP5141934        nan       142.71  \n",
       "486         scatterintervallist     4.02  SHIP5141934        nan         4.00  \n",
       "2760              sortsamplebam   306.87  SHIP5141934        nan       150.00  \n",
       "1852                  sumfloats     3.20  SHIP5141934        nan         3.00  \n",
       "5718               validatecram   128.10  SHIP5141934        nan       128.00  \n",
       "\n",
       "[7818 rows x 14 columns]"
      ]
     },
     "metadata": {},
     "output_type": "display_data"
    }
   ],
   "source": [
    "job_df=pd.concat([job_fq2u,job_gatk,job_gatk_stepm]).sort_values(['sample','job','fq2urg_gatkid'])\n",
    "display(job_df)"
   ]
  },
  {
   "cell_type": "markdown",
   "metadata": {},
   "source": [
    "-------\n",
    "## Cost"
   ]
  },
  {
   "cell_type": "markdown",
   "metadata": {},
   "source": [
    "### unit_cost"
   ]
  },
  {
   "cell_type": "code",
   "execution_count": 146,
   "metadata": {},
   "outputs": [],
   "source": [
    "## Custom CPU cost : 0.033174/CPU/Hour, # Custom Mem cost : 0.004446/GB/Hour, # Custom Disk cost : ???\n",
    "cpu_sd_cost = 0.033174\n",
    "memg_sd_cost = 0.004446\n",
    "\n",
    "cpu_pem_cost = 0.00698\n",
    "memg_pem_cost = 0.00094\n",
    "\n",
    "## Extract cpu and mem info.\n",
    "#temp=job_df.loc[:,['job','VMtype']]\n",
    "job_df.loc[:,'vm_type']=None\n",
    "job_df.loc[:,'cpu']=0\n",
    "job_df.loc[:,'mem']=0\n",
    "job_df[['vm_type','cpu','mem']]=[i.split('-') for i in job_df['VMtype']]\n",
    "job_df['cpu']=[int(x) for x in job_df['cpu']]\n",
    "job_df['mem']=[int(x) for x in job_df['mem']]\n",
    "#columnlist=['job','VMtype','vm_type','cpu','mem']\n",
    "#temp=temp[columnlist]"
   ]
  },
  {
   "cell_type": "code",
   "execution_count": 149,
   "metadata": {},
   "outputs": [],
   "source": [
    "# FQ2U and GATK job unit cost with Standard VM\n",
    "job_df.loc[job_df['job'].isin(['FQ2U','GATK']),'unit_cost']= np.array(job_df.loc[job_df['job'].isin(['FQ2U','GATK']),'cpu'])*cpu_sd_cost/60 + np.array(job_df.loc[job_df['job'].isin(['FQ2U','GATK']),'mem'])*memg_sd_cost/60/1000\n",
    "# GATK sub jobs' unit cost with Preemptible VM\n",
    "job_df.loc[job_df['job'].isin(['FQ2U','GATK'])==False,'unit_cost']=np.array(job_df.loc[job_df['job'].isin(['FQ2U','GATK'])==False,'cpu'])*cpu_pem_cost/60 + np.array(job_df.loc[job_df['job'].isin(['FQ2U','GATK'])==False,'mem'])*memg_pem_cost/60/1000"
   ]
  },
  {
   "cell_type": "markdown",
   "metadata": {},
   "source": [
    "### job cost"
   ]
  },
  {
   "cell_type": "code",
   "execution_count": 150,
   "metadata": {},
   "outputs": [],
   "source": [
    "pd.set_option('display.float_format', lambda x: '%.8f' % x)\n",
    "\n",
    "## FQ2U\n",
    "job_df.loc[job_df['job']=='FQ2U','cost']=np.array(job_df.loc[job_df['job']=='FQ2U','runtime'])*np.array(job_df.loc[job_df['job']=='FQ2U','unit_cost'])\n",
    "#merged_cost_df.head(2)\n",
    "\n",
    "## GATK\n",
    "job_df.loc[job_df['job']=='GATK','cost']=np.array(job_df.loc[job_df['job']=='GATK','runtime'])*np.array(job_df.loc[job_df['job']=='GATK','unit_cost'])\n",
    "#merged_cost_df[merged_cost_df['job']=='GATK'].head(2)\n",
    "\n",
    "## GATK steps\n",
    "job_df.loc[(job_df['job']!='FQ2U') & (job_df['job']!='GATK'),'cost']=np.array(job_df.loc[(job_df['job']!='FQ2U') & (job_df['job']!='GATK'),'attempts']) \\\n",
    "*np.array(job_df.loc[(job_df['job']!='FQ2U') & (job_df['job']!='GATK'),'unit_runtime'])*np.array(job_df.loc[(job_df['job']!='FQ2U') & (job_df['job']!='GATK'),'unit_cost'])"
   ]
  },
  {
   "cell_type": "code",
   "execution_count": 151,
   "metadata": {},
   "outputs": [],
   "source": [
    "columnlist=['sample','job','fq2urg_gatkid','dup','exp_vm','attempts','runtime','unit_runtime','VMtype','unit_cost','cost','dstat_status','dstat_msg','dstat_log']\n",
    "job_df=job_df[columnlist]\n",
    "job_df.to_csv('job-based-analysis-v057-test2-v01.csv',index=False)"
   ]
  },
  {
   "cell_type": "markdown",
   "metadata": {},
   "source": [
    "### Upload CSV Files to BigQuery"
   ]
  },
  {
   "cell_type": "code",
   "execution_count": 152,
   "metadata": {},
   "outputs": [
    {
     "name": "stderr",
     "output_type": "stream",
     "text": [
      "1it [00:11, 11.20s/it]\n"
     ]
    }
   ],
   "source": [
    "table_id='mvp_wgs35_v057_2.job_based_analysis'\n",
    "projectid='gbsc-gcp-project-mvp-test'\n",
    "\n",
    "pandas_gbq.to_gbq(\n",
    "    job_df, table_id, project_id=projectid, if_exists='replace',\n",
    ")"
   ]
  },
  {
   "cell_type": "code",
   "execution_count": null,
   "metadata": {},
   "outputs": [],
   "source": []
  }
 ],
 "metadata": {
  "kernelspec": {
   "display_name": "Python 3",
   "language": "python",
   "name": "python3"
  },
  "language_info": {
   "codemirror_mode": {
    "name": "ipython",
    "version": 3
   },
   "file_extension": ".py",
   "mimetype": "text/x-python",
   "name": "python",
   "nbconvert_exporter": "python",
   "pygments_lexer": "ipython3",
   "version": "3.5.3"
  }
 },
 "nbformat": 4,
 "nbformat_minor": 4
}
