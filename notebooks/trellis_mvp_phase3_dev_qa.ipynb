{
 "cells": [
  {
   "cell_type": "markdown",
   "metadata": {},
   "source": [
    "# Neo4J Trellis v1.2: Sample based Analysis\n",
    "\n",
    "    -  Check the success case only based on outputs\n",
    "    -  Load the account info from Google Cloud Storage\n",
    "    -  Remove Duplicate jobs and Duplicate jobs and nodes status\n",
    "    -  Add 'dup' column with the number of dupilcated jobs\n",
    "    \n",
    "================"
   ]
  },
  {
   "cell_type": "code",
   "execution_count": null,
   "metadata": {},
   "outputs": [],
   "source": [
    "!pip3 install py2neo\n",
    "\n",
    "# *** add python path of py2neo in system\n",
    "\n",
    "!pip3 install neotime\n",
    "!pip3 install neobolt\n",
    "!pip3 install pandas-gbq\n",
    "\n",
    "!pip3 install papermill\n",
    "\n",
    "!pip3 install google-cloud-storage\n",
    "!pip3 install matplotlib\n",
    "!pip3 install seaborn\n",
    "!pip3 install fsspec\n",
    "!pip3 install gcsfs"
   ]
  },
  {
   "cell_type": "code",
   "execution_count": null,
   "metadata": {},
   "outputs": [],
   "source": [
    "import py2neo as neo\n",
    "from py2neo import Graph\n",
    "\n",
    "from google.cloud import storage\n",
    "import yaml\n",
    "\n",
    "import pandas as pd\n",
    "import pandas_gbq\n",
    "\n",
    "import time\n",
    "import numpy as np\n",
    "import subprocess\n",
    "import matplotlib \n",
    "import matplotlib.pyplot as plt\n",
    "import seaborn as sns\n",
    "from google.cloud import bigquery\n",
    "\n",
    "pd.set_option('display.float_format', lambda x: '%.2f' % x)"
   ]
  },
  {
   "cell_type": "markdown",
   "metadata": {},
   "source": [
    "## Connect to Neo4j database"
   ]
  },
  {
   "cell_type": "code",
   "execution_count": null,
   "metadata": {},
   "outputs": [],
   "source": [
    "# Load this from environment variables?\n",
    "bucket_info=''\n",
    "credential_info=''"
   ]
  },
  {
   "cell_type": "code",
   "execution_count": null,
   "metadata": {},
   "outputs": [],
   "source": [
    "## Option 1 : Read DB and Account Information in Google Storage (YAML)\n",
    "\n",
    "# create storage client\n",
    "storage_client = storage.Client()\n",
    "# get bucket with name\n",
    "bucket = storage_client.get_bucket(bucket_info)\n",
    "# get bucket data as blob\n",
    "blob = bucket.get_blob(credential_info)\n",
    "# convert to string\n",
    "yaml_data = blob.download_as_string()\n",
    "\n",
    "account = yaml.load(yaml_data, Loader=yaml.FullLoader)\n",
    "\n",
    "## Main Account\n",
    "graph = Graph(account['NEO4J_SCHEME']+'://'+account['NEO4J_HOST']+\":\"+str(account['NEO4J_PORT']), auth=(account['NEO4J_USER'],account['NEO4J_PASSPHRASE']))"
   ]
  },
  {
   "cell_type": "markdown",
   "metadata": {},
   "source": [
    "## Data import queries"
   ]
  },
  {
   "cell_type": "markdown",
   "metadata": {},
   "source": [
    "### Count nodes"
   ]
  },
  {
   "cell_type": "code",
   "execution_count": 2,
   "metadata": {},
   "outputs": [],
   "source": [
    "query = '''\n",
    "    MATCH (s:Sample)\n",
    "    RETURN COUNT(s)\n",
    "'''\n",
    "start = time.time()\n",
    "result = graph.run(query).to_data_frame()\n",
    "end = time.time()\n",
    "print(end - start)"
   ]
  },
  {
   "cell_type": "code",
   "execution_count": 1,
   "metadata": {},
   "outputs": [],
   "source": [
    "query = '''\n",
    "    MATCH (s:Sample)\n",
    "    WITH s.sample AS sample, COLLECT(s) AS samples\n",
    "    WHERE size(samples) <> 1\n",
    "    RETURN sample, size(samples)\n",
    "'''\n",
    "start = time.time()\n",
    "result = graph.run(query).to_data_frame()\n",
    "end = time.time()\n",
    "print(end - start)"
   ]
  },
  {
   "cell_type": "code",
   "execution_count": null,
   "metadata": {},
   "outputs": [],
   "source": [
    "query = '''\n",
    "    MATCH (f:Fastq)\n",
    "    WITH f.sample AS sample, COLLECT(f) AS fastqs\n",
    "    RETURN sample, size(fastqs)\n",
    "'''\n",
    "start = time.time()\n",
    "result = graph.run(query).to_data_frame()\n",
    "end = time.time()\n",
    "print(end - start)"
   ]
  },
  {
   "cell_type": "code",
   "execution_count": null,
   "metadata": {},
   "outputs": [],
   "source": [
    "query = '''\n",
    "    MATCH (p:PersonalisSequencing)\n",
    "    WITH p.sample AS sample, COLLECT(p) AS seqs\n",
    "    WHERE size(seqs) <> 1\n",
    "    RETURN sample, size(seqs)\n",
    "'''\n",
    "start = time.time()\n",
    "result = graph.run(query).to_data_frame()\n",
    "end = time.time()\n",
    "print(end - start)"
   ]
  },
  {
   "cell_type": "code",
   "execution_count": null,
   "metadata": {},
   "outputs": [],
   "source": [
    "query = '''\n",
    "    MATCH (p:Person)\n",
    "    WITH p.sample AS sample, COLLECT(p) AS persons\n",
    "    WHERE size(persons) <> 1\n",
    "    RETURN sample, size(persons)\n",
    "'''\n",
    "start = time.time()\n",
    "result = graph.run(query).to_data_frame()\n",
    "end = time.time()\n",
    "print(end - start)"
   ]
  },
  {
   "cell_type": "code",
   "execution_count": null,
   "metadata": {},
   "outputs": [],
   "source": [
    "query = '''\n",
    "    MATCH (g:BiologicalOme:Genome)\n",
    "    WITH g.sample AS sample, COLLECT(g) AS genomes\n",
    "    WHERE size(genomes) <> 1\n",
    "    RETURN sample, size(genomes)\n",
    "'''\n",
    "start = time.time()\n",
    "result = graph.run(query).to_data_frame()\n",
    "end = time.time()\n",
    "print(end - start)"
   ]
  },
  {
   "cell_type": "markdown",
   "metadata": {},
   "source": [
    "### Compare the number of (:Genome)-[]->(:Fastq) relationships to (:Sequencing)-[]->(:Fastq) ones as cross validation"
   ]
  },
  {
   "cell_type": "code",
   "execution_count": 1,
   "metadata": {},
   "outputs": [
    {
     "ename": "NameError",
     "evalue": "name 'time' is not defined",
     "output_type": "error",
     "traceback": [
      "\u001b[0;31m---------------------------------------------------------------------------\u001b[0m",
      "\u001b[0;31mNameError\u001b[0m                                 Traceback (most recent call last)",
      "\u001b[0;32m<ipython-input-1-c72945cd6281>\u001b[0m in \u001b[0;36m<module>\u001b[0;34m\u001b[0m\n\u001b[1;32m      7\u001b[0m     \u001b[0mRETURN\u001b[0m \u001b[0msample\u001b[0m\u001b[0;34m,\u001b[0m \u001b[0msize\u001b[0m\u001b[0;34m(\u001b[0m\u001b[0mbio_fastqs\u001b[0m\u001b[0;34m)\u001b[0m\u001b[0;34m,\u001b[0m \u001b[0msize\u001b[0m\u001b[0;34m(\u001b[0m\u001b[0mprov_fastqs\u001b[0m\u001b[0;34m)\u001b[0m\u001b[0;34m\u001b[0m\u001b[0;34m\u001b[0m\u001b[0m\n\u001b[1;32m      8\u001b[0m '''\n\u001b[0;32m----> 9\u001b[0;31m \u001b[0mstart\u001b[0m \u001b[0;34m=\u001b[0m \u001b[0mtime\u001b[0m\u001b[0;34m.\u001b[0m\u001b[0mtime\u001b[0m\u001b[0;34m(\u001b[0m\u001b[0;34m)\u001b[0m\u001b[0;34m\u001b[0m\u001b[0;34m\u001b[0m\u001b[0m\n\u001b[0m\u001b[1;32m     10\u001b[0m \u001b[0mresult\u001b[0m \u001b[0;34m=\u001b[0m \u001b[0mgraph\u001b[0m\u001b[0;34m.\u001b[0m\u001b[0mrun\u001b[0m\u001b[0;34m(\u001b[0m\u001b[0mquery\u001b[0m\u001b[0;34m)\u001b[0m\u001b[0;34m.\u001b[0m\u001b[0mto_data_frame\u001b[0m\u001b[0;34m(\u001b[0m\u001b[0;34m)\u001b[0m\u001b[0;34m\u001b[0m\u001b[0;34m\u001b[0m\u001b[0m\n\u001b[1;32m     11\u001b[0m \u001b[0mend\u001b[0m \u001b[0;34m=\u001b[0m \u001b[0mtime\u001b[0m\u001b[0;34m.\u001b[0m\u001b[0mtime\u001b[0m\u001b[0;34m(\u001b[0m\u001b[0;34m)\u001b[0m\u001b[0;34m\u001b[0m\u001b[0;34m\u001b[0m\u001b[0m\n",
      "\u001b[0;31mNameError\u001b[0m: name 'time' is not defined"
     ]
    }
   ],
   "source": [
    "query = '''\n",
    "    MATCH (s:Sample)<-[:GENERATED]-(:Person)-[:HAS_BIOLOGICAL_OME|HAS_SEQUENCING_READS*2]->(f1:Fastq)\n",
    "    WITH s.sample AS sample, COLLECT(f1) AS bio_fastqs\n",
    "    MATCH (s:Sample)-[:WAS_USED_BY|GENERATED*2]->(f2:Fastq)\n",
    "    WHERE s.sample = sample\n",
    "    WITH sample, bio_fastqs, COLLECT(f2) AS prov_fastqs\n",
    "    WHERE size(bio_fastqs) <> size(prov_fastqs)\n",
    "    RETURN sample, size(bio_fastqs), size(prov_fastqs)\n",
    "'''\n",
    "start = time.time()\n",
    "result = graph.run(query).to_data_frame()\n",
    "end = time.time()\n",
    "print(end - start)\n",
    "\n",
    "num_fastq.set_index('sample')"
   ]
  },
  {
   "cell_type": "code",
   "execution_count": 3,
   "metadata": {},
   "outputs": [
    {
     "ename": "SyntaxError",
     "evalue": "EOF while scanning triple-quoted string literal (<ipython-input-3-54c20ea3f3cc>, line 8)",
     "output_type": "error",
     "traceback": [
      "\u001b[0;36m  File \u001b[0;32m\"<ipython-input-3-54c20ea3f3cc>\"\u001b[0;36m, line \u001b[0;32m8\u001b[0m\n\u001b[0;31m    num_fastq.set_index('sample')\u001b[0m\n\u001b[0m                                 \n^\u001b[0m\n\u001b[0;31mSyntaxError\u001b[0m\u001b[0;31m:\u001b[0m EOF while scanning triple-quoted string literal\n"
     ]
    }
   ],
   "source": [
    "query = '''\n",
    "    MATCH (g:Genome)-[:HAS_SEQUENCING_READS]->(f:Fastq)\n",
    "    RETURN g.sample, COUNT(g), COUNT(f)\n",
    "'''\n",
    "start = time.time()\n",
    "result = graph.run(query).to_data_frame()\n",
    "end = time.time()\n",
    "print(end - start)\n",
    "\n",
    "num_fastq.set_index('sample')"
   ]
  },
  {
   "cell_type": "markdown",
   "metadata": {},
   "source": [
    "## Post-variant calling queries"
   ]
  },
  {
   "cell_type": "code",
   "execution_count": null,
   "metadata": {},
   "outputs": [],
   "source": [
    "query = '''\n",
    "    MATCH (g:Genome)-[r]->(f)\n",
    "    RETURN type(r), labels(f), COUNT(f)\n",
    "'''\n",
    "start = time.time()\n",
    "result = graph.run(query).to_data_frame()\n",
    "end = time.time()\n",
    "print(end - start)"
   ]
  },
  {
   "cell_type": "code",
   "execution_count": null,
   "metadata": {},
   "outputs": [],
   "source": [
    "query = '''\n",
    "    MATCH (g)-[r:HAS_INDEX]->(f)\n",
    "    RETURN labels(g), labels(f), COUNT(r)\n",
    "'''\n",
    "start = time.time()\n",
    "result = graph.run(query).to_data_frame()\n",
    "end = time.time()\n",
    "print(end - start)"
   ]
  },
  {
   "cell_type": "code",
   "execution_count": null,
   "metadata": {},
   "outputs": [],
   "source": [
    "query = '''\n",
    "    MATCH (s:Sample)\n",
    "    RETURN s.trellis_snvQa, COUNT(s)\n",
    "'''\n",
    "start = time.time()\n",
    "result = graph.run(query).to_data_frame()\n",
    "end = time.time()\n",
    "print(end - start)"
   ]
  },
  {
   "cell_type": "code",
   "execution_count": null,
   "metadata": {},
   "outputs": [],
   "source": [
    "# Count the number of objects connected to the genome node and check that they still exist\n",
    "query = '''\n",
    "    MATCH (:Genome)-[]->(b)\n",
    "    RETURN b.obj_exists, COUNT(b)\n",
    "'''"
   ]
  },
  {
   "cell_type": "code",
   "execution_count": null,
   "metadata": {},
   "outputs": [],
   "source": [
    "# Make sure indexes haven't been deleted\n",
    "query = '''\n",
    "    MATCH ()-[:HAS_INDEX]->(b)\n",
    "    RETURN b.obj_exists, COUNT(b)\n",
    "'''"
   ]
  }
 ],
 "metadata": {
  "kernelspec": {
   "display_name": "Python 3",
   "language": "python",
   "name": "python3"
  },
  "language_info": {
   "codemirror_mode": {
    "name": "ipython",
    "version": 3
   },
   "file_extension": ".py",
   "mimetype": "text/x-python",
   "name": "python",
   "nbconvert_exporter": "python",
   "pygments_lexer": "ipython3",
   "version": "3.7.4"
  }
 },
 "nbformat": 4,
 "nbformat_minor": 4
}
