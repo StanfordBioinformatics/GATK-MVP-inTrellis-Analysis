{
 "cells": [
  {
   "cell_type": "markdown",
   "metadata": {},
   "source": [
    "Neo4J v053 Test2 - Sample Based Analysis V01 (Node-Based Results Only)\n",
    "================"
   ]
  },
  {
   "cell_type": "markdown",
   "metadata": {},
   "source": [
    "## Set up the environment\n"
   ]
  },
  {
   "cell_type": "markdown",
   "metadata": {},
   "source": [
    "### Install py2neo for querying Neo4J "
   ]
  },
  {
   "cell_type": "code",
   "execution_count": 21,
   "metadata": {},
   "outputs": [],
   "source": [
    "#!pip3 install py2neo"
   ]
  },
  {
   "cell_type": "markdown",
   "metadata": {},
   "source": [
    "### Import Packages"
   ]
  },
  {
   "cell_type": "code",
   "execution_count": 22,
   "metadata": {},
   "outputs": [],
   "source": [
    "from py2neo import Graph\n",
    "import pandas as pd\n",
    "import numpy as np\n",
    "import subprocess\n",
    "import matplotlib \n",
    "import matplotlib.pyplot as plt\n",
    "import seaborn as sns\n",
    "\n",
    "#plt.style.use('fivethirtyeight')\n",
    "#plt.style.use('ggplot')\n",
    "pd.set_option('display.float_format', lambda x: '%.f' % x)"
   ]
  },
  {
   "cell_type": "markdown",
   "metadata": {},
   "source": [
    "### Load Neo4J DB"
   ]
  },
  {
   "cell_type": "code",
   "execution_count": 23,
   "metadata": {},
   "outputs": [],
   "source": [
    "graph = Graph(\"bolt://35.230.80.57:7687\", auth=(\"neo4j\", \"bZjcc1XTd71ft2oVGj7A8aU8UkttdBhRAecV4x6USC3wpeOLmCmfCAH2bAMllQQlwtzCbzLuX1TgoX-Enc7MUA\"))"
   ]
  },
  {
   "cell_type": "markdown",
   "metadata": {},
   "source": [
    "## Generate Sample Status Table"
   ]
  },
  {
   "cell_type": "markdown",
   "metadata": {},
   "source": [
    "### The number of nodes (Fastq, Ubam, Vcf, Cram, Crai) "
   ]
  },
  {
   "cell_type": "code",
   "execution_count": 24,
   "metadata": {},
   "outputs": [
    {
     "name": "stdout",
     "output_type": "stream",
     "text": [
      "\n"
     ]
    }
   ],
   "source": [
    "# Fastq\n",
    "query = \"Match (j:Json:FromPersonalis), (f:Fastq) WHERE f.sample = j.sample RETURN j.sample AS sample, count(f) AS fastq\"\n",
    "num_fastq = graph.run(query).to_data_frame()\n",
    "num_fastq.set_index('sample')\n",
    "\n",
    "# Ubam\n",
    "query = \"Match (j:Json:FromPersonalis), (u:Ubam) WHERE u.sample = j.sample RETURN DISTINCT j.sample AS sample, count(u) AS ubam\"\n",
    "num_ubam = graph.run(query).to_data_frame()\n",
    "num_ubam.set_index('sample')\n",
    "\n",
    "# Vcf\n",
    "query = \"Match (j:Json:FromPersonalis), (v:Merged:Vcf) WHERE v.sample = j.sample RETURN DISTINCT j.sample AS sample, count(v) AS vcf\"\n",
    "num_vcf = graph.run(query).to_data_frame()\n",
    "num_vcf.set_index('sample')\n",
    "\n",
    "# Cram\n",
    "query = \"Match (j:Json:FromPersonalis), (cm:Cram) WHERE cm.sample = j.sample RETURN DISTINCT j.sample AS sample, count(cm) AS cram\"\n",
    "num_cram = graph.run(query).to_data_frame()\n",
    "num_cram.set_index('sample')\n",
    "\n",
    "# Crai\n",
    "query = \"Match (j:Json:FromPersonalis), (ci:Crai) WHERE ci.sample = j.sample RETURN DISTINCT j.sample AS sample, count(ci) AS crai\"\n",
    "num_crai = graph.run(query).to_data_frame()\n",
    "num_crai.set_index('sample')\n",
    "print(\"\")"
   ]
  },
  {
   "cell_type": "markdown",
   "metadata": {},
   "source": [
    "### The number of jobs (FQ2U, GATK) "
   ]
  },
  {
   "cell_type": "code",
   "execution_count": 25,
   "metadata": {},
   "outputs": [
    {
     "name": "stdout",
     "output_type": "stream",
     "text": [
      "\n"
     ]
    }
   ],
   "source": [
    "# Fq2u\n",
    "query = \"Match (j:Json:FromPersonalis), (e:Job:Dsub {name:'fastq-to-ubam'}) WHERE e.sample = j.sample RETURN j.sample AS sample, count(e) AS fq2u\"\n",
    "num_fq2u = graph.run(query).to_data_frame()\n",
    "num_fq2u.set_index('sample')\n",
    "\n",
    "# Gatk\n",
    "query = \"Match (j:Json:FromPersonalis), (g:Job:Cromwell) WHERE g.sample = j.sample RETURN j.sample AS sample, count(g) AS gatk\"\n",
    "num_gatk = graph.run(query).to_data_frame()\n",
    "num_gatk.set_index('sample')\n",
    "print(\"\")"
   ]
  },
  {
   "cell_type": "markdown",
   "metadata": {},
   "source": [
    "### Merge all node and job dfs to one df"
   ]
  },
  {
   "cell_type": "code",
   "execution_count": 26,
   "metadata": {},
   "outputs": [
    {
     "name": "stdout",
     "output_type": "stream",
     "text": [
      "The number of samples : 1330\n",
      "\n"
     ]
    }
   ],
   "source": [
    "#-- only nodes\n",
    "#sample_qc_df=num_fastq.merge(num_ubam, how='outer').merge(num_vcf, how='outer').merge(num_cram, how='outer').merge(num_crai, how='outer')\n",
    "#columnlist=[\"sample\",\"fastq\",\"ubam\",\"vcf\",\"cram\",\"crai\"]\n",
    "\n",
    "#-- nodes and jobs\n",
    "sample_qc_df=num_fastq.merge(num_ubam, how='outer').merge(num_vcf, how='outer').merge(num_cram, how='outer').merge(num_crai, how='outer').merge(num_fq2u,how='outer').merge(num_gatk,how='outer')\n",
    "columnlist=[\"sample\",\"fastq\",\"ubam\",\"vcf\",\"cram\",\"crai\",\"fq2u\",\"gatk\"]\n",
    "numsample=len(sample_qc_df)\n",
    "print(\"The number of samples : \" + str(numsample) + \"\\n\")\n",
    "\n",
    "sample_qc_df=sample_qc_df[columnlist]\n",
    "sample_qc_df.fillna(0,inplace=True)\n",
    "#sample_qc_df.head(3)"
   ]
  },
  {
   "cell_type": "markdown",
   "metadata": {},
   "source": [
    "### Classification based on sample status and success."
   ]
  },
  {
   "cell_type": "code",
   "execution_count": 27,
   "metadata": {},
   "outputs": [
    {
     "name": "stdout",
     "output_type": "stream",
     "text": [
      "The number of unclassified samples : 0\n",
      "\n"
     ]
    },
    {
     "data": {
      "text/html": [
       "<div>\n",
       "<style scoped>\n",
       "    .dataframe tbody tr th:only-of-type {\n",
       "        vertical-align: middle;\n",
       "    }\n",
       "\n",
       "    .dataframe tbody tr th {\n",
       "        vertical-align: top;\n",
       "    }\n",
       "\n",
       "    .dataframe thead th {\n",
       "        text-align: right;\n",
       "    }\n",
       "</style>\n",
       "<table border=\"1\" class=\"dataframe\">\n",
       "  <thead>\n",
       "    <tr style=\"text-align: right;\">\n",
       "      <th></th>\n",
       "      <th>sample</th>\n",
       "      <th>fastq</th>\n",
       "      <th>ubam</th>\n",
       "      <th>vcf</th>\n",
       "      <th>cram</th>\n",
       "      <th>crai</th>\n",
       "      <th>fq2u</th>\n",
       "      <th>gatk</th>\n",
       "      <th>status</th>\n",
       "      <th>success</th>\n",
       "    </tr>\n",
       "  </thead>\n",
       "  <tbody>\n",
       "    <tr>\n",
       "      <td>0</td>\n",
       "      <td>SHIP4946368</td>\n",
       "      <td>8</td>\n",
       "      <td>4</td>\n",
       "      <td>1</td>\n",
       "      <td>1</td>\n",
       "      <td>1</td>\n",
       "      <td>4</td>\n",
       "      <td>1</td>\n",
       "      <td>success</td>\n",
       "      <td>pass</td>\n",
       "    </tr>\n",
       "    <tr>\n",
       "      <td>1</td>\n",
       "      <td>SHIP4946372</td>\n",
       "      <td>8</td>\n",
       "      <td>4</td>\n",
       "      <td>1</td>\n",
       "      <td>1</td>\n",
       "      <td>1</td>\n",
       "      <td>4</td>\n",
       "      <td>1</td>\n",
       "      <td>success</td>\n",
       "      <td>pass</td>\n",
       "    </tr>\n",
       "    <tr>\n",
       "      <td>2</td>\n",
       "      <td>SHIP4948530</td>\n",
       "      <td>8</td>\n",
       "      <td>4</td>\n",
       "      <td>1</td>\n",
       "      <td>1</td>\n",
       "      <td>1</td>\n",
       "      <td>4</td>\n",
       "      <td>1</td>\n",
       "      <td>success</td>\n",
       "      <td>pass</td>\n",
       "    </tr>\n",
       "  </tbody>\n",
       "</table>\n",
       "</div>"
      ],
      "text/plain": [
       "        sample  fastq  ubam  vcf  cram  crai  fq2u  gatk   status success\n",
       "0  SHIP4946368      8     4    1     1     1     4     1  success    pass\n",
       "1  SHIP4946372      8     4    1     1     1     4     1  success    pass\n",
       "2  SHIP4948530      8     4    1     1     1     4     1  success    pass"
      ]
     },
     "metadata": {},
     "output_type": "display_data"
    }
   ],
   "source": [
    "##-- Passed\n",
    "\n",
    "#- 1. Successful jobs\n",
    "sample_qc_df.loc[(sample_qc_df['ubam']==sample_qc_df['fastq']/2)&(sample_qc_df['vcf']==1)&(sample_qc_df['cram']==1) \\\n",
    "                                   &(sample_qc_df['crai']==1)&(sample_qc_df['fq2u']==sample_qc_df['fastq']/2)&(sample_qc_df['gatk']==1),'status']=\"success\"\n",
    "#- 2. Duplicated jobs\n",
    "sample_qc_df.loc[(sample_qc_df['ubam']==sample_qc_df['fastq']/2)&(sample_qc_df['vcf']==1)&(sample_qc_df['cram']==1) \\\n",
    "                                   &(sample_qc_df['crai']==1)&((sample_qc_df['fq2u']>sample_qc_df['fastq']/2)|(sample_qc_df['gatk']>1)),'status']=\"duplicated jobs\"\n",
    "#- 3. Duplicated jobs and nodes\n",
    "sample_qc_df.loc[((sample_qc_df['ubam']>sample_qc_df['fastq']/2)|(sample_qc_df['vcf']>1)|(sample_qc_df['cram']>1) \\\n",
    "                                 |(sample_qc_df['crai']>1))&((sample_qc_df['fq2u']>=sample_qc_df['fastq']/2)|(sample_qc_df['gatk']>=1)),'status']=\"duplicated nodes\"\n",
    "#- Success \n",
    "sample_qc_df.loc[(sample_qc_df['status'].isin([\"success\", \"duplicated jobs\", \"duplicated nodes\"])), 'success'] = \"pass\"\n",
    "\n",
    "\n",
    "##-- failed\n",
    "\n",
    "#- 4. failed fq2u jobs\n",
    "sample_qc_df.loc[((sample_qc_df['ubam']<sample_qc_df['fastq']/2)&(sample_qc_df['vcf']==0)&(sample_qc_df['cram']==0) \\\n",
    "                                   &(sample_qc_df['crai']==0))&((sample_qc_df['fq2u']>=sample_qc_df['fastq']/2)|(sample_qc_df['gatk']==0)),'status']=\"failed fq2u\"\n",
    "#- 5. failed gatk jobs\n",
    "sample_qc_df.loc[(sample_qc_df['ubam']==sample_qc_df['fastq']/2)&((sample_qc_df['vcf']<1)|(sample_qc_df['cram']<1) \\\n",
    "                                   |(sample_qc_df['crai']<1))&((sample_qc_df['fq2u']>=sample_qc_df['fastq']/2)&(sample_qc_df['gatk']>=1)),'status']=\"failed gatk\"\n",
    "#- 6. no gatk jobs\n",
    "sample_qc_df.loc[((sample_qc_df['ubam']==sample_qc_df['fastq']/2)&(sample_qc_df['vcf']==0)&(sample_qc_df['cram']==0) \\\n",
    "                                   &(sample_qc_df['crai']==0))&((sample_qc_df['fq2u']>=sample_qc_df['fastq']/2)&(sample_qc_df['gatk']==0)),'status']=\"no gatk\"\n",
    "#- Fail\n",
    "sample_qc_df.loc[(sample_qc_df['status'].isin([\"failed fq2u\", \"failed gatk\", \"no gatk\"])), 'success'] = \"fail\"\n",
    "\n",
    "##-- Check unclassified samples.\n",
    "num_unclassified = len(sample_qc_df[sample_qc_df.status.isna()==True])\n",
    "print(\"The number of unclassified samples : \" + str(num_unclassified)+\"\\n\")\n",
    "\n",
    "if num_unclassified != 0 :\n",
    "    display(sample_qc_df[sample_qc_df.status.isna()==True])\n",
    "    \n",
    "##-- Display of this table\n",
    "display(sample_qc_df.head(3))\n"
   ]
  },
  {
   "cell_type": "markdown",
   "metadata": {},
   "source": [
    "## Generate Status Table"
   ]
  },
  {
   "cell_type": "markdown",
   "metadata": {},
   "source": [
    "### The number of samples by status and success"
   ]
  },
  {
   "cell_type": "code",
   "execution_count": 28,
   "metadata": {},
   "outputs": [
    {
     "data": {
      "text/html": [
       "<div>\n",
       "<style scoped>\n",
       "    .dataframe tbody tr th:only-of-type {\n",
       "        vertical-align: middle;\n",
       "    }\n",
       "\n",
       "    .dataframe tbody tr th {\n",
       "        vertical-align: top;\n",
       "    }\n",
       "\n",
       "    .dataframe thead th {\n",
       "        text-align: right;\n",
       "    }\n",
       "</style>\n",
       "<table border=\"1\" class=\"dataframe\">\n",
       "  <thead>\n",
       "    <tr style=\"text-align: right;\">\n",
       "      <th></th>\n",
       "      <th>status</th>\n",
       "      <th>rate</th>\n",
       "    </tr>\n",
       "  </thead>\n",
       "  <tbody>\n",
       "    <tr>\n",
       "      <td>success</td>\n",
       "      <td>1285</td>\n",
       "      <td>97</td>\n",
       "    </tr>\n",
       "    <tr>\n",
       "      <td>duplicated jobs</td>\n",
       "      <td>15</td>\n",
       "      <td>1</td>\n",
       "    </tr>\n",
       "    <tr>\n",
       "      <td>duplicated nodes</td>\n",
       "      <td>8</td>\n",
       "      <td>1</td>\n",
       "    </tr>\n",
       "    <tr>\n",
       "      <td>failed fq2u</td>\n",
       "      <td>15</td>\n",
       "      <td>1</td>\n",
       "    </tr>\n",
       "    <tr>\n",
       "      <td>no gatk</td>\n",
       "      <td>3</td>\n",
       "      <td>0</td>\n",
       "    </tr>\n",
       "    <tr>\n",
       "      <td>failed gatk</td>\n",
       "      <td>4</td>\n",
       "      <td>0</td>\n",
       "    </tr>\n",
       "  </tbody>\n",
       "</table>\n",
       "</div>"
      ],
      "text/plain": [
       "                  status  rate\n",
       "success             1285    97\n",
       "duplicated jobs       15     1\n",
       "duplicated nodes       8     1\n",
       "failed fq2u           15     1\n",
       "no gatk                3     0\n",
       "failed gatk            4     0"
      ]
     },
     "metadata": {},
     "output_type": "display_data"
    },
    {
     "name": "stdout",
     "output_type": "stream",
     "text": [
      "Success Rate : 98.34586466165413%\n",
      "Failed Rate : 1.6541353383458646%\n"
     ]
    }
   ],
   "source": [
    "stat_status_qc=sample_qc_df['status'].value_counts().to_frame()\n",
    "stat_status_qc['rate']=100*(stat_status_qc['status']/numsample)\n",
    "stat_status_qc=stat_status_qc.reindex(index = ['success', 'duplicated jobs', 'duplicated nodes', 'failed fq2u', 'no gatk', 'failed gatk'])\n",
    "display(stat_status_qc)\n",
    "\n",
    "pd.set_option('display.float_format', lambda x: '%.2f' % x)\n",
    "print(\"Success Rate : \" + str(sum(stat_status_qc['rate'][0:3])) + \"%\")\n",
    "print(\"Failed Rate : \" + str(sum(stat_status_qc['rate'][3:6])) + \"%\")"
   ]
  },
  {
   "cell_type": "markdown",
   "metadata": {},
   "source": [
    "## Check the relationship informaiton and dstat message of successful samples"
   ]
  },
  {
   "cell_type": "markdown",
   "metadata": {},
   "source": [
    "### fq2u issued relationship of successful samples"
   ]
  },
  {
   "cell_type": "code",
   "execution_count": 30,
   "metadata": {},
   "outputs": [
    {
     "name": "stdout",
     "output_type": "stream",
     "text": [
      "The number of success samples: 1285\n",
      "The number of samples without the relationship between fq2u and ubam: 3\n",
      "\n",
      "\n"
     ]
    },
    {
     "data": {
      "text/html": [
       "<div>\n",
       "<style scoped>\n",
       "    .dataframe tbody tr th:only-of-type {\n",
       "        vertical-align: middle;\n",
       "    }\n",
       "\n",
       "    .dataframe tbody tr th {\n",
       "        vertical-align: top;\n",
       "    }\n",
       "\n",
       "    .dataframe thead th {\n",
       "        text-align: right;\n",
       "    }\n",
       "</style>\n",
       "<table border=\"1\" class=\"dataframe\">\n",
       "  <thead>\n",
       "    <tr style=\"text-align: right;\">\n",
       "      <th></th>\n",
       "      <th>sample_no_fq2utoubam</th>\n",
       "    </tr>\n",
       "  </thead>\n",
       "  <tbody>\n",
       "    <tr>\n",
       "      <td>0</td>\n",
       "      <td>SHIP5119430</td>\n",
       "    </tr>\n",
       "    <tr>\n",
       "      <td>1</td>\n",
       "      <td>SHIP5153310</td>\n",
       "    </tr>\n",
       "    <tr>\n",
       "      <td>2</td>\n",
       "      <td>SHIP5185260</td>\n",
       "    </tr>\n",
       "  </tbody>\n",
       "</table>\n",
       "</div>"
      ],
      "text/plain": [
       "  sample_no_fq2utoubam\n",
       "0          SHIP5119430\n",
       "1          SHIP5153310\n",
       "2          SHIP5185260"
      ]
     },
     "metadata": {},
     "output_type": "display_data"
    }
   ],
   "source": [
    "success_sample_df = sample_qc_df[sample_qc_df['status']=='success']\n",
    "print(\"The number of success samples: \" + str(len(success_sample_df)))\n",
    "success_sample=success_sample_df['sample'].to_list()\n",
    "\n",
    "query = \"Match (:Fastq)-[:INPUT_TO]->(j:Job:Dsub) WHERE not (j)-[:OUTPUT]->(:Ubam) and j.sample IN {} RETURN distinct j.sample AS sample_no_fq2utoubam\".format(str(success_sample))\n",
    "norelation_ubam = graph.run(query).to_data_frame()\n",
    "print(\"The number of samples without the relationship between fq2u and ubam: \" + str(len(norelation_ubam)))\n",
    "print(\"\\n\")\n",
    "\n",
    "display(norelation_ubam.head(3))"
   ]
  },
  {
   "cell_type": "markdown",
   "metadata": {},
   "source": [
    "### gatk issued relationship of successful samples"
   ]
  },
  {
   "cell_type": "code",
   "execution_count": 31,
   "metadata": {},
   "outputs": [
    {
     "name": "stdout",
     "output_type": "stream",
     "text": [
      "The number of samples without the relationship between gatk and outputs: 0\n"
     ]
    },
    {
     "data": {
      "text/html": [
       "<div>\n",
       "<style scoped>\n",
       "    .dataframe tbody tr th:only-of-type {\n",
       "        vertical-align: middle;\n",
       "    }\n",
       "\n",
       "    .dataframe tbody tr th {\n",
       "        vertical-align: top;\n",
       "    }\n",
       "\n",
       "    .dataframe thead th {\n",
       "        text-align: right;\n",
       "    }\n",
       "</style>\n",
       "<table border=\"1\" class=\"dataframe\">\n",
       "  <thead>\n",
       "    <tr style=\"text-align: right;\">\n",
       "      <th></th>\n",
       "    </tr>\n",
       "  </thead>\n",
       "  <tbody>\n",
       "  </tbody>\n",
       "</table>\n",
       "</div>"
      ],
      "text/plain": [
       "Empty DataFrame\n",
       "Columns: []\n",
       "Index: []"
      ]
     },
     "metadata": {},
     "output_type": "display_data"
    }
   ],
   "source": [
    "# success_sample_df = sample_qc_df[sample_qc_df['status']=='success']\n",
    "# print(\"The number of success samples: \" + str(len(success_sample_df)))\n",
    "# success_sample=norelation_sample_df['sample'].to_list()\n",
    "\n",
    "query = \"Match (j:Job:Cromewell) WHERE (not (:Ubam)-[:INPUT_TO]->(j) or not (j)-[:OUTPUT]->(:Merged:Vcf) or not (j)-[:OUTPUT]->(:Cram) or not (j)-[:OUTPUT]->(:Crai)) and (j.sample IN {}) RETURN distinct j.sample AS sample_missed_output\".format(str(success_sample))\n",
    "norelation_output = graph.run(query).to_data_frame()\n",
    "print(\"The number of samples without the relationship between gatk and outputs: \" + str(len(norelation_output)))\n",
    "\n",
    "display(norelation_output.head(3))\n",
    "#display(set(norelation_sample)-set(norelation_dstat['sample']))"
   ]
  },
  {
   "cell_type": "markdown",
   "metadata": {},
   "source": [
    "### Issued dstat message in successful samples"
   ]
  },
  {
   "cell_type": "code",
   "execution_count": 32,
   "metadata": {},
   "outputs": [
    {
     "name": "stdout",
     "output_type": "stream",
     "text": [
      "The number of samples with 'FAILURE' as dstat message  : 3\n"
     ]
    },
    {
     "data": {
      "text/html": [
       "<div>\n",
       "<style scoped>\n",
       "    .dataframe tbody tr th:only-of-type {\n",
       "        vertical-align: middle;\n",
       "    }\n",
       "\n",
       "    .dataframe tbody tr th {\n",
       "        vertical-align: top;\n",
       "    }\n",
       "\n",
       "    .dataframe thead th {\n",
       "        text-align: right;\n",
       "    }\n",
       "</style>\n",
       "<table border=\"1\" class=\"dataframe\">\n",
       "  <thead>\n",
       "    <tr style=\"text-align: right;\">\n",
       "      <th></th>\n",
       "      <th>Message</th>\n",
       "      <th>log</th>\n",
       "      <th>sample</th>\n",
       "      <th>status</th>\n",
       "    </tr>\n",
       "  </thead>\n",
       "  <tbody>\n",
       "    <tr>\n",
       "      <td>0</td>\n",
       "      <td>ServiceException: 401 Anonymous caller does no...</td>\n",
       "      <td>gs://gbsc-gcp-project-mvp-test-from-personalis...</td>\n",
       "      <td>SHIP5169288</td>\n",
       "      <td>FAILURE</td>\n",
       "    </tr>\n",
       "    <tr>\n",
       "      <td>1</td>\n",
       "      <td>ServiceException: 401 Anonymous caller does no...</td>\n",
       "      <td>gs://gbsc-gcp-project-mvp-test-from-personalis...</td>\n",
       "      <td>SHIP5153375</td>\n",
       "      <td>FAILURE</td>\n",
       "    </tr>\n",
       "    <tr>\n",
       "      <td>2</td>\n",
       "      <td>ServiceException: 401 Anonymous caller does no...</td>\n",
       "      <td>gs://gbsc-gcp-project-mvp-test-from-personalis...</td>\n",
       "      <td>SHIP5169413</td>\n",
       "      <td>FAILURE</td>\n",
       "    </tr>\n",
       "  </tbody>\n",
       "</table>\n",
       "</div>"
      ],
      "text/plain": [
       "                                             Message  \\\n",
       "0  ServiceException: 401 Anonymous caller does no...   \n",
       "1  ServiceException: 401 Anonymous caller does no...   \n",
       "2  ServiceException: 401 Anonymous caller does no...   \n",
       "\n",
       "                                                 log       sample   status  \n",
       "0  gs://gbsc-gcp-project-mvp-test-from-personalis...  SHIP5169288  FAILURE  \n",
       "1  gs://gbsc-gcp-project-mvp-test-from-personalis...  SHIP5153375  FAILURE  \n",
       "2  gs://gbsc-gcp-project-mvp-test-from-personalis...  SHIP5169413  FAILURE  "
      ]
     },
     "metadata": {},
     "output_type": "display_data"
    },
    {
     "data": {
      "text/html": [
       "<div>\n",
       "<style scoped>\n",
       "    .dataframe tbody tr th:only-of-type {\n",
       "        vertical-align: middle;\n",
       "    }\n",
       "\n",
       "    .dataframe tbody tr th {\n",
       "        vertical-align: top;\n",
       "    }\n",
       "\n",
       "    .dataframe thead th {\n",
       "        text-align: right;\n",
       "    }\n",
       "</style>\n",
       "<table border=\"1\" class=\"dataframe\">\n",
       "  <thead>\n",
       "    <tr style=\"text-align: right;\">\n",
       "      <th></th>\n",
       "      <th></th>\n",
       "      <th>log</th>\n",
       "      <th>sample</th>\n",
       "    </tr>\n",
       "    <tr>\n",
       "      <th>Message</th>\n",
       "      <th>status</th>\n",
       "      <th></th>\n",
       "      <th></th>\n",
       "    </tr>\n",
       "  </thead>\n",
       "  <tbody>\n",
       "    <tr>\n",
       "      <td>ServiceException: 401 Anonymous caller does not have storage.objects.list access to gbsc-gcp-project-mvp-test-from-personalis-wgs35-logs.\\nServiceException: 401 Anonymous caller does not have storage.objects.list access to gbsc-gcp-project-mvp-test-from-personalis-wgs35-logs.\\nServiceException: 401 Anonymous caller does not have storage.objects.list access to gbsc-gcp-project-mvp-test-from-personalis-wgs35-logs.\\n</td>\n",
       "      <td>FAILURE</td>\n",
       "      <td>3</td>\n",
       "      <td>3</td>\n",
       "    </tr>\n",
       "  </tbody>\n",
       "</table>\n",
       "</div>"
      ],
      "text/plain": [
       "                                                            log  sample\n",
       "Message                                            status              \n",
       "ServiceException: 401 Anonymous caller does not... FAILURE    3       3"
      ]
     },
     "execution_count": 32,
     "metadata": {},
     "output_type": "execute_result"
    }
   ],
   "source": [
    "# success_sample_df = sample_qc_df[sample_qc_df['status']=='success']\n",
    "# print(\"The number of success samples: \" + str(len(success_sample_df)))\n",
    "# success_sample=norelation_sample_df['sample'].to_list()\n",
    "\n",
    "query = \"Match (j:Job:Dsub)-[:STATUS]->(s:Dstat) WHERE j.sample IN {} and not s.status='SUCCESS' RETURN j.sample AS sample, j.logging As log, s.status AS status, s.statusMessage AS Message\".format(str(success_sample))\n",
    "failed_dstat = graph.run(query).to_data_frame()\n",
    "print(\"The number of samples with 'FAILURE' as dstat message  : \" + str(len(failed_dstat)))\n",
    "\n",
    "## Issued Sample List\n",
    "display(failed_dstat.head(3))\n",
    "\n",
    "## Classified by Messange\n",
    "failed_dstat.groupby(['Message','status']).count()"
   ]
  },
  {
   "cell_type": "markdown",
   "metadata": {},
   "source": [
    "## Check dstat message of samples with duplicated jobs and nodes"
   ]
  },
  {
   "cell_type": "markdown",
   "metadata": {},
   "source": [
    "### Duplicated Jobs (Fq2u)"
   ]
  },
  {
   "cell_type": "code",
   "execution_count": 33,
   "metadata": {},
   "outputs": [
    {
     "name": "stdout",
     "output_type": "stream",
     "text": [
      "The number of success samples with duplicated jobs: 15\n",
      "The number of duplicated fq2u jobs : 47\n"
     ]
    },
    {
     "data": {
      "text/html": [
       "<div>\n",
       "<style scoped>\n",
       "    .dataframe tbody tr th:only-of-type {\n",
       "        vertical-align: middle;\n",
       "    }\n",
       "\n",
       "    .dataframe tbody tr th {\n",
       "        vertical-align: top;\n",
       "    }\n",
       "\n",
       "    .dataframe thead th {\n",
       "        text-align: right;\n",
       "    }\n",
       "</style>\n",
       "<table border=\"1\" class=\"dataframe\">\n",
       "  <thead>\n",
       "    <tr style=\"text-align: right;\">\n",
       "      <th></th>\n",
       "      <th>Message</th>\n",
       "      <th>log</th>\n",
       "      <th>sample</th>\n",
       "      <th>status</th>\n",
       "    </tr>\n",
       "  </thead>\n",
       "  <tbody>\n",
       "    <tr>\n",
       "      <td>0</td>\n",
       "      <td>Stopped running 'prepare'</td>\n",
       "      <td>gs://gbsc-gcp-project-mvp-test-from-personalis...</td>\n",
       "      <td>SHIP4954745</td>\n",
       "      <td>RUNNING</td>\n",
       "    </tr>\n",
       "    <tr>\n",
       "      <td>1</td>\n",
       "      <td>Worker 'google-pipelines-worker-6b640db5e96c87...</td>\n",
       "      <td>gs://gbsc-gcp-project-mvp-test-from-personalis...</td>\n",
       "      <td>SHIP4954745</td>\n",
       "      <td>RUNNING</td>\n",
       "    </tr>\n",
       "    <tr>\n",
       "      <td>2</td>\n",
       "      <td>worker was terminated</td>\n",
       "      <td>gs://gbsc-gcp-project-mvp-test-from-personalis...</td>\n",
       "      <td>SHIP4954744</td>\n",
       "      <td>FAILURE</td>\n",
       "    </tr>\n",
       "    <tr>\n",
       "      <td>3</td>\n",
       "      <td>worker was terminated</td>\n",
       "      <td>gs://gbsc-gcp-project-mvp-test-from-personalis...</td>\n",
       "      <td>SHIP4954745</td>\n",
       "      <td>FAILURE</td>\n",
       "    </tr>\n",
       "    <tr>\n",
       "      <td>4</td>\n",
       "      <td>worker was terminated</td>\n",
       "      <td>gs://gbsc-gcp-project-mvp-test-from-personalis...</td>\n",
       "      <td>SHIP5142424</td>\n",
       "      <td>FAILURE</td>\n",
       "    </tr>\n",
       "  </tbody>\n",
       "</table>\n",
       "</div>"
      ],
      "text/plain": [
       "                                             Message  \\\n",
       "0                          Stopped running 'prepare'   \n",
       "1  Worker 'google-pipelines-worker-6b640db5e96c87...   \n",
       "2                              worker was terminated   \n",
       "3                              worker was terminated   \n",
       "4                              worker was terminated   \n",
       "\n",
       "                                                 log       sample   status  \n",
       "0  gs://gbsc-gcp-project-mvp-test-from-personalis...  SHIP4954745  RUNNING  \n",
       "1  gs://gbsc-gcp-project-mvp-test-from-personalis...  SHIP4954745  RUNNING  \n",
       "2  gs://gbsc-gcp-project-mvp-test-from-personalis...  SHIP4954744  FAILURE  \n",
       "3  gs://gbsc-gcp-project-mvp-test-from-personalis...  SHIP4954745  FAILURE  \n",
       "4  gs://gbsc-gcp-project-mvp-test-from-personalis...  SHIP5142424  FAILURE  "
      ]
     },
     "metadata": {},
     "output_type": "display_data"
    },
    {
     "data": {
      "text/html": [
       "<div>\n",
       "<style scoped>\n",
       "    .dataframe tbody tr th:only-of-type {\n",
       "        vertical-align: middle;\n",
       "    }\n",
       "\n",
       "    .dataframe tbody tr th {\n",
       "        vertical-align: top;\n",
       "    }\n",
       "\n",
       "    .dataframe thead th {\n",
       "        text-align: right;\n",
       "    }\n",
       "</style>\n",
       "<table border=\"1\" class=\"dataframe\">\n",
       "  <thead>\n",
       "    <tr style=\"text-align: right;\">\n",
       "      <th></th>\n",
       "      <th></th>\n",
       "      <th>log</th>\n",
       "      <th>sample</th>\n",
       "    </tr>\n",
       "    <tr>\n",
       "      <th>Message</th>\n",
       "      <th>status</th>\n",
       "      <th></th>\n",
       "      <th></th>\n",
       "    </tr>\n",
       "  </thead>\n",
       "  <tbody>\n",
       "    <tr>\n",
       "      <td>Started pulling 'gcr.io/gbsc-gcp-project-mvp-test/broadinstitute/gatk:4.1.0.0'</td>\n",
       "      <td>RUNNING</td>\n",
       "      <td>13</td>\n",
       "      <td>13</td>\n",
       "    </tr>\n",
       "    <tr>\n",
       "      <td>Started running 'localization'</td>\n",
       "      <td>RUNNING</td>\n",
       "      <td>15</td>\n",
       "      <td>15</td>\n",
       "    </tr>\n",
       "    <tr>\n",
       "      <td>Started running 'prepare'</td>\n",
       "      <td>RUNNING</td>\n",
       "      <td>2</td>\n",
       "      <td>2</td>\n",
       "    </tr>\n",
       "    <tr>\n",
       "      <td>Started running 'user-command'</td>\n",
       "      <td>RUNNING</td>\n",
       "      <td>1</td>\n",
       "      <td>1</td>\n",
       "    </tr>\n",
       "    <tr>\n",
       "      <td>Stopped pulling 'gcr.io/gbsc-gcp-project-mvp-test/broadinstitute/gatk:4.1.0.0'</td>\n",
       "      <td>RUNNING</td>\n",
       "      <td>4</td>\n",
       "      <td>4</td>\n",
       "    </tr>\n",
       "    <tr>\n",
       "      <td>Stopped running 'prepare'</td>\n",
       "      <td>RUNNING</td>\n",
       "      <td>1</td>\n",
       "      <td>1</td>\n",
       "    </tr>\n",
       "    <tr>\n",
       "      <td>Worker 'google-pipelines-worker-115ef3db30e81d0fe0ae9ac02676b21b' assigned in 'us-west1-a'</td>\n",
       "      <td>RUNNING</td>\n",
       "      <td>1</td>\n",
       "      <td>1</td>\n",
       "    </tr>\n",
       "    <tr>\n",
       "      <td>Worker 'google-pipelines-worker-6b640db5e96c874bc90e6972f27ef0ae' assigned in 'us-west1-c'</td>\n",
       "      <td>RUNNING</td>\n",
       "      <td>1</td>\n",
       "      <td>1</td>\n",
       "    </tr>\n",
       "    <tr>\n",
       "      <td>Worker 'google-pipelines-worker-882a96720b399174d1205054b74f7557' assigned in 'us-west1-a'</td>\n",
       "      <td>RUNNING</td>\n",
       "      <td>1</td>\n",
       "      <td>1</td>\n",
       "    </tr>\n",
       "    <tr>\n",
       "      <td>Worker 'google-pipelines-worker-c30f07ea065aebd51e7e2499b3023d6b' assigned in 'us-west1-a'</td>\n",
       "      <td>RUNNING</td>\n",
       "      <td>1</td>\n",
       "      <td>1</td>\n",
       "    </tr>\n",
       "    <tr>\n",
       "      <td>Worker 'google-pipelines-worker-db80acc6901b7f63ada6885d38937d65' assigned in 'us-west1-c'</td>\n",
       "      <td>RUNNING</td>\n",
       "      <td>1</td>\n",
       "      <td>1</td>\n",
       "    </tr>\n",
       "    <tr>\n",
       "      <td>worker was terminated</td>\n",
       "      <td>FAILURE</td>\n",
       "      <td>6</td>\n",
       "      <td>6</td>\n",
       "    </tr>\n",
       "  </tbody>\n",
       "</table>\n",
       "</div>"
      ],
      "text/plain": [
       "                                                            log  sample\n",
       "Message                                            status              \n",
       "Started pulling 'gcr.io/gbsc-gcp-project-mvp-te... RUNNING   13      13\n",
       "Started running 'localization'                     RUNNING   15      15\n",
       "Started running 'prepare'                          RUNNING    2       2\n",
       "Started running 'user-command'                     RUNNING    1       1\n",
       "Stopped pulling 'gcr.io/gbsc-gcp-project-mvp-te... RUNNING    4       4\n",
       "Stopped running 'prepare'                          RUNNING    1       1\n",
       "Worker 'google-pipelines-worker-115ef3db30e81d0... RUNNING    1       1\n",
       "Worker 'google-pipelines-worker-6b640db5e96c874... RUNNING    1       1\n",
       "Worker 'google-pipelines-worker-882a96720b39917... RUNNING    1       1\n",
       "Worker 'google-pipelines-worker-c30f07ea065aebd... RUNNING    1       1\n",
       "Worker 'google-pipelines-worker-db80acc6901b7f6... RUNNING    1       1\n",
       "worker was terminated                              FAILURE    6       6"
      ]
     },
     "execution_count": 33,
     "metadata": {},
     "output_type": "execute_result"
    }
   ],
   "source": [
    "dupjobs_sample_df = sample_qc_df[sample_qc_df['status']=='duplicated jobs']\n",
    "print(\"The number of success samples with duplicated jobs: \" + str(len(dupjobs_sample_df)))\n",
    "dupjobs_sample=dupjobs_sample_df['sample'].to_list()\n",
    "\n",
    "#display(dupjobs_sample_df)\n",
    "\n",
    "query = \"Match (j:Job:Dsub)-[:STATUS]->(s:Dstat) WHERE j.sample IN {} and not s.status='SUCCESS' RETURN j.sample AS sample, j.logging As log, s.status AS status, s.statusMessage AS Message\".format(str(dupjobs_sample))\n",
    "dupfq2u_dstat = graph.run(query).to_data_frame()\n",
    "print(\"The number of duplicated fq2u jobs : \" + str(len(dupfq2u_dstat)))\n",
    "\n",
    "## Issued Sample and Job List\n",
    "display(dupfq2u_dstat.head())\n",
    "\n",
    "## Classified by Messange\n",
    "dupfq2u_dstat.groupby(['Message','status']).count()"
   ]
  },
  {
   "cell_type": "markdown",
   "metadata": {},
   "source": [
    "### Duplicated Jobs (GATK)"
   ]
  },
  {
   "cell_type": "code",
   "execution_count": 34,
   "metadata": {},
   "outputs": [
    {
     "name": "stdout",
     "output_type": "stream",
     "text": [
      "The number of success samples with duplicated jobs: 15\n",
      "The number of duplicated fq2u jobs : 1\n"
     ]
    },
    {
     "data": {
      "text/html": [
       "<div>\n",
       "<style scoped>\n",
       "    .dataframe tbody tr th:only-of-type {\n",
       "        vertical-align: middle;\n",
       "    }\n",
       "\n",
       "    .dataframe tbody tr th {\n",
       "        vertical-align: top;\n",
       "    }\n",
       "\n",
       "    .dataframe thead th {\n",
       "        text-align: right;\n",
       "    }\n",
       "</style>\n",
       "<table border=\"1\" class=\"dataframe\">\n",
       "  <thead>\n",
       "    <tr style=\"text-align: right;\">\n",
       "      <th></th>\n",
       "      <th>Message</th>\n",
       "      <th>log</th>\n",
       "      <th>sample</th>\n",
       "      <th>status</th>\n",
       "    </tr>\n",
       "  </thead>\n",
       "  <tbody>\n",
       "    <tr>\n",
       "      <td>0</td>\n",
       "      <td>Started running 'user-command'</td>\n",
       "      <td>gs://gbsc-gcp-project-mvp-test-from-personalis...</td>\n",
       "      <td>SHIP5141855</td>\n",
       "      <td>RUNNING</td>\n",
       "    </tr>\n",
       "  </tbody>\n",
       "</table>\n",
       "</div>"
      ],
      "text/plain": [
       "                          Message  \\\n",
       "0  Started running 'user-command'   \n",
       "\n",
       "                                                 log       sample   status  \n",
       "0  gs://gbsc-gcp-project-mvp-test-from-personalis...  SHIP5141855  RUNNING  "
      ]
     },
     "metadata": {},
     "output_type": "display_data"
    },
    {
     "data": {
      "text/html": [
       "<div>\n",
       "<style scoped>\n",
       "    .dataframe tbody tr th:only-of-type {\n",
       "        vertical-align: middle;\n",
       "    }\n",
       "\n",
       "    .dataframe tbody tr th {\n",
       "        vertical-align: top;\n",
       "    }\n",
       "\n",
       "    .dataframe thead th {\n",
       "        text-align: right;\n",
       "    }\n",
       "</style>\n",
       "<table border=\"1\" class=\"dataframe\">\n",
       "  <thead>\n",
       "    <tr style=\"text-align: right;\">\n",
       "      <th></th>\n",
       "      <th></th>\n",
       "      <th>log</th>\n",
       "      <th>sample</th>\n",
       "    </tr>\n",
       "    <tr>\n",
       "      <th>Message</th>\n",
       "      <th>status</th>\n",
       "      <th></th>\n",
       "      <th></th>\n",
       "    </tr>\n",
       "  </thead>\n",
       "  <tbody>\n",
       "    <tr>\n",
       "      <td>Started running 'user-command'</td>\n",
       "      <td>RUNNING</td>\n",
       "      <td>1</td>\n",
       "      <td>1</td>\n",
       "    </tr>\n",
       "  </tbody>\n",
       "</table>\n",
       "</div>"
      ],
      "text/plain": [
       "                                        log  sample\n",
       "Message                        status              \n",
       "Started running 'user-command' RUNNING    1       1"
      ]
     },
     "execution_count": 34,
     "metadata": {},
     "output_type": "execute_result"
    }
   ],
   "source": [
    "#dupjobs_sample_df = sample_qc_df[sample_qc_df['status']=='duplicated jobs']\n",
    "print(\"The number of success samples with duplicated jobs: \" + str(len(dupjobs_sample_df)))\n",
    "#dupjobs_sample=dupjobs_sample_df['sample'].to_list()\n",
    "\n",
    "#display(dupjobs_sample_df)\n",
    "\n",
    "query = \"Match (j:Job:Cromwell)-[:STATUS]->(s:Dstat) WHERE j.sample IN {} and not s.status='SUCCESS' RETURN j.sample AS sample, j.logging As log, s.status AS status, s.statusMessage AS Message\".format(str(dupjobs_sample))\n",
    "dupgatk_dstat = graph.run(query).to_data_frame()\n",
    "print(\"The number of duplicated fq2u jobs : \" + str(len(dupgatk_dstat)))\n",
    "display(dupgatk_dstat.head(3))\n",
    "\n",
    "dupgatk_dstat.groupby(['Message','status']).count()"
   ]
  },
  {
   "cell_type": "markdown",
   "metadata": {},
   "source": [
    "### Duplicated Job and Node"
   ]
  },
  {
   "cell_type": "code",
   "execution_count": 35,
   "metadata": {},
   "outputs": [
    {
     "name": "stdout",
     "output_type": "stream",
     "text": [
      "The number of success samples with duplicated nodes: 8\n"
     ]
    },
    {
     "data": {
      "text/html": [
       "<div>\n",
       "<style scoped>\n",
       "    .dataframe tbody tr th:only-of-type {\n",
       "        vertical-align: middle;\n",
       "    }\n",
       "\n",
       "    .dataframe tbody tr th {\n",
       "        vertical-align: top;\n",
       "    }\n",
       "\n",
       "    .dataframe thead th {\n",
       "        text-align: right;\n",
       "    }\n",
       "</style>\n",
       "<table border=\"1\" class=\"dataframe\">\n",
       "  <thead>\n",
       "    <tr style=\"text-align: right;\">\n",
       "      <th></th>\n",
       "      <th>sample</th>\n",
       "      <th>fastq</th>\n",
       "      <th>ubam</th>\n",
       "      <th>vcf</th>\n",
       "      <th>cram</th>\n",
       "      <th>crai</th>\n",
       "      <th>fq2u</th>\n",
       "      <th>gatk</th>\n",
       "      <th>status</th>\n",
       "      <th>success</th>\n",
       "    </tr>\n",
       "  </thead>\n",
       "  <tbody>\n",
       "    <tr>\n",
       "      <td>97</td>\n",
       "      <td>SHIP5119429</td>\n",
       "      <td>8</td>\n",
       "      <td>5</td>\n",
       "      <td>1.00</td>\n",
       "      <td>1.00</td>\n",
       "      <td>1.00</td>\n",
       "      <td>7</td>\n",
       "      <td>1.00</td>\n",
       "      <td>duplicated nodes</td>\n",
       "      <td>pass</td>\n",
       "    </tr>\n",
       "    <tr>\n",
       "      <td>365</td>\n",
       "      <td>SHIP5142661</td>\n",
       "      <td>8</td>\n",
       "      <td>4</td>\n",
       "      <td>1.00</td>\n",
       "      <td>1.00</td>\n",
       "      <td>2.00</td>\n",
       "      <td>4</td>\n",
       "      <td>1.00</td>\n",
       "      <td>duplicated nodes</td>\n",
       "      <td>pass</td>\n",
       "    </tr>\n",
       "    <tr>\n",
       "      <td>368</td>\n",
       "      <td>SHIP5142468</td>\n",
       "      <td>8</td>\n",
       "      <td>4</td>\n",
       "      <td>1.00</td>\n",
       "      <td>2.00</td>\n",
       "      <td>1.00</td>\n",
       "      <td>4</td>\n",
       "      <td>1.00</td>\n",
       "      <td>duplicated nodes</td>\n",
       "      <td>pass</td>\n",
       "    </tr>\n",
       "    <tr>\n",
       "      <td>633</td>\n",
       "      <td>SHIP5153353</td>\n",
       "      <td>8</td>\n",
       "      <td>4</td>\n",
       "      <td>1.00</td>\n",
       "      <td>1.00</td>\n",
       "      <td>2.00</td>\n",
       "      <td>4</td>\n",
       "      <td>1.00</td>\n",
       "      <td>duplicated nodes</td>\n",
       "      <td>pass</td>\n",
       "    </tr>\n",
       "    <tr>\n",
       "      <td>1050</td>\n",
       "      <td>SHIP5169373</td>\n",
       "      <td>8</td>\n",
       "      <td>4</td>\n",
       "      <td>1.00</td>\n",
       "      <td>1.00</td>\n",
       "      <td>2.00</td>\n",
       "      <td>4</td>\n",
       "      <td>1.00</td>\n",
       "      <td>duplicated nodes</td>\n",
       "      <td>pass</td>\n",
       "    </tr>\n",
       "    <tr>\n",
       "      <td>1248</td>\n",
       "      <td>SHIP5185273</td>\n",
       "      <td>8</td>\n",
       "      <td>4</td>\n",
       "      <td>1.00</td>\n",
       "      <td>2.00</td>\n",
       "      <td>2.00</td>\n",
       "      <td>4</td>\n",
       "      <td>1.00</td>\n",
       "      <td>duplicated nodes</td>\n",
       "      <td>pass</td>\n",
       "    </tr>\n",
       "    <tr>\n",
       "      <td>1313</td>\n",
       "      <td>SHIP5185330</td>\n",
       "      <td>8</td>\n",
       "      <td>4</td>\n",
       "      <td>2.00</td>\n",
       "      <td>1.00</td>\n",
       "      <td>1.00</td>\n",
       "      <td>4</td>\n",
       "      <td>1.00</td>\n",
       "      <td>duplicated nodes</td>\n",
       "      <td>pass</td>\n",
       "    </tr>\n",
       "    <tr>\n",
       "      <td>1319</td>\n",
       "      <td>SHIP5185343</td>\n",
       "      <td>8</td>\n",
       "      <td>4</td>\n",
       "      <td>1.00</td>\n",
       "      <td>2.00</td>\n",
       "      <td>1.00</td>\n",
       "      <td>4</td>\n",
       "      <td>1.00</td>\n",
       "      <td>duplicated nodes</td>\n",
       "      <td>pass</td>\n",
       "    </tr>\n",
       "  </tbody>\n",
       "</table>\n",
       "</div>"
      ],
      "text/plain": [
       "           sample  fastq  ubam  vcf  cram  crai  fq2u  gatk            status  \\\n",
       "97    SHIP5119429      8     5 1.00  1.00  1.00     7  1.00  duplicated nodes   \n",
       "365   SHIP5142661      8     4 1.00  1.00  2.00     4  1.00  duplicated nodes   \n",
       "368   SHIP5142468      8     4 1.00  2.00  1.00     4  1.00  duplicated nodes   \n",
       "633   SHIP5153353      8     4 1.00  1.00  2.00     4  1.00  duplicated nodes   \n",
       "1050  SHIP5169373      8     4 1.00  1.00  2.00     4  1.00  duplicated nodes   \n",
       "1248  SHIP5185273      8     4 1.00  2.00  2.00     4  1.00  duplicated nodes   \n",
       "1313  SHIP5185330      8     4 2.00  1.00  1.00     4  1.00  duplicated nodes   \n",
       "1319  SHIP5185343      8     4 1.00  2.00  1.00     4  1.00  duplicated nodes   \n",
       "\n",
       "     success  \n",
       "97      pass  \n",
       "365     pass  \n",
       "368     pass  \n",
       "633     pass  \n",
       "1050    pass  \n",
       "1248    pass  \n",
       "1313    pass  \n",
       "1319    pass  "
      ]
     },
     "metadata": {},
     "output_type": "display_data"
    },
    {
     "name": "stdout",
     "output_type": "stream",
     "text": [
      "The number of duplicated nodes: 0\n"
     ]
    },
    {
     "data": {
      "text/html": [
       "<div>\n",
       "<style scoped>\n",
       "    .dataframe tbody tr th:only-of-type {\n",
       "        vertical-align: middle;\n",
       "    }\n",
       "\n",
       "    .dataframe tbody tr th {\n",
       "        vertical-align: top;\n",
       "    }\n",
       "\n",
       "    .dataframe thead th {\n",
       "        text-align: right;\n",
       "    }\n",
       "</style>\n",
       "<table border=\"1\" class=\"dataframe\">\n",
       "  <thead>\n",
       "    <tr style=\"text-align: right;\">\n",
       "      <th></th>\n",
       "    </tr>\n",
       "  </thead>\n",
       "  <tbody>\n",
       "  </tbody>\n",
       "</table>\n",
       "</div>"
      ],
      "text/plain": [
       "Empty DataFrame\n",
       "Columns: []\n",
       "Index: []"
      ]
     },
     "metadata": {},
     "output_type": "display_data"
    }
   ],
   "source": [
    "dupnodes_sample_df = sample_qc_df[sample_qc_df['status']=='duplicated nodes']\n",
    "print(\"The number of success samples with duplicated nodes: \" + str(len(dupnodes_sample_df)))\n",
    "dupnodes_sample=dupnodes_sample_df['sample'].to_list()\n",
    "\n",
    "display(dupnodes_sample_df)\n",
    "\n",
    "query = \"Match (j:Job:Cromwell)-[:STATUS]->(s:Dstat) WHERE j.sample IN {} and not s.status='SUCCESS' RETURN j.sample AS sample, j.logging As log, s.status AS status, s.statusMessage AS Message\".format(str(dupnodes_sample))\n",
    "dupnodes_dstat = graph.run(query).to_data_frame()\n",
    "print(\"The number of duplicated nodes: \" + str(len(dupnodes_dstat)))\n",
    "display(dupnodes_dstat.head(3))\n",
    "\n",
    "#dupjob_dstat.groupby(['Message','status']).count()"
   ]
  },
  {
   "cell_type": "markdown",
   "metadata": {},
   "source": [
    "## Check the log list and the dstat message of issued jobs"
   ]
  },
  {
   "cell_type": "markdown",
   "metadata": {},
   "source": [
    "### Failed Fq2u"
   ]
  },
  {
   "cell_type": "code",
   "execution_count": 36,
   "metadata": {},
   "outputs": [
    {
     "name": "stdout",
     "output_type": "stream",
     "text": [
      "The number of samples with failed fq2u jobs: 15\n",
      "The number of duplicated fq2u jobs : 15\n"
     ]
    },
    {
     "data": {
      "text/html": [
       "<div>\n",
       "<style scoped>\n",
       "    .dataframe tbody tr th:only-of-type {\n",
       "        vertical-align: middle;\n",
       "    }\n",
       "\n",
       "    .dataframe tbody tr th {\n",
       "        vertical-align: top;\n",
       "    }\n",
       "\n",
       "    .dataframe thead th {\n",
       "        text-align: right;\n",
       "    }\n",
       "</style>\n",
       "<table border=\"1\" class=\"dataframe\">\n",
       "  <thead>\n",
       "    <tr style=\"text-align: right;\">\n",
       "      <th></th>\n",
       "      <th>Message</th>\n",
       "      <th>log</th>\n",
       "      <th>sample</th>\n",
       "      <th>status</th>\n",
       "    </tr>\n",
       "  </thead>\n",
       "  <tbody>\n",
       "    <tr>\n",
       "      <td>0</td>\n",
       "      <td>to gbsc-gcp-project-mvp-test-from-personalis-...</td>\n",
       "      <td>gs://gbsc-gcp-project-mvp-test-from-personalis...</td>\n",
       "      <td>SHIP5119443</td>\n",
       "      <td>FAILURE</td>\n",
       "    </tr>\n",
       "    <tr>\n",
       "      <td>1</td>\n",
       "      <td>ServiceException: 401 Anonymous caller does no...</td>\n",
       "      <td>gs://gbsc-gcp-project-mvp-test-from-personalis...</td>\n",
       "      <td>SHIP5141860</td>\n",
       "      <td>FAILURE</td>\n",
       "    </tr>\n",
       "    <tr>\n",
       "      <td>2</td>\n",
       "      <td>ServiceException: 401 Anonymous caller does no...</td>\n",
       "      <td>gs://gbsc-gcp-project-mvp-test-from-personalis...</td>\n",
       "      <td>SHIP5142426</td>\n",
       "      <td>FAILURE</td>\n",
       "    </tr>\n",
       "  </tbody>\n",
       "</table>\n",
       "</div>"
      ],
      "text/plain": [
       "                                             Message  \\\n",
       "0   to gbsc-gcp-project-mvp-test-from-personalis-...   \n",
       "1  ServiceException: 401 Anonymous caller does no...   \n",
       "2  ServiceException: 401 Anonymous caller does no...   \n",
       "\n",
       "                                                 log       sample   status  \n",
       "0  gs://gbsc-gcp-project-mvp-test-from-personalis...  SHIP5119443  FAILURE  \n",
       "1  gs://gbsc-gcp-project-mvp-test-from-personalis...  SHIP5141860  FAILURE  \n",
       "2  gs://gbsc-gcp-project-mvp-test-from-personalis...  SHIP5142426  FAILURE  "
      ]
     },
     "metadata": {},
     "output_type": "display_data"
    },
    {
     "data": {
      "text/html": [
       "<div>\n",
       "<style scoped>\n",
       "    .dataframe tbody tr th:only-of-type {\n",
       "        vertical-align: middle;\n",
       "    }\n",
       "\n",
       "    .dataframe tbody tr th {\n",
       "        vertical-align: top;\n",
       "    }\n",
       "\n",
       "    .dataframe thead th {\n",
       "        text-align: right;\n",
       "    }\n",
       "</style>\n",
       "<table border=\"1\" class=\"dataframe\">\n",
       "  <thead>\n",
       "    <tr style=\"text-align: right;\">\n",
       "      <th></th>\n",
       "      <th>log</th>\n",
       "      <th>sample</th>\n",
       "      <th>status</th>\n",
       "    </tr>\n",
       "    <tr>\n",
       "      <th>Message</th>\n",
       "      <th></th>\n",
       "      <th></th>\n",
       "      <th></th>\n",
       "    </tr>\n",
       "  </thead>\n",
       "  <tbody>\n",
       "    <tr>\n",
       "      <td>to gbsc-gcp-project-mvp-test-from-personalis-wgs35-logs.\\nServiceException: 401 Anonymous caller does not have storage.objects.list access to gbsc-gcp-project-mvp-test-from-personalis-wgs35-logs.\\nServiceException: 401 Anonymous caller does not have storage.objects.list access to gbsc-gcp-project-mvp-test-from-personalis-wgs35-logs.\\nServiceException: 401 Anonymous caller does not have storage.objects.list access to gbsc-gcp-project-mvp-test-from-personalis-wgs35-logs.\\nServiceException: 401 Anonymous caller does not have storage.objects.list access to gbsc-gcp-project-mvp-test-from-personalis-wgs35-logs.\\nServiceException: 401 Anonymous caller does not have storage.objects.list access to gbsc-gcp-project-mvp-test-from-personalis-wgs35-logs.\\nServiceException: 401 Anonymous caller does not have storage.objects.list access to gbsc-gcp-project-mvp-test-from-personalis-wgs35-logs.\\nServiceException: 401 Anonymous caller does not have storage.objects.list access to gbsc-gcp-project-mvp-test-from-personalis-wgs35-logs.\\n</td>\n",
       "      <td>1</td>\n",
       "      <td>1</td>\n",
       "      <td>1</td>\n",
       "    </tr>\n",
       "    <tr>\n",
       "      <td>ServiceException: 401 Anonymous caller does not have storage.objects.list access to gbsc-gcp-project-mvp-test-from-personalis-wgs35-logs.\\nServiceException: 401 Anonymous caller does not have storage.objects.list access to gbsc-gcp-project-mvp-test-from-personalis-wgs35-logs.\\nServiceException: 401 Anonymous caller does not have storage.objects.list access to gbsc-gcp-project-mvp-test-from-personalis-wgs35-logs.\\n</td>\n",
       "      <td>14</td>\n",
       "      <td>14</td>\n",
       "      <td>14</td>\n",
       "    </tr>\n",
       "  </tbody>\n",
       "</table>\n",
       "</div>"
      ],
      "text/plain": [
       "                                                    log  sample  status\n",
       "Message                                                                \n",
       " to gbsc-gcp-project-mvp-test-from-personalis-w...    1       1       1\n",
       "ServiceException: 401 Anonymous caller does not...   14      14      14"
      ]
     },
     "execution_count": 36,
     "metadata": {},
     "output_type": "execute_result"
    }
   ],
   "source": [
    "failed_fq2u_sample_df = sample_qc_df[sample_qc_df['status']=='failed fq2u']\n",
    "print(\"The number of samples with failed fq2u jobs: \" + str(len(failed_fq2u_sample_df)))\n",
    "failed_fq2u_sample=failed_fq2u_sample_df['sample'].to_list()\n",
    "\n",
    "query = \"Match (j:Job:Dsub)-[:STATUS]->(s:Dstat) WHERE j.sample IN {} and not s.status='SUCCESS' RETURN j.sample AS sample, j.logging As log, s.status AS status, s.statusMessage AS Message\".format(str(failed_fq2u_sample))\n",
    "failed_fq2u_dstat = graph.run(query).to_data_frame()\n",
    "print(\"The number of duplicated fq2u jobs : \" + str(len(failed_fq2u_dstat)))\n",
    "display(failed_fq2u_dstat.head(3))\n",
    "\n",
    "failed_fq2u_dstat.groupby('Message').count()"
   ]
  },
  {
   "cell_type": "markdown",
   "metadata": {},
   "source": [
    "### Failed GATK"
   ]
  },
  {
   "cell_type": "code",
   "execution_count": 37,
   "metadata": {},
   "outputs": [
    {
     "name": "stdout",
     "output_type": "stream",
     "text": [
      "The number of samples with failed gatk jobs: 4\n",
      "The number of duplicated gatk jobs : 4\n"
     ]
    },
    {
     "data": {
      "text/html": [
       "<div>\n",
       "<style scoped>\n",
       "    .dataframe tbody tr th:only-of-type {\n",
       "        vertical-align: middle;\n",
       "    }\n",
       "\n",
       "    .dataframe tbody tr th {\n",
       "        vertical-align: top;\n",
       "    }\n",
       "\n",
       "    .dataframe thead th {\n",
       "        text-align: right;\n",
       "    }\n",
       "</style>\n",
       "<table border=\"1\" class=\"dataframe\">\n",
       "  <thead>\n",
       "    <tr style=\"text-align: right;\">\n",
       "      <th></th>\n",
       "      <th>Message</th>\n",
       "      <th>log</th>\n",
       "      <th>sample</th>\n",
       "      <th>status</th>\n",
       "    </tr>\n",
       "  </thead>\n",
       "  <tbody>\n",
       "    <tr>\n",
       "      <td>0</td>\n",
       "      <td>The assigned worker has failed to complete the...</td>\n",
       "      <td>gs://gbsc-gcp-project-mvp-test-from-personalis...</td>\n",
       "      <td>SHIP5141905</td>\n",
       "      <td>FAILURE</td>\n",
       "    </tr>\n",
       "    <tr>\n",
       "      <td>1</td>\n",
       "      <td>Workflow 467872d3-5a11-4f6d-a25d-f9f90e61b72d ...</td>\n",
       "      <td>gs://gbsc-gcp-project-mvp-test-from-personalis...</td>\n",
       "      <td>SHIP5165752</td>\n",
       "      <td>FAILURE</td>\n",
       "    </tr>\n",
       "    <tr>\n",
       "      <td>2</td>\n",
       "      <td>Workflow e75a10d0-1e1c-4523-840b-982cea8e506c ...</td>\n",
       "      <td>gs://gbsc-gcp-project-mvp-test-from-personalis...</td>\n",
       "      <td>SHIP5153220</td>\n",
       "      <td>FAILURE</td>\n",
       "    </tr>\n",
       "  </tbody>\n",
       "</table>\n",
       "</div>"
      ],
      "text/plain": [
       "                                             Message  \\\n",
       "0  The assigned worker has failed to complete the...   \n",
       "1  Workflow 467872d3-5a11-4f6d-a25d-f9f90e61b72d ...   \n",
       "2  Workflow e75a10d0-1e1c-4523-840b-982cea8e506c ...   \n",
       "\n",
       "                                                 log       sample   status  \n",
       "0  gs://gbsc-gcp-project-mvp-test-from-personalis...  SHIP5141905  FAILURE  \n",
       "1  gs://gbsc-gcp-project-mvp-test-from-personalis...  SHIP5165752  FAILURE  \n",
       "2  gs://gbsc-gcp-project-mvp-test-from-personalis...  SHIP5153220  FAILURE  "
      ]
     },
     "metadata": {},
     "output_type": "display_data"
    },
    {
     "data": {
      "text/html": [
       "<div>\n",
       "<style scoped>\n",
       "    .dataframe tbody tr th:only-of-type {\n",
       "        vertical-align: middle;\n",
       "    }\n",
       "\n",
       "    .dataframe tbody tr th {\n",
       "        vertical-align: top;\n",
       "    }\n",
       "\n",
       "    .dataframe thead th {\n",
       "        text-align: right;\n",
       "    }\n",
       "</style>\n",
       "<table border=\"1\" class=\"dataframe\">\n",
       "  <thead>\n",
       "    <tr style=\"text-align: right;\">\n",
       "      <th></th>\n",
       "      <th>log</th>\n",
       "      <th>sample</th>\n",
       "      <th>status</th>\n",
       "    </tr>\n",
       "    <tr>\n",
       "      <th>Message</th>\n",
       "      <th></th>\n",
       "      <th></th>\n",
       "      <th></th>\n",
       "    </tr>\n",
       "  </thead>\n",
       "  <tbody>\n",
       "    <tr>\n",
       "      <td>The assigned worker has failed to complete the operation</td>\n",
       "      <td>1</td>\n",
       "      <td>1</td>\n",
       "      <td>1</td>\n",
       "    </tr>\n",
       "    <tr>\n",
       "      <td>Workflow 467872d3-5a11-4f6d-a25d-f9f90e61b72d transitioned to state Failed\\n</td>\n",
       "      <td>1</td>\n",
       "      <td>1</td>\n",
       "      <td>1</td>\n",
       "    </tr>\n",
       "    <tr>\n",
       "      <td>Workflow 95c7e923-6249-4b25-a269-05984f4069af transitioned to state Failed\\n</td>\n",
       "      <td>1</td>\n",
       "      <td>1</td>\n",
       "      <td>1</td>\n",
       "    </tr>\n",
       "    <tr>\n",
       "      <td>Workflow e75a10d0-1e1c-4523-840b-982cea8e506c transitioned to state Failed\\n</td>\n",
       "      <td>1</td>\n",
       "      <td>1</td>\n",
       "      <td>1</td>\n",
       "    </tr>\n",
       "  </tbody>\n",
       "</table>\n",
       "</div>"
      ],
      "text/plain": [
       "                                                    log  sample  status\n",
       "Message                                                                \n",
       "The assigned worker has failed to complete the ...    1       1       1\n",
       "Workflow 467872d3-5a11-4f6d-a25d-f9f90e61b72d t...    1       1       1\n",
       "Workflow 95c7e923-6249-4b25-a269-05984f4069af t...    1       1       1\n",
       "Workflow e75a10d0-1e1c-4523-840b-982cea8e506c t...    1       1       1"
      ]
     },
     "execution_count": 37,
     "metadata": {},
     "output_type": "execute_result"
    }
   ],
   "source": [
    "failed_gatk_sample_df = sample_qc_df[sample_qc_df['status']=='failed gatk']\n",
    "print(\"The number of samples with failed gatk jobs: \" + str(len(failed_gatk_sample_df)))\n",
    "failed_gatk_sample=failed_gatk_sample_df['sample'].to_list()\n",
    "\n",
    "query = \"Match (j:Job:Cromwell)-[:STATUS]->(s:Dstat) WHERE j.sample IN {} and not s.status='SUCCESS' RETURN j.sample AS sample, j.logging As log, s.status AS status, s.statusMessage AS Message\".format(str(failed_gatk_sample))\n",
    "failed_gatk_dstat = graph.run(query).to_data_frame()\n",
    "print(\"The number of duplicated gatk jobs : \" + str(len(failed_gatk_dstat)))\n",
    "display(failed_gatk_dstat.head(3))\n",
    "\n",
    "failed_gatk_dstat.groupby('Message').count()"
   ]
  }
 ],
 "metadata": {
  "kernelspec": {
   "display_name": "Python 3",
   "language": "python",
   "name": "python3"
  },
  "language_info": {
   "codemirror_mode": {
    "name": "ipython",
    "version": 3
   },
   "file_extension": ".py",
   "mimetype": "text/x-python",
   "name": "python",
   "nbconvert_exporter": "python",
   "pygments_lexer": "ipython3",
   "version": "3.5.3"
  }
 },
 "nbformat": 4,
 "nbformat_minor": 4
}
