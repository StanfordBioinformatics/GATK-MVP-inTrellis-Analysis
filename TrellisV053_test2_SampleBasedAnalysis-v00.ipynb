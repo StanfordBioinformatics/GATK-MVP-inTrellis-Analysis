{
 "cells": [
  {
   "cell_type": "markdown",
   "metadata": {},
   "source": [
    "Neo4J v053 Test2 - Sample Based Analysis\n",
    "================"
   ]
  },
  {
   "cell_type": "markdown",
   "metadata": {},
   "source": [
    "## Set up the environment\n"
   ]
  },
  {
   "cell_type": "markdown",
   "metadata": {},
   "source": [
    "### Install py2neo for querying Neo4J "
   ]
  },
  {
   "cell_type": "code",
   "execution_count": 124,
   "metadata": {},
   "outputs": [],
   "source": [
    "#!pip3 install py2neo"
   ]
  },
  {
   "cell_type": "markdown",
   "metadata": {},
   "source": [
    "### Import Packages"
   ]
  },
  {
   "cell_type": "code",
   "execution_count": 125,
   "metadata": {},
   "outputs": [],
   "source": [
    "from py2neo import Graph\n",
    "import pandas as pd\n",
    "import numpy as np\n",
    "import subprocess\n",
    "import matplotlib \n",
    "import matplotlib.pyplot as plt\n",
    "import seaborn as sns\n",
    "\n",
    "#plt.style.use('fivethirtyeight')\n",
    "#plt.style.use('ggplot')\n",
    "pd.set_option('display.float_format', lambda x: '%.f' % x)"
   ]
  },
  {
   "cell_type": "markdown",
   "metadata": {},
   "source": [
    "### Load Neo4J DB"
   ]
  },
  {
   "cell_type": "code",
   "execution_count": 126,
   "metadata": {},
   "outputs": [],
   "source": [
    "graph = Graph(\"bolt://35.230.80.57:7687\", auth=(\"neo4j\", \"bZjcc1XTd71ft2oVGj7A8aU8UkttdBhRAecV4x6USC3wpeOLmCmfCAH2bAMllQQlwtzCbzLuX1TgoX-Enc7MUA\"))"
   ]
  },
  {
   "cell_type": "markdown",
   "metadata": {},
   "source": [
    "## Check the number of nodes (Fastq, Ubam, Vcf, Cram, Crai) and jobs (FQ2U, GATK)"
   ]
  },
  {
   "cell_type": "markdown",
   "metadata": {},
   "source": [
    "### The number of nodes (Fastq, Ubam, Vcf, Cram, Crai) "
   ]
  },
  {
   "cell_type": "code",
   "execution_count": 127,
   "metadata": {},
   "outputs": [
    {
     "name": "stdout",
     "output_type": "stream",
     "text": [
      "\n"
     ]
    }
   ],
   "source": [
    "# Fastq\n",
    "query = \"Match (j:Json:FromPersonalis), (f:Fastq) WHERE f.sample = j.sample RETURN j.sample AS sample, count(f) AS fastq\"\n",
    "num_fastq = graph.run(query).to_data_frame()\n",
    "num_fastq.set_index('sample')\n",
    "\n",
    "# Ubam\n",
    "query = \"Match (j:Json:FromPersonalis), (u:Ubam) WHERE u.sample = j.sample RETURN DISTINCT j.sample AS sample, count(u) AS ubam\"\n",
    "num_ubam = graph.run(query).to_data_frame()\n",
    "num_ubam.set_index('sample')\n",
    "\n",
    "# Vcf\n",
    "query = \"Match (j:Json:FromPersonalis), (v:Merged:Vcf) WHERE v.sample = j.sample RETURN DISTINCT j.sample AS sample, count(v) AS vcf\"\n",
    "num_vcf = graph.run(query).to_data_frame()\n",
    "num_vcf.set_index('sample')\n",
    "\n",
    "# Cram\n",
    "query = \"Match (j:Json:FromPersonalis), (cm:Cram) WHERE cm.sample = j.sample RETURN DISTINCT j.sample AS sample, count(cm) AS cram\"\n",
    "num_cram = graph.run(query).to_data_frame()\n",
    "num_cram.set_index('sample')\n",
    "\n",
    "# Crai\n",
    "query = \"Match (j:Json:FromPersonalis), (ci:Crai) WHERE ci.sample = j.sample RETURN DISTINCT j.sample AS sample, count(ci) AS crai\"\n",
    "num_crai = graph.run(query).to_data_frame()\n",
    "num_crai.set_index('sample')\n",
    "print(\"\")"
   ]
  },
  {
   "cell_type": "markdown",
   "metadata": {},
   "source": [
    "### The number of jobs (FQ2U, GATK) "
   ]
  },
  {
   "cell_type": "code",
   "execution_count": 128,
   "metadata": {},
   "outputs": [
    {
     "name": "stdout",
     "output_type": "stream",
     "text": [
      "\n"
     ]
    }
   ],
   "source": [
    "# Fq2u\n",
    "query = \"Match (j:Json:FromPersonalis), (e:Job:Dsub {name:'fastq-to-ubam'}) WHERE e.sample = j.sample RETURN j.sample AS sample, count(e) AS fq2u\"\n",
    "num_fq2u = graph.run(query).to_data_frame()\n",
    "num_fq2u.set_index('sample')\n",
    "\n",
    "# Gatk\n",
    "query = \"Match (j:Json:FromPersonalis), (g:Job:Cromwell) WHERE g.sample = j.sample RETURN j.sample AS sample, count(g) AS gatk\"\n",
    "num_gatk = graph.run(query).to_data_frame()\n",
    "num_gatk.set_index('sample')\n",
    "print(\"\")"
   ]
  },
  {
   "cell_type": "markdown",
   "metadata": {},
   "source": [
    "### Merge all node and job dfs to one df"
   ]
  },
  {
   "cell_type": "code",
   "execution_count": 129,
   "metadata": {},
   "outputs": [
    {
     "name": "stdout",
     "output_type": "stream",
     "text": [
      "The number of samples : 1330\n",
      "\n"
     ]
    }
   ],
   "source": [
    "#-- only nodes\n",
    "#sample_qc_df=num_fastq.merge(num_ubam, how='outer').merge(num_vcf, how='outer').merge(num_cram, how='outer').merge(num_crai, how='outer')\n",
    "#columnlist=[\"sample\",\"fastq\",\"ubam\",\"vcf\",\"cram\",\"crai\"]\n",
    "\n",
    "#-- nodes and jobs\n",
    "sample_qc_df=num_fastq.merge(num_ubam, how='outer').merge(num_vcf, how='outer').merge(num_cram, how='outer').merge(num_crai, how='outer').merge(num_fq2u,how='outer').merge(num_gatk,how='outer')\n",
    "columnlist=[\"sample\",\"fastq\",\"ubam\",\"vcf\",\"cram\",\"crai\",\"fq2u\",\"gatk\"]\n",
    "numsample=len(sample_qc_df)\n",
    "print(\"The number of samples : \" + str(numsample) + \"\\n\")\n",
    "\n",
    "sample_qc_df=sample_qc_df[columnlist]\n",
    "sample_qc_df.fillna(0,inplace=True)\n",
    "#sample_qc_df.head(3)"
   ]
  },
  {
   "cell_type": "markdown",
   "metadata": {},
   "source": [
    "### Extract issued samples (ideal)"
   ]
  },
  {
   "cell_type": "code",
   "execution_count": 130,
   "metadata": {},
   "outputs": [
    {
     "name": "stdout",
     "output_type": "stream",
     "text": [
      "The number of issued samples : 45\n",
      "\n",
      "Success Rate : 0.9661654135338346\n",
      "\n"
     ]
    }
   ],
   "source": [
    "#-- ideal node test\n",
    "#issued_sample_qc_df = sample_qc_df[(sample_qc_df['ubam']!=sample_qc_df['fastq']/2)|(sample_qc_df['vcf']!=1)|(sample_qc_df['cram']!=1)|(sample_qc_df['crai']!=1)]\n",
    "#numissuedsample=len(issued_sample_qc_df)\n",
    "\n",
    "#-- ideal node and job test\n",
    "issued_sample_qc_df = sample_qc_df[(sample_qc_df['ubam']!=sample_qc_df['fastq']/2)|(sample_qc_df['vcf']!=1)|(sample_qc_df['cram']!=1) \\\n",
    "                                   |(sample_qc_df['crai']!=1)|(sample_qc_df['fq2u']!=sample_qc_df['fastq']/2)|(sample_qc_df['gatk']!=1)]\n",
    "numissuedsample=len(issued_sample_qc_df)\n",
    "\n",
    "print(\"The number of issued samples : \" + str(numissuedsample) + \"\\n\")\n",
    "print(\"Success Rate : \" + str((numsample-numissuedsample)/numsample) + \"\\n\")\n",
    "\n",
    "#issued_sample_qc_df.head(3)"
   ]
  },
  {
   "cell_type": "markdown",
   "metadata": {},
   "source": [
    "### Extract issued samples (except the duplicated jobs)"
   ]
  },
  {
   "cell_type": "code",
   "execution_count": 131,
   "metadata": {},
   "outputs": [
    {
     "name": "stdout",
     "output_type": "stream",
     "text": [
      "The number of issued samples except the duplicated jobs : 30\n",
      "\n",
      "Success Rate including the duplicated jobs : 0.9774436090225563\n",
      "\n"
     ]
    }
   ],
   "source": [
    "#-- ideal node test\n",
    "#issued_sample_qc_df = sample_qc_df[(sample_qc_df['ubam']!=sample_qc_df['fastq']/2)|(sample_qc_df['vcf']!=1)|(sample_qc_df['cram']!=1)|(sample_qc_df['crai']!=1)]\n",
    "#numissuedsample=len(issued_sample_qc_df)\n",
    "\n",
    "#-- ideal node and job test\n",
    "issued_sample_dupj_qc_df = sample_qc_df[(sample_qc_df['ubam']!=sample_qc_df['fastq']/2)|(sample_qc_df['vcf']!=1)|(sample_qc_df['cram']!=1) \\\n",
    "                                   |(sample_qc_df['crai']!=1)|(sample_qc_df['fq2u']<sample_qc_df['fastq']/2)|(sample_qc_df['gatk']<1)]\n",
    "numissueddupjsample=len(issued_sample_dupj_qc_df)\n",
    "\n",
    "print(\"The number of issued samples except the duplicated jobs : \" + str(numissueddupjsample) + \"\\n\")\n",
    "print(\"Success Rate including the duplicated jobs : \" + str((numsample-numissueddupjsample)/numsample) + \"\\n\")\n",
    "\n",
    "#issued_sample_dupj_qc_df.head(3)"
   ]
  },
  {
   "cell_type": "markdown",
   "metadata": {},
   "source": [
    "### Extract issued samples (except the duplicated nodes and jobs)"
   ]
  },
  {
   "cell_type": "code",
   "execution_count": 132,
   "metadata": {},
   "outputs": [
    {
     "name": "stdout",
     "output_type": "stream",
     "text": [
      "The number of issued samples except duplication issues : 22\n",
      "\n",
      "Success Rate including the duplicated jobs and notes: 0.9834586466165414\n",
      "\n",
      "The number of samples with faied fq2u jobs : 15\n",
      "The number of samples without fq2u jobs : 0\n",
      "The number of samples with faied gatk jobs : 4\n",
      "The number of samples without gatk jobs : 3\n"
     ]
    },
    {
     "data": {
      "text/html": [
       "<div>\n",
       "<style scoped>\n",
       "    .dataframe tbody tr th:only-of-type {\n",
       "        vertical-align: middle;\n",
       "    }\n",
       "\n",
       "    .dataframe tbody tr th {\n",
       "        vertical-align: top;\n",
       "    }\n",
       "\n",
       "    .dataframe thead th {\n",
       "        text-align: right;\n",
       "    }\n",
       "</style>\n",
       "<table border=\"1\" class=\"dataframe\">\n",
       "  <thead>\n",
       "    <tr style=\"text-align: right;\">\n",
       "      <th></th>\n",
       "      <th>sample</th>\n",
       "      <th>fastq</th>\n",
       "      <th>ubam</th>\n",
       "      <th>vcf</th>\n",
       "      <th>cram</th>\n",
       "      <th>crai</th>\n",
       "      <th>fq2u</th>\n",
       "      <th>gatk</th>\n",
       "      <th>issue</th>\n",
       "    </tr>\n",
       "  </thead>\n",
       "  <tbody>\n",
       "    <tr>\n",
       "      <td>92</td>\n",
       "      <td>SHIP5119443</td>\n",
       "      <td>8</td>\n",
       "      <td>3</td>\n",
       "      <td>0</td>\n",
       "      <td>0</td>\n",
       "      <td>0</td>\n",
       "      <td>4</td>\n",
       "      <td>0</td>\n",
       "      <td>failed fq2u</td>\n",
       "    </tr>\n",
       "    <tr>\n",
       "      <td>175</td>\n",
       "      <td>SHIP5141860</td>\n",
       "      <td>8</td>\n",
       "      <td>3</td>\n",
       "      <td>0</td>\n",
       "      <td>0</td>\n",
       "      <td>0</td>\n",
       "      <td>4</td>\n",
       "      <td>0</td>\n",
       "      <td>failed fq2u</td>\n",
       "    </tr>\n",
       "    <tr>\n",
       "      <td>210</td>\n",
       "      <td>SHIP5141905</td>\n",
       "      <td>8</td>\n",
       "      <td>4</td>\n",
       "      <td>0</td>\n",
       "      <td>1</td>\n",
       "      <td>1</td>\n",
       "      <td>4</td>\n",
       "      <td>1</td>\n",
       "      <td>failed gatk</td>\n",
       "    </tr>\n",
       "    <tr>\n",
       "      <td>226</td>\n",
       "      <td>SHIP5119492</td>\n",
       "      <td>8</td>\n",
       "      <td>4</td>\n",
       "      <td>0</td>\n",
       "      <td>0</td>\n",
       "      <td>0</td>\n",
       "      <td>4</td>\n",
       "      <td>0</td>\n",
       "      <td>no gatk</td>\n",
       "    </tr>\n",
       "    <tr>\n",
       "      <td>233</td>\n",
       "      <td>SHIP5141891</td>\n",
       "      <td>12</td>\n",
       "      <td>6</td>\n",
       "      <td>0</td>\n",
       "      <td>0</td>\n",
       "      <td>0</td>\n",
       "      <td>6</td>\n",
       "      <td>0</td>\n",
       "      <td>no gatk</td>\n",
       "    </tr>\n",
       "    <tr>\n",
       "      <td>272</td>\n",
       "      <td>SHIP5142426</td>\n",
       "      <td>8</td>\n",
       "      <td>3</td>\n",
       "      <td>0</td>\n",
       "      <td>0</td>\n",
       "      <td>0</td>\n",
       "      <td>4</td>\n",
       "      <td>0</td>\n",
       "      <td>failed fq2u</td>\n",
       "    </tr>\n",
       "    <tr>\n",
       "      <td>392</td>\n",
       "      <td>SHIP5132721</td>\n",
       "      <td>8</td>\n",
       "      <td>3</td>\n",
       "      <td>0</td>\n",
       "      <td>0</td>\n",
       "      <td>0</td>\n",
       "      <td>4</td>\n",
       "      <td>0</td>\n",
       "      <td>failed fq2u</td>\n",
       "    </tr>\n",
       "    <tr>\n",
       "      <td>405</td>\n",
       "      <td>SHIP5142623</td>\n",
       "      <td>8</td>\n",
       "      <td>3</td>\n",
       "      <td>0</td>\n",
       "      <td>0</td>\n",
       "      <td>0</td>\n",
       "      <td>4</td>\n",
       "      <td>0</td>\n",
       "      <td>failed fq2u</td>\n",
       "    </tr>\n",
       "    <tr>\n",
       "      <td>430</td>\n",
       "      <td>SHIP5142647</td>\n",
       "      <td>8</td>\n",
       "      <td>3</td>\n",
       "      <td>0</td>\n",
       "      <td>0</td>\n",
       "      <td>0</td>\n",
       "      <td>4</td>\n",
       "      <td>0</td>\n",
       "      <td>failed fq2u</td>\n",
       "    </tr>\n",
       "    <tr>\n",
       "      <td>457</td>\n",
       "      <td>SHIP5165752</td>\n",
       "      <td>8</td>\n",
       "      <td>4</td>\n",
       "      <td>0</td>\n",
       "      <td>0</td>\n",
       "      <td>0</td>\n",
       "      <td>4</td>\n",
       "      <td>1</td>\n",
       "      <td>failed gatk</td>\n",
       "    </tr>\n",
       "    <tr>\n",
       "      <td>509</td>\n",
       "      <td>SHIP5153220</td>\n",
       "      <td>8</td>\n",
       "      <td>4</td>\n",
       "      <td>0</td>\n",
       "      <td>0</td>\n",
       "      <td>0</td>\n",
       "      <td>4</td>\n",
       "      <td>1</td>\n",
       "      <td>failed gatk</td>\n",
       "    </tr>\n",
       "    <tr>\n",
       "      <td>525</td>\n",
       "      <td>SHIP5153233</td>\n",
       "      <td>8</td>\n",
       "      <td>3</td>\n",
       "      <td>0</td>\n",
       "      <td>0</td>\n",
       "      <td>0</td>\n",
       "      <td>4</td>\n",
       "      <td>0</td>\n",
       "      <td>failed fq2u</td>\n",
       "    </tr>\n",
       "    <tr>\n",
       "      <td>752</td>\n",
       "      <td>SHIP5183667</td>\n",
       "      <td>8</td>\n",
       "      <td>3</td>\n",
       "      <td>0</td>\n",
       "      <td>0</td>\n",
       "      <td>0</td>\n",
       "      <td>4</td>\n",
       "      <td>0</td>\n",
       "      <td>failed fq2u</td>\n",
       "    </tr>\n",
       "    <tr>\n",
       "      <td>812</td>\n",
       "      <td>SHIP5183694</td>\n",
       "      <td>8</td>\n",
       "      <td>3</td>\n",
       "      <td>0</td>\n",
       "      <td>0</td>\n",
       "      <td>0</td>\n",
       "      <td>4</td>\n",
       "      <td>0</td>\n",
       "      <td>failed fq2u</td>\n",
       "    </tr>\n",
       "    <tr>\n",
       "      <td>907</td>\n",
       "      <td>SHIP5165713</td>\n",
       "      <td>8</td>\n",
       "      <td>3</td>\n",
       "      <td>0</td>\n",
       "      <td>0</td>\n",
       "      <td>0</td>\n",
       "      <td>4</td>\n",
       "      <td>0</td>\n",
       "      <td>failed fq2u</td>\n",
       "    </tr>\n",
       "    <tr>\n",
       "      <td>982</td>\n",
       "      <td>SHIP5169309</td>\n",
       "      <td>8</td>\n",
       "      <td>4</td>\n",
       "      <td>0</td>\n",
       "      <td>0</td>\n",
       "      <td>0</td>\n",
       "      <td>4</td>\n",
       "      <td>1</td>\n",
       "      <td>failed gatk</td>\n",
       "    </tr>\n",
       "    <tr>\n",
       "      <td>990</td>\n",
       "      <td>SHIP5169315</td>\n",
       "      <td>8</td>\n",
       "      <td>3</td>\n",
       "      <td>0</td>\n",
       "      <td>0</td>\n",
       "      <td>0</td>\n",
       "      <td>4</td>\n",
       "      <td>0</td>\n",
       "      <td>failed fq2u</td>\n",
       "    </tr>\n",
       "    <tr>\n",
       "      <td>1095</td>\n",
       "      <td>SHIP5169426</td>\n",
       "      <td>8</td>\n",
       "      <td>4</td>\n",
       "      <td>0</td>\n",
       "      <td>0</td>\n",
       "      <td>0</td>\n",
       "      <td>4</td>\n",
       "      <td>0</td>\n",
       "      <td>no gatk</td>\n",
       "    </tr>\n",
       "    <tr>\n",
       "      <td>1150</td>\n",
       "      <td>SHIP5169480</td>\n",
       "      <td>8</td>\n",
       "      <td>3</td>\n",
       "      <td>0</td>\n",
       "      <td>0</td>\n",
       "      <td>0</td>\n",
       "      <td>4</td>\n",
       "      <td>0</td>\n",
       "      <td>failed fq2u</td>\n",
       "    </tr>\n",
       "    <tr>\n",
       "      <td>1161</td>\n",
       "      <td>SHIP5169487</td>\n",
       "      <td>8</td>\n",
       "      <td>3</td>\n",
       "      <td>0</td>\n",
       "      <td>0</td>\n",
       "      <td>0</td>\n",
       "      <td>4</td>\n",
       "      <td>0</td>\n",
       "      <td>failed fq2u</td>\n",
       "    </tr>\n",
       "    <tr>\n",
       "      <td>1181</td>\n",
       "      <td>SHIP5169507</td>\n",
       "      <td>8</td>\n",
       "      <td>3</td>\n",
       "      <td>0</td>\n",
       "      <td>0</td>\n",
       "      <td>0</td>\n",
       "      <td>4</td>\n",
       "      <td>0</td>\n",
       "      <td>failed fq2u</td>\n",
       "    </tr>\n",
       "    <tr>\n",
       "      <td>1318</td>\n",
       "      <td>SHIP5185334</td>\n",
       "      <td>8</td>\n",
       "      <td>3</td>\n",
       "      <td>0</td>\n",
       "      <td>0</td>\n",
       "      <td>0</td>\n",
       "      <td>4</td>\n",
       "      <td>0</td>\n",
       "      <td>failed fq2u</td>\n",
       "    </tr>\n",
       "  </tbody>\n",
       "</table>\n",
       "</div>"
      ],
      "text/plain": [
       "           sample  fastq  ubam  vcf  cram  crai  fq2u  gatk        issue\n",
       "92    SHIP5119443      8     3    0     0     0     4     0  failed fq2u\n",
       "175   SHIP5141860      8     3    0     0     0     4     0  failed fq2u\n",
       "210   SHIP5141905      8     4    0     1     1     4     1  failed gatk\n",
       "226   SHIP5119492      8     4    0     0     0     4     0      no gatk\n",
       "233   SHIP5141891     12     6    0     0     0     6     0      no gatk\n",
       "272   SHIP5142426      8     3    0     0     0     4     0  failed fq2u\n",
       "392   SHIP5132721      8     3    0     0     0     4     0  failed fq2u\n",
       "405   SHIP5142623      8     3    0     0     0     4     0  failed fq2u\n",
       "430   SHIP5142647      8     3    0     0     0     4     0  failed fq2u\n",
       "457   SHIP5165752      8     4    0     0     0     4     1  failed gatk\n",
       "509   SHIP5153220      8     4    0     0     0     4     1  failed gatk\n",
       "525   SHIP5153233      8     3    0     0     0     4     0  failed fq2u\n",
       "752   SHIP5183667      8     3    0     0     0     4     0  failed fq2u\n",
       "812   SHIP5183694      8     3    0     0     0     4     0  failed fq2u\n",
       "907   SHIP5165713      8     3    0     0     0     4     0  failed fq2u\n",
       "982   SHIP5169309      8     4    0     0     0     4     1  failed gatk\n",
       "990   SHIP5169315      8     3    0     0     0     4     0  failed fq2u\n",
       "1095  SHIP5169426      8     4    0     0     0     4     0      no gatk\n",
       "1150  SHIP5169480      8     3    0     0     0     4     0  failed fq2u\n",
       "1161  SHIP5169487      8     3    0     0     0     4     0  failed fq2u\n",
       "1181  SHIP5169507      8     3    0     0     0     4     0  failed fq2u\n",
       "1318  SHIP5185334      8     3    0     0     0     4     0  failed fq2u"
      ]
     },
     "execution_count": 132,
     "metadata": {},
     "output_type": "execute_result"
    }
   ],
   "source": [
    "# ideal test\n",
    "issued_sample_dup_qc_df = sample_qc_df[(sample_qc_df['ubam']<(sample_qc_df['fastq']/2))|(sample_qc_df['vcf']<1)|(sample_qc_df['cram']<1)|(sample_qc_df['crai']<1) \\\n",
    "                                      |(sample_qc_df['crai']<1)|(sample_qc_df['fq2u']<(sample_qc_df['fastq']/2))|(sample_qc_df['gatk']<1)]\n",
    "numissueddupsample=len(issued_sample_dup_qc_df)\n",
    "\n",
    "## keep this order ----\n",
    "issued_sample_dup_qc_df.loc[((issued_sample_dup_qc_df['vcf'] < 1) | (issued_sample_dup_qc_df['cram'] < 1) | (issued_sample_dup_qc_df['crai'] < 1)) & (issued_sample_dup_qc_df['gatk']==1),'issue']=\"failed gatk\"\n",
    "issued_sample_dup_qc_df.loc[((issued_sample_dup_qc_df['vcf'] < 1) | (issued_sample_dup_qc_df['cram'] < 1) | (issued_sample_dup_qc_df['crai'] < 1)) & (issued_sample_dup_qc_df['gatk']==0),'issue']=\"no gatk\"\n",
    "\n",
    "issued_sample_dup_qc_df.loc[(issued_sample_dup_qc_df['ubam']<issued_sample_dup_qc_df['fastq']/2) & (issued_sample_dup_qc_df['fq2u']==issued_sample_dup_qc_df['fastq']/2),'issue']=\"failed fq2u\"\n",
    "issued_sample_dup_qc_df.loc[(issued_sample_dup_qc_df['ubam']<issued_sample_dup_qc_df['fastq']/2) & (issued_sample_dup_qc_df['fq2u']<issued_sample_dup_qc_df['fastq']/2),'issue']=\"no fq2u\"\n",
    "## --------------------\n",
    "\n",
    "print(\"The number of issued samples except duplication issues : \" + str(numissueddupsample) + \"\\n\")\n",
    "print(\"Success Rate including the duplicated jobs and notes: \" + str((numsample-numissueddupsample)/numsample) + \"\\n\")\n",
    "\n",
    "print(\"The number of samples with faied fq2u jobs : \" + str(len(issued_sample_dup_qc_df[issued_sample_dup_qc_df['issue']=='failed fq2u'])))\n",
    "print(\"The number of samples without fq2u jobs : \" + str(len(issued_sample_dup_qc_df[issued_sample_dup_qc_df['issue']=='no fq2u'])))\n",
    "print(\"The number of samples with faied gatk jobs : \" + str(len(issued_sample_dup_qc_df[issued_sample_dup_qc_df['issue']=='failed gatk'])))\n",
    "print(\"The number of samples without gatk jobs : \" + str(len(issued_sample_dup_qc_df[issued_sample_dup_qc_df['issue']=='no gatk'])))\n",
    "\n",
    "issued_sample_dup_qc_df.head(25)"
   ]
  },
  {
   "cell_type": "markdown",
   "metadata": {},
   "source": [
    "## Check the log list and the dstat message of issued jobs"
   ]
  },
  {
   "cell_type": "markdown",
   "metadata": {},
   "source": [
    "### Failed Fq2u"
   ]
  },
  {
   "cell_type": "code",
   "execution_count": 145,
   "metadata": {},
   "outputs": [
    {
     "name": "stdout",
     "output_type": "stream",
     "text": [
      "The number of duplicated fq2u jobs : 15\n"
     ]
    },
    {
     "data": {
      "text/html": [
       "<div>\n",
       "<style scoped>\n",
       "    .dataframe tbody tr th:only-of-type {\n",
       "        vertical-align: middle;\n",
       "    }\n",
       "\n",
       "    .dataframe tbody tr th {\n",
       "        vertical-align: top;\n",
       "    }\n",
       "\n",
       "    .dataframe thead th {\n",
       "        text-align: right;\n",
       "    }\n",
       "</style>\n",
       "<table border=\"1\" class=\"dataframe\">\n",
       "  <thead>\n",
       "    <tr style=\"text-align: right;\">\n",
       "      <th></th>\n",
       "      <th>Message</th>\n",
       "      <th>log</th>\n",
       "      <th>sample</th>\n",
       "      <th>status</th>\n",
       "    </tr>\n",
       "  </thead>\n",
       "  <tbody>\n",
       "    <tr>\n",
       "      <td>0</td>\n",
       "      <td>to gbsc-gcp-project-mvp-test-from-personalis-...</td>\n",
       "      <td>gs://gbsc-gcp-project-mvp-test-from-personalis...</td>\n",
       "      <td>SHIP5119443</td>\n",
       "      <td>FAILURE</td>\n",
       "    </tr>\n",
       "    <tr>\n",
       "      <td>1</td>\n",
       "      <td>ServiceException: 401 Anonymous caller does no...</td>\n",
       "      <td>gs://gbsc-gcp-project-mvp-test-from-personalis...</td>\n",
       "      <td>SHIP5141860</td>\n",
       "      <td>FAILURE</td>\n",
       "    </tr>\n",
       "    <tr>\n",
       "      <td>2</td>\n",
       "      <td>ServiceException: 401 Anonymous caller does no...</td>\n",
       "      <td>gs://gbsc-gcp-project-mvp-test-from-personalis...</td>\n",
       "      <td>SHIP5142426</td>\n",
       "      <td>FAILURE</td>\n",
       "    </tr>\n",
       "  </tbody>\n",
       "</table>\n",
       "</div>"
      ],
      "text/plain": [
       "                                             Message  \\\n",
       "0   to gbsc-gcp-project-mvp-test-from-personalis-...   \n",
       "1  ServiceException: 401 Anonymous caller does no...   \n",
       "2  ServiceException: 401 Anonymous caller does no...   \n",
       "\n",
       "                                                 log       sample   status  \n",
       "0  gs://gbsc-gcp-project-mvp-test-from-personalis...  SHIP5119443  FAILURE  \n",
       "1  gs://gbsc-gcp-project-mvp-test-from-personalis...  SHIP5141860  FAILURE  \n",
       "2  gs://gbsc-gcp-project-mvp-test-from-personalis...  SHIP5142426  FAILURE  "
      ]
     },
     "metadata": {},
     "output_type": "display_data"
    },
    {
     "data": {
      "text/html": [
       "<div>\n",
       "<style scoped>\n",
       "    .dataframe tbody tr th:only-of-type {\n",
       "        vertical-align: middle;\n",
       "    }\n",
       "\n",
       "    .dataframe tbody tr th {\n",
       "        vertical-align: top;\n",
       "    }\n",
       "\n",
       "    .dataframe thead th {\n",
       "        text-align: right;\n",
       "    }\n",
       "</style>\n",
       "<table border=\"1\" class=\"dataframe\">\n",
       "  <thead>\n",
       "    <tr style=\"text-align: right;\">\n",
       "      <th></th>\n",
       "      <th>log</th>\n",
       "      <th>sample</th>\n",
       "      <th>status</th>\n",
       "    </tr>\n",
       "    <tr>\n",
       "      <th>Message</th>\n",
       "      <th></th>\n",
       "      <th></th>\n",
       "      <th></th>\n",
       "    </tr>\n",
       "  </thead>\n",
       "  <tbody>\n",
       "    <tr>\n",
       "      <td>to gbsc-gcp-project-mvp-test-from-personalis-wgs35-logs.\\nServiceException: 401 Anonymous caller does not have storage.objects.list access to gbsc-gcp-project-mvp-test-from-personalis-wgs35-logs.\\nServiceException: 401 Anonymous caller does not have storage.objects.list access to gbsc-gcp-project-mvp-test-from-personalis-wgs35-logs.\\nServiceException: 401 Anonymous caller does not have storage.objects.list access to gbsc-gcp-project-mvp-test-from-personalis-wgs35-logs.\\nServiceException: 401 Anonymous caller does not have storage.objects.list access to gbsc-gcp-project-mvp-test-from-personalis-wgs35-logs.\\nServiceException: 401 Anonymous caller does not have storage.objects.list access to gbsc-gcp-project-mvp-test-from-personalis-wgs35-logs.\\nServiceException: 401 Anonymous caller does not have storage.objects.list access to gbsc-gcp-project-mvp-test-from-personalis-wgs35-logs.\\nServiceException: 401 Anonymous caller does not have storage.objects.list access to gbsc-gcp-project-mvp-test-from-personalis-wgs35-logs.\\n</td>\n",
       "      <td>1</td>\n",
       "      <td>1</td>\n",
       "      <td>1</td>\n",
       "    </tr>\n",
       "    <tr>\n",
       "      <td>ServiceException: 401 Anonymous caller does not have storage.objects.list access to gbsc-gcp-project-mvp-test-from-personalis-wgs35-logs.\\nServiceException: 401 Anonymous caller does not have storage.objects.list access to gbsc-gcp-project-mvp-test-from-personalis-wgs35-logs.\\nServiceException: 401 Anonymous caller does not have storage.objects.list access to gbsc-gcp-project-mvp-test-from-personalis-wgs35-logs.\\n</td>\n",
       "      <td>14</td>\n",
       "      <td>14</td>\n",
       "      <td>14</td>\n",
       "    </tr>\n",
       "  </tbody>\n",
       "</table>\n",
       "</div>"
      ],
      "text/plain": [
       "                                                    log  sample  status\n",
       "Message                                                                \n",
       " to gbsc-gcp-project-mvp-test-from-personalis-w...    1       1       1\n",
       "ServiceException: 401 Anonymous caller does not...   14      14      14"
      ]
     },
     "execution_count": 145,
     "metadata": {},
     "output_type": "execute_result"
    }
   ],
   "source": [
    "failed_fq2u=issued_sample_dup_qc_df[issued_sample_dup_qc_df['issue']==\"failed fq2u\"]\n",
    "failed_fq2u_sample=failed_fq2u['sample'].to_list()\n",
    "\n",
    "query = \"Match (j:Job:Dsub)-[:STATUS]->(s:Dstat) WHERE j.sample IN {} and not s.status='SUCCESS' RETURN j.sample AS sample, j.logging As log, s.status AS status, s.statusMessage AS Message\".format(str(failed_fq2u_sample))\n",
    "failed_fq2u_dstat = graph.run(query).to_data_frame()\n",
    "print(\"The number of duplicated fq2u jobs : \" + str(len(failed_fq2u_dstat)))\n",
    "display(failed_fq2u_dstat.head(3))\n",
    "\n",
    "failed_fq2u_dstat.groupby('Message').count()"
   ]
  },
  {
   "cell_type": "markdown",
   "metadata": {},
   "source": [
    "### Failed GATK"
   ]
  },
  {
   "cell_type": "code",
   "execution_count": 134,
   "metadata": {},
   "outputs": [
    {
     "name": "stdout",
     "output_type": "stream",
     "text": [
      "The number of duplicated gatk jobs : 4\n"
     ]
    },
    {
     "data": {
      "text/html": [
       "<div>\n",
       "<style scoped>\n",
       "    .dataframe tbody tr th:only-of-type {\n",
       "        vertical-align: middle;\n",
       "    }\n",
       "\n",
       "    .dataframe tbody tr th {\n",
       "        vertical-align: top;\n",
       "    }\n",
       "\n",
       "    .dataframe thead th {\n",
       "        text-align: right;\n",
       "    }\n",
       "</style>\n",
       "<table border=\"1\" class=\"dataframe\">\n",
       "  <thead>\n",
       "    <tr style=\"text-align: right;\">\n",
       "      <th></th>\n",
       "      <th>Message</th>\n",
       "      <th>log</th>\n",
       "      <th>sample</th>\n",
       "      <th>status</th>\n",
       "    </tr>\n",
       "  </thead>\n",
       "  <tbody>\n",
       "    <tr>\n",
       "      <td>0</td>\n",
       "      <td>The assigned worker has failed to complete the...</td>\n",
       "      <td>gs://gbsc-gcp-project-mvp-test-from-personalis...</td>\n",
       "      <td>SHIP5141905</td>\n",
       "      <td>FAILURE</td>\n",
       "    </tr>\n",
       "    <tr>\n",
       "      <td>1</td>\n",
       "      <td>Workflow 467872d3-5a11-4f6d-a25d-f9f90e61b72d ...</td>\n",
       "      <td>gs://gbsc-gcp-project-mvp-test-from-personalis...</td>\n",
       "      <td>SHIP5165752</td>\n",
       "      <td>FAILURE</td>\n",
       "    </tr>\n",
       "    <tr>\n",
       "      <td>2</td>\n",
       "      <td>Workflow e75a10d0-1e1c-4523-840b-982cea8e506c ...</td>\n",
       "      <td>gs://gbsc-gcp-project-mvp-test-from-personalis...</td>\n",
       "      <td>SHIP5153220</td>\n",
       "      <td>FAILURE</td>\n",
       "    </tr>\n",
       "  </tbody>\n",
       "</table>\n",
       "</div>"
      ],
      "text/plain": [
       "                                             Message  \\\n",
       "0  The assigned worker has failed to complete the...   \n",
       "1  Workflow 467872d3-5a11-4f6d-a25d-f9f90e61b72d ...   \n",
       "2  Workflow e75a10d0-1e1c-4523-840b-982cea8e506c ...   \n",
       "\n",
       "                                                 log       sample   status  \n",
       "0  gs://gbsc-gcp-project-mvp-test-from-personalis...  SHIP5141905  FAILURE  \n",
       "1  gs://gbsc-gcp-project-mvp-test-from-personalis...  SHIP5165752  FAILURE  \n",
       "2  gs://gbsc-gcp-project-mvp-test-from-personalis...  SHIP5153220  FAILURE  "
      ]
     },
     "metadata": {},
     "output_type": "display_data"
    },
    {
     "data": {
      "text/html": [
       "<div>\n",
       "<style scoped>\n",
       "    .dataframe tbody tr th:only-of-type {\n",
       "        vertical-align: middle;\n",
       "    }\n",
       "\n",
       "    .dataframe tbody tr th {\n",
       "        vertical-align: top;\n",
       "    }\n",
       "\n",
       "    .dataframe thead th {\n",
       "        text-align: right;\n",
       "    }\n",
       "</style>\n",
       "<table border=\"1\" class=\"dataframe\">\n",
       "  <thead>\n",
       "    <tr style=\"text-align: right;\">\n",
       "      <th></th>\n",
       "      <th>log</th>\n",
       "      <th>sample</th>\n",
       "      <th>status</th>\n",
       "    </tr>\n",
       "    <tr>\n",
       "      <th>Message</th>\n",
       "      <th></th>\n",
       "      <th></th>\n",
       "      <th></th>\n",
       "    </tr>\n",
       "  </thead>\n",
       "  <tbody>\n",
       "    <tr>\n",
       "      <td>The assigned worker has failed to complete the operation</td>\n",
       "      <td>1</td>\n",
       "      <td>1</td>\n",
       "      <td>1</td>\n",
       "    </tr>\n",
       "    <tr>\n",
       "      <td>Workflow 467872d3-5a11-4f6d-a25d-f9f90e61b72d transitioned to state Failed\\n</td>\n",
       "      <td>1</td>\n",
       "      <td>1</td>\n",
       "      <td>1</td>\n",
       "    </tr>\n",
       "    <tr>\n",
       "      <td>Workflow 95c7e923-6249-4b25-a269-05984f4069af transitioned to state Failed\\n</td>\n",
       "      <td>1</td>\n",
       "      <td>1</td>\n",
       "      <td>1</td>\n",
       "    </tr>\n",
       "    <tr>\n",
       "      <td>Workflow e75a10d0-1e1c-4523-840b-982cea8e506c transitioned to state Failed\\n</td>\n",
       "      <td>1</td>\n",
       "      <td>1</td>\n",
       "      <td>1</td>\n",
       "    </tr>\n",
       "  </tbody>\n",
       "</table>\n",
       "</div>"
      ],
      "text/plain": [
       "                                                    log  sample  status\n",
       "Message                                                                \n",
       "The assigned worker has failed to complete the ...    1       1       1\n",
       "Workflow 467872d3-5a11-4f6d-a25d-f9f90e61b72d t...    1       1       1\n",
       "Workflow 95c7e923-6249-4b25-a269-05984f4069af t...    1       1       1\n",
       "Workflow e75a10d0-1e1c-4523-840b-982cea8e506c t...    1       1       1"
      ]
     },
     "execution_count": 134,
     "metadata": {},
     "output_type": "execute_result"
    }
   ],
   "source": [
    "failed_gatk=issued_sample_dup_qc_df[issued_sample_dup_qc_df['issue']==\"failed gatk\"]\n",
    "failed_gatk_sample=failed_gatk['sample'].to_list()\n",
    "\n",
    "query = \"Match (j:Job:Cromwell)-[:STATUS]->(s:Dstat) WHERE j.sample IN {} and not s.status='SUCCESS' RETURN j.sample AS sample, j.logging As log, s.status AS status, s.statusMessage AS Message\".format(str(failed_gatk_sample))\n",
    "failed_gatk_dstat = graph.run(query).to_data_frame()\n",
    "print(\"The number of duplicated gatk jobs : \" + str(len(failed_gatk_dstat)))\n",
    "display(failed_gatk_dstat.head(3))\n",
    "\n",
    "failed_gatk_dstat.groupby('Message').count()"
   ]
  },
  {
   "cell_type": "markdown",
   "metadata": {},
   "source": [
    "### Duplicated Jobs (GATK)"
   ]
  },
  {
   "cell_type": "code",
   "execution_count": 135,
   "metadata": {},
   "outputs": [
    {
     "name": "stdout",
     "output_type": "stream",
     "text": [
      "The number of duplicated fq2u jobs : 1\n"
     ]
    },
    {
     "data": {
      "text/html": [
       "<div>\n",
       "<style scoped>\n",
       "    .dataframe tbody tr th:only-of-type {\n",
       "        vertical-align: middle;\n",
       "    }\n",
       "\n",
       "    .dataframe tbody tr th {\n",
       "        vertical-align: top;\n",
       "    }\n",
       "\n",
       "    .dataframe thead th {\n",
       "        text-align: right;\n",
       "    }\n",
       "</style>\n",
       "<table border=\"1\" class=\"dataframe\">\n",
       "  <thead>\n",
       "    <tr style=\"text-align: right;\">\n",
       "      <th></th>\n",
       "      <th>Message</th>\n",
       "      <th>log</th>\n",
       "      <th>sample</th>\n",
       "      <th>status</th>\n",
       "    </tr>\n",
       "  </thead>\n",
       "  <tbody>\n",
       "    <tr>\n",
       "      <td>0</td>\n",
       "      <td>Started running 'user-command'</td>\n",
       "      <td>gs://gbsc-gcp-project-mvp-test-from-personalis...</td>\n",
       "      <td>SHIP5141855</td>\n",
       "      <td>RUNNING</td>\n",
       "    </tr>\n",
       "  </tbody>\n",
       "</table>\n",
       "</div>"
      ],
      "text/plain": [
       "                          Message  \\\n",
       "0  Started running 'user-command'   \n",
       "\n",
       "                                                 log       sample   status  \n",
       "0  gs://gbsc-gcp-project-mvp-test-from-personalis...  SHIP5141855  RUNNING  "
      ]
     },
     "metadata": {},
     "output_type": "display_data"
    },
    {
     "data": {
      "text/html": [
       "<div>\n",
       "<style scoped>\n",
       "    .dataframe tbody tr th:only-of-type {\n",
       "        vertical-align: middle;\n",
       "    }\n",
       "\n",
       "    .dataframe tbody tr th {\n",
       "        vertical-align: top;\n",
       "    }\n",
       "\n",
       "    .dataframe thead th {\n",
       "        text-align: right;\n",
       "    }\n",
       "</style>\n",
       "<table border=\"1\" class=\"dataframe\">\n",
       "  <thead>\n",
       "    <tr style=\"text-align: right;\">\n",
       "      <th></th>\n",
       "      <th></th>\n",
       "      <th>log</th>\n",
       "      <th>sample</th>\n",
       "    </tr>\n",
       "    <tr>\n",
       "      <th>Message</th>\n",
       "      <th>status</th>\n",
       "      <th></th>\n",
       "      <th></th>\n",
       "    </tr>\n",
       "  </thead>\n",
       "  <tbody>\n",
       "    <tr>\n",
       "      <td>Started running 'user-command'</td>\n",
       "      <td>RUNNING</td>\n",
       "      <td>1</td>\n",
       "      <td>1</td>\n",
       "    </tr>\n",
       "  </tbody>\n",
       "</table>\n",
       "</div>"
      ],
      "text/plain": [
       "                                        log  sample\n",
       "Message                        status              \n",
       "Started running 'user-command' RUNNING    1       1"
      ]
     },
     "execution_count": 135,
     "metadata": {},
     "output_type": "execute_result"
    }
   ],
   "source": [
    "dupjob_sample_df = sample_qc_df[(sample_qc_df['ubam']==sample_qc_df['fastq']/2)&(sample_qc_df['vcf']==1)&(sample_qc_df['cram']==1) \\\n",
    "                                   &(sample_qc_df['crai']==1)&(sample_qc_df['fq2u']==sample_qc_df['fastq']/2)&(sample_qc_df['gatk']>1)]\n",
    "dupjob_sample=dupjob_sample_df['sample'].to_list()\n",
    "\n",
    "query = \"Match (j:Job:Cromwell)-[:STATUS]->(s:Dstat) WHERE j.sample IN {} and not s.status='SUCCESS' RETURN j.sample AS sample, j.logging As log, s.status AS status, s.statusMessage AS Message\".format(str(dupjob_sample))\n",
    "dupjob_dstat = graph.run(query).to_data_frame()\n",
    "print(\"The number of duplicated fq2u jobs : \" + str(len(dupjob_dstat)))\n",
    "display(dupjob_dstat.head(3))\n",
    "\n",
    "dupjob_dstat.groupby(['Message','status']).count()"
   ]
  },
  {
   "cell_type": "markdown",
   "metadata": {},
   "source": [
    "### Duplicated Jobs (Fq2u)"
   ]
  },
  {
   "cell_type": "code",
   "execution_count": 144,
   "metadata": {},
   "outputs": [
    {
     "name": "stdout",
     "output_type": "stream",
     "text": [
      "The number of duplicated fq2u jobs : 46\n"
     ]
    },
    {
     "data": {
      "text/plain": [
       "['SHIP4954744',\n",
       " 'SHIP4954745',\n",
       " 'SHIP5142424',\n",
       " 'SHIP5142433',\n",
       " 'SHIP5153200',\n",
       " 'SHIP5183799',\n",
       " 'SHIP5185263',\n",
       " 'SHIP5185268',\n",
       " 'SHIP5185271',\n",
       " 'SHIP5185278',\n",
       " 'SHIP5185301',\n",
       " 'SHIP5185335',\n",
       " 'SHIP5185350',\n",
       " 'SHIP5185351']"
      ]
     },
     "metadata": {},
     "output_type": "display_data"
    },
    {
     "data": {
      "text/html": [
       "<div>\n",
       "<style scoped>\n",
       "    .dataframe tbody tr th:only-of-type {\n",
       "        vertical-align: middle;\n",
       "    }\n",
       "\n",
       "    .dataframe tbody tr th {\n",
       "        vertical-align: top;\n",
       "    }\n",
       "\n",
       "    .dataframe thead th {\n",
       "        text-align: right;\n",
       "    }\n",
       "</style>\n",
       "<table border=\"1\" class=\"dataframe\">\n",
       "  <thead>\n",
       "    <tr style=\"text-align: right;\">\n",
       "      <th></th>\n",
       "      <th>Message</th>\n",
       "      <th>log</th>\n",
       "      <th>sample</th>\n",
       "      <th>status</th>\n",
       "    </tr>\n",
       "  </thead>\n",
       "  <tbody>\n",
       "    <tr>\n",
       "      <td>0</td>\n",
       "      <td>Stopped running 'prepare'</td>\n",
       "      <td>gs://gbsc-gcp-project-mvp-test-from-personalis...</td>\n",
       "      <td>SHIP4954745</td>\n",
       "      <td>RUNNING</td>\n",
       "    </tr>\n",
       "    <tr>\n",
       "      <td>1</td>\n",
       "      <td>Worker 'google-pipelines-worker-6b640db5e96c87...</td>\n",
       "      <td>gs://gbsc-gcp-project-mvp-test-from-personalis...</td>\n",
       "      <td>SHIP4954745</td>\n",
       "      <td>RUNNING</td>\n",
       "    </tr>\n",
       "    <tr>\n",
       "      <td>2</td>\n",
       "      <td>worker was terminated</td>\n",
       "      <td>gs://gbsc-gcp-project-mvp-test-from-personalis...</td>\n",
       "      <td>SHIP4954744</td>\n",
       "      <td>FAILURE</td>\n",
       "    </tr>\n",
       "  </tbody>\n",
       "</table>\n",
       "</div>"
      ],
      "text/plain": [
       "                                             Message  \\\n",
       "0                          Stopped running 'prepare'   \n",
       "1  Worker 'google-pipelines-worker-6b640db5e96c87...   \n",
       "2                              worker was terminated   \n",
       "\n",
       "                                                 log       sample   status  \n",
       "0  gs://gbsc-gcp-project-mvp-test-from-personalis...  SHIP4954745  RUNNING  \n",
       "1  gs://gbsc-gcp-project-mvp-test-from-personalis...  SHIP4954745  RUNNING  \n",
       "2  gs://gbsc-gcp-project-mvp-test-from-personalis...  SHIP4954744  FAILURE  "
      ]
     },
     "metadata": {},
     "output_type": "display_data"
    },
    {
     "data": {
      "text/html": [
       "<div>\n",
       "<style scoped>\n",
       "    .dataframe tbody tr th:only-of-type {\n",
       "        vertical-align: middle;\n",
       "    }\n",
       "\n",
       "    .dataframe tbody tr th {\n",
       "        vertical-align: top;\n",
       "    }\n",
       "\n",
       "    .dataframe thead th {\n",
       "        text-align: right;\n",
       "    }\n",
       "</style>\n",
       "<table border=\"1\" class=\"dataframe\">\n",
       "  <thead>\n",
       "    <tr style=\"text-align: right;\">\n",
       "      <th></th>\n",
       "      <th></th>\n",
       "      <th>log</th>\n",
       "      <th>sample</th>\n",
       "    </tr>\n",
       "    <tr>\n",
       "      <th>Message</th>\n",
       "      <th>status</th>\n",
       "      <th></th>\n",
       "      <th></th>\n",
       "    </tr>\n",
       "  </thead>\n",
       "  <tbody>\n",
       "    <tr>\n",
       "      <td>Started pulling 'gcr.io/gbsc-gcp-project-mvp-test/broadinstitute/gatk:4.1.0.0'</td>\n",
       "      <td>RUNNING</td>\n",
       "      <td>13</td>\n",
       "      <td>13</td>\n",
       "    </tr>\n",
       "    <tr>\n",
       "      <td>Started running 'localization'</td>\n",
       "      <td>RUNNING</td>\n",
       "      <td>15</td>\n",
       "      <td>15</td>\n",
       "    </tr>\n",
       "    <tr>\n",
       "      <td>Started running 'prepare'</td>\n",
       "      <td>RUNNING</td>\n",
       "      <td>2</td>\n",
       "      <td>2</td>\n",
       "    </tr>\n",
       "    <tr>\n",
       "      <td>Stopped pulling 'gcr.io/gbsc-gcp-project-mvp-test/broadinstitute/gatk:4.1.0.0'</td>\n",
       "      <td>RUNNING</td>\n",
       "      <td>4</td>\n",
       "      <td>4</td>\n",
       "    </tr>\n",
       "    <tr>\n",
       "      <td>Stopped running 'prepare'</td>\n",
       "      <td>RUNNING</td>\n",
       "      <td>1</td>\n",
       "      <td>1</td>\n",
       "    </tr>\n",
       "    <tr>\n",
       "      <td>Worker 'google-pipelines-worker-115ef3db30e81d0fe0ae9ac02676b21b' assigned in 'us-west1-a'</td>\n",
       "      <td>RUNNING</td>\n",
       "      <td>1</td>\n",
       "      <td>1</td>\n",
       "    </tr>\n",
       "    <tr>\n",
       "      <td>Worker 'google-pipelines-worker-6b640db5e96c874bc90e6972f27ef0ae' assigned in 'us-west1-c'</td>\n",
       "      <td>RUNNING</td>\n",
       "      <td>1</td>\n",
       "      <td>1</td>\n",
       "    </tr>\n",
       "    <tr>\n",
       "      <td>Worker 'google-pipelines-worker-882a96720b399174d1205054b74f7557' assigned in 'us-west1-a'</td>\n",
       "      <td>RUNNING</td>\n",
       "      <td>1</td>\n",
       "      <td>1</td>\n",
       "    </tr>\n",
       "    <tr>\n",
       "      <td>Worker 'google-pipelines-worker-c30f07ea065aebd51e7e2499b3023d6b' assigned in 'us-west1-a'</td>\n",
       "      <td>RUNNING</td>\n",
       "      <td>1</td>\n",
       "      <td>1</td>\n",
       "    </tr>\n",
       "    <tr>\n",
       "      <td>Worker 'google-pipelines-worker-db80acc6901b7f63ada6885d38937d65' assigned in 'us-west1-c'</td>\n",
       "      <td>RUNNING</td>\n",
       "      <td>1</td>\n",
       "      <td>1</td>\n",
       "    </tr>\n",
       "    <tr>\n",
       "      <td>worker was terminated</td>\n",
       "      <td>FAILURE</td>\n",
       "      <td>6</td>\n",
       "      <td>6</td>\n",
       "    </tr>\n",
       "  </tbody>\n",
       "</table>\n",
       "</div>"
      ],
      "text/plain": [
       "                                                            log  sample\n",
       "Message                                            status              \n",
       "Started pulling 'gcr.io/gbsc-gcp-project-mvp-te... RUNNING   13      13\n",
       "Started running 'localization'                     RUNNING   15      15\n",
       "Started running 'prepare'                          RUNNING    2       2\n",
       "Stopped pulling 'gcr.io/gbsc-gcp-project-mvp-te... RUNNING    4       4\n",
       "Stopped running 'prepare'                          RUNNING    1       1\n",
       "Worker 'google-pipelines-worker-115ef3db30e81d0... RUNNING    1       1\n",
       "Worker 'google-pipelines-worker-6b640db5e96c874... RUNNING    1       1\n",
       "Worker 'google-pipelines-worker-882a96720b39917... RUNNING    1       1\n",
       "Worker 'google-pipelines-worker-c30f07ea065aebd... RUNNING    1       1\n",
       "Worker 'google-pipelines-worker-db80acc6901b7f6... RUNNING    1       1\n",
       "worker was terminated                              FAILURE    6       6"
      ]
     },
     "execution_count": 144,
     "metadata": {},
     "output_type": "execute_result"
    }
   ],
   "source": [
    "dupjob_sample_df = sample_qc_df[(sample_qc_df['ubam']==sample_qc_df['fastq']/2)&(sample_qc_df['vcf']==1)&(sample_qc_df['cram']==1) \\\n",
    "                                   &(sample_qc_df['crai']==1)&(sample_qc_df['fq2u']>sample_qc_df['fastq']/2)&(sample_qc_df['gatk']>0)]\n",
    "dupjob_sample=dupjob_sample_df['sample'].to_list()\n",
    "\n",
    "query = \"Match (j:Job:Dsub)-[:STATUS]->(s:Dstat) WHERE j.sample IN {} and not s.status='SUCCESS' RETURN j.sample AS sample, j.logging As log, s.status AS status, s.statusMessage AS Message\".format(str(dupjob_sample))\n",
    "dupjob_dstat = graph.run(query).to_data_frame()\n",
    "print(\"The number of duplicated fq2u jobs : \" + str(len(dupjob_dstat)))\n",
    "display(dupjob_sample)\n",
    "display(dupjob_dstat.head(3))\n",
    "\n",
    "dupjob_dstat.groupby(['Message','status']).count()"
   ]
  },
  {
   "cell_type": "markdown",
   "metadata": {},
   "source": [
    "### Duplicated Job and Node"
   ]
  },
  {
   "cell_type": "code",
   "execution_count": 136,
   "metadata": {},
   "outputs": [
    {
     "name": "stdout",
     "output_type": "stream",
     "text": [
      "The number of duplicated fq2u jobs : 0\n"
     ]
    },
    {
     "data": {
      "text/html": [
       "<div>\n",
       "<style scoped>\n",
       "    .dataframe tbody tr th:only-of-type {\n",
       "        vertical-align: middle;\n",
       "    }\n",
       "\n",
       "    .dataframe tbody tr th {\n",
       "        vertical-align: top;\n",
       "    }\n",
       "\n",
       "    .dataframe thead th {\n",
       "        text-align: right;\n",
       "    }\n",
       "</style>\n",
       "<table border=\"1\" class=\"dataframe\">\n",
       "  <thead>\n",
       "    <tr style=\"text-align: right;\">\n",
       "      <th></th>\n",
       "    </tr>\n",
       "  </thead>\n",
       "  <tbody>\n",
       "  </tbody>\n",
       "</table>\n",
       "</div>"
      ],
      "text/plain": [
       "Empty DataFrame\n",
       "Columns: []\n",
       "Index: []"
      ]
     },
     "metadata": {},
     "output_type": "display_data"
    }
   ],
   "source": [
    "dupjob_sample_df = sample_qc_df[((sample_qc_df['ubam']>sample_qc_df['fastq']/2)|(sample_qc_df['vcf']>1)|(sample_qc_df['cram']>1) \\\n",
    "                                   |(sample_qc_df['crai']>1))&((sample_qc_df['fq2u']>=sample_qc_df['fastq']/2)|(sample_qc_df['gatk']>=1))]\n",
    "dupjob_sample=dupjob_sample_df['sample'].to_list()\n",
    "\n",
    "query = \"Match (j:Job:Cromwell)-[:STATUS]->(s:Dstat) WHERE j.sample IN {} and not s.status='SUCCESS' RETURN j.sample AS sample, j.logging As log, s.status AS status, s.statusMessage AS Message\".format(str(dupjob_sample))\n",
    "dupjob_dstat = graph.run(query).to_data_frame()\n",
    "print(\"The number of duplicated fq2u jobs : \" + str(len(dupjob_dstat)))\n",
    "display(dupjob_dstat.head(3))\n",
    "\n",
    "#dupjob_dstat.groupby(['Message','status']).count()"
   ]
  },
  {
   "cell_type": "markdown",
   "metadata": {},
   "source": [
    "### Issues Jobs in successful samples"
   ]
  },
  {
   "cell_type": "code",
   "execution_count": 138,
   "metadata": {},
   "outputs": [
    {
     "name": "stdout",
     "output_type": "stream",
     "text": [
      "The number of duplicated fq2u jobs : 3\n"
     ]
    },
    {
     "data": {
      "text/html": [
       "<div>\n",
       "<style scoped>\n",
       "    .dataframe tbody tr th:only-of-type {\n",
       "        vertical-align: middle;\n",
       "    }\n",
       "\n",
       "    .dataframe tbody tr th {\n",
       "        vertical-align: top;\n",
       "    }\n",
       "\n",
       "    .dataframe thead th {\n",
       "        text-align: right;\n",
       "    }\n",
       "</style>\n",
       "<table border=\"1\" class=\"dataframe\">\n",
       "  <thead>\n",
       "    <tr style=\"text-align: right;\">\n",
       "      <th></th>\n",
       "      <th>Message</th>\n",
       "      <th>log</th>\n",
       "      <th>sample</th>\n",
       "      <th>status</th>\n",
       "    </tr>\n",
       "  </thead>\n",
       "  <tbody>\n",
       "    <tr>\n",
       "      <td>0</td>\n",
       "      <td>ServiceException: 401 Anonymous caller does no...</td>\n",
       "      <td>gs://gbsc-gcp-project-mvp-test-from-personalis...</td>\n",
       "      <td>SHIP5169288</td>\n",
       "      <td>FAILURE</td>\n",
       "    </tr>\n",
       "    <tr>\n",
       "      <td>1</td>\n",
       "      <td>ServiceException: 401 Anonymous caller does no...</td>\n",
       "      <td>gs://gbsc-gcp-project-mvp-test-from-personalis...</td>\n",
       "      <td>SHIP5153375</td>\n",
       "      <td>FAILURE</td>\n",
       "    </tr>\n",
       "    <tr>\n",
       "      <td>2</td>\n",
       "      <td>ServiceException: 401 Anonymous caller does no...</td>\n",
       "      <td>gs://gbsc-gcp-project-mvp-test-from-personalis...</td>\n",
       "      <td>SHIP5169413</td>\n",
       "      <td>FAILURE</td>\n",
       "    </tr>\n",
       "  </tbody>\n",
       "</table>\n",
       "</div>"
      ],
      "text/plain": [
       "                                             Message  \\\n",
       "0  ServiceException: 401 Anonymous caller does no...   \n",
       "1  ServiceException: 401 Anonymous caller does no...   \n",
       "2  ServiceException: 401 Anonymous caller does no...   \n",
       "\n",
       "                                                 log       sample   status  \n",
       "0  gs://gbsc-gcp-project-mvp-test-from-personalis...  SHIP5169288  FAILURE  \n",
       "1  gs://gbsc-gcp-project-mvp-test-from-personalis...  SHIP5153375  FAILURE  \n",
       "2  gs://gbsc-gcp-project-mvp-test-from-personalis...  SHIP5169413  FAILURE  "
      ]
     },
     "metadata": {},
     "output_type": "display_data"
    },
    {
     "data": {
      "text/html": [
       "<div>\n",
       "<style scoped>\n",
       "    .dataframe tbody tr th:only-of-type {\n",
       "        vertical-align: middle;\n",
       "    }\n",
       "\n",
       "    .dataframe tbody tr th {\n",
       "        vertical-align: top;\n",
       "    }\n",
       "\n",
       "    .dataframe thead th {\n",
       "        text-align: right;\n",
       "    }\n",
       "</style>\n",
       "<table border=\"1\" class=\"dataframe\">\n",
       "  <thead>\n",
       "    <tr style=\"text-align: right;\">\n",
       "      <th></th>\n",
       "      <th></th>\n",
       "      <th>log</th>\n",
       "      <th>sample</th>\n",
       "    </tr>\n",
       "    <tr>\n",
       "      <th>Message</th>\n",
       "      <th>status</th>\n",
       "      <th></th>\n",
       "      <th></th>\n",
       "    </tr>\n",
       "  </thead>\n",
       "  <tbody>\n",
       "    <tr>\n",
       "      <td>ServiceException: 401 Anonymous caller does not have storage.objects.list access to gbsc-gcp-project-mvp-test-from-personalis-wgs35-logs.\\nServiceException: 401 Anonymous caller does not have storage.objects.list access to gbsc-gcp-project-mvp-test-from-personalis-wgs35-logs.\\nServiceException: 401 Anonymous caller does not have storage.objects.list access to gbsc-gcp-project-mvp-test-from-personalis-wgs35-logs.\\n</td>\n",
       "      <td>FAILURE</td>\n",
       "      <td>3</td>\n",
       "      <td>3</td>\n",
       "    </tr>\n",
       "  </tbody>\n",
       "</table>\n",
       "</div>"
      ],
      "text/plain": [
       "                                                            log  sample\n",
       "Message                                            status              \n",
       "ServiceException: 401 Anonymous caller does not... FAILURE    3       3"
      ]
     },
     "execution_count": 138,
     "metadata": {},
     "output_type": "execute_result"
    }
   ],
   "source": [
    "dupjob_sample_df = sample_qc_df[(sample_qc_df['ubam']==sample_qc_df['fastq']/2)&(sample_qc_df['vcf']==1)&(sample_qc_df['cram']==1) \\\n",
    "                                   &(sample_qc_df['crai']==1)&(sample_qc_df['fq2u']==sample_qc_df['fastq']/2)&(sample_qc_df['gatk']==1)]\n",
    "dupjob_sample=dupjob_sample_df['sample'].to_list()\n",
    "\n",
    "query = \"Match (j:Job:Dsub)-[:STATUS]->(s:Dstat) WHERE j.sample IN {} and not s.status='SUCCESS' RETURN j.sample AS sample, j.logging As log, s.status AS status, s.statusMessage AS Message\".format(str(dupjob_sample))\n",
    "dupjob_dstat = graph.run(query).to_data_frame()\n",
    "print(\"The number of duplicated fq2u jobs : \" + str(len(dupjob_dstat)))\n",
    "display(dupjob_dstat.head(3))\n",
    "\n",
    "dupjob_dstat.groupby(['Message','status']).count()"
   ]
  },
  {
   "cell_type": "markdown",
   "metadata": {},
   "source": [
    "## Check the relationship informaiton of successful samples"
   ]
  },
  {
   "cell_type": "markdown",
   "metadata": {},
   "source": [
    "### fq2u issued relationship of successful samples"
   ]
  },
  {
   "cell_type": "code",
   "execution_count": 139,
   "metadata": {},
   "outputs": [
    {
     "data": {
      "text/plain": [
       "1285"
      ]
     },
     "metadata": {},
     "output_type": "display_data"
    },
    {
     "name": "stdout",
     "output_type": "stream",
     "text": [
      "The number of samples without the relationship between fq2u and ubam: 3\n"
     ]
    },
    {
     "data": {
      "text/html": [
       "<div>\n",
       "<style scoped>\n",
       "    .dataframe tbody tr th:only-of-type {\n",
       "        vertical-align: middle;\n",
       "    }\n",
       "\n",
       "    .dataframe tbody tr th {\n",
       "        vertical-align: top;\n",
       "    }\n",
       "\n",
       "    .dataframe thead th {\n",
       "        text-align: right;\n",
       "    }\n",
       "</style>\n",
       "<table border=\"1\" class=\"dataframe\">\n",
       "  <thead>\n",
       "    <tr style=\"text-align: right;\">\n",
       "      <th></th>\n",
       "      <th>sample_no_fq2utoubam</th>\n",
       "    </tr>\n",
       "  </thead>\n",
       "  <tbody>\n",
       "    <tr>\n",
       "      <td>0</td>\n",
       "      <td>SHIP5119430</td>\n",
       "    </tr>\n",
       "    <tr>\n",
       "      <td>1</td>\n",
       "      <td>SHIP5153310</td>\n",
       "    </tr>\n",
       "    <tr>\n",
       "      <td>2</td>\n",
       "      <td>SHIP5185260</td>\n",
       "    </tr>\n",
       "  </tbody>\n",
       "</table>\n",
       "</div>"
      ],
      "text/plain": [
       "  sample_no_fq2utoubam\n",
       "0          SHIP5119430\n",
       "1          SHIP5153310\n",
       "2          SHIP5185260"
      ]
     },
     "metadata": {},
     "output_type": "display_data"
    }
   ],
   "source": [
    "norelation_sample_df = sample_qc_df[(sample_qc_df['ubam']==sample_qc_df['fastq']/2)&(sample_qc_df['vcf']==1)&(sample_qc_df['cram']==1) \\\n",
    "                                   &(sample_qc_df['crai']==1)&(sample_qc_df['fq2u']==sample_qc_df['fastq']/2)&(sample_qc_df['gatk']==1)]\n",
    "norelation_sample=dupjob_sample_df['sample'].to_list()\n",
    "display(len(norelation_sample))\n",
    "\n",
    "query = \"Match (:Fastq)-[:INPUT_TO]->(j:Job:Dsub) WHERE not (j)-[:OUTPUT]->(:Ubam) and j.sample IN {} RETURN distinct j.sample AS sample_no_fq2utoubam\".format(str(norelation_sample))\n",
    "norelation_ubam = graph.run(query).to_data_frame()\n",
    "print(\"The number of samples without the relationship between fq2u and ubam: \" + str(len(norelation_ubam)))\n",
    "\n",
    "display(norelation_ubam.head(3))\n",
    "#display(set(norelation_sample)-set(norelation_dstat['sample']))"
   ]
  },
  {
   "cell_type": "markdown",
   "metadata": {},
   "source": [
    "### gatk issued relationship of successful samples"
   ]
  },
  {
   "cell_type": "code",
   "execution_count": 140,
   "metadata": {},
   "outputs": [
    {
     "data": {
      "text/plain": [
       "1285"
      ]
     },
     "metadata": {},
     "output_type": "display_data"
    },
    {
     "name": "stdout",
     "output_type": "stream",
     "text": [
      "The number of samples without the relationship between gatk and outputs: 0\n"
     ]
    },
    {
     "data": {
      "text/html": [
       "<div>\n",
       "<style scoped>\n",
       "    .dataframe tbody tr th:only-of-type {\n",
       "        vertical-align: middle;\n",
       "    }\n",
       "\n",
       "    .dataframe tbody tr th {\n",
       "        vertical-align: top;\n",
       "    }\n",
       "\n",
       "    .dataframe thead th {\n",
       "        text-align: right;\n",
       "    }\n",
       "</style>\n",
       "<table border=\"1\" class=\"dataframe\">\n",
       "  <thead>\n",
       "    <tr style=\"text-align: right;\">\n",
       "      <th></th>\n",
       "    </tr>\n",
       "  </thead>\n",
       "  <tbody>\n",
       "  </tbody>\n",
       "</table>\n",
       "</div>"
      ],
      "text/plain": [
       "Empty DataFrame\n",
       "Columns: []\n",
       "Index: []"
      ]
     },
     "metadata": {},
     "output_type": "display_data"
    }
   ],
   "source": [
    "norelation_sample_df = sample_qc_df[(sample_qc_df['ubam']==sample_qc_df['fastq']/2)&(sample_qc_df['vcf']==1)&(sample_qc_df['cram']==1) \\\n",
    "                                   &(sample_qc_df['crai']==1)&(sample_qc_df['fq2u']==sample_qc_df['fastq']/2)&(sample_qc_df['gatk']==1)]\n",
    "norelation_sample=dupjob_sample_df['sample'].to_list()\n",
    "display(len(norelation_sample))\n",
    "\n",
    "query = \"Match (j:Job:Cromewell) WHERE (not (:Ubam)-[:INPUT_TO]->(j) or not (j)-[:OUTPUT]->(:Merged:Vcf) or not (j)-[:OUTPUT]->(:Cram) or not (j)-[:OUTPUT]->(:Crai)) and (j.sample IN {}) RETURN distinct j.sample AS sample_missed_output\".format(str(norelation_sample))\n",
    "norelation_output = graph.run(query).to_data_frame()\n",
    "print(\"The number of samples without the relationship between gatk and outputs: \" + str(len(norelation_output)))\n",
    "\n",
    "display(norelation_output.head(3))\n",
    "#display(set(norelation_sample)-set(norelation_dstat['sample']))"
   ]
  }
 ],
 "metadata": {
  "kernelspec": {
   "display_name": "Python 3",
   "language": "python",
   "name": "python3"
  },
  "language_info": {
   "codemirror_mode": {
    "name": "ipython",
    "version": 3
   },
   "file_extension": ".py",
   "mimetype": "text/x-python",
   "name": "python",
   "nbconvert_exporter": "python",
   "pygments_lexer": "ipython3",
   "version": "3.5.3"
  }
 },
 "nbformat": 4,
 "nbformat_minor": 4
}
