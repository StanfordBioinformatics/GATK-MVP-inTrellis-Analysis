{
 "cells": [
  {
   "cell_type": "markdown",
   "metadata": {},
   "source": [
    "Neo4J v053 Test2\n",
    "================"
   ]
  },
  {
   "cell_type": "markdown",
   "metadata": {},
   "source": [
    "## Set up the environment\n"
   ]
  },
  {
   "cell_type": "markdown",
   "metadata": {},
   "source": [
    "### Install py2neo for querying Neo4J "
   ]
  },
  {
   "cell_type": "code",
   "execution_count": 155,
   "metadata": {},
   "outputs": [],
   "source": [
    "#!pip3 install py2neo"
   ]
  },
  {
   "cell_type": "markdown",
   "metadata": {},
   "source": [
    "### Import Packages"
   ]
  },
  {
   "cell_type": "code",
   "execution_count": 156,
   "metadata": {},
   "outputs": [],
   "source": [
    "from py2neo import Graph\n",
    "import pandas as pd\n",
    "import numpy as np\n",
    "import subprocess\n",
    "import matplotlib \n",
    "import matplotlib.pyplot as plt\n",
    "import seaborn as sns\n",
    "\n",
    "#plt.style.use('fivethirtyeight')\n",
    "#plt.style.use('ggplot')\n",
    "pd.set_option('display.float_format', lambda x: '%.f' % x)"
   ]
  },
  {
   "cell_type": "markdown",
   "metadata": {},
   "source": [
    "### Load Neo4J DB"
   ]
  },
  {
   "cell_type": "code",
   "execution_count": 157,
   "metadata": {},
   "outputs": [],
   "source": [
    "graph = Graph(\"bolt://35.230.80.57:7687\", auth=(\"neo4j\", \"bZjcc1XTd71ft2oVGj7A8aU8UkttdBhRAecV4x6USC3wpeOLmCmfCAH2bAMllQQlwtzCbzLuX1TgoX-Enc7MUA\"))"
   ]
  },
  {
   "cell_type": "markdown",
   "metadata": {},
   "source": [
    "## Count inputs and outputs"
   ]
  },
  {
   "cell_type": "markdown",
   "metadata": {},
   "source": [
    "### Sample Count by Plate"
   ]
  },
  {
   "cell_type": "code",
   "execution_count": 158,
   "metadata": {},
   "outputs": [
    {
     "name": "stderr",
     "output_type": "stream",
     "text": [
      "Failed to write data to connection ('35.230.80.57', 7687) (Address(host='35.230.80.57', port=7687)); (\"104; 'Connection reset by peer'\")\n"
     ]
    },
    {
     "name": "stdout",
     "output_type": "stream",
     "text": [
      "The number of plates : 14\n",
      "The number of samples : 1330\n"
     ]
    }
   ],
   "source": [
    "query = \"MATCH (n:Fastq) WITH n.sample AS sample, n.plate AS plate RETURN plate, count(distinct sample) AS count\"\n",
    "samples_plate = graph.run(query).to_data_frame()\n",
    "\n",
    "columnlist=[\"plate\",\"count\"]\n",
    "samples_plate=samples_plate[columnlist]\n",
    "\n",
    "n_sample = samples_plate['count'].sum()\n",
    "n_plate = len(samples_plate['plate'])\n",
    "\n",
    "print('The number of plates : ' + str(n_plate))\n",
    "print('The number of samples : ' + str(n_sample))\n",
    "\n",
    "## Display the number of samples by plate\n",
    "#samples_plate"
   ]
  },
  {
   "cell_type": "markdown",
   "metadata": {},
   "source": [
    "### Node Count (Fastq, Ubam, Cram, Crai, Vcf)"
   ]
  },
  {
   "cell_type": "code",
   "execution_count": 159,
   "metadata": {},
   "outputs": [
    {
     "data": {
      "text/html": [
       "<div>\n",
       "<style scoped>\n",
       "    .dataframe tbody tr th:only-of-type {\n",
       "        vertical-align: middle;\n",
       "    }\n",
       "\n",
       "    .dataframe tbody tr th {\n",
       "        vertical-align: top;\n",
       "    }\n",
       "\n",
       "    .dataframe thead th {\n",
       "        text-align: right;\n",
       "    }\n",
       "</style>\n",
       "<table border=\"1\" class=\"dataframe\">\n",
       "  <thead>\n",
       "    <tr style=\"text-align: right;\">\n",
       "      <th></th>\n",
       "      <th>label</th>\n",
       "      <th>expected</th>\n",
       "      <th>count</th>\n",
       "      <th>samples</th>\n",
       "    </tr>\n",
       "  </thead>\n",
       "  <tbody>\n",
       "    <tr>\n",
       "      <td>0</td>\n",
       "      <td>Json:FromPersonalis</td>\n",
       "      <td>1330</td>\n",
       "      <td>1330</td>\n",
       "      <td>1330</td>\n",
       "    </tr>\n",
       "    <tr>\n",
       "      <td>1</td>\n",
       "      <td>Fastq</td>\n",
       "      <td>10546</td>\n",
       "      <td>10546</td>\n",
       "      <td>1330</td>\n",
       "    </tr>\n",
       "    <tr>\n",
       "      <td>2</td>\n",
       "      <td>Ubam</td>\n",
       "      <td>5273</td>\n",
       "      <td>5259</td>\n",
       "      <td>1330</td>\n",
       "    </tr>\n",
       "    <tr>\n",
       "      <td>3</td>\n",
       "      <td>Cram</td>\n",
       "      <td>1330</td>\n",
       "      <td>1312</td>\n",
       "      <td>1309</td>\n",
       "    </tr>\n",
       "    <tr>\n",
       "      <td>4</td>\n",
       "      <td>Crai</td>\n",
       "      <td>1330</td>\n",
       "      <td>1313</td>\n",
       "      <td>1309</td>\n",
       "    </tr>\n",
       "    <tr>\n",
       "      <td>5</td>\n",
       "      <td>Merged:Vcf</td>\n",
       "      <td>1330</td>\n",
       "      <td>1309</td>\n",
       "      <td>1308</td>\n",
       "    </tr>\n",
       "  </tbody>\n",
       "</table>\n",
       "</div>"
      ],
      "text/plain": [
       "                 label  expected  count  samples\n",
       "0  Json:FromPersonalis      1330   1330     1330\n",
       "1                Fastq     10546  10546     1330\n",
       "2                 Ubam      5273   5259     1330\n",
       "3                 Cram      1330   1312     1309\n",
       "4                 Crai      1330   1313     1309\n",
       "5           Merged:Vcf      1330   1309     1308"
      ]
     },
     "execution_count": 159,
     "metadata": {},
     "output_type": "execute_result"
    }
   ],
   "source": [
    "result = {\"label\": [], \"count\": [], \"samples\": []}\n",
    "nodelist = [\"Json:FromPersonalis\", \"Fastq\", \"Ubam\", \"Cram\", \"Crai\", \"Merged:Vcf\"]\n",
    "\n",
    "for label in nodelist:\n",
    "    query1 = \"MATCH (n:{}) RETURN count(n) as count\".format(label)\n",
    "    count = graph.run(query1).to_data_frame().iloc[0]['count']\n",
    "    query2 = \"MATCH (n:{}) RETURN count(distinct n.sample) as samples\".format(label)\n",
    "    samples = graph.run(query2).to_data_frame().iloc[0]['samples']\n",
    "    result[\"label\"].append(label)\n",
    "    result[\"count\"].append(count)\n",
    "    result[\"samples\"].append(samples)\n",
    "    \n",
    "nodes_df=pd.DataFrame(data=result)\n",
    "nodes_df['expected']=[n_sample, nodes_df['count'][1], nodes_df['count'][1]/2, n_sample, n_sample, n_sample]\n",
    "#nodes_df['missed']=nodes_df['expected']-nodes_df['count']\n",
    "#nodes_df['successful_rate'] = (nodes_df['expected']-nodes_df['samples'])\n",
    "\n",
    "n_fastq = nodes_df['count'][1]\n",
    "n_ubam = nodes_df['count'][2]\n",
    "n_cram = nodes_df['count'][3]\n",
    "n_crai = nodes_df['count'][4]\n",
    "n_vcf = nodes_df['count'][5]\n",
    "\n",
    "# # Display\n",
    "# print('The number of fastqs : ' + str(n_fastq))\n",
    "# print('The number of ubams : ' + str(n_ubam))\n",
    "# print('The number of crams : ' + str(n_cram))\n",
    "# print('The number of crais : ' + str(n_crai))\n",
    "# print('The number of vcfs : ' + str(n_vcf))\n",
    "\n",
    "# Display\n",
    "columnlist=[\"label\",\"expected\",\"count\",\"samples\"]\n",
    "nodes_df=nodes_df[columnlist]\n",
    "nodes_df"
   ]
  },
  {
   "cell_type": "markdown",
   "metadata": {},
   "source": [
    "### Distribution of the number of Fastq of per sample"
   ]
  },
  {
   "cell_type": "code",
   "execution_count": 160,
   "metadata": {},
   "outputs": [
    {
     "data": {
      "image/png": "[encoded data removed]",
      "text/plain": [
       "<Figure size 432x288 with 1 Axes>"
      ]
     },
     "metadata": {
      "needs_background": "light"
     },
     "output_type": "display_data"
    }
   ],
   "source": [
    "query = \"MATCH (n:Fastq) WITH n.sample as sample, n.plate as plate, COLLECT(n) AS fastqs RETURN size(fastqs) as fastq_num, sample, plate\"\n",
    "fastqs_df = graph.run(query).to_data_frame()\n",
    "fastqs_dist=fastqs_df.groupby(['fastq_num']).count().reset_index()\n",
    "\n",
    "# Figure\n",
    "fastqs_dist.plot(kind='bar', x='fastq_num', y='sample', legend=None)\n",
    "plt.yscale(\"linear\")\n",
    "plt.title(\"Distribution of the number of Fastq of per sample\",fontsize=16)\n",
    "plt.xlabel(\"fastqs/sample\")\n",
    "plt.ylabel(\"# of samples\")\n",
    "plt.xticks(rotation=0)\n",
    "\n",
    "label_ypos=fastqs_dist[\"sample\"]+20\n",
    "\n",
    "for i in range(len(fastqs_dist['fastq_num'])):\n",
    "    plt.text(x = i-0.1, y =label_ypos[i], s =fastqs_dist[\"sample\"][i], size = 12, color = 'r')\n",
    "plt.show()"
   ]
  },
  {
   "cell_type": "markdown",
   "metadata": {},
   "source": [
    "## Check : Fastq to Ubam"
   ]
  },
  {
   "cell_type": "markdown",
   "metadata": {},
   "source": [
    "### Successful Rate of Fastq-to-Ubam\n",
    "with output(ubam) point-of-view"
   ]
  },
  {
   "cell_type": "markdown",
   "metadata": {},
   "source": [
    "#### Successful / Failed Fastqs"
   ]
  },
  {
   "cell_type": "code",
   "execution_count": 161,
   "metadata": {},
   "outputs": [
    {
     "name": "stdout",
     "output_type": "stream",
     "text": [
      "The number of fastqs successfully converted to Ubam: 10510\n",
      "The number of fastqs missed Ubam : 36\n",
      "The number of samples successfully converted to Ubam : 1312\n",
      "The number of samples missed Ubam : 18\n",
      "\n",
      "\n",
      "The successful rate of Fastq-to-Ubam (fastq base) : 99.65863834629243%\n",
      "The successful rate of Fastq-to-Ubam (sample base) : 98.64661654135338%\n"
     ]
    }
   ],
   "source": [
    "query = \"MATCH (n:Fastq) WHERE ((n)-[*]->(:Job:Dsub {name:'fastq-to-ubam'})-[*]->(:Ubam)) RETURN count(n)\"\n",
    "fastqs_toubam = graph.run(query).to_series()\n",
    "print(\"The number of fastqs successfully converted to Ubam: \" + str(fastqs_toubam[0]))\n",
    "\n",
    "query = \"MATCH (n:Fastq) WHERE not (n)-[*]->(:Job:Dsub {name:'fastq-to-ubam'})-[*]->(:Ubam) RETURN count(n)\"\n",
    "fastqs_missedubam = graph.run(query).to_series()\n",
    "print(\"The number of fastqs missed Ubam : \" + str(fastqs_missedubam[0]))\n",
    "\n",
    "query = \"MATCH (n:Fastq) WHERE not (n)-[*]->(:Job:Dsub {name:'fastq-to-ubam'})-[*]->(:Ubam) RETURN count(distinct n.sample)\"\n",
    "samples_missedubam = graph.run(query).to_series()\n",
    "\n",
    "\n",
    "print(\"The number of samples successfully converted to Ubam : \" + str(n_sample-samples_missedubam[0]))\n",
    "print(\"The number of samples missed Ubam : \" + str(samples_missedubam[0]))\n",
    "print(\"\\n\")\n",
    "print(\"The successful rate of Fastq-to-Ubam (fastq base) : \" + str(100*(fastqs_toubam[0]/n_fastq)) + \"%\")\n",
    "print(\"The successful rate of Fastq-to-Ubam (sample base) : \" + str(100*((n_sample-samples_missedubam[0])/n_sample)) + \"%\")"
   ]
  },
  {
   "cell_type": "markdown",
   "metadata": {},
   "source": [
    "#### Job-related ubams / Duplicated ubams"
   ]
  },
  {
   "cell_type": "code",
   "execution_count": 192,
   "metadata": {},
   "outputs": [
    {
     "name": "stdout",
     "output_type": "stream",
     "text": [
      "The number of ubam without job information: 4\n",
      "The number of ubam with job information: 5255\n"
     ]
    },
    {
     "data": {
      "text/html": [
       "<div>\n",
       "<style scoped>\n",
       "    .dataframe tbody tr th:only-of-type {\n",
       "        vertical-align: middle;\n",
       "    }\n",
       "\n",
       "    .dataframe tbody tr th {\n",
       "        vertical-align: top;\n",
       "    }\n",
       "\n",
       "    .dataframe thead th {\n",
       "        text-align: right;\n",
       "    }\n",
       "</style>\n",
       "<table border=\"1\" class=\"dataframe\">\n",
       "  <thead>\n",
       "    <tr style=\"text-align: right;\">\n",
       "      <th></th>\n",
       "      <th>cnt</th>\n",
       "      <th>ubam</th>\n",
       "    </tr>\n",
       "  </thead>\n",
       "  <tbody>\n",
       "    <tr>\n",
       "      <td>958</td>\n",
       "      <td>2</td>\n",
       "      <td>SHIP5119429_2.ubam</td>\n",
       "    </tr>\n",
       "  </tbody>\n",
       "</table>\n",
       "</div>"
      ],
      "text/plain": [
       "     cnt                ubam\n",
       "958    2  SHIP5119429_2.ubam"
      ]
     },
     "execution_count": 192,
     "metadata": {},
     "output_type": "execute_result"
    }
   ],
   "source": [
    "query1 = \"MATCH (u:Ubam) WHERE not (:Job:Dsub {name:'fastq-to-ubam'})-[:OUTPUT]->(u) RETURN u.basename\"\n",
    "onlyubam = graph.run(query1).to_series()\n",
    "print(\"The number of ubam without job information: \" + str(len(onlyubam)))\n",
    "\n",
    "query2 = \"MATCH (u:Ubam) WHERE (:Job:Dsub {name:'fastq-to-ubam'})-[:OUTPUT]->(u) RETURN u.basename\"\n",
    "ubamwithjob = graph.run(query2).to_series()\n",
    "print(\"The number of ubam with job information: \" + str(len(ubamwithjob)))\n",
    "\n",
    "query3 = \"MATCH (u:Ubam) RETURN distinct u.basename AS ubam, count(u.basename) AS cnt\"\n",
    "duplicatedubam = graph.run(query3).to_data_frame()\n",
    "duplicatedubam[duplicatedubam['cnt']>1]\n",
    "#print(\"The number of ubam without job information: \" + str(len(onlyubam)))\n"
   ]
  },
  {
   "cell_type": "markdown",
   "metadata": {},
   "source": [
    "### Failed Fastq list, File Size\n",
    "\n",
    "Input point-of-view (Fastq)"
   ]
  },
  {
   "cell_type": "markdown",
   "metadata": {},
   "source": [
    "#### Failed Fastq list\n"
   ]
  },
  {
   "cell_type": "code",
   "execution_count": 162,
   "metadata": {},
   "outputs": [],
   "source": [
    "query = \"MATCH (n:Fastq) WHERE not (n)-[*]->(:Job:Dsub {name:'fastq-to-ubam'})-[*]->(:Ubam) RETURN n.basename as basename, n.sample as sample\"\n",
    "fastqs_missedubam_list = graph.run(query).to_data_frame()\n",
    "#fastqs_missedubam_list.sort_values('sample')\n",
    "\n",
    "#sample_missedubam = fastqs_missedubam_list.groupby(['sample']).count()\n",
    "#sample_missedubam"
   ]
  },
  {
   "cell_type": "markdown",
   "metadata": {},
   "source": [
    "#### Histogram of Fastq file size\n"
   ]
  },
  {
   "cell_type": "code",
   "execution_count": 163,
   "metadata": {},
   "outputs": [
    {
     "data": {
      "image/png": "[encoded data removed]",
      "text/plain": [
       "<Figure size 1080x360 with 2 Axes>"
      ]
     },
     "metadata": {
      "needs_background": "light"
     },
     "output_type": "display_data"
    }
   ],
   "source": [
    "query1 = \"MATCH (n:Fastq) WHERE (n)-[*]->(:Job:Dsub {name:'fastq-to-ubam'})-[*]->(:Ubam) RETURN n.basename as basename, n.sample as sample, n.size as size\"\n",
    "successful_fastqs_filesize = graph.run(query1).to_data_frame()\n",
    "\n",
    "query2 = \"MATCH (n:Fastq) WHERE not (n)-[*]->(:Job:Dsub {name:'fastq-to-ubam'})-[*]->(:Ubam) RETURN n.basename as basename, n.sample as sample, n.size as size\"\n",
    "failed_fastqs_filesize = graph.run(query2).to_data_frame()\n",
    "\n",
    "fig = plt.figure(figsize=(15,5))\n",
    "ax1=fig.add_subplot(121)\n",
    "ax1.hist(successful_fastqs_filesize['size'], bins=[0,5e9,10e9,15e9,20e9,25e9,30e9], color='blue', alpha = 0.5)\n",
    "ax1.set_title('Frequency of filesize for the successful fastqs')\n",
    "ax2=fig.add_subplot(122)\n",
    "ax2.hist(failed_fastqs_filesize['size'],[0,5e9,10e9,15e9,20e9,25e9,30e9],color='red', alpha = 0.5)\n",
    "ax2.set_title('Frequency of filesize for the failed fastqs')\n",
    "plt.show()"
   ]
  },
  {
   "cell_type": "markdown",
   "metadata": {},
   "source": [
    "### Running Time\n",
    "\n",
    "Job point-of-view (FastqTobam)\n",
    "- included duplcated jobs"
   ]
  },
  {
   "cell_type": "markdown",
   "metadata": {},
   "source": [
    "#### FastqtoUbam Jobs"
   ]
  },
  {
   "cell_type": "code",
   "execution_count": 220,
   "metadata": {},
   "outputs": [
    {
     "name": "stdout",
     "output_type": "stream",
     "text": [
      "The number of total FastqtoUbam jobs : 5317\n",
      "The list of fastqs in duplicated jobs \n",
      "\n",
      "The number of duplicated jobs : 44\n"
     ]
    }
   ],
   "source": [
    "query = \"MATCH (j:Job:Dsub {name:'fastq-to-ubam'}) WITH j.sample AS Sample, j.dsubJobId AS FastqToUbamID, j.input_FASTQ_1 AS FASTQ1, j.input_FASTQ_2 AS FASTQ2, j.durationMinutes AS FastqToUbamRuntime RETURN FastqToUbamID, Sample, FastqToUbamRuntime, FASTQ1, FASTQ2\"\n",
    "total_fastqs = graph.run(query).to_data_frame()\n",
    "\n",
    "print(\"The number of total FastqtoUbam jobs : \" + str(len(total_fastqs)))\n",
    "total_fastqs.head(3)\n",
    "\n",
    "## duplcation check \n",
    "if len(total_fastqs) == len(total_fastqs['FASTQ1'].unique()):\n",
    "    print(\"Check duplication of FastqToUbam : \" + \" No duplcated job\")\n",
    "else:\n",
    "    t_count=total_fastqs.groupby(['FASTQ1']).count().reset_index()\n",
    "    print(\"The list of fastqs in duplicated jobs \\n\")\n",
    "    print(\"The number of duplicated jobs : \" + str(len(t_count.loc[t_count.FastqToUbamID > 1,:])))\n",
    "    #print(t_count.loc[t_count.FastqToUbamID > 1,'FASTQ1'])"
   ]
  },
  {
   "cell_type": "markdown",
   "metadata": {},
   "source": [
    "#### Successful FastqtoUbam Jobs"
   ]
  },
  {
   "cell_type": "code",
   "execution_count": 221,
   "metadata": {},
   "outputs": [
    {
     "name": "stdout",
     "output_type": "stream",
     "text": [
      "The number of successful FastqtoUbam jobs : 5255\n",
      "Check duplication of FastqToUbam :  No duplcated job\n"
     ]
    }
   ],
   "source": [
    "query = \"MATCH (j:Job:Dsub {name:'fastq-to-ubam'}) WHERE (j)-[:OUTPUT]->(:Ubam) WITH j.sample AS Sample, j.dsubJobId AS FastqToUbamID, j.input_FASTQ_1 AS FASTQ1, j.input_FASTQ_2 AS FASTQ2, j.durationMinutes AS FastqToUbamRuntime RETURN FastqToUbamID, Sample, FastqToUbamRuntime, FASTQ1, FASTQ2\"\n",
    "successful_fastqs = graph.run(query).to_data_frame()\n",
    "\n",
    "print(\"The number of successful FastqtoUbam jobs : \" + str(len(successful_fastqs)))\n",
    "successful_fastqs.head(3)\n",
    "\n",
    "## duplcation check \n",
    "if len(successful_fastqs) == len(successful_fastqs['FASTQ1'].unique()):\n",
    "    print(\"Check duplication of FastqToUbam : \" + \" No duplcated job\")\n",
    "else:\n",
    "    s_count=successful_fastqs.groupby(['FASTQ1']).count().reset_index()\n",
    "    print(\"The number of duplicated jobs : \" + str(len(s_count.loc[t_count.FastqToUbamID > 1,:])))\n",
    "    print(\"The list of fastqs in duplicated jobs \\n\")\n",
    "    print(s_count.loc[s_count.FastqToUbamID > 1,'FASTQ1'])"
   ]
  },
  {
   "cell_type": "markdown",
   "metadata": {},
   "source": [
    "#### Failed FastqtoUbam Jobs"
   ]
  },
  {
   "cell_type": "code",
   "execution_count": 222,
   "metadata": {},
   "outputs": [
    {
     "name": "stdout",
     "output_type": "stream",
     "text": [
      "The number of failed FastqtoUbam jobs : 62\n",
      "Check duplication of FastqToUbam :  No duplcated job\n"
     ]
    }
   ],
   "source": [
    "query = \"MATCH (j:Job:Dsub {name:'fastq-to-ubam'}) WHERE not (j)-[:OUTPUT]->(:Ubam) WITH j.sample AS Sample, j.dsubJobId AS FastqToUbamID, \\\n",
    "j.input_FASTQ_1 AS FASTQ1, j.input_FASTQ_2 AS FASTQ2, j.durationMinutes AS FastqToUbamRuntime, j.logging AS log \\\n",
    "RETURN FastqToUbamID, Sample, FastqToUbamRuntime, FASTQ1, FASTQ2, log\"\n",
    "failed_fastqs = graph.run(query).to_data_frame()\n",
    "\n",
    "print(\"The number of failed FastqtoUbam jobs : \" + str(len(failed_fastqs)))\n",
    "failed_fastqs.head(3)\n",
    "\n",
    "## duplcation check \n",
    "if len(failed_fastqs) == len(failed_fastqs['FASTQ1'].unique()):\n",
    "    print(\"Check duplication of FastqToUbam : \" + \" No duplcated job\")\n",
    "else:\n",
    "    f_count=failed_fastqs.groupby(['FASTQ1']).count().reset_index()\n",
    "    print(\"The number of duplicated jobs : \" + str(len(f_count.loc[t_count.FastqToUbamID > 1,:])))\n",
    "    print(\"The list of fastqs in duplicated jobs \\n\")\n",
    "    print(f_count.loc[f_count.FastqToUbamID > 1,'FASTQ1'])"
   ]
  },
  {
   "cell_type": "markdown",
   "metadata": {},
   "source": [
    "#### Histogram of Running Time"
   ]
  },
  {
   "cell_type": "code",
   "execution_count": 167,
   "metadata": {},
   "outputs": [
    {
     "data": {
      "image/png": "[encoded data removed]",
      "text/plain": [
       "<Figure size 1080x360 with 2 Axes>"
      ]
     },
     "metadata": {
      "needs_background": "light"
     },
     "output_type": "display_data"
    }
   ],
   "source": [
    "fig = plt.figure(figsize=(15,5))\n",
    "ax1=fig.add_subplot(121)\n",
    "ax1.hist(successful_fastqs['FastqToUbamRuntime'],bins=[0,25,50,75,100,150,200,250],color='blue', alpha = 0.5)\n",
    "ax1.set_title('Frequency of FastqToUbam Runtime for the successful fastqs')\n",
    "ax2=fig.add_subplot(122)\n",
    "ax2.hist(failed_fastqs['FastqToUbamRuntime'],bins=[0,25,50,75,100,150,200,250],color='red', alpha = 0.5)\n",
    "ax2.set_title('Frequency of FastqToUbam Runtime for the failed fastqs')\n",
    "plt.show()"
   ]
  },
  {
   "cell_type": "markdown",
   "metadata": {},
   "source": [
    "### Log file analysis (Failed FastqtoUbam Jobs)"
   ]
  },
  {
   "cell_type": "markdown",
   "metadata": {},
   "source": [
    "#### The number of log files"
   ]
  },
  {
   "cell_type": "code",
   "execution_count": 178,
   "metadata": {},
   "outputs": [
    {
     "name": "stdout",
     "output_type": "stream",
     "text": [
      "The number of log of failed jobs : 62\n",
      "The number of failed jobs missing log files : 31\n"
     ]
    }
   ],
   "source": [
    "failedloglist=list(failed_fastqs['log'])\n",
    "f = open(\"./failed_FQ2U_log_v053.txt\", 'w')\n",
    "missinglog = 0 \n",
    "for i in failedloglist:\n",
    "    try:\n",
    "        output = str(subprocess.check_output('gsutil ls ' + i, shell=True),'utf-8')\n",
    "        f.write(output)\n",
    "    except:\n",
    "        missinglog += 1\n",
    "        f.write(\"Unexpected error:\" + i +'\\n')\n",
    "f.close()\n",
    "\n",
    "print(\"The number of log of failed jobs : \" + str(len(failedloglist)))\n",
    "print(\"The number of failed jobs missing log files : \" + str(missinglog))"
   ]
  },
  {
   "cell_type": "markdown",
   "metadata": {},
   "source": [
    "#### Log file Analysis"
   ]
  },
  {
   "cell_type": "code",
   "execution_count": 179,
   "metadata": {},
   "outputs": [
    {
     "data": {
      "text/plain": [
       "'gs://gbsc-gcp-project-mvp-test-from-personalis-wgs35-logs/DVALABP000432/SHIP5119430/fastq-to-ubam/190923-210052-214-338fde07/logs/fq2u-338fd--trellis--190923-210052-48-stderr.log'"
      ]
     },
     "metadata": {},
     "output_type": "display_data"
    },
    {
     "data": {
      "text/plain": [
       "'[Mon Sep 23 21:45:28 UTC 2019] picard.sam.FastqToSam done. Elapsed time: 39.57 minutes.\\n'"
      ]
     },
     "metadata": {},
     "output_type": "display_data"
    },
    {
     "data": {
      "text/plain": [
       "'gs://gbsc-gcp-project-mvp-test-from-personalis-wgs35-logs/DVALABP000432/SHIP5119443/fastq-to-ubam/190923-210159-275-0a670108/logs/fq2u-0a670--trellis--190923-210159-67-stderr.log'"
      ]
     },
     "metadata": {},
     "output_type": "display_data"
    },
    {
     "data": {
      "text/plain": [
       "'[Mon Sep 23 21:44:48 UTC 2019] picard.sam.FastqToSam done. Elapsed time: 37.88 minutes.\\n'"
      ]
     },
     "metadata": {},
     "output_type": "display_data"
    },
    {
     "data": {
      "text/plain": [
       "'gs://gbsc-gcp-project-mvp-test-from-personalis-wgs35-logs/DVALABP000444/SHIP5141860/fastq-to-ubam/190923-210233-506-d0e1bafa/logs/fq2u-d0e1b--trellis--190923-210234-07-stderr.log'"
      ]
     },
     "metadata": {},
     "output_type": "display_data"
    },
    {
     "data": {
      "text/plain": [
       "'[Mon Sep 23 22:22:37 UTC 2019] picard.sam.FastqToSam done. Elapsed time: 71.52 minutes.\\n'"
      ]
     },
     "metadata": {},
     "output_type": "display_data"
    },
    {
     "data": {
      "text/plain": [
       "'gs://gbsc-gcp-project-mvp-test-from-personalis-wgs35-logs/DVALABP000450/SHIP5142426/fastq-to-ubam/190923-210257-282-d99f9023/logs/fq2u-d99f9--trellis--190923-210258-00-stderr.log'"
      ]
     },
     "metadata": {},
     "output_type": "display_data"
    },
    {
     "data": {
      "text/plain": [
       "'[Mon Sep 23 21:49:44 UTC 2019] picard.sam.FastqToSam done. Elapsed time: 41.76 minutes.\\n'"
      ]
     },
     "metadata": {},
     "output_type": "display_data"
    },
    {
     "data": {
      "text/plain": [
       "'gs://gbsc-gcp-project-mvp-test-from-personalis-wgs35-logs/DVALABP000452/SHIP5142623/fastq-to-ubam/190923-214123-110-14c9d42d/logs/fq2u-14c9d--trellis--190923-214123-38-stderr.log'"
      ]
     },
     "metadata": {},
     "output_type": "display_data"
    },
    {
     "data": {
      "text/plain": [
       "'[Mon Sep 23 22:30:31 UTC 2019] picard.sam.FastqToSam done. Elapsed time: 43.33 minutes.\\n'"
      ]
     },
     "metadata": {},
     "output_type": "display_data"
    },
    {
     "data": {
      "text/plain": [
       "'gs://gbsc-gcp-project-mvp-test-from-personalis-wgs35-logs/DVALABP000452/SHIP5132721/fastq-to-ubam/190923-214247-191-ec0be248/logs/fq2u-ec0be--trellis--190923-214247-49-stderr.log'"
      ]
     },
     "metadata": {},
     "output_type": "display_data"
    },
    {
     "data": {
      "text/plain": [
       "'[Mon Sep 23 22:33:27 UTC 2019] picard.sam.FastqToSam done. Elapsed time: 42.87 minutes.\\n'"
      ]
     },
     "metadata": {},
     "output_type": "display_data"
    },
    {
     "data": {
      "text/plain": [
       "'gs://gbsc-gcp-project-mvp-test-from-personalis-wgs35-logs/DVALABP000453/SHIP5153233/fastq-to-ubam/190923-214627-196-5e21babc/logs/fq2u-5e21b--trellis--190923-214627-71-stderr.log'"
      ]
     },
     "metadata": {},
     "output_type": "display_data"
    },
    {
     "data": {
      "text/plain": [
       "'[Mon Sep 23 22:38:22 UTC 2019] picard.sam.FastqToSam done. Elapsed time: 46.21 minutes.\\n'"
      ]
     },
     "metadata": {},
     "output_type": "display_data"
    },
    {
     "data": {
      "text/plain": [
       "'gs://gbsc-gcp-project-mvp-test-from-personalis-wgs35-logs/DVALABP000454/SHIP5153310/fastq-to-ubam/190924-000414-416-d5839493/logs/fq2u-d5839--trellis--190924-000414-77-stderr.log'"
      ]
     },
     "metadata": {},
     "output_type": "display_data"
    },
    {
     "data": {
      "text/plain": [
       "'[Tue Sep 24 01:00:48 UTC 2019] picard.sam.FastqToSam done. Elapsed time: 49.18 minutes.\\n'"
      ]
     },
     "metadata": {},
     "output_type": "display_data"
    },
    {
     "data": {
      "text/plain": [
       "'gs://gbsc-gcp-project-mvp-test-from-personalis-wgs35-logs/DVALABP000456/SHIP5183667/fastq-to-ubam/190924-000513-352-f8904474/logs/fq2u-f8904--trellis--190924-000513-78-stderr.log'"
      ]
     },
     "metadata": {},
     "output_type": "display_data"
    },
    {
     "data": {
      "text/plain": [
       "'[Tue Sep 24 00:54:24 UTC 2019] picard.sam.FastqToSam done. Elapsed time: 43.61 minutes.\\n'"
      ]
     },
     "metadata": {},
     "output_type": "display_data"
    },
    {
     "data": {
      "text/plain": [
       "'gs://gbsc-gcp-project-mvp-test-from-personalis-wgs35-logs/DVALABP000456/SHIP5183694/fastq-to-ubam/190924-000616-625-be6cf900/logs/fq2u-be6cf--trellis--190924-000617-20-stderr.log'"
      ]
     },
     "metadata": {},
     "output_type": "display_data"
    },
    {
     "data": {
      "text/plain": [
       "'[Tue Sep 24 01:23:53 UTC 2019] picard.sam.FastqToSam done. Elapsed time: 42.51 minutes.\\n'"
      ]
     },
     "metadata": {},
     "output_type": "display_data"
    },
    {
     "data": {
      "text/plain": [
       "'gs://gbsc-gcp-project-mvp-test-from-personalis-wgs35-logs/DVALABP000459/SHIP5165713/fastq-to-ubam/190924-004036-683-91ee56b6/logs/fq2u-91ee5--trellis--190924-004037-07-stderr.log'"
      ]
     },
     "metadata": {},
     "output_type": "display_data"
    },
    {
     "data": {
      "text/plain": [
       "'[Tue Sep 24 01:43:37 UTC 2019] picard.sam.FastqToSam done. Elapsed time: 43.33 minutes.\\n'"
      ]
     },
     "metadata": {},
     "output_type": "display_data"
    },
    {
     "data": {
      "text/plain": [
       "'gs://gbsc-gcp-project-mvp-test-from-personalis-wgs35-logs/DVALABP000463/SHIP5169507/fastq-to-ubam/190924-004516-782-038398a0/logs/fq2u-03839--trellis--190924-004517-08-stderr.log'"
      ]
     },
     "metadata": {},
     "output_type": "display_data"
    },
    {
     "data": {
      "text/plain": [
       "'[Tue Sep 24 01:35:08 UTC 2019] picard.sam.FastqToSam done. Elapsed time: 43.54 minutes.\\n'"
      ]
     },
     "metadata": {},
     "output_type": "display_data"
    },
    {
     "data": {
      "text/plain": [
       "'gs://gbsc-gcp-project-mvp-test-from-personalis-wgs35-logs/DVALABP000461/SHIP5169315/fastq-to-ubam/190924-004607-067-b8598714/logs/fq2u-b8598--trellis--190924-004607-47-stderr.log'"
      ]
     },
     "metadata": {},
     "output_type": "display_data"
    },
    {
     "data": {
      "text/plain": [
       "'[Tue Sep 24 01:41:45 UTC 2019] picard.sam.FastqToSam done. Elapsed time: 35.80 minutes.\\n'"
      ]
     },
     "metadata": {},
     "output_type": "display_data"
    },
    {
     "data": {
      "text/plain": [
       "'gs://gbsc-gcp-project-mvp-test-from-personalis-wgs35-logs/DVALABP000463/SHIP5169487/fastq-to-ubam/190924-004632-684-48378cc0/logs/fq2u-48378--trellis--190924-004633-20-stderr.log'"
      ]
     },
     "metadata": {},
     "output_type": "display_data"
    },
    {
     "data": {
      "text/plain": [
       "'[Tue Sep 24 01:55:40 UTC 2019] picard.sam.FastqToSam done. Elapsed time: 48.09 minutes.\\n'"
      ]
     },
     "metadata": {},
     "output_type": "display_data"
    },
    {
     "data": {
      "text/plain": [
       "'gs://gbsc-gcp-project-mvp-test-from-personalis-wgs35-logs/DVALABP000463/SHIP5169480/fastq-to-ubam/190924-004645-491-23d9cc4f/logs/fq2u-23d9c--trellis--190924-004646-08-stderr.log'"
      ]
     },
     "metadata": {},
     "output_type": "display_data"
    },
    {
     "data": {
      "text/plain": [
       "'[Tue Sep 24 02:18:25 UTC 2019] picard.sam.FastqToSam done. Elapsed time: 55.08 minutes.\\n'"
      ]
     },
     "metadata": {},
     "output_type": "display_data"
    },
    {
     "data": {
      "text/plain": [
       "'gs://gbsc-gcp-project-mvp-test-from-personalis-wgs35-logs/DVALABP000465/SHIP5185334/fastq-to-ubam/190924-030532-808-ce6b43f9/logs/fq2u-ce6b4--trellis--190924-030533-09-stderr.log'"
      ]
     },
     "metadata": {},
     "output_type": "display_data"
    },
    {
     "data": {
      "text/plain": [
       "'[Tue Sep 24 04:35:20 UTC 2019] picard.sam.FastqToSam done. Elapsed time: 39.72 minutes.\\n'"
      ]
     },
     "metadata": {},
     "output_type": "display_data"
    },
    {
     "data": {
      "text/plain": [
       "'gs://gbsc-gcp-project-mvp-test-from-personalis-wgs35-logs/DVALABP000465/SHIP5185260/fastq-to-ubam/190924-030530-364-df546919/logs/fq2u-df546--trellis--190924-030530-76-stderr.log'"
      ]
     },
     "metadata": {},
     "output_type": "display_data"
    },
    {
     "data": {
      "text/plain": [
       "'[Tue Sep 24 04:23:38 UTC 2019] picard.sam.FastqToSam done. Elapsed time: 42.62 minutes.\\n'"
      ]
     },
     "metadata": {},
     "output_type": "display_data"
    },
    {
     "name": "stdout",
     "output_type": "stream",
     "text": [
      "The number of failed jobs with 'done' : 17\n"
     ]
    }
   ],
   "source": [
    "fulllog = pd.read_csv('./failed_FQ2U_log_v053.txt', header=None)\n",
    "donelog = 0\n",
    "for i in fulllog[0]:\n",
    "    if 'stderr' in i:\n",
    "        try:\n",
    "            display(i)\n",
    "            donelog += 1\n",
    "            display(str(subprocess.check_output('gsutil cat ' + i + '| grep \"done\"', shell=True),'utf-8'))\n",
    "        except:\n",
    "            continue\n",
    "print(\"The number of failed jobs with 'done' : \" + str(donelog))"
   ]
  },
  {
   "cell_type": "markdown",
   "metadata": {},
   "source": [
    "### Dstat Messange"
   ]
  },
  {
   "cell_type": "markdown",
   "metadata": {},
   "source": [
    "#### Job and Dstat connection check"
   ]
  },
  {
   "cell_type": "code",
   "execution_count": 234,
   "metadata": {},
   "outputs": [
    {
     "name": "stdout",
     "output_type": "stream",
     "text": [
      "The number of successful fastq-to-ubam jobs with dstat information : 5246\n",
      "The number of successful fastq-to-ubam jobs without dstat information : 9\n",
      "The number of failed fastq-to-ubam jobs with dstat information : 62\n",
      "The number of failed fastq-to-ubam jobs with dstat information : 0\n"
     ]
    }
   ],
   "source": [
    "query1 = \"MATCH (j:Job:Dsub {name:'fastq-to-ubam'}) WHERE (j)-[:OUTPUT]->(:Ubam) and (j)-[:STATUS]->(:Dstat) RETURN count(j)\"\n",
    "dstat_fq2u_yes = graph.run(query1).to_series()\n",
    "print(\"The number of successful fastq-to-ubam jobs with dstat information : \" + str(dstat_fq2u_yes[0]))\n",
    "\n",
    "query2 = \"MATCH (j:Job:Dsub {name:'fastq-to-ubam'}) WHERE (j)-[:OUTPUT]->(:Ubam) and not (j)-[:STATUS]->(:Dstat) RETURN count(j)\"\n",
    "dstat_fq2u_no = graph.run(query2).to_series()\n",
    "print(\"The number of successful fastq-to-ubam jobs without dstat information : \" + str(dstat_fq2u_no[0]))\n",
    "\n",
    "query3 = \"MATCH (j:Job:Dsub {name:'fastq-to-ubam'}) WHERE not (j)-[:OUTPUT]->(:Ubam) and (j)-[:STATUS]->(:Dstat) RETURN count(j)\"\n",
    "dstat_fq2ux_yes = graph.run(query3).to_series()\n",
    "print(\"The number of failed fastq-to-ubam jobs with dstat information : \" + str(dstat_fq2ux_yes[0]))\n",
    "\n",
    "query4 = \"MATCH (j:Job:Dsub {name:'fastq-to-ubam'}) WHERE not (j)-[:OUTPUT]->(:Ubam) and not (j)-[:STATUS]->(:Dstat) RETURN count(j)\"\n",
    "dstat_fq2ux_no = graph.run(query4).to_series()\n",
    "print(\"The number of failed fastq-to-ubam jobs with dstat information : \" + str(dstat_fq2ux_no[0]))"
   ]
  },
  {
   "cell_type": "markdown",
   "metadata": {},
   "source": [
    "#### Job and Dstat information miss-matched cases"
   ]
  },
  {
   "cell_type": "code",
   "execution_count": 242,
   "metadata": {},
   "outputs": [
    {
     "data": {
      "text/html": [
       "<div>\n",
       "<style scoped>\n",
       "    .dataframe tbody tr th:only-of-type {\n",
       "        vertical-align: middle;\n",
       "    }\n",
       "\n",
       "    .dataframe tbody tr th {\n",
       "        vertical-align: top;\n",
       "    }\n",
       "\n",
       "    .dataframe thead th {\n",
       "        text-align: right;\n",
       "    }\n",
       "</style>\n",
       "<table border=\"1\" class=\"dataframe\">\n",
       "  <thead>\n",
       "    <tr style=\"text-align: right;\">\n",
       "      <th></th>\n",
       "      <th>DstatId</th>\n",
       "      <th>Message</th>\n",
       "      <th>log</th>\n",
       "      <th>status</th>\n",
       "    </tr>\n",
       "  </thead>\n",
       "  <tbody>\n",
       "    <tr>\n",
       "      <td>0</td>\n",
       "      <td>fq2u-c4bbd--trellis--190924-004655-08</td>\n",
       "      <td>ServiceException: 401 Anonymous caller does no...</td>\n",
       "      <td>gs://gbsc-gcp-project-mvp-test-from-personalis...</td>\n",
       "      <td>FAILURE</td>\n",
       "    </tr>\n",
       "    <tr>\n",
       "      <td>1</td>\n",
       "      <td>fq2u-dbced--trellis--190924-000633-25</td>\n",
       "      <td>ServiceException: 401 Anonymous caller does no...</td>\n",
       "      <td>gs://gbsc-gcp-project-mvp-test-from-personalis...</td>\n",
       "      <td>FAILURE</td>\n",
       "    </tr>\n",
       "    <tr>\n",
       "      <td>2</td>\n",
       "      <td>fq2u-72580--trellis--190924-004606-89</td>\n",
       "      <td>ServiceException: 401 Anonymous caller does no...</td>\n",
       "      <td>gs://gbsc-gcp-project-mvp-test-from-personalis...</td>\n",
       "      <td>FAILURE</td>\n",
       "    </tr>\n",
       "  </tbody>\n",
       "</table>\n",
       "</div>"
      ],
      "text/plain": [
       "                                 DstatId  \\\n",
       "0  fq2u-c4bbd--trellis--190924-004655-08   \n",
       "1  fq2u-dbced--trellis--190924-000633-25   \n",
       "2  fq2u-72580--trellis--190924-004606-89   \n",
       "\n",
       "                                             Message  \\\n",
       "0  ServiceException: 401 Anonymous caller does no...   \n",
       "1  ServiceException: 401 Anonymous caller does no...   \n",
       "2  ServiceException: 401 Anonymous caller does no...   \n",
       "\n",
       "                                                 log   status  \n",
       "0  gs://gbsc-gcp-project-mvp-test-from-personalis...  FAILURE  \n",
       "1  gs://gbsc-gcp-project-mvp-test-from-personalis...  FAILURE  \n",
       "2  gs://gbsc-gcp-project-mvp-test-from-personalis...  FAILURE  "
      ]
     },
     "metadata": {},
     "output_type": "display_data"
    },
    {
     "data": {
      "text/html": [
       "<div>\n",
       "<style scoped>\n",
       "    .dataframe tbody tr th:only-of-type {\n",
       "        vertical-align: middle;\n",
       "    }\n",
       "\n",
       "    .dataframe tbody tr th {\n",
       "        vertical-align: top;\n",
       "    }\n",
       "\n",
       "    .dataframe thead th {\n",
       "        text-align: right;\n",
       "    }\n",
       "</style>\n",
       "<table border=\"1\" class=\"dataframe\">\n",
       "  <thead>\n",
       "    <tr style=\"text-align: right;\">\n",
       "      <th></th>\n",
       "      <th>DstatId</th>\n",
       "      <th>Message</th>\n",
       "      <th>log</th>\n",
       "      <th>status</th>\n",
       "    </tr>\n",
       "  </thead>\n",
       "  <tbody>\n",
       "    <tr>\n",
       "      <td>0</td>\n",
       "      <td>fq2u-338fd--trellis--190923-210052-48</td>\n",
       "      <td>Success</td>\n",
       "      <td>gs://gbsc-gcp-project-mvp-test-from-personalis...</td>\n",
       "      <td>SUCCESS</td>\n",
       "    </tr>\n",
       "    <tr>\n",
       "      <td>1</td>\n",
       "      <td>fq2u-d5839--trellis--190924-000414-77</td>\n",
       "      <td>Success</td>\n",
       "      <td>gs://gbsc-gcp-project-mvp-test-from-personalis...</td>\n",
       "      <td>SUCCESS</td>\n",
       "    </tr>\n",
       "    <tr>\n",
       "      <td>2</td>\n",
       "      <td>fq2u-df546--trellis--190924-030530-76</td>\n",
       "      <td>Success</td>\n",
       "      <td>gs://gbsc-gcp-project-mvp-test-from-personalis...</td>\n",
       "      <td>SUCCESS</td>\n",
       "    </tr>\n",
       "  </tbody>\n",
       "</table>\n",
       "</div>"
      ],
      "text/plain": [
       "                                 DstatId  Message  \\\n",
       "0  fq2u-338fd--trellis--190923-210052-48  Success   \n",
       "1  fq2u-d5839--trellis--190924-000414-77  Success   \n",
       "2  fq2u-df546--trellis--190924-030530-76  Success   \n",
       "\n",
       "                                                 log   status  \n",
       "0  gs://gbsc-gcp-project-mvp-test-from-personalis...  SUCCESS  \n",
       "1  gs://gbsc-gcp-project-mvp-test-from-personalis...  SUCCESS  \n",
       "2  gs://gbsc-gcp-project-mvp-test-from-personalis...  SUCCESS  "
      ]
     },
     "metadata": {},
     "output_type": "display_data"
    },
    {
     "data": {
      "text/html": [
       "<div>\n",
       "<style scoped>\n",
       "    .dataframe tbody tr th:only-of-type {\n",
       "        vertical-align: middle;\n",
       "    }\n",
       "\n",
       "    .dataframe tbody tr th {\n",
       "        vertical-align: top;\n",
       "    }\n",
       "\n",
       "    .dataframe thead th {\n",
       "        text-align: right;\n",
       "    }\n",
       "</style>\n",
       "<table border=\"1\" class=\"dataframe\">\n",
       "  <thead>\n",
       "    <tr style=\"text-align: right;\">\n",
       "      <th></th>\n",
       "      <th>DstatId</th>\n",
       "      <th>Message</th>\n",
       "      <th>log</th>\n",
       "      <th>status</th>\n",
       "    </tr>\n",
       "  </thead>\n",
       "  <tbody>\n",
       "    <tr>\n",
       "      <td>0</td>\n",
       "      <td>fq2u-5ede9--trellis--190923-210130-58</td>\n",
       "      <td>Stopped running 'prepare'</td>\n",
       "      <td>gs://gbsc-gcp-project-mvp-test-from-personalis...</td>\n",
       "      <td>RUNNING</td>\n",
       "    </tr>\n",
       "    <tr>\n",
       "      <td>1</td>\n",
       "      <td>fq2u-5ede9--trellis--190923-210130-58</td>\n",
       "      <td>Worker 'google-pipelines-worker-6b640db5e96c87...</td>\n",
       "      <td>gs://gbsc-gcp-project-mvp-test-from-personalis...</td>\n",
       "      <td>RUNNING</td>\n",
       "    </tr>\n",
       "    <tr>\n",
       "      <td>2</td>\n",
       "      <td>fq2u-b64e2--trellis--190923-210131-58</td>\n",
       "      <td>worker was terminated</td>\n",
       "      <td>gs://gbsc-gcp-project-mvp-test-from-personalis...</td>\n",
       "      <td>FAILURE</td>\n",
       "    </tr>\n",
       "    <tr>\n",
       "      <td>3</td>\n",
       "      <td>fq2u-b8b6b--trellis--190923-210156-77</td>\n",
       "      <td>worker was terminated</td>\n",
       "      <td>gs://gbsc-gcp-project-mvp-test-from-personalis...</td>\n",
       "      <td>FAILURE</td>\n",
       "    </tr>\n",
       "    <tr>\n",
       "      <td>4</td>\n",
       "      <td>fq2u-0a670--trellis--190923-210159-67</td>\n",
       "      <td>to gbsc-gcp-project-mvp-test-from-personalis-...</td>\n",
       "      <td>gs://gbsc-gcp-project-mvp-test-from-personalis...</td>\n",
       "      <td>FAILURE</td>\n",
       "    </tr>\n",
       "    <tr>\n",
       "      <td>...</td>\n",
       "      <td>...</td>\n",
       "      <td>...</td>\n",
       "      <td>...</td>\n",
       "      <td>...</td>\n",
       "    </tr>\n",
       "    <tr>\n",
       "      <td>59</td>\n",
       "      <td>fq2u-fefe6--trellis--190924-034023-98</td>\n",
       "      <td>Stopped pulling 'gcr.io/gbsc-gcp-project-mvp-t...</td>\n",
       "      <td>gs://gbsc-gcp-project-mvp-test-from-personalis...</td>\n",
       "      <td>RUNNING</td>\n",
       "    </tr>\n",
       "    <tr>\n",
       "      <td>60</td>\n",
       "      <td>fq2u-f96ac--trellis--190924-034022-99</td>\n",
       "      <td>Stopped pulling 'gcr.io/gbsc-gcp-project-mvp-t...</td>\n",
       "      <td>gs://gbsc-gcp-project-mvp-test-from-personalis...</td>\n",
       "      <td>RUNNING</td>\n",
       "    </tr>\n",
       "    <tr>\n",
       "      <td>61</td>\n",
       "      <td>fq2u-5374c--trellis--190924-034024-96</td>\n",
       "      <td>Started running 'localization'</td>\n",
       "      <td>gs://gbsc-gcp-project-mvp-test-from-personalis...</td>\n",
       "      <td>RUNNING</td>\n",
       "    </tr>\n",
       "    <tr>\n",
       "      <td>62</td>\n",
       "      <td>fq2u-8d86b--trellis--190924-034029-83</td>\n",
       "      <td>Stopped pulling 'gcr.io/gbsc-gcp-project-mvp-t...</td>\n",
       "      <td>gs://gbsc-gcp-project-mvp-test-from-personalis...</td>\n",
       "      <td>RUNNING</td>\n",
       "    </tr>\n",
       "    <tr>\n",
       "      <td>63</td>\n",
       "      <td>fq2u-5aa1e--trellis--190924-034028-34</td>\n",
       "      <td>Started pulling 'gcr.io/gbsc-gcp-project-mvp-t...</td>\n",
       "      <td>gs://gbsc-gcp-project-mvp-test-from-personalis...</td>\n",
       "      <td>RUNNING</td>\n",
       "    </tr>\n",
       "  </tbody>\n",
       "</table>\n",
       "<p>64 rows × 4 columns</p>\n",
       "</div>"
      ],
      "text/plain": [
       "                                  DstatId  \\\n",
       "0   fq2u-5ede9--trellis--190923-210130-58   \n",
       "1   fq2u-5ede9--trellis--190923-210130-58   \n",
       "2   fq2u-b64e2--trellis--190923-210131-58   \n",
       "3   fq2u-b8b6b--trellis--190923-210156-77   \n",
       "4   fq2u-0a670--trellis--190923-210159-67   \n",
       "..                                    ...   \n",
       "59  fq2u-fefe6--trellis--190924-034023-98   \n",
       "60  fq2u-f96ac--trellis--190924-034022-99   \n",
       "61  fq2u-5374c--trellis--190924-034024-96   \n",
       "62  fq2u-8d86b--trellis--190924-034029-83   \n",
       "63  fq2u-5aa1e--trellis--190924-034028-34   \n",
       "\n",
       "                                              Message  \\\n",
       "0                           Stopped running 'prepare'   \n",
       "1   Worker 'google-pipelines-worker-6b640db5e96c87...   \n",
       "2                               worker was terminated   \n",
       "3                               worker was terminated   \n",
       "4    to gbsc-gcp-project-mvp-test-from-personalis-...   \n",
       "..                                                ...   \n",
       "59  Stopped pulling 'gcr.io/gbsc-gcp-project-mvp-t...   \n",
       "60  Stopped pulling 'gcr.io/gbsc-gcp-project-mvp-t...   \n",
       "61                     Started running 'localization'   \n",
       "62  Stopped pulling 'gcr.io/gbsc-gcp-project-mvp-t...   \n",
       "63  Started pulling 'gcr.io/gbsc-gcp-project-mvp-t...   \n",
       "\n",
       "                                                  log   status  \n",
       "0   gs://gbsc-gcp-project-mvp-test-from-personalis...  RUNNING  \n",
       "1   gs://gbsc-gcp-project-mvp-test-from-personalis...  RUNNING  \n",
       "2   gs://gbsc-gcp-project-mvp-test-from-personalis...  FAILURE  \n",
       "3   gs://gbsc-gcp-project-mvp-test-from-personalis...  FAILURE  \n",
       "4   gs://gbsc-gcp-project-mvp-test-from-personalis...  FAILURE  \n",
       "..                                                ...      ...  \n",
       "59  gs://gbsc-gcp-project-mvp-test-from-personalis...  RUNNING  \n",
       "60  gs://gbsc-gcp-project-mvp-test-from-personalis...  RUNNING  \n",
       "61  gs://gbsc-gcp-project-mvp-test-from-personalis...  RUNNING  \n",
       "62  gs://gbsc-gcp-project-mvp-test-from-personalis...  RUNNING  \n",
       "63  gs://gbsc-gcp-project-mvp-test-from-personalis...  RUNNING  \n",
       "\n",
       "[64 rows x 4 columns]"
      ]
     },
     "metadata": {},
     "output_type": "display_data"
    }
   ],
   "source": [
    "query1 = \"MATCH (j:Job:Dsub {name:'fastq-to-ubam'})-[:STATUS]->(s:Dstat) WHERE (j)-[:OUTPUT]->(:Ubam) AND not s.status = 'SUCCESS' RETURN distinct s.jobId AS DstatId, s.status AS status, s.statusMessage AS Message, s.logging AS log\"\n",
    "dstat_fq2u_yes_df = graph.run(query1).to_data_frame()\n",
    "display(dstat_fq2u_yes_df)\n",
    "\n",
    "query3 = \"MATCH (j:Job:Dsub {name:'fastq-to-ubam'})-[:STATUS]->(s:Dstat) WHERE not (j)-[:OUTPUT]->(:Ubam) AND s.status = 'SUCCESS' RETURN distinct s.jobId AS DstatId, s.status AS status, s.statusMessage AS Message, s.logging AS log\"\n",
    "dstat_fq2ux_yes_df = graph.run(query3).to_data_frame()\n",
    "display(dstat_fq2ux_yes_df)\n",
    "\n",
    "query33 = \"MATCH (j:Job:Dsub {name:'fastq-to-ubam'})-[:STATUS]->(s:Dstat) WHERE not (j)-[:OUTPUT]->(:Ubam) AND not s.status = 'SUCCESS' RETURN distinct s.jobId AS DstatId, s.status AS status, s.statusMessage AS Message, s.logging AS log\"\n",
    "dstat_fq2ux_yes_df3 = graph.run(query33).to_data_frame()\n",
    "display(dstat_fq2ux_yes_df3)"
   ]
  },
  {
   "cell_type": "markdown",
   "metadata": {},
   "source": [
    "#### Job and Dstat duplication issue check"
   ]
  },
  {
   "cell_type": "code",
   "execution_count": 248,
   "metadata": {},
   "outputs": [
    {
     "data": {
      "text/html": [
       "<div>\n",
       "<style scoped>\n",
       "    .dataframe tbody tr th:only-of-type {\n",
       "        vertical-align: middle;\n",
       "    }\n",
       "\n",
       "    .dataframe tbody tr th {\n",
       "        vertical-align: top;\n",
       "    }\n",
       "\n",
       "    .dataframe thead th {\n",
       "        text-align: right;\n",
       "    }\n",
       "</style>\n",
       "<table border=\"1\" class=\"dataframe\">\n",
       "  <thead>\n",
       "    <tr style=\"text-align: right;\">\n",
       "      <th></th>\n",
       "      <th>DstatId</th>\n",
       "      <th>FastqToUbamID</th>\n",
       "      <th>Message</th>\n",
       "      <th>log</th>\n",
       "      <th>status</th>\n",
       "    </tr>\n",
       "  </thead>\n",
       "  <tbody>\n",
       "    <tr>\n",
       "      <td>12</td>\n",
       "      <td>fq2u-0058d--trellis--190923-210056-80</td>\n",
       "      <td>fq2u-0058d--trellis--190923-210056-80</td>\n",
       "      <td>Success</td>\n",
       "      <td>gs://gbsc-gcp-project-mvp-test-from-personalis...</td>\n",
       "      <td>SUCCESS</td>\n",
       "    </tr>\n",
       "    <tr>\n",
       "      <td>13</td>\n",
       "      <td>fq2u-0058d--trellis--190923-210056-80</td>\n",
       "      <td>fq2u-0058d--trellis--190923-210056-80</td>\n",
       "      <td>Success</td>\n",
       "      <td>gs://gbsc-gcp-project-mvp-test-from-personalis...</td>\n",
       "      <td>SUCCESS</td>\n",
       "    </tr>\n",
       "    <tr>\n",
       "      <td>15</td>\n",
       "      <td>fq2u-0058d--trellis--190923-210056-80</td>\n",
       "      <td>fq2u-0058d--trellis--190923-210056-80</td>\n",
       "      <td>Success</td>\n",
       "      <td>gs://gbsc-gcp-project-mvp-test-from-personalis...</td>\n",
       "      <td>SUCCESS</td>\n",
       "    </tr>\n",
       "    <tr>\n",
       "      <td>2318</td>\n",
       "      <td>fq2u-4a0b8--trellis--190924-000034-38</td>\n",
       "      <td>fq2u-4a0b8--trellis--190924-000034-38</td>\n",
       "      <td>Success</td>\n",
       "      <td>gs://gbsc-gcp-project-mvp-test-from-personalis...</td>\n",
       "      <td>SUCCESS</td>\n",
       "    </tr>\n",
       "    <tr>\n",
       "      <td>2319</td>\n",
       "      <td>fq2u-4a0b8--trellis--190924-000034-38</td>\n",
       "      <td>fq2u-4a0b8--trellis--190924-000034-38</td>\n",
       "      <td>Success</td>\n",
       "      <td>gs://gbsc-gcp-project-mvp-test-from-personalis...</td>\n",
       "      <td>SUCCESS</td>\n",
       "    </tr>\n",
       "  </tbody>\n",
       "</table>\n",
       "</div>"
      ],
      "text/plain": [
       "                                    DstatId  \\\n",
       "12    fq2u-0058d--trellis--190923-210056-80   \n",
       "13    fq2u-0058d--trellis--190923-210056-80   \n",
       "15    fq2u-0058d--trellis--190923-210056-80   \n",
       "2318  fq2u-4a0b8--trellis--190924-000034-38   \n",
       "2319  fq2u-4a0b8--trellis--190924-000034-38   \n",
       "\n",
       "                              FastqToUbamID  Message  \\\n",
       "12    fq2u-0058d--trellis--190923-210056-80  Success   \n",
       "13    fq2u-0058d--trellis--190923-210056-80  Success   \n",
       "15    fq2u-0058d--trellis--190923-210056-80  Success   \n",
       "2318  fq2u-4a0b8--trellis--190924-000034-38  Success   \n",
       "2319  fq2u-4a0b8--trellis--190924-000034-38  Success   \n",
       "\n",
       "                                                    log   status  \n",
       "12    gs://gbsc-gcp-project-mvp-test-from-personalis...  SUCCESS  \n",
       "13    gs://gbsc-gcp-project-mvp-test-from-personalis...  SUCCESS  \n",
       "15    gs://gbsc-gcp-project-mvp-test-from-personalis...  SUCCESS  \n",
       "2318  gs://gbsc-gcp-project-mvp-test-from-personalis...  SUCCESS  \n",
       "2319  gs://gbsc-gcp-project-mvp-test-from-personalis...  SUCCESS  "
      ]
     },
     "execution_count": 248,
     "metadata": {},
     "output_type": "execute_result"
    }
   ],
   "source": [
    "query1 = \"MATCH (j:Job:Dsub {name:'fastq-to-ubam'})-[:STATUS]->(s:Dstat) WHERE (j)-[:OUTPUT]->(:Ubam) and s.jobName STARTS WITH 'fq2u' RETURN j.dsubJobId AS FastqToUbamID, s.jobId AS DstatId, s.status AS status, s.statusMessage AS Message, s.logging AS log\"\n",
    "dstat_fq2u_df = graph.run(query1).to_data_frame()\n",
    "\n",
    "query2 = \"MATCH (j:Job:Dsub {name:'fastq-to-ubam'})-[:STATUS]->(s:Dstat) WHERE (j)-[:OUTPUT]->(:Ubam) and s.jobName STARTS WITH 'fq2u' RETURN distinct j.dsubJobId AS FastqToUbamID, count(s.jobId) AS cnt\" #, s.jobId AS DstatId, s.status AS status, s.statusMessage AS Message, s.logging AS log\"\n",
    "dup_dstat_fq2u_df = graph.run(query2).to_data_frame()\n",
    "dup=dup_dstat_fq2u_df[dup_dstat_fq2u_df['cnt']>1]\n",
    "\n",
    "dstat_fq2u_df[dstat_fq2u_df['FastqToUbamID'].isin(dup['FastqToUbamID'])]"
   ]
  },
  {
   "cell_type": "code",
   "execution_count": 249,
   "metadata": {},
   "outputs": [
    {
     "data": {
      "text/html": [
       "<div>\n",
       "<style scoped>\n",
       "    .dataframe tbody tr th:only-of-type {\n",
       "        vertical-align: middle;\n",
       "    }\n",
       "\n",
       "    .dataframe tbody tr th {\n",
       "        vertical-align: top;\n",
       "    }\n",
       "\n",
       "    .dataframe thead th {\n",
       "        text-align: right;\n",
       "    }\n",
       "</style>\n",
       "<table border=\"1\" class=\"dataframe\">\n",
       "  <thead>\n",
       "    <tr style=\"text-align: right;\">\n",
       "      <th></th>\n",
       "      <th>DstatId</th>\n",
       "      <th>FastqToUbamID</th>\n",
       "      <th>Message</th>\n",
       "      <th>log</th>\n",
       "      <th>status</th>\n",
       "    </tr>\n",
       "  </thead>\n",
       "  <tbody>\n",
       "    <tr>\n",
       "      <td>0</td>\n",
       "      <td>fq2u-5ede9--trellis--190923-210130-58</td>\n",
       "      <td>fq2u-5ede9--trellis--190923-210130-58</td>\n",
       "      <td>Worker 'google-pipelines-worker-6b640db5e96c87...</td>\n",
       "      <td>gs://gbsc-gcp-project-mvp-test-from-personalis...</td>\n",
       "      <td>RUNNING</td>\n",
       "    </tr>\n",
       "    <tr>\n",
       "      <td>9</td>\n",
       "      <td>fq2u-5ede9--trellis--190923-210130-58</td>\n",
       "      <td>fq2u-5ede9--trellis--190923-210130-58</td>\n",
       "      <td>Stopped running 'prepare'</td>\n",
       "      <td>gs://gbsc-gcp-project-mvp-test-from-personalis...</td>\n",
       "      <td>RUNNING</td>\n",
       "    </tr>\n",
       "    <tr>\n",
       "      <td>10</td>\n",
       "      <td>fq2u-64f29--trellis--190923-210244-77</td>\n",
       "      <td>fq2u-64f29--trellis--190923-210244-77</td>\n",
       "      <td>Worker 'google-pipelines-worker-115ef3db30e81d...</td>\n",
       "      <td>gs://gbsc-gcp-project-mvp-test-from-personalis...</td>\n",
       "      <td>RUNNING</td>\n",
       "    </tr>\n",
       "    <tr>\n",
       "      <td>12</td>\n",
       "      <td>fq2u-fd69a--trellis--190923-210254-77</td>\n",
       "      <td>fq2u-fd69a--trellis--190923-210254-77</td>\n",
       "      <td>Worker 'google-pipelines-worker-c30f07ea065aeb...</td>\n",
       "      <td>gs://gbsc-gcp-project-mvp-test-from-personalis...</td>\n",
       "      <td>RUNNING</td>\n",
       "    </tr>\n",
       "    <tr>\n",
       "      <td>13</td>\n",
       "      <td>fq2u-64f29--trellis--190923-210244-77</td>\n",
       "      <td>fq2u-64f29--trellis--190923-210244-77</td>\n",
       "      <td>Started running 'localization'</td>\n",
       "      <td>gs://gbsc-gcp-project-mvp-test-from-personalis...</td>\n",
       "      <td>RUNNING</td>\n",
       "    </tr>\n",
       "    <tr>\n",
       "      <td>14</td>\n",
       "      <td>fq2u-fd69a--trellis--190923-210254-77</td>\n",
       "      <td>fq2u-fd69a--trellis--190923-210254-77</td>\n",
       "      <td>Started pulling 'gcr.io/gbsc-gcp-project-mvp-t...</td>\n",
       "      <td>gs://gbsc-gcp-project-mvp-test-from-personalis...</td>\n",
       "      <td>RUNNING</td>\n",
       "    </tr>\n",
       "    <tr>\n",
       "      <td>22</td>\n",
       "      <td>fq2u-519d6--trellis--190923-220104-98</td>\n",
       "      <td>fq2u-519d6--trellis--190923-220104-98</td>\n",
       "      <td>Worker 'google-pipelines-worker-882a96720b3991...</td>\n",
       "      <td>gs://gbsc-gcp-project-mvp-test-from-personalis...</td>\n",
       "      <td>RUNNING</td>\n",
       "    </tr>\n",
       "    <tr>\n",
       "      <td>23</td>\n",
       "      <td>fq2u-519d6--trellis--190923-220104-98</td>\n",
       "      <td>fq2u-519d6--trellis--190923-220104-98</td>\n",
       "      <td>Started pulling 'gcr.io/gbsc-gcp-project-mvp-t...</td>\n",
       "      <td>gs://gbsc-gcp-project-mvp-test-from-personalis...</td>\n",
       "      <td>RUNNING</td>\n",
       "    </tr>\n",
       "    <tr>\n",
       "      <td>42</td>\n",
       "      <td>fq2u-e0ce4--trellis--190924-034025-18</td>\n",
       "      <td>fq2u-e0ce4--trellis--190924-034025-18</td>\n",
       "      <td>Worker 'google-pipelines-worker-db80acc6901b7f...</td>\n",
       "      <td>gs://gbsc-gcp-project-mvp-test-from-personalis...</td>\n",
       "      <td>RUNNING</td>\n",
       "    </tr>\n",
       "    <tr>\n",
       "      <td>52</td>\n",
       "      <td>fq2u-e0ce4--trellis--190924-034025-18</td>\n",
       "      <td>fq2u-e0ce4--trellis--190924-034025-18</td>\n",
       "      <td>Started pulling 'gcr.io/gbsc-gcp-project-mvp-t...</td>\n",
       "      <td>gs://gbsc-gcp-project-mvp-test-from-personalis...</td>\n",
       "      <td>RUNNING</td>\n",
       "    </tr>\n",
       "  </tbody>\n",
       "</table>\n",
       "</div>"
      ],
      "text/plain": [
       "                                  DstatId  \\\n",
       "0   fq2u-5ede9--trellis--190923-210130-58   \n",
       "9   fq2u-5ede9--trellis--190923-210130-58   \n",
       "10  fq2u-64f29--trellis--190923-210244-77   \n",
       "12  fq2u-fd69a--trellis--190923-210254-77   \n",
       "13  fq2u-64f29--trellis--190923-210244-77   \n",
       "14  fq2u-fd69a--trellis--190923-210254-77   \n",
       "22  fq2u-519d6--trellis--190923-220104-98   \n",
       "23  fq2u-519d6--trellis--190923-220104-98   \n",
       "42  fq2u-e0ce4--trellis--190924-034025-18   \n",
       "52  fq2u-e0ce4--trellis--190924-034025-18   \n",
       "\n",
       "                            FastqToUbamID  \\\n",
       "0   fq2u-5ede9--trellis--190923-210130-58   \n",
       "9   fq2u-5ede9--trellis--190923-210130-58   \n",
       "10  fq2u-64f29--trellis--190923-210244-77   \n",
       "12  fq2u-fd69a--trellis--190923-210254-77   \n",
       "13  fq2u-64f29--trellis--190923-210244-77   \n",
       "14  fq2u-fd69a--trellis--190923-210254-77   \n",
       "22  fq2u-519d6--trellis--190923-220104-98   \n",
       "23  fq2u-519d6--trellis--190923-220104-98   \n",
       "42  fq2u-e0ce4--trellis--190924-034025-18   \n",
       "52  fq2u-e0ce4--trellis--190924-034025-18   \n",
       "\n",
       "                                              Message  \\\n",
       "0   Worker 'google-pipelines-worker-6b640db5e96c87...   \n",
       "9                           Stopped running 'prepare'   \n",
       "10  Worker 'google-pipelines-worker-115ef3db30e81d...   \n",
       "12  Worker 'google-pipelines-worker-c30f07ea065aeb...   \n",
       "13                     Started running 'localization'   \n",
       "14  Started pulling 'gcr.io/gbsc-gcp-project-mvp-t...   \n",
       "22  Worker 'google-pipelines-worker-882a96720b3991...   \n",
       "23  Started pulling 'gcr.io/gbsc-gcp-project-mvp-t...   \n",
       "42  Worker 'google-pipelines-worker-db80acc6901b7f...   \n",
       "52  Started pulling 'gcr.io/gbsc-gcp-project-mvp-t...   \n",
       "\n",
       "                                                  log   status  \n",
       "0   gs://gbsc-gcp-project-mvp-test-from-personalis...  RUNNING  \n",
       "9   gs://gbsc-gcp-project-mvp-test-from-personalis...  RUNNING  \n",
       "10  gs://gbsc-gcp-project-mvp-test-from-personalis...  RUNNING  \n",
       "12  gs://gbsc-gcp-project-mvp-test-from-personalis...  RUNNING  \n",
       "13  gs://gbsc-gcp-project-mvp-test-from-personalis...  RUNNING  \n",
       "14  gs://gbsc-gcp-project-mvp-test-from-personalis...  RUNNING  \n",
       "22  gs://gbsc-gcp-project-mvp-test-from-personalis...  RUNNING  \n",
       "23  gs://gbsc-gcp-project-mvp-test-from-personalis...  RUNNING  \n",
       "42  gs://gbsc-gcp-project-mvp-test-from-personalis...  RUNNING  \n",
       "52  gs://gbsc-gcp-project-mvp-test-from-personalis...  RUNNING  "
      ]
     },
     "metadata": {},
     "output_type": "display_data"
    }
   ],
   "source": [
    "query3 = \"MATCH (j:Job:Dsub {name:'fastq-to-ubam'})-[:STATUS]->(s:Dstat) WHERE not (j)-[:OUTPUT]->(:Ubam) and s.jobName STARTS WITH 'fq2u' RETURN j.dsubJobId AS FastqToUbamID, s.jobId AS DstatId, s.status AS status, s.statusMessage AS Message, s.logging AS log\"\n",
    "#query = \"MATCH (j:Job:Dsub {name:'fastq-to-ubam'}) WHERE (j)-[:OUTPUT]->(:Ubam) and (j)-[:STATUS]->(:Dstat) RETURN j.taskId AS FastqToUbamID, j.input_FASTQ_1 AS FASTQ1\"\n",
    "dstat_fq2u_df = graph.run(query3).to_data_frame()\n",
    "\n",
    "query4 = \"MATCH (j:Job:Dsub {name:'fastq-to-ubam'})-[:STATUS]->(s:Dstat) WHERE not (j)-[:OUTPUT]->(:Ubam) and s.jobName STARTS WITH 'fq2u' RETURN j.dsubJobId AS FastqToUbamID, count(s.jobId) AS cnt\" #, s.jobId AS DstatId, s.status AS status, s.statusMessage AS Message, s.logging AS log\"\n",
    "#query = \"MATCH (j:Job:Dsub {name:'fastq-to-ubam'}) WHERE (j)-[:OUTPUT]->(:Ubam) and (j)-[:STATUS]->(:Dstat) RETURN j.taskId AS FastqToUbamID, j.input_FASTQ_1 AS FASTQ1\"\n",
    "dup_dstat_fq2u_df = graph.run(query4).to_data_frame()\n",
    "dup=dup_dstat_fq2u_df[dup_dstat_fq2u_df['cnt']>1]\n",
    "\n",
    "display(dstat_fq2u_df[dstat_fq2u_df['FastqToUbamID'].isin(dup['FastqToUbamID'])])"
   ]
  },
  {
   "cell_type": "markdown",
   "metadata": {},
   "source": [
    "#### Copy issued file log to other back-up folder"
   ]
  },
  {
   "cell_type": "code",
   "execution_count": 95,
   "metadata": {},
   "outputs": [],
   "source": [
    "#for i in unique_dstat_fq2u_df['log']:\n",
    "#    subprocess.check_output('gsutil cp ' + i + ' gs://gbsc-gcp-project-mvp-test_user-jinasong/wgs35-logs-v053/fq2u-failed/', shell=True)"
   ]
  },
  {
   "cell_type": "markdown",
   "metadata": {},
   "source": [
    "## Ubam for GATK"
   ]
  },
  {
   "cell_type": "markdown",
   "metadata": {},
   "source": [
    "#### The number of ubams possilbe to join in GATK"
   ]
  },
  {
   "cell_type": "code",
   "execution_count": 286,
   "metadata": {},
   "outputs": [
    {
     "data": {
      "text/html": [
       "<div>\n",
       "<style scoped>\n",
       "    .dataframe tbody tr th:only-of-type {\n",
       "        vertical-align: middle;\n",
       "    }\n",
       "\n",
       "    .dataframe tbody tr th {\n",
       "        vertical-align: top;\n",
       "    }\n",
       "\n",
       "    .dataframe thead th {\n",
       "        text-align: right;\n",
       "    }\n",
       "</style>\n",
       "<table border=\"1\" class=\"dataframe\">\n",
       "  <thead>\n",
       "    <tr style=\"text-align: right;\">\n",
       "      <th></th>\n",
       "      <th>numofSamplesforGATK</th>\n",
       "      <th>numofUbamsforGATK</th>\n",
       "    </tr>\n",
       "  </thead>\n",
       "  <tbody>\n",
       "    <tr>\n",
       "      <td>0</td>\n",
       "      <td>1315</td>\n",
       "      <td>5214</td>\n",
       "    </tr>\n",
       "  </tbody>\n",
       "</table>\n",
       "</div>"
      ],
      "text/plain": [
       "   numofSamplesforGATK  numofUbamsforGATK\n",
       "0                 1315               5214"
      ]
     },
     "metadata": {},
     "output_type": "display_data"
    }
   ],
   "source": [
    "query1 = \"MATCH (n:Ubam) WITH n.sample as sample, n.setSize as setSize, COLLECT(n) AS ubams WHERE size(ubams) >= setSize UNWIND ubams as ubam_id RETURN count(distinct sample) AS numofSamplesforGATK, count(ubam_id) AS numofUbamsforGATK\"\n",
    "ubam_gatk_df = graph.run(query1).to_data_frame()\n",
    "display(ubam_gatk_df)\n",
    "\n",
    "query2 = \"MATCH (n:Ubam) WITH n.sample as sample, n.setSize as setSize, COLLECT(n) AS ubams WHERE size(ubams) >= setSize UNWIND ubams as ubam_id RETURN sample AS sample\"\n",
    "samplelist_gatk_df = graph.run(query2).to_data_frame()"
   ]
  },
  {
   "cell_type": "markdown",
   "metadata": {},
   "source": [
    "#### Ubam fie size distribution"
   ]
  },
  {
   "cell_type": "code",
   "execution_count": 257,
   "metadata": {},
   "outputs": [
    {
     "data": {
      "image/png": "[encoded data removed]",
      "text/plain": [
       "<Figure size 432x288 with 1 Axes>"
      ]
     },
     "metadata": {
      "needs_background": "light"
     },
     "output_type": "display_data"
    }
   ],
   "source": [
    "query = \"MATCH (n:Ubam) RETURN n.size AS size\"\n",
    "ubam_size_df = graph.run(query).to_data_frame()\n",
    "\n",
    "plt.hist(ubam_size_df['size'],bins=[0,5e9,10e9,15e9,20e9,25e9,30e9,35e9,40e9], color='blue', alpha = 0.5)\n",
    "plt.xticks([0,5e9,10e9,15e9,20e9,25e9,30e9,35e9,40e9])\n",
    "plt.title('Ubam file size distribution')\n",
    "plt.show()"
   ]
  },
  {
   "cell_type": "markdown",
   "metadata": {},
   "source": [
    "## CHECK : $5 GATK"
   ]
  },
  {
   "cell_type": "markdown",
   "metadata": {},
   "source": [
    "### $5 GATK - VCF"
   ]
  },
  {
   "cell_type": "markdown",
   "metadata": {},
   "source": [
    "#### The number of VCFs and duplicated VCFs"
   ]
  },
  {
   "cell_type": "code",
   "execution_count": 266,
   "metadata": {},
   "outputs": [
    {
     "name": "stdout",
     "output_type": "stream",
     "text": [
      "The number of unique vcf files : 1308\n",
      "The number of duplicated vcf files : 1\n"
     ]
    },
    {
     "data": {
      "text/html": [
       "<div>\n",
       "<style scoped>\n",
       "    .dataframe tbody tr th:only-of-type {\n",
       "        vertical-align: middle;\n",
       "    }\n",
       "\n",
       "    .dataframe tbody tr th {\n",
       "        vertical-align: top;\n",
       "    }\n",
       "\n",
       "    .dataframe thead th {\n",
       "        text-align: right;\n",
       "    }\n",
       "</style>\n",
       "<table border=\"1\" class=\"dataframe\">\n",
       "  <thead>\n",
       "    <tr style=\"text-align: right;\">\n",
       "      <th></th>\n",
       "      <th>sample</th>\n",
       "    </tr>\n",
       "  </thead>\n",
       "  <tbody>\n",
       "    <tr>\n",
       "      <td>1295</td>\n",
       "      <td>SHIP5185330</td>\n",
       "    </tr>\n",
       "    <tr>\n",
       "      <td>1297</td>\n",
       "      <td>SHIP5185330</td>\n",
       "    </tr>\n",
       "  </tbody>\n",
       "</table>\n",
       "</div>"
      ],
      "text/plain": [
       "           sample\n",
       "1295  SHIP5185330\n",
       "1297  SHIP5185330"
      ]
     },
     "execution_count": 266,
     "metadata": {},
     "output_type": "execute_result"
    }
   ],
   "source": [
    "query1 = \"MATCH (n:Merged:Vcf) WITH n.sample as sample RETURN sample\"\n",
    "samplelist_vcf_df = graph.run(query1).to_data_frame()\n",
    "\n",
    "query2 = \"MATCH (n:Merged:Vcf) WITH n.sample as sample RETURN distinct sample\"\n",
    "unique_samplelist_vcf_df = graph.run(query2).to_data_frame()\n",
    "\n",
    "print(\"The number of unique vcf files : \" + str(len(unique_samplelist_vcf_df)))\n",
    "print(\"The number of duplicated vcf files : \" + str(len(samplelist_vcf_df)-len(unique_samplelist_vcf_df)))\n",
    "\n",
    "query3 = \"MATCH (n:Merged:Vcf) WITH n.sample as nsample RETURN distinct nsample AS sample, count(nsample) AS cnt\" #, s.jobId AS DstatId, s.status AS status, s.statusMessage AS Message, s.logging AS log\"\n",
    "dup_vcf_df = graph.run(query3).to_data_frame()\n",
    "dup=dup_vcf_df[dup_vcf_df['cnt']>1]\n",
    "\n",
    "samplelist_vcf_df[samplelist_vcf_df['sample'].isin(dup['sample'])]"
   ]
  },
  {
   "cell_type": "markdown",
   "metadata": {},
   "source": [
    "#### The missed VCFs"
   ]
  },
  {
   "cell_type": "code",
   "execution_count": 291,
   "metadata": {},
   "outputs": [],
   "source": [
    "query = \" \\\n",
    "MATCH (n:Ubam) WITH n.sample as sample, n.setSize as setSize, COLLECT(n) AS ubams WHERE size(ubams) >= setSize UNWIND ubams as ubam_gatk \\\n",
    "WITH ubam_gatk \\\n",
    "WHERE not (ubam_gatk)-[*]->(:Vcf) \\\n",
    "RETURN count(ubam_gatk) AS numofUbams_missedVCF, count(distinct ubam_gatk.sample) AS numofSamples_missedVCF \\\n",
    "\"\n",
    "ubams_missedVCF = graph.run(query).to_data_frame()\n",
    "ubams_missedVCF"
   ]
  },
  {
   "cell_type": "markdown",
   "metadata": {},
   "source": [
    "### $5 GATK - CRAM"
   ]
  },
  {
   "cell_type": "markdown",
   "metadata": {},
   "source": [
    "#### The number of CRAMs and duplicated CRAMs"
   ]
  },
  {
   "cell_type": "code",
   "execution_count": 268,
   "metadata": {},
   "outputs": [
    {
     "name": "stdout",
     "output_type": "stream",
     "text": [
      "The number of unique cram files : 1309\n",
      "The number of duplicated cram files : 3\n"
     ]
    },
    {
     "data": {
      "text/html": [
       "<div>\n",
       "<style scoped>\n",
       "    .dataframe tbody tr th:only-of-type {\n",
       "        vertical-align: middle;\n",
       "    }\n",
       "\n",
       "    .dataframe tbody tr th {\n",
       "        vertical-align: top;\n",
       "    }\n",
       "\n",
       "    .dataframe thead th {\n",
       "        text-align: right;\n",
       "    }\n",
       "</style>\n",
       "<table border=\"1\" class=\"dataframe\">\n",
       "  <thead>\n",
       "    <tr style=\"text-align: right;\">\n",
       "      <th></th>\n",
       "      <th>sample</th>\n",
       "    </tr>\n",
       "  </thead>\n",
       "  <tbody>\n",
       "    <tr>\n",
       "      <td>186</td>\n",
       "      <td>SHIP5142468</td>\n",
       "    </tr>\n",
       "    <tr>\n",
       "      <td>439</td>\n",
       "      <td>SHIP5142468</td>\n",
       "    </tr>\n",
       "    <tr>\n",
       "      <td>603</td>\n",
       "      <td>SHIP5185343</td>\n",
       "    </tr>\n",
       "    <tr>\n",
       "      <td>675</td>\n",
       "      <td>SHIP5185343</td>\n",
       "    </tr>\n",
       "    <tr>\n",
       "      <td>1189</td>\n",
       "      <td>SHIP5185273</td>\n",
       "    </tr>\n",
       "    <tr>\n",
       "      <td>1232</td>\n",
       "      <td>SHIP5185273</td>\n",
       "    </tr>\n",
       "  </tbody>\n",
       "</table>\n",
       "</div>"
      ],
      "text/plain": [
       "           sample\n",
       "186   SHIP5142468\n",
       "439   SHIP5142468\n",
       "603   SHIP5185343\n",
       "675   SHIP5185343\n",
       "1189  SHIP5185273\n",
       "1232  SHIP5185273"
      ]
     },
     "execution_count": 268,
     "metadata": {},
     "output_type": "execute_result"
    }
   ],
   "source": [
    "query1 = \"MATCH (n:Cram) WITH n.sample as sample RETURN sample\"\n",
    "samplelist_cram_df = graph.run(query1).to_data_frame()\n",
    "\n",
    "query2 = \"MATCH (n:Cram) WITH n.sample as sample RETURN distinct sample\"\n",
    "unique_samplelist_cram_df = graph.run(query2).to_data_frame()\n",
    "\n",
    "print(\"The number of unique cram files : \" + str(len(unique_samplelist_cram_df)))\n",
    "print(\"The number of duplicated cram files : \" + str(len(samplelist_cram_df)-len(unique_samplelist_cram_df)))\n",
    "\n",
    "query3 = \"MATCH (n:Cram) WITH n.sample as nsample RETURN distinct nsample AS sample, count(nsample) AS cnt\" #, s.jobId AS DstatId, s.status AS status, s.statusMessage AS Message, s.logging AS log\"\n",
    "dup_cram_df = graph.run(query3).to_data_frame()\n",
    "dup=dup_cram_df[dup_cram_df['cnt']>1]\n",
    "\n",
    "samplelist_cram_df[samplelist_cram_df['sample'].isin(dup['sample'])]"
   ]
  },
  {
   "cell_type": "code",
   "execution_count": 293,
   "metadata": {},
   "outputs": [],
   "source": [
    "# query = \" \\\n",
    "# MATCH (n:Ubam) WITH n.sample as sample, n.setSize as setSize, COLLECT(n) AS ubams WHERE size(ubams) >= setSize UNWIND ubams as ubam_gatk \\\n",
    "# WITH ubam_gatk \\\n",
    "# WHERE not (ubam_gatk)-[*]->(:Cram) \\\n",
    "# RETURN count(ubam_gatk) AS numofUbams_missedCram, count(distinct ubam_gatk.sample) AS numofSamples_missedCram \\\n",
    "# \"\n",
    "# ubams_missedCram = graph.run(query).to_data_frame()\n",
    "# display(ubams_missedCram)\n",
    "\n",
    "# query1 = \"MATCH (u:Cram) WHERE not (:Ubam)-[*]->(u) RETURN u.sample\"\n",
    "# onlycram = graph.run(query1).to_series()\n",
    "# print(\"The number of cram without job information: \" + str(len(onlycram)))"
   ]
  },
  {
   "cell_type": "markdown",
   "metadata": {},
   "source": [
    "### $5 GATK - CRAI"
   ]
  },
  {
   "cell_type": "markdown",
   "metadata": {},
   "source": [
    "#### The number of CRAIs and duplicated CRAIs"
   ]
  },
  {
   "cell_type": "code",
   "execution_count": 273,
   "metadata": {},
   "outputs": [
    {
     "name": "stdout",
     "output_type": "stream",
     "text": [
      "The number of unique crai files : 1309\n",
      "The number of duplicated crai files : 4\n"
     ]
    },
    {
     "data": {
      "text/html": [
       "<div>\n",
       "<style scoped>\n",
       "    .dataframe tbody tr th:only-of-type {\n",
       "        vertical-align: middle;\n",
       "    }\n",
       "\n",
       "    .dataframe tbody tr th {\n",
       "        vertical-align: top;\n",
       "    }\n",
       "\n",
       "    .dataframe thead th {\n",
       "        text-align: right;\n",
       "    }\n",
       "</style>\n",
       "<table border=\"1\" class=\"dataframe\">\n",
       "  <thead>\n",
       "    <tr style=\"text-align: right;\">\n",
       "      <th></th>\n",
       "      <th>sample</th>\n",
       "    </tr>\n",
       "  </thead>\n",
       "  <tbody>\n",
       "    <tr>\n",
       "      <td>598</td>\n",
       "      <td>SHIP5169373</td>\n",
       "    </tr>\n",
       "    <tr>\n",
       "      <td>752</td>\n",
       "      <td>SHIP5169373</td>\n",
       "    </tr>\n",
       "    <tr>\n",
       "      <td>764</td>\n",
       "      <td>SHIP5153353</td>\n",
       "    </tr>\n",
       "    <tr>\n",
       "      <td>1048</td>\n",
       "      <td>SHIP5153353</td>\n",
       "    </tr>\n",
       "    <tr>\n",
       "      <td>1189</td>\n",
       "      <td>SHIP5185273</td>\n",
       "    </tr>\n",
       "    <tr>\n",
       "      <td>1232</td>\n",
       "      <td>SHIP5185273</td>\n",
       "    </tr>\n",
       "    <tr>\n",
       "      <td>1305</td>\n",
       "      <td>SHIP5142661</td>\n",
       "    </tr>\n",
       "    <tr>\n",
       "      <td>1311</td>\n",
       "      <td>SHIP5142661</td>\n",
       "    </tr>\n",
       "  </tbody>\n",
       "</table>\n",
       "</div>"
      ],
      "text/plain": [
       "           sample\n",
       "598   SHIP5169373\n",
       "752   SHIP5169373\n",
       "764   SHIP5153353\n",
       "1048  SHIP5153353\n",
       "1189  SHIP5185273\n",
       "1232  SHIP5185273\n",
       "1305  SHIP5142661\n",
       "1311  SHIP5142661"
      ]
     },
     "execution_count": 273,
     "metadata": {},
     "output_type": "execute_result"
    }
   ],
   "source": [
    "query1 = \"MATCH (n:Crai) WITH n.sample as sample RETURN sample\"\n",
    "samplelist_crai_df = graph.run(query1).to_data_frame()\n",
    "\n",
    "query2 = \"MATCH (n:Crai) WITH n.sample as sample RETURN distinct sample\"\n",
    "unique_samplelist_crai_df = graph.run(query2).to_data_frame()\n",
    "\n",
    "print(\"The number of unique crai files : \" + str(len(unique_samplelist_crai_df)))\n",
    "print(\"The number of duplicated crai files : \" + str(len(samplelist_crai_df)-len(unique_samplelist_crai_df)))\n",
    "\n",
    "query3 = \"MATCH (n:Crai) WITH n.sample as nsample RETURN distinct nsample AS sample, count(nsample) AS cnt\" #, s.jobId AS DstatId, s.status AS status, s.statusMessage AS Message, s.logging AS log\"\n",
    "dup_crai_df = graph.run(query3).to_data_frame()\n",
    "dup=dup_crai_df[dup_crai_df['cnt']>1]\n",
    "\n",
    "samplelist_crai_df[samplelist_crai_df['sample'].isin(dup['sample'])]"
   ]
  },
  {
   "cell_type": "code",
   "execution_count": 292,
   "metadata": {},
   "outputs": [],
   "source": [
    "# query = \" \\\n",
    "# MATCH (n:Ubam) WITH n.sample as sample, n.setSize as setSize, COLLECT(n) AS ubams WHERE size(ubams) >= setSize UNWIND ubams as ubam_gatk \\\n",
    "# WITH ubam_gatk \\\n",
    "# WHERE not (ubam_gatk)-[*]->(:Crai) \\\n",
    "# RETURN count(ubam_gatk) AS numofUbams_missedCrai, count(distinct ubam_gatk.sample) AS numofSamples_missedCrai \\\n",
    "# \"\n",
    "# ubams_missedCrai = graph.run(query).to_data_frame()\n",
    "# display(ubams_missedCrai)\n",
    "\n",
    "# query1 = \"MATCH (u:Crai) WHERE not (:Ubam)-[*]->(u) RETURN u.sample\"\n",
    "# onlycrai = graph.run(query1).to_series()\n",
    "# print(\"The number of crai without job information: \" + str(len(onlycrai)))"
   ]
  },
  {
   "cell_type": "markdown",
   "metadata": {},
   "source": [
    "### $5 GATK - Successful Rate"
   ]
  },
  {
   "cell_type": "markdown",
   "metadata": {},
   "source": [
    "#### Successful Rate for VCF, CRAM and CRAI"
   ]
  },
  {
   "cell_type": "code",
   "execution_count": 287,
   "metadata": {},
   "outputs": [
    {
     "name": "stdout",
     "output_type": "stream",
     "text": [
      "The number of samples with VCF : 1308\n",
      "The success rate of GATK for VCF output : 99.46768060836501%\n",
      "The number of samples with CRAM : 1309\n",
      "The success rate of GATK for CRAM output : 99.54372623574145%\n",
      "The number of samples with CRAI : 1309\n",
      "The success rate of GATK for CRAI output : 99.54372623574145%\n"
     ]
    }
   ],
   "source": [
    "## VCF\n",
    "numofsamples_VCF=len(set(samplelist_gatk_df['sample']).intersection(set(samplelist_vcf_df['sample'])))\n",
    "rateofGATK_forVCF = (numofsamples_VCF/ubam_gatk_df.numofSamplesforGATK[0])*100\n",
    "print(\"The number of samples with VCF : \" + str(numofsamples_VCF))\n",
    "print(\"The success rate of GATK for VCF output : \" + str(rateofGATK_forVCF) + \"%\")\n",
    "\n",
    "## CRAM\n",
    "numofsamples_CRAM=len(set(sample_gatk_df['sample']).intersection(set(samplelist_cram_df['sample'])))\n",
    "rateofGATK_forCRAM = (numofsamples_CRAM/ubam_gatk_df.numofSamplesforGATK[0])*100\n",
    "print(\"The number of samples with CRAM : \" + str(numofsamples_CRAM))\n",
    "print(\"The success rate of GATK for CRAM output : \" + str(rateofGATK_forCRAM) + \"%\")\n",
    "\n",
    "## CRAI\n",
    "numofsamples_CRAI=len(set(sample_gatk_df['sample']).intersection(set(samplelist_crai_df['sample'])))\n",
    "rateofGATK_forCRAI = (numofsamples_CRAI/ubam_gatk_df.numofSamplesforGATK[0])*100\n",
    "print(\"The number of samples with CRAI : \" + str(numofsamples_CRAI))\n",
    "print(\"The success rate of GATK for CRAI output : \" + str(rateofGATK_forCRAI) + \"%\")\n"
   ]
  },
  {
   "cell_type": "markdown",
   "metadata": {},
   "source": [
    "#### Sample list missed VCF, CRAM and CRAI"
   ]
  },
  {
   "cell_type": "code",
   "execution_count": 298,
   "metadata": {},
   "outputs": [
    {
     "name": "stdout",
     "output_type": "stream",
     "text": [
      "Sample list missed VCF\n",
      "{'SHIP5141905', 'SHIP5119492', 'SHIP5169426', 'SHIP5153220', 'SHIP5169309', 'SHIP5165752', 'SHIP5141891'}\n",
      "Sample list missed CRAM\n",
      "{'SHIP5119492', 'SHIP5169426', 'SHIP5153220', 'SHIP5169309', 'SHIP5165752', 'SHIP5141891'}\n",
      "Sample list missed CRAI\n",
      "{'SHIP5119492', 'SHIP5169426', 'SHIP5153220', 'SHIP5169309', 'SHIP5165752', 'SHIP5141891'}\n"
     ]
    }
   ],
   "source": [
    "#print(set(samplelist_vcf_df['sample'])-set(samplelist_gatk_df['sample']))\n",
    "#print(set(samplelist_cram_df['sample'])-set(samplelist_gatk_df['sample']))\n",
    "#print(set(samplelist_crai_df['sample'])-set(samplelist_gatk_df['sample']))\n",
    "\n",
    "print(\"Sample list missed VCF\")\n",
    "print(set(samplelist_gatk_df['sample'])-set(samplelist_vcf_df['sample']))\n",
    "print(\"Sample list missed CRAM\")\n",
    "print(set(samplelist_gatk_df['sample'])-set(samplelist_cram_df['sample']))\n",
    "print(\"Sample list missed CRAI\")\n",
    "print(set(samplelist_gatk_df['sample'])-set(samplelist_crai_df['sample']))"
   ]
  },
  {
   "cell_type": "markdown",
   "metadata": {},
   "source": [
    "## Analysis : $5 GATK"
   ]
  },
  {
   "cell_type": "markdown",
   "metadata": {},
   "source": [
    "### Successful / Failed GATK run"
   ]
  },
  {
   "cell_type": "markdown",
   "metadata": {},
   "source": [
    "#### Job duplication "
   ]
  },
  {
   "cell_type": "code",
   "execution_count": 321,
   "metadata": {},
   "outputs": [
    {
     "name": "stdout",
     "output_type": "stream",
     "text": [
      "The number of successful_gatk : 1308\n",
      "The number of failed_gatk : 5\n",
      "The number of gatk : 1313\n",
      "The number of samples involved in gatk : 1312\n",
      "The duplicated sample list\n"
     ]
    },
    {
     "data": {
      "text/html": [
       "<div>\n",
       "<style scoped>\n",
       "    .dataframe tbody tr th:only-of-type {\n",
       "        vertical-align: middle;\n",
       "    }\n",
       "\n",
       "    .dataframe tbody tr th {\n",
       "        vertical-align: top;\n",
       "    }\n",
       "\n",
       "    .dataframe thead th {\n",
       "        text-align: right;\n",
       "    }\n",
       "</style>\n",
       "<table border=\"1\" class=\"dataframe\">\n",
       "  <thead>\n",
       "    <tr style=\"text-align: right;\">\n",
       "      <th></th>\n",
       "      <th>Sample</th>\n",
       "      <th>numofGATKrun</th>\n",
       "    </tr>\n",
       "  </thead>\n",
       "  <tbody>\n",
       "    <tr>\n",
       "      <td>7</td>\n",
       "      <td>SHIP5141855</td>\n",
       "      <td>2</td>\n",
       "    </tr>\n",
       "  </tbody>\n",
       "</table>\n",
       "</div>"
      ],
      "text/plain": [
       "        Sample  numofGATKrun\n",
       "7  SHIP5141855             2"
      ]
     },
     "metadata": {},
     "output_type": "display_data"
    }
   ],
   "source": [
    "## Relationship check with Running Time and Job Status\n",
    "query1 = \"Match (j:Job:Cromwell) WHERE (j)-[*]->(:Merged:Vcf) RETURN count(j) AS numofGATKrun, j.sample AS Sample\"\n",
    "successful_gatk = graph.run(query1).to_data_frame()\n",
    "#successful_gatk.head(3)\n",
    "print(\"The number of successful_gatk : \" + str(successful_gatk['numofGATKrun'].sum()))\n",
    "#display(successful_gatk['numofGATKrun'].sum())\n",
    "\n",
    "query2 = \"Match (j:Job:Cromwell) WHERE not (j)-[*]->(:Merged:Vcf) RETURN count(j) AS numofGATKrun, j.sample AS Sample\"\n",
    "failed_gatk = graph.run(query2).to_data_frame()\n",
    "print(\"The number of failed_gatk : \" + str(failed_gatk['numofGATKrun'].sum()))\n",
    "\n",
    "query3 = \"Match (j:Job:Cromwell) RETURN count(j) AS numofGATKrun, j.sample AS Sample\"\n",
    "dup_gatk = graph.run(query3).to_data_frame()\n",
    "print(\"The number of gatk : \" + str(dup_gatk['numofGATKrun'].sum()))\n",
    "print(\"The number of samples involved in gatk : \" + str(len(dup_gatk)))\n",
    "\n",
    "dup=dup_gatk[dup_gatk['numofGATKrun']>1]\n",
    "print(\"The duplicated sample list\")\n",
    "display(dup)"
   ]
  },
  {
   "cell_type": "code",
   "execution_count": 308,
   "metadata": {},
   "outputs": [
    {
     "data": {
      "image/png": "[encoded data removed]",
      "text/plain": [
       "<Figure size 1080x360 with 2 Axes>"
      ]
     },
     "metadata": {
      "needs_background": "light"
     },
     "output_type": "display_data"
    }
   ],
   "source": [
    "fig = plt.figure(figsize=(15,5))\n",
    "ax1=fig.add_subplot(121)\n",
    "ax1.hist(successful_gatk['numofGATKrun'],color='blue', alpha = 0.5)\n",
    "ax1.set_title('Frequency of GATK Job for the successful samples')\n",
    "ax2=fig.add_subplot(122)\n",
    "ax2.hist(failed_gatk['numofGATKrun'],color='red', alpha = 0.5)\n",
    "ax2.set_title('Frequency of GATK Job for the failed samples')\n",
    "plt.show()"
   ]
  },
  {
   "cell_type": "markdown",
   "metadata": {},
   "source": [
    "#### Running Time"
   ]
  },
  {
   "cell_type": "code",
   "execution_count": 348,
   "metadata": {},
   "outputs": [],
   "source": [
    "## Relationship check with Running Time and Job Status\n",
    "query1 = \"Match (j:Job:Cromwell) WHERE (j)-[*]->(:Merged:Vcf) RETURN j.durationMinutes AS GatkRunTime\"\n",
    "successful_gatk_run = graph.run(query1).to_data_frame()\n",
    "#successful_gatk.head(3)\n",
    "\n",
    "query2 = \"Match (j:Job:Cromwell) WHERE not (j)-[*]->(:Merged:Vcf) RETURN j.durationMinutes AS GatkRunTime, j.logging AS log\"\n",
    "failed_gatk_run = graph.run(query2).to_data_frame()\n"
   ]
  },
  {
   "cell_type": "code",
   "execution_count": 345,
   "metadata": {},
   "outputs": [
    {
     "data": {
      "image/png": "[encoded data removed]",
      "text/plain": [
       "<Figure size 1080x360 with 2 Axes>"
      ]
     },
     "metadata": {
      "needs_background": "light"
     },
     "output_type": "display_data"
    }
   ],
   "source": [
    "fig = plt.figure(figsize=(15,5))\n",
    "ax1=fig.add_subplot(121)\n",
    "ax1.hist(successful_gatk_run['GatkRunTime']/60,color='blue', alpha = 0.5)\n",
    "ax1.set_title('Frequency of GATK runtime for the successful samples')\n",
    "ax2=fig.add_subplot(122)\n",
    "ax2.hist(failed_gatk_run['GatkRunTime']/60,color='red', alpha = 0.5)\n",
    "ax2.set_title('Frequency of GATK runtime for the failed samples')\n",
    "plt.show()"
   ]
  },
  {
   "cell_type": "markdown",
   "metadata": {},
   "source": [
    "### Outputs without GATK job information"
   ]
  },
  {
   "cell_type": "markdown",
   "metadata": {},
   "source": [
    "#### VCF without GATK job information"
   ]
  },
  {
   "cell_type": "code",
   "execution_count": 325,
   "metadata": {},
   "outputs": [
    {
     "data": {
      "text/html": [
       "<div>\n",
       "<style scoped>\n",
       "    .dataframe tbody tr th:only-of-type {\n",
       "        vertical-align: middle;\n",
       "    }\n",
       "\n",
       "    .dataframe tbody tr th {\n",
       "        vertical-align: top;\n",
       "    }\n",
       "\n",
       "    .dataframe thead th {\n",
       "        text-align: right;\n",
       "    }\n",
       "</style>\n",
       "<table border=\"1\" class=\"dataframe\">\n",
       "  <thead>\n",
       "    <tr style=\"text-align: right;\">\n",
       "      <th></th>\n",
       "    </tr>\n",
       "  </thead>\n",
       "  <tbody>\n",
       "  </tbody>\n",
       "</table>\n",
       "</div>"
      ],
      "text/plain": [
       "Empty DataFrame\n",
       "Columns: []\n",
       "Index: []"
      ]
     },
     "metadata": {},
     "output_type": "display_data"
    }
   ],
   "source": [
    "query = \"MATCH (v:Merged:Vcf) WHERE not (:Job:Cromwell)-[*]->(v) RETURN v.sample, v.dirname\"\n",
    "dstat_gatk_df = graph.run(query).to_data_frame()\n",
    "display(dstat_gatk_df)"
   ]
  },
  {
   "cell_type": "markdown",
   "metadata": {},
   "source": [
    "#### Cram without GATK job information"
   ]
  },
  {
   "cell_type": "code",
   "execution_count": 329,
   "metadata": {},
   "outputs": [
    {
     "data": {
      "text/html": [
       "<div>\n",
       "<style scoped>\n",
       "    .dataframe tbody tr th:only-of-type {\n",
       "        vertical-align: middle;\n",
       "    }\n",
       "\n",
       "    .dataframe tbody tr th {\n",
       "        vertical-align: top;\n",
       "    }\n",
       "\n",
       "    .dataframe thead th {\n",
       "        text-align: right;\n",
       "    }\n",
       "</style>\n",
       "<table border=\"1\" class=\"dataframe\">\n",
       "  <thead>\n",
       "    <tr style=\"text-align: right;\">\n",
       "      <th></th>\n",
       "    </tr>\n",
       "  </thead>\n",
       "  <tbody>\n",
       "  </tbody>\n",
       "</table>\n",
       "</div>"
      ],
      "text/plain": [
       "Empty DataFrame\n",
       "Columns: []\n",
       "Index: []"
      ]
     },
     "metadata": {},
     "output_type": "display_data"
    }
   ],
   "source": [
    "query = \"MATCH (v:Cram) WHERE not (:Job:Cromwell)-[*]->(v) RETURN v.sample, v.dirname\"\n",
    "dstat_gatk_df = graph.run(query).to_data_frame()\n",
    "display(dstat_gatk_df)"
   ]
  },
  {
   "cell_type": "markdown",
   "metadata": {},
   "source": [
    "#### Crai without GATK job information"
   ]
  },
  {
   "cell_type": "code",
   "execution_count": 328,
   "metadata": {},
   "outputs": [
    {
     "data": {
      "text/html": [
       "<div>\n",
       "<style scoped>\n",
       "    .dataframe tbody tr th:only-of-type {\n",
       "        vertical-align: middle;\n",
       "    }\n",
       "\n",
       "    .dataframe tbody tr th {\n",
       "        vertical-align: top;\n",
       "    }\n",
       "\n",
       "    .dataframe thead th {\n",
       "        text-align: right;\n",
       "    }\n",
       "</style>\n",
       "<table border=\"1\" class=\"dataframe\">\n",
       "  <thead>\n",
       "    <tr style=\"text-align: right;\">\n",
       "      <th></th>\n",
       "      <th>v.dirname</th>\n",
       "      <th>v.sample</th>\n",
       "    </tr>\n",
       "  </thead>\n",
       "  <tbody>\n",
       "    <tr>\n",
       "      <td>0</td>\n",
       "      <td>DVALABP000432/SHIP5119465/gatk-5-dollar/190923...</td>\n",
       "      <td>SHIP5119465</td>\n",
       "    </tr>\n",
       "  </tbody>\n",
       "</table>\n",
       "</div>"
      ],
      "text/plain": [
       "                                           v.dirname     v.sample\n",
       "0  DVALABP000432/SHIP5119465/gatk-5-dollar/190923...  SHIP5119465"
      ]
     },
     "metadata": {},
     "output_type": "display_data"
    }
   ],
   "source": [
    "query = \"MATCH (v:Crai) WHERE not (:Job:Cromwell)-[*]->(v) RETURN v.sample, v.dirname\"\n",
    "dstat_gatk_df = graph.run(query).to_data_frame()\n",
    "display(dstat_gatk_df)"
   ]
  },
  {
   "cell_type": "code",
   "execution_count": 147,
   "metadata": {},
   "outputs": [],
   "source": [
    "#for i in unique_dstat_gatk_df['log']:\n",
    "#    subprocess.check_output('gsutil cp ' + 'gs://gbsc-gcp-project-mvp-test-from-personalis-wgs35-logs/'+ i + ' gs://gbsc-gcp-project-mvp-test_user-jinasong/wgs35-logs-v053/gatk-failed-withvcf/', shell=True)"
   ]
  },
  {
   "cell_type": "markdown",
   "metadata": {},
   "source": [
    "### Dstat messages"
   ]
  },
  {
   "cell_type": "markdown",
   "metadata": {},
   "source": [
    "#### Job and Dstat connection check"
   ]
  },
  {
   "cell_type": "code",
   "execution_count": 332,
   "metadata": {},
   "outputs": [
    {
     "name": "stdout",
     "output_type": "stream",
     "text": [
      "The number of successful gatk jobs with dstat information : 1307\n",
      "The number of successful gatk jobs without dstat information : 1\n",
      "The number of failed gatk jobs with dstat information : 5\n",
      "The number of failed gatk jobs with dstat information : 0\n"
     ]
    }
   ],
   "source": [
    "query1 = \"MATCH (j:Job:Cromwell) WHERE (j)-[:OUTPUT]->(:Merged:Vcf) and (j)-[:STATUS]->(:Dstat) RETURN count(j)\"\n",
    "dstat_gatk_yes = graph.run(query1).to_series()\n",
    "print(\"The number of successful gatk jobs with dstat information : \" + str(dstat_gatk_yes[0]))\n",
    "\n",
    "query2 = \"MATCH (j:Job:Cromwell) WHERE (j)-[:OUTPUT]->(:Merged:Vcf) and not (j)-[:STATUS]->(:Dstat) RETURN count(j)\"\n",
    "dstat_gatk_no = graph.run(query2).to_series()\n",
    "print(\"The number of successful gatk jobs without dstat information : \" + str(dstat_gatk_no[0]))\n",
    "\n",
    "query3 = \"MATCH (j:Job:Cromwell) WHERE not (j)-[:OUTPUT]->(:Merged:Vcf) and (j)-[:STATUS]->(:Dstat) RETURN count(j)\"\n",
    "dstat_gatkx_yes = graph.run(query3).to_series()\n",
    "print(\"The number of failed gatk jobs with dstat information : \" + str(dstat_gatkx_yes[0]))\n",
    "\n",
    "query4 = \"MATCH (j:Job:Cromwell) WHERE not (j)-[:OUTPUT]->(:Merged:Vcf) and not (j)-[:STATUS]->(:Dstat) RETURN count(j)\"\n",
    "dstat_gatkx_no = graph.run(query4).to_series()\n",
    "print(\"The number of failed gatk jobs with dstat information : \" + str(dstat_gatkx_no[0]))"
   ]
  },
  {
   "cell_type": "markdown",
   "metadata": {},
   "source": [
    "#### Job and Dstat information miss-matched cases"
   ]
  },
  {
   "cell_type": "code",
   "execution_count": 334,
   "metadata": {},
   "outputs": [
    {
     "data": {
      "text/html": [
       "<div>\n",
       "<style scoped>\n",
       "    .dataframe tbody tr th:only-of-type {\n",
       "        vertical-align: middle;\n",
       "    }\n",
       "\n",
       "    .dataframe tbody tr th {\n",
       "        vertical-align: top;\n",
       "    }\n",
       "\n",
       "    .dataframe thead th {\n",
       "        text-align: right;\n",
       "    }\n",
       "</style>\n",
       "<table border=\"1\" class=\"dataframe\">\n",
       "  <thead>\n",
       "    <tr style=\"text-align: right;\">\n",
       "      <th></th>\n",
       "    </tr>\n",
       "  </thead>\n",
       "  <tbody>\n",
       "  </tbody>\n",
       "</table>\n",
       "</div>"
      ],
      "text/plain": [
       "Empty DataFrame\n",
       "Columns: []\n",
       "Index: []"
      ]
     },
     "metadata": {},
     "output_type": "display_data"
    },
    {
     "data": {
      "text/html": [
       "<div>\n",
       "<style scoped>\n",
       "    .dataframe tbody tr th:only-of-type {\n",
       "        vertical-align: middle;\n",
       "    }\n",
       "\n",
       "    .dataframe tbody tr th {\n",
       "        vertical-align: top;\n",
       "    }\n",
       "\n",
       "    .dataframe thead th {\n",
       "        text-align: right;\n",
       "    }\n",
       "</style>\n",
       "<table border=\"1\" class=\"dataframe\">\n",
       "  <thead>\n",
       "    <tr style=\"text-align: right;\">\n",
       "      <th></th>\n",
       "    </tr>\n",
       "  </thead>\n",
       "  <tbody>\n",
       "  </tbody>\n",
       "</table>\n",
       "</div>"
      ],
      "text/plain": [
       "Empty DataFrame\n",
       "Columns: []\n",
       "Index: []"
      ]
     },
     "metadata": {},
     "output_type": "display_data"
    },
    {
     "data": {
      "text/html": [
       "<div>\n",
       "<style scoped>\n",
       "    .dataframe tbody tr th:only-of-type {\n",
       "        vertical-align: middle;\n",
       "    }\n",
       "\n",
       "    .dataframe tbody tr th {\n",
       "        vertical-align: top;\n",
       "    }\n",
       "\n",
       "    .dataframe thead th {\n",
       "        text-align: right;\n",
       "    }\n",
       "</style>\n",
       "<table border=\"1\" class=\"dataframe\">\n",
       "  <thead>\n",
       "    <tr style=\"text-align: right;\">\n",
       "      <th></th>\n",
       "      <th>DstatId</th>\n",
       "      <th>Message</th>\n",
       "      <th>log</th>\n",
       "      <th>status</th>\n",
       "    </tr>\n",
       "  </thead>\n",
       "  <tbody>\n",
       "    <tr>\n",
       "      <td>0</td>\n",
       "      <td>gatk-2471c--trellis--190923-214936-98</td>\n",
       "      <td>Started running 'user-command'</td>\n",
       "      <td>gs://gbsc-gcp-project-mvp-test-from-personalis...</td>\n",
       "      <td>RUNNING</td>\n",
       "    </tr>\n",
       "    <tr>\n",
       "      <td>1</td>\n",
       "      <td>gatk-7fdc5--trellis--190923-220410-20</td>\n",
       "      <td>The assigned worker has failed to complete the...</td>\n",
       "      <td>gs://gbsc-gcp-project-mvp-test-from-personalis...</td>\n",
       "      <td>FAILURE</td>\n",
       "    </tr>\n",
       "    <tr>\n",
       "      <td>2</td>\n",
       "      <td>gatk-ccc0e--trellis--190923-224120-08</td>\n",
       "      <td>Workflow 467872d3-5a11-4f6d-a25d-f9f90e61b72d ...</td>\n",
       "      <td>gs://gbsc-gcp-project-mvp-test-from-personalis...</td>\n",
       "      <td>FAILURE</td>\n",
       "    </tr>\n",
       "    <tr>\n",
       "      <td>3</td>\n",
       "      <td>gatk-653fd--trellis--190923-230447-78</td>\n",
       "      <td>Workflow e75a10d0-1e1c-4523-840b-982cea8e506c ...</td>\n",
       "      <td>gs://gbsc-gcp-project-mvp-test-from-personalis...</td>\n",
       "      <td>FAILURE</td>\n",
       "    </tr>\n",
       "    <tr>\n",
       "      <td>4</td>\n",
       "      <td>gatk-77604--trellis--190924-015002-59</td>\n",
       "      <td>Workflow 95c7e923-6249-4b25-a269-05984f4069af ...</td>\n",
       "      <td>gs://gbsc-gcp-project-mvp-test-from-personalis...</td>\n",
       "      <td>FAILURE</td>\n",
       "    </tr>\n",
       "  </tbody>\n",
       "</table>\n",
       "</div>"
      ],
      "text/plain": [
       "                                 DstatId  \\\n",
       "0  gatk-2471c--trellis--190923-214936-98   \n",
       "1  gatk-7fdc5--trellis--190923-220410-20   \n",
       "2  gatk-ccc0e--trellis--190923-224120-08   \n",
       "3  gatk-653fd--trellis--190923-230447-78   \n",
       "4  gatk-77604--trellis--190924-015002-59   \n",
       "\n",
       "                                             Message  \\\n",
       "0                     Started running 'user-command'   \n",
       "1  The assigned worker has failed to complete the...   \n",
       "2  Workflow 467872d3-5a11-4f6d-a25d-f9f90e61b72d ...   \n",
       "3  Workflow e75a10d0-1e1c-4523-840b-982cea8e506c ...   \n",
       "4  Workflow 95c7e923-6249-4b25-a269-05984f4069af ...   \n",
       "\n",
       "                                                 log   status  \n",
       "0  gs://gbsc-gcp-project-mvp-test-from-personalis...  RUNNING  \n",
       "1  gs://gbsc-gcp-project-mvp-test-from-personalis...  FAILURE  \n",
       "2  gs://gbsc-gcp-project-mvp-test-from-personalis...  FAILURE  \n",
       "3  gs://gbsc-gcp-project-mvp-test-from-personalis...  FAILURE  \n",
       "4  gs://gbsc-gcp-project-mvp-test-from-personalis...  FAILURE  "
      ]
     },
     "metadata": {},
     "output_type": "display_data"
    }
   ],
   "source": [
    "query1 = \"MATCH (j:Job:Cromwell)-[:STATUS]->(s:Dstat) WHERE (j)-[:OUTPUT]->(:Merged:Vcf) AND not s.status = 'SUCCESS' RETURN distinct s.jobId AS DstatId, s.status AS status, s.statusMessage AS Message, s.logging AS log\"\n",
    "dstat_gatk_yes_df = graph.run(query1).to_data_frame()\n",
    "display(dstat_gatk_yes_df)\n",
    "\n",
    "query3 = \"MATCH (j:Job:Cromwell)-[:STATUS]->(s:Dstat) WHERE not (j)-[:OUTPUT]->(:Merged:Vcf) AND s.status = 'SUCCESS' RETURN distinct s.jobId AS DstatId, s.status AS status, s.statusMessage AS Message, s.logging AS log\"\n",
    "dstat_gatkx_yes_df = graph.run(query3).to_data_frame()\n",
    "display(dstat_gatkx_yes_df)\n",
    "\n",
    "query33 = \"MATCH (j:Job:Cromwell)-[:STATUS]->(s:Dstat) WHERE not (j)-[:OUTPUT]->(:Merged:Vcf) AND not s.status = 'SUCCESS' RETURN distinct s.jobId AS DstatId, s.status AS status, s.statusMessage AS Message, s.logging AS log\"\n",
    "dstat_gatkx_yes_df3 = graph.run(query33).to_data_frame()\n",
    "display(dstat_gatkx_yes_df3)"
   ]
  },
  {
   "cell_type": "markdown",
   "metadata": {},
   "source": [
    "#### Job and Dstat duplication issue check"
   ]
  },
  {
   "cell_type": "code",
   "execution_count": 338,
   "metadata": {},
   "outputs": [
    {
     "data": {
      "text/html": [
       "<div>\n",
       "<style scoped>\n",
       "    .dataframe tbody tr th:only-of-type {\n",
       "        vertical-align: middle;\n",
       "    }\n",
       "\n",
       "    .dataframe tbody tr th {\n",
       "        vertical-align: top;\n",
       "    }\n",
       "\n",
       "    .dataframe thead th {\n",
       "        text-align: right;\n",
       "    }\n",
       "</style>\n",
       "<table border=\"1\" class=\"dataframe\">\n",
       "  <thead>\n",
       "    <tr style=\"text-align: right;\">\n",
       "      <th></th>\n",
       "      <th>DstatId</th>\n",
       "      <th>Message</th>\n",
       "      <th>gatkID</th>\n",
       "      <th>log</th>\n",
       "      <th>status</th>\n",
       "    </tr>\n",
       "  </thead>\n",
       "  <tbody>\n",
       "  </tbody>\n",
       "</table>\n",
       "</div>"
      ],
      "text/plain": [
       "Empty DataFrame\n",
       "Columns: [DstatId, Message, gatkID, log, status]\n",
       "Index: []"
      ]
     },
     "metadata": {},
     "output_type": "display_data"
    }
   ],
   "source": [
    "query1 = \"MATCH (j:Job:Cromwell)-[:STATUS]->(s:Dstat) WHERE (j)-[:OUTPUT]->(:Merged:Vcf) RETURN j.dsubJobId AS gatkID, s.jobId AS DstatId, s.status AS status, s.statusMessage AS Message, s.logging AS log\"\n",
    "dstat_gatk_df = graph.run(query1).to_data_frame()\n",
    "\n",
    "query2 = \"MATCH (j:Job:Cromwell)-[:STATUS]->(s:Dstat) WHERE (j)-[:OUTPUT]->(:Merged:Vcf) RETURN distinct j.dsubJobId AS gatkID, count(s.jobId) AS cnt\" #, s.jobId AS DstatId, s.status AS status, s.statusMessage AS Message, s.logging AS log\"\n",
    "dup_dstat_gatk_df = graph.run(query2).to_data_frame()\n",
    "dup=dup_dstat_gatk_df[dup_dstat_gatk_df['cnt']>1]\n",
    "\n",
    "display(dstat_gatk_df[dstat_gatk_df['gatkID'].isin(dup['gatkID'])])"
   ]
  },
  {
   "cell_type": "code",
   "execution_count": 147,
   "metadata": {},
   "outputs": [],
   "source": [
    "#for i in unique_dstat_gatk_df['log']:\n",
    "#    subprocess.check_output('gsutil cp ' + i + ' gs://gbsc-gcp-project-mvp-test_user-jinasong/wgs35-logs-v053/gatk-failed-withvcf/', shell=True)"
   ]
  },
  {
   "cell_type": "markdown",
   "metadata": {},
   "source": [
    "#### Dstat messages of all failed jobs"
   ]
  },
  {
   "cell_type": "code",
   "execution_count": 336,
   "metadata": {},
   "outputs": [],
   "source": [
    "# query = \"MATCH (j:Job:Cromwell)-[*]->(s:Dstat) \\\n",
    "# WHERE not (j)-[:OUTPUT]->(:Merged:Vcf) RETURN j.plate AS plate, s.logging AS log, \\\n",
    "# j.sample AS sample, s.jobId AS DstatId, s.status AS status, s.statusMessage AS Message\"\n",
    "# dstat_gatk_df = graph.run(query).to_data_frame()\n",
    "# dstat_gatk_df.head(3)\n",
    "# unique_dstat_gatk_df=dstat_gatk_df.groupby('DstatId').first()\n",
    "# unique_dstat_gatk_df.reset_index(inplace=True)\n",
    "# display(len(unique_dstat_gatk_df))\n",
    "# display(unique_dstat_gatk_df.groupby(['Message']).count())"
   ]
  },
  {
   "cell_type": "markdown",
   "metadata": {},
   "source": [
    "### Log file analysis (Failed $5 GATK)"
   ]
  },
  {
   "cell_type": "markdown",
   "metadata": {},
   "source": [
    "#### The number of log files"
   ]
  },
  {
   "cell_type": "code",
   "execution_count": 349,
   "metadata": {},
   "outputs": [
    {
     "name": "stdout",
     "output_type": "stream",
     "text": [
      "The number of log of failed jobs : 5\n",
      "The number of failed jobs missing log files : 0\n"
     ]
    }
   ],
   "source": [
    "failedloglist=list(failed_gatk_run['log'])\n",
    "f = open(\"./failed_GATK_log_v053.txt\", 'w')\n",
    "missinglog = 0 \n",
    "for i in failedloglist:\n",
    "    try:\n",
    "        output = str(subprocess.check_output('gsutil ls ' + i, shell=True),'utf-8')\n",
    "        f.write(output)\n",
    "    except:\n",
    "        missinglog += 1\n",
    "        f.write(\"Unexpected error:\" + i +'\\n')\n",
    "f.close()\n",
    "\n",
    "print(\"The number of log of failed jobs : \" + str(len(failedloglist)))\n",
    "print(\"The number of failed jobs missing log files : \" + str(missinglog))"
   ]
  },
  {
   "cell_type": "markdown",
   "metadata": {},
   "source": [
    "#### log file analysis"
   ]
  },
  {
   "cell_type": "code",
   "execution_count": 351,
   "metadata": {},
   "outputs": [
    {
     "data": {
      "text/plain": [
       "'gs://gbsc-gcp-project-mvp-test-from-personalis-wgs35-logs/DVALABP000444/SHIP5141905/gatk-5-dollar/190923-220408-500-7fdc5cc5/logs/gatk-7fdc5--trellis--190923-220410-20-stderr.log'"
      ]
     },
     "metadata": {},
     "output_type": "display_data"
    },
    {
     "data": {
      "text/plain": [
       "'gs://gbsc-gcp-project-mvp-test-from-personalis-wgs35-logs/DVALABP000452/SHIP5165752/gatk-5-dollar/190923-224118-082-ccc0e675/logs/gatk-ccc0e--trellis--190923-224120-08-stderr.log'"
      ]
     },
     "metadata": {},
     "output_type": "display_data"
    },
    {
     "data": {
      "text/plain": [
       "'gs://gbsc-gcp-project-mvp-test-from-personalis-wgs35-logs/DVALABP000453/SHIP5153220/gatk-5-dollar/190923-230446-247-653fddd5/logs/gatk-653fd--trellis--190923-230447-78-stderr.log'"
      ]
     },
     "metadata": {},
     "output_type": "display_data"
    },
    {
     "data": {
      "text/plain": [
       "'gs://gbsc-gcp-project-mvp-test-from-personalis-wgs35-logs/DVALABP000461/SHIP5169309/gatk-5-dollar/190924-015000-890-77604662/logs/gatk-77604--trellis--190924-015002-59-stderr.log'"
      ]
     },
     "metadata": {},
     "output_type": "display_data"
    },
    {
     "name": "stdout",
     "output_type": "stream",
     "text": [
      "The number of failed jobs with 'stderr' : 4\n"
     ]
    }
   ],
   "source": [
    "fulllog = pd.read_csv('./failed_GATK_log_v053.txt', header=None)\n",
    "donelog = 0\n",
    "for i in fulllog[0]:\n",
    "    if 'stderr' in i:\n",
    "        try:\n",
    "            display(i)\n",
    "            donelog += 1\n",
    "            display(str(subprocess.check_output('gsutil cat ' + i + '| grep \"done\"', shell=True),'utf-8'))\n",
    "        except:\n",
    "            continue\n",
    "print(\"The number of failed jobs with 'stderr' : \" + str(donelog))"
   ]
  },
  {
   "cell_type": "code",
   "execution_count": 147,
   "metadata": {},
   "outputs": [],
   "source": [
    "#for i in unique_dstat_gatk_df['log']:\n",
    "#    subprocess.check_output('gsutil cp ' + i + ' gs://gbsc-gcp-project-mvp-test_user-jinasong/wgs35-logs-v053/gatk-failed-withvcf/', shell=True)"
   ]
  }
 ],
 "metadata": {
  "kernelspec": {
   "display_name": "Python 3",
   "language": "python",
   "name": "python3"
  },
  "language_info": {
   "codemirror_mode": {
    "name": "ipython",
    "version": 3
   },
   "file_extension": ".py",
   "mimetype": "text/x-python",
   "name": "python",
   "nbconvert_exporter": "python",
   "pygments_lexer": "ipython3",
   "version": "3.5.3"
  }
 },
 "nbformat": 4,
 "nbformat_minor": 4
}
