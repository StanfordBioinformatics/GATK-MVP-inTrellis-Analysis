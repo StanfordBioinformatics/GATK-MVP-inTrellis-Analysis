{
 "cells": [
  {
   "cell_type": "markdown",
   "metadata": {},
   "source": [
    "# Neo4J v058 test1 - Trellis : Sample based Analysis\n",
    "\n",
    "    -  Check the success case only based on outputs\n",
    "    -  Load the account info from Google Cloud Storage\n",
    "    -  Remove Duplicate jobs and Duplicate jobs and nodes status\n",
    "    -  Add 'dup' column with the number of dupilcated jobs\n",
    "    \n",
    "================"
   ]
  },
  {
   "cell_type": "markdown",
   "metadata": {},
   "source": [
    "## Set up the environment\n"
   ]
  },
  {
   "cell_type": "markdown",
   "metadata": {},
   "source": [
    "### Install py2neo for querying Neo4J "
   ]
  },
  {
   "cell_type": "code",
   "execution_count": 166,
   "metadata": {},
   "outputs": [],
   "source": [
    "#!pip3 install -U py2neo\n",
    "\n",
    "# *** add python path of py2neo in system\n",
    "\n",
    "#!pip3 install -U neotime\n",
    "#!pip3 install -U neobolt\n",
    "#!pip3 install -U pandas-gbq"
   ]
  },
  {
   "cell_type": "markdown",
   "metadata": {},
   "source": [
    "### Import Packages"
   ]
  },
  {
   "cell_type": "code",
   "execution_count": 167,
   "metadata": {},
   "outputs": [],
   "source": [
    "import py2neo as neo\n",
    "from py2neo import Graph\n",
    "\n",
    "from google.cloud import storage\n",
    "import yaml\n",
    "\n",
    "import pandas as pd\n",
    "import pandas_gbq\n",
    "\n",
    "import numpy as np\n",
    "import subprocess\n",
    "import matplotlib \n",
    "import matplotlib.pyplot as plt\n",
    "import seaborn as sns\n",
    "from google.cloud import bigquery\n",
    "\n",
    "#plt.style.use('fivethirtyeight')\n",
    "#plt.style.use('ggplot')\n",
    "pd.set_option('display.float_format', lambda x: '%.2f' % x)"
   ]
  },
  {
   "cell_type": "markdown",
   "metadata": {},
   "source": [
    "### Load Neo4J DB"
   ]
  },
  {
   "cell_type": "code",
   "execution_count": 168,
   "metadata": {},
   "outputs": [],
   "source": [
    "## Option 1 : Read DB and Account Information in Google Storage (YAML)\n",
    "\n",
    "# create storage client\n",
    "storage_client = storage.Client()\n",
    "# get bucket with name\n",
    "bucket = storage_client.get_bucket('gbsc-gcp-project-mvp-test-trellis')\n",
    "# get bucket data as blob\n",
    "blob = bucket.get_blob('credentials/test-wgs35.yaml')\n",
    "# convert to string\n",
    "yaml_data = blob.download_as_string()\n",
    "\n",
    "account = yaml.load(yaml_data, Loader=yaml.FullLoader)\n",
    "\n",
    "## Main Account\n",
    "graph = Graph(account['NEO4J_SCHEME']+'://'+account['NEO4J_HOST']+\":\"+str(account['NEO4J_PORT']), auth=(account['NEO4J_USER'],account['NEO4J_PASSPHRASE']))"
   ]
  },
  {
   "cell_type": "markdown",
   "metadata": {},
   "source": [
    "## Generate Sample Status Table"
   ]
  },
  {
   "cell_type": "markdown",
   "metadata": {},
   "source": [
    "### The number of nodes (Fastq, Ubam, Vcf, Cram, Crai) "
   ]
  },
  {
   "cell_type": "code",
   "execution_count": 169,
   "metadata": {},
   "outputs": [
    {
     "name": "stdout",
     "output_type": "stream",
     "text": [
      "\n"
     ]
    }
   ],
   "source": [
    "# Fastq\n",
    "#query = \"MATCH (s:Sample)-[:HAS]->(f:Fastq) RETURN s.sample AS sample, COUNT(f) AS fastq\"\n",
    "query = \"MATCH (s:Sample), (f:Fastq) WHERE s.sample = f.sample RETURN s.sample AS sample, COUNT(f) AS fastq\"\n",
    "#query = \"Match (j:sample), (f:Fastq) WHERE f.sample = j.sample RETURN j.sample AS sample, count(f) AS fastq\"\n",
    "num_fastq = graph.run(query).to_data_frame()\n",
    "num_fastq.set_index('sample')\n",
    "\n",
    "# Fastq RG\n",
    "#query = \"MATCH (s:Sample)-[:HAS]->(f:Fastq) RETURN s.sample AS sample, f.readGroup AS rg, count(f.readGroup) as rg_cnt\"\n",
    "query = \"MATCH (s:Sample), (f:Fastq) WHERE s.sample = f.sample RETURN s.sample AS sample, f.readGroup AS rg, count(f.readGroup) as rg_cnt\"\n",
    "#query = \"Match (j:sample), (f:Fastq) WHERE f.sample = j.sample RETURN j.sample AS sample, count(f) AS fastq\"\n",
    "num_fastq_rg = graph.run(query).to_data_frame()\n",
    "num_fastq_rgm=num_fastq_rg.loc[num_fastq_rg['rg_cnt']==2,['sample','rg']]\n",
    "\n",
    "num_fastq_rgu=num_fastq_rgm['sample'].value_counts().rename_axis('sample').to_frame('fastq_rg')\n",
    "#num_fastq_rgu.rename(columns={'sample': 'fastq_rg'}, inplace=True)\n",
    "num_fastq_rgu.reset_index(inplace=True)\n",
    "num_fastq_rgu.set_index('sample')\n",
    "\n",
    "\n",
    "# Ubam\n",
    "query = \"Match (s:Sample), (u:Ubam) WHERE s.sample = u.sample RETURN s.sample AS sample, count(u) AS ubam, count(distinct u.readGroup) as ubam_rg\"\n",
    "#query = \"Match (s:Sample)-[*]->(u:Ubam) RETURN DISTINCT s.sample AS sample, count(distinct u) AS ubam, count(distinct u.readGroup) as ubam_rg\"\n",
    "num_ubam = graph.run(query).to_data_frame()\n",
    "num_ubam.set_index('sample')\n",
    "\n",
    "# Vcf\n",
    "query = \"Match (s:Sample), (v:Merged:Vcf) WHERE s.sample = v.sample RETURN s.sample AS sample, count(v) AS vcf\"\n",
    "#query = \"Match (s:Sample)-[*]->(v:Merged:Vcf) RETURN DISTINCT s.sample AS sample, count(distinct v) AS vcf\"\n",
    "num_vcf = graph.run(query).to_data_frame()\n",
    "num_vcf.set_index('sample')\n",
    "\n",
    "# Cram\n",
    "query = \"Match (s:Sample), (cm:Cram) WHERE s.sample = cm.sample RETURN s.sample AS sample, count(cm) AS cram\"\n",
    "#query = \"Match (s:Sample)-[*]->(cm:Cram) RETURN DISTINCT s.sample AS sample, count(distinct cm) AS cram\"\n",
    "num_cram = graph.run(query).to_data_frame()\n",
    "num_cram.set_index('sample')\n",
    "\n",
    "# Crai\n",
    "query = \"Match (s:Sample), (ci:Crai) WHERE s.sample = ci.sample RETURN s.sample AS sample, count(ci) AS crai\"\n",
    "#query = \"Match (s:Sample)-[*]->(ci:Crai) RETURN DISTINCT s.sample AS sample, count(distinct ci) AS crai\"\n",
    "num_crai = graph.run(query).to_data_frame()\n",
    "num_crai.set_index('sample')\n",
    "print(\"\")"
   ]
  },
  {
   "cell_type": "markdown",
   "metadata": {},
   "source": [
    "### The number of jobs (FQ2U, GATK) "
   ]
  },
  {
   "cell_type": "code",
   "execution_count": 170,
   "metadata": {},
   "outputs": [
    {
     "name": "stdout",
     "output_type": "stream",
     "text": [
      "\n"
     ]
    }
   ],
   "source": [
    "# Fq2u\n",
    "query = \"Match (s:Sample), (e:Job:Dsub {name:'fastq-to-ubam'}) WHERE s.sample = e.sample RETURN s.sample AS sample, count(e) AS job_fq2u\"\n",
    "#query = \"Match (s:Sample)-[*]->(e:Job:Dsub {name:'fastq-to-ubam'}) RETURN s.sample AS sample, count(distinct e) AS job_fq2u\"\n",
    "num_fq2u = graph.run(query).to_data_frame()\n",
    "num_fq2u.set_index('sample')\n",
    "\n",
    "# Gatk\n",
    "query = \"Match (s:Sample), (g:Job:CromwellWorkflow) WHERE s.sample = g.sample RETURN s.sample AS sample, count(g) AS job_gatk\"\n",
    "#query = \"Match (s:Sample)-[*]->(g:Job:CromwellWorkflow) RETURN s.sample AS sample, count(distinct g) AS job_gatk\"\n",
    "num_gatk = graph.run(query).to_data_frame()\n",
    "num_gatk.set_index('sample')\n",
    "print(\"\")"
   ]
  },
  {
   "cell_type": "markdown",
   "metadata": {},
   "source": [
    "### Job running check (FQ2U, GATK) "
   ]
  },
  {
   "cell_type": "code",
   "execution_count": 171,
   "metadata": {},
   "outputs": [
    {
     "name": "stdout",
     "output_type": "stream",
     "text": [
      "\n"
     ]
    }
   ],
   "source": [
    "# Completed FQ2U job  \n",
    "query = \"Match (s:Sample), (e:Job:FastqToUbam) WHERE s.sample = e.sample and e.status = 'STOPPED' RETURN s.sample AS sample, count(e) AS run_fq2u\"\n",
    "run_fq2u = graph.run(query).to_data_frame()\n",
    "run_fq2u.set_index('sample')\n",
    "\n",
    "# Completed GATK job  \n",
    "query = \"Match (s:Sample), (g:Job:CromwellWorkflow) WHERE s.sample = g.sample and g.status = 'STOPPED' RETURN s.sample AS sample, count(g) AS run_gatk\"\n",
    "run_gatk = graph.run(query).to_data_frame()\n",
    "run_gatk.set_index('sample')\n",
    "print(\"\")\n",
    "\n",
    "# add 'on_process' column\n",
    "running_df=num_fq2u.merge(run_fq2u, how='outer').merge(num_gatk, how='outer').merge(run_gatk, how='outer')\n",
    "running_df.fillna(0,inplace=True)\n",
    "\n",
    "running_df['run_fq2u']=running_df['job_fq2u']-running_df['run_fq2u']\n",
    "running_df['run_gatk']=running_df['job_gatk']-running_df['run_gatk']\n",
    "running_df['run_fq2u']=['done' if (i==0) else 'running' for i in (running_df['run_fq2u'])]\n",
    "running_df['run_gatk']=['done' if (i==0) else 'running' for i in (running_df['run_gatk'])]"
   ]
  },
  {
   "cell_type": "code",
   "execution_count": 172,
   "metadata": {},
   "outputs": [
    {
     "name": "stdout",
     "output_type": "stream",
     "text": [
      "\n"
     ]
    }
   ],
   "source": [
    "running_df=running_df[['sample','run_fq2u','run_gatk']]\n",
    "running_df.set_index('sample')\n",
    "print(\"\")"
   ]
  },
  {
   "cell_type": "markdown",
   "metadata": {},
   "source": [
    "### Merge all node and job dfs to one df"
   ]
  },
  {
   "cell_type": "code",
   "execution_count": 173,
   "metadata": {},
   "outputs": [
    {
     "name": "stdout",
     "output_type": "stream",
     "text": [
      "The number of samples : 288\n",
      "\n"
     ]
    }
   ],
   "source": [
    "#-- only nodes\n",
    "#pre_sample_qc_df=num_fastq.merge(num_ubam, how='outer').merge(num_vcf, how='outer').merge(num_cram, how='outer').merge(num_crai, how='outer')\n",
    "#columnlist=[\"sample\",\"fastq\",\"ubam\",\"vcf\",\"cram\",\"crai\"]\n",
    "\n",
    "#-- nodes and jobs\n",
    "pre_sample_qc_df=num_fastq.merge(num_fastq_rgu, how='outer').merge(num_ubam, how='outer').merge(num_vcf, how='outer').merge(num_cram, how='outer').merge(num_crai, how='outer').merge(num_fq2u,how='outer').merge(num_gatk,how='outer').merge(running_df,how='outer')\n",
    "columnlist=[\"sample\",\"run_fq2u\",\"run_gatk\",\"fastq\",\"fastq_rg\",\"ubam\",\"ubam_rg\",\"vcf\",\"cram\",\"crai\",\"job_fq2u\",\"job_gatk\"]\n",
    "numsample=len(pre_sample_qc_df)\n",
    "print(\"The number of samples : \" + str(numsample) + \"\\n\")\n",
    "\n",
    "pre_sample_qc_df=pre_sample_qc_df[columnlist]\n",
    "pre_sample_qc_df.fillna(0,inplace=True)\n",
    "#pre_sample_qc_df.head(3)"
   ]
  },
  {
   "cell_type": "markdown",
   "metadata": {},
   "source": [
    "### Select only completed cases"
   ]
  },
  {
   "cell_type": "code",
   "execution_count": 174,
   "metadata": {},
   "outputs": [
    {
     "name": "stdout",
     "output_type": "stream",
     "text": [
      "The number of samples : 288\n",
      "\n"
     ]
    }
   ],
   "source": [
    "\n",
    "sample_qc_df=pre_sample_qc_df.loc[(pre_sample_qc_df['run_fq2u']=='done')&(pre_sample_qc_df['run_gatk']=='done'),[\"sample\",\"fastq\",\"fastq_rg\",\"ubam\",\"ubam_rg\",\"vcf\",\"cram\",\"crai\",\"job_fq2u\",\"job_gatk\"]]\n",
    "numsample=len(sample_qc_df)\n",
    "print(\"The number of samples : \" + str(numsample) + \"\\n\")"
   ]
  },
  {
   "cell_type": "markdown",
   "metadata": {},
   "source": [
    "### Classification based on sample status and success."
   ]
  },
  {
   "cell_type": "code",
   "execution_count": 175,
   "metadata": {},
   "outputs": [
    {
     "name": "stdout",
     "output_type": "stream",
     "text": [
      "The number of unclassified samples : 0\n",
      "\n"
     ]
    }
   ],
   "source": [
    "##-- Passed\n",
    "\n",
    "sample_qc_df.loc[((sample_qc_df['ubam']>=sample_qc_df['fastq']/2)&(sample_qc_df['ubam_rg']==sample_qc_df['fastq_rg'])&(sample_qc_df['vcf']>=1)&(sample_qc_df['cram']>=1) \\\n",
    "                 &(sample_qc_df['crai']>=1)),'status']=\"success\"\n",
    "\n",
    "#-Pass\n",
    "sample_qc_df.loc[(sample_qc_df['status'].isin([\"success\"])), 'pass'] = \"pass\"\n",
    "\n",
    "##-- failed\n",
    "\n",
    "#- 4. no fq2u jobs\n",
    "sample_qc_df.loc[((sample_qc_df['ubam']<sample_qc_df['fastq']/2)&(sample_qc_df['vcf']==0)&(sample_qc_df['cram']==0) \\\n",
    "                                   &(sample_qc_df['crai']==0))&((sample_qc_df['job_fq2u']<sample_qc_df['fastq']/2)&(sample_qc_df['job_gatk']==0)),'status']=\"no fq2u\"\n",
    "#- 5. failed fq2u jobs\n",
    "sample_qc_df.loc[((sample_qc_df['ubam']<sample_qc_df['fastq']/2)&(sample_qc_df['vcf']==0)&(sample_qc_df['cram']==0) \\\n",
    "                                   &(sample_qc_df['crai']==0))&((sample_qc_df['job_fq2u']>=sample_qc_df['fastq']/2)&(sample_qc_df['job_gatk']==0)),'status']=\"failed fq2u\"\n",
    "#- 6. failed gatk jobs\n",
    "sample_qc_df.loc[(sample_qc_df['ubam']>=sample_qc_df['fastq']/2)&((sample_qc_df['vcf']<1)|(sample_qc_df['cram']<1) \\\n",
    "                                   |(sample_qc_df['crai']<1))&((sample_qc_df['job_fq2u']>=sample_qc_df['fastq']/2)&(sample_qc_df['job_gatk']>=1)),'status']=\"failed gatk\"\n",
    "#- 7. no gatk jobs\n",
    "sample_qc_df.loc[((sample_qc_df['ubam']>=sample_qc_df['fastq']/2)&(sample_qc_df['vcf']==0)&(sample_qc_df['cram']==0) \\\n",
    "                                   &(sample_qc_df['crai']==0)&(sample_qc_df['job_gatk']==0)),'status']=\"no gatk\"\n",
    "#- 8. missing rg jobs\n",
    "sample_qc_df.loc[(sample_qc_df['ubam']>=sample_qc_df['fastq']/2)&(sample_qc_df['job_fq2u']>=sample_qc_df['fastq']/2)&(sample_qc_df['fastq_rg']!=sample_qc_df['ubam_rg']),'status']=\"missing rg\"\n",
    "\n",
    "\n",
    "#- Fail\n",
    "sample_qc_df.loc[(sample_qc_df['status'].isin([\"no fq2u\", \"failed fq2u\", \"failed gatk\", \"no gatk\",\"missing rg\"])), 'pass'] = \"fail\"\n",
    "\n",
    "##-- Check unclassified samples.\n",
    "num_unclassified = len(sample_qc_df[sample_qc_df.status.isna()==True])\n",
    "print(\"The number of unclassified samples : \" + str(num_unclassified)+\"\\n\")\n",
    "\n",
    "if num_unclassified != 0 :\n",
    "    display(sample_qc_df[sample_qc_df.status.isna()==True])\n",
    "    "
   ]
  },
  {
   "cell_type": "markdown",
   "metadata": {},
   "source": [
    "### Duplication Job Info"
   ]
  },
  {
   "cell_type": "code",
   "execution_count": 176,
   "metadata": {},
   "outputs": [],
   "source": [
    "sample_qc_df['dup']=(sample_qc_df['job_fq2u']-sample_qc_df['ubam_rg'])+(sample_qc_df['job_gatk']-1)\n",
    "sample_qc_df['dup']= [0 if i < 0 else i for i in sample_qc_df['dup']]"
   ]
  },
  {
   "cell_type": "code",
   "execution_count": 177,
   "metadata": {},
   "outputs": [
    {
     "data": {
      "text/html": [
       "<div>\n",
       "<style scoped>\n",
       "    .dataframe tbody tr th:only-of-type {\n",
       "        vertical-align: middle;\n",
       "    }\n",
       "\n",
       "    .dataframe tbody tr th {\n",
       "        vertical-align: top;\n",
       "    }\n",
       "\n",
       "    .dataframe thead th {\n",
       "        text-align: right;\n",
       "    }\n",
       "</style>\n",
       "<table border=\"1\" class=\"dataframe\">\n",
       "  <thead>\n",
       "    <tr style=\"text-align: right;\">\n",
       "      <th></th>\n",
       "      <th>sample</th>\n",
       "      <th>fastq</th>\n",
       "      <th>fastq_rg</th>\n",
       "      <th>ubam</th>\n",
       "      <th>ubam_rg</th>\n",
       "      <th>vcf</th>\n",
       "      <th>cram</th>\n",
       "      <th>crai</th>\n",
       "      <th>job_fq2u</th>\n",
       "      <th>job_gatk</th>\n",
       "      <th>status</th>\n",
       "      <th>pass</th>\n",
       "      <th>dup</th>\n",
       "    </tr>\n",
       "  </thead>\n",
       "  <tbody>\n",
       "    <tr>\n",
       "      <th>0</th>\n",
       "      <td>SHIP4946381</td>\n",
       "      <td>8</td>\n",
       "      <td>4</td>\n",
       "      <td>4</td>\n",
       "      <td>4</td>\n",
       "      <td>1</td>\n",
       "      <td>1</td>\n",
       "      <td>1</td>\n",
       "      <td>4</td>\n",
       "      <td>1</td>\n",
       "      <td>success</td>\n",
       "      <td>pass</td>\n",
       "      <td>0</td>\n",
       "    </tr>\n",
       "    <tr>\n",
       "      <th>1</th>\n",
       "      <td>SHIP4948527</td>\n",
       "      <td>8</td>\n",
       "      <td>4</td>\n",
       "      <td>4</td>\n",
       "      <td>4</td>\n",
       "      <td>1</td>\n",
       "      <td>1</td>\n",
       "      <td>1</td>\n",
       "      <td>4</td>\n",
       "      <td>1</td>\n",
       "      <td>success</td>\n",
       "      <td>pass</td>\n",
       "      <td>0</td>\n",
       "    </tr>\n",
       "  </tbody>\n",
       "</table>\n",
       "</div>"
      ],
      "text/plain": [
       "        sample  fastq  fastq_rg  ubam  ubam_rg  vcf  cram  crai  job_fq2u  \\\n",
       "0  SHIP4946381      8         4     4        4    1     1     1         4   \n",
       "1  SHIP4948527      8         4     4        4    1     1     1         4   \n",
       "\n",
       "   job_gatk   status  pass  dup  \n",
       "0         1  success  pass    0  \n",
       "1         1  success  pass    0  "
      ]
     },
     "metadata": {},
     "output_type": "display_data"
    },
    {
     "data": {
      "text/html": [
       "<div>\n",
       "<style scoped>\n",
       "    .dataframe tbody tr th:only-of-type {\n",
       "        vertical-align: middle;\n",
       "    }\n",
       "\n",
       "    .dataframe tbody tr th {\n",
       "        vertical-align: top;\n",
       "    }\n",
       "\n",
       "    .dataframe thead th {\n",
       "        text-align: right;\n",
       "    }\n",
       "</style>\n",
       "<table border=\"1\" class=\"dataframe\">\n",
       "  <thead>\n",
       "    <tr style=\"text-align: right;\">\n",
       "      <th></th>\n",
       "      <th>sample</th>\n",
       "      <th>fastq</th>\n",
       "      <th>fastq_rg</th>\n",
       "      <th>ubam</th>\n",
       "      <th>ubam_rg</th>\n",
       "      <th>vcf</th>\n",
       "      <th>cram</th>\n",
       "      <th>crai</th>\n",
       "      <th>job_fq2u</th>\n",
       "      <th>job_gatk</th>\n",
       "      <th>status</th>\n",
       "      <th>pass</th>\n",
       "      <th>dup</th>\n",
       "    </tr>\n",
       "  </thead>\n",
       "  <tbody>\n",
       "  </tbody>\n",
       "</table>\n",
       "</div>"
      ],
      "text/plain": [
       "Empty DataFrame\n",
       "Columns: [sample, fastq, fastq_rg, ubam, ubam_rg, vcf, cram, crai, job_fq2u, job_gatk, status, pass, dup]\n",
       "Index: []"
      ]
     },
     "metadata": {},
     "output_type": "display_data"
    },
    {
     "data": {
      "text/html": [
       "<div>\n",
       "<style scoped>\n",
       "    .dataframe tbody tr th:only-of-type {\n",
       "        vertical-align: middle;\n",
       "    }\n",
       "\n",
       "    .dataframe tbody tr th {\n",
       "        vertical-align: top;\n",
       "    }\n",
       "\n",
       "    .dataframe thead th {\n",
       "        text-align: right;\n",
       "    }\n",
       "</style>\n",
       "<table border=\"1\" class=\"dataframe\">\n",
       "  <thead>\n",
       "    <tr style=\"text-align: right;\">\n",
       "      <th></th>\n",
       "      <th>sample</th>\n",
       "      <th>fastq</th>\n",
       "      <th>fastq_rg</th>\n",
       "      <th>ubam</th>\n",
       "      <th>ubam_rg</th>\n",
       "      <th>vcf</th>\n",
       "      <th>cram</th>\n",
       "      <th>crai</th>\n",
       "      <th>job_fq2u</th>\n",
       "      <th>job_gatk</th>\n",
       "      <th>status</th>\n",
       "      <th>pass</th>\n",
       "      <th>dup</th>\n",
       "    </tr>\n",
       "  </thead>\n",
       "  <tbody>\n",
       "  </tbody>\n",
       "</table>\n",
       "</div>"
      ],
      "text/plain": [
       "Empty DataFrame\n",
       "Columns: [sample, fastq, fastq_rg, ubam, ubam_rg, vcf, cram, crai, job_fq2u, job_gatk, status, pass, dup]\n",
       "Index: []"
      ]
     },
     "metadata": {},
     "output_type": "display_data"
    },
    {
     "data": {
      "text/html": [
       "<div>\n",
       "<style scoped>\n",
       "    .dataframe tbody tr th:only-of-type {\n",
       "        vertical-align: middle;\n",
       "    }\n",
       "\n",
       "    .dataframe tbody tr th {\n",
       "        vertical-align: top;\n",
       "    }\n",
       "\n",
       "    .dataframe thead th {\n",
       "        text-align: right;\n",
       "    }\n",
       "</style>\n",
       "<table border=\"1\" class=\"dataframe\">\n",
       "  <thead>\n",
       "    <tr style=\"text-align: right;\">\n",
       "      <th></th>\n",
       "      <th>sample</th>\n",
       "      <th>fastq</th>\n",
       "      <th>fastq_rg</th>\n",
       "      <th>ubam</th>\n",
       "      <th>ubam_rg</th>\n",
       "      <th>vcf</th>\n",
       "      <th>cram</th>\n",
       "      <th>crai</th>\n",
       "      <th>job_fq2u</th>\n",
       "      <th>job_gatk</th>\n",
       "      <th>status</th>\n",
       "      <th>pass</th>\n",
       "      <th>dup</th>\n",
       "    </tr>\n",
       "  </thead>\n",
       "  <tbody>\n",
       "    <tr>\n",
       "      <th>127</th>\n",
       "      <td>SHIP5119453</td>\n",
       "      <td>8</td>\n",
       "      <td>4</td>\n",
       "      <td>4</td>\n",
       "      <td>4</td>\n",
       "      <td>0</td>\n",
       "      <td>0</td>\n",
       "      <td>0</td>\n",
       "      <td>4</td>\n",
       "      <td>0</td>\n",
       "      <td>no gatk</td>\n",
       "      <td>fail</td>\n",
       "      <td>0</td>\n",
       "    </tr>\n",
       "  </tbody>\n",
       "</table>\n",
       "</div>"
      ],
      "text/plain": [
       "          sample  fastq  fastq_rg  ubam  ubam_rg  vcf  cram  crai  job_fq2u  \\\n",
       "127  SHIP5119453      8         4     4        4    0     0     0         4   \n",
       "\n",
       "     job_gatk   status  pass  dup  \n",
       "127         0  no gatk  fail    0  "
      ]
     },
     "metadata": {},
     "output_type": "display_data"
    },
    {
     "data": {
      "text/html": [
       "<div>\n",
       "<style scoped>\n",
       "    .dataframe tbody tr th:only-of-type {\n",
       "        vertical-align: middle;\n",
       "    }\n",
       "\n",
       "    .dataframe tbody tr th {\n",
       "        vertical-align: top;\n",
       "    }\n",
       "\n",
       "    .dataframe thead th {\n",
       "        text-align: right;\n",
       "    }\n",
       "</style>\n",
       "<table border=\"1\" class=\"dataframe\">\n",
       "  <thead>\n",
       "    <tr style=\"text-align: right;\">\n",
       "      <th></th>\n",
       "      <th>sample</th>\n",
       "      <th>fastq</th>\n",
       "      <th>fastq_rg</th>\n",
       "      <th>ubam</th>\n",
       "      <th>ubam_rg</th>\n",
       "      <th>vcf</th>\n",
       "      <th>cram</th>\n",
       "      <th>crai</th>\n",
       "      <th>job_fq2u</th>\n",
       "      <th>job_gatk</th>\n",
       "      <th>status</th>\n",
       "      <th>pass</th>\n",
       "      <th>dup</th>\n",
       "    </tr>\n",
       "  </thead>\n",
       "  <tbody>\n",
       "  </tbody>\n",
       "</table>\n",
       "</div>"
      ],
      "text/plain": [
       "Empty DataFrame\n",
       "Columns: [sample, fastq, fastq_rg, ubam, ubam_rg, vcf, cram, crai, job_fq2u, job_gatk, status, pass, dup]\n",
       "Index: []"
      ]
     },
     "metadata": {},
     "output_type": "display_data"
    },
    {
     "data": {
      "text/html": [
       "<div>\n",
       "<style scoped>\n",
       "    .dataframe tbody tr th:only-of-type {\n",
       "        vertical-align: middle;\n",
       "    }\n",
       "\n",
       "    .dataframe tbody tr th {\n",
       "        vertical-align: top;\n",
       "    }\n",
       "\n",
       "    .dataframe thead th {\n",
       "        text-align: right;\n",
       "    }\n",
       "</style>\n",
       "<table border=\"1\" class=\"dataframe\">\n",
       "  <thead>\n",
       "    <tr style=\"text-align: right;\">\n",
       "      <th></th>\n",
       "      <th>sample</th>\n",
       "      <th>fastq</th>\n",
       "      <th>fastq_rg</th>\n",
       "      <th>ubam</th>\n",
       "      <th>ubam_rg</th>\n",
       "      <th>vcf</th>\n",
       "      <th>cram</th>\n",
       "      <th>crai</th>\n",
       "      <th>job_fq2u</th>\n",
       "      <th>job_gatk</th>\n",
       "      <th>status</th>\n",
       "      <th>pass</th>\n",
       "      <th>dup</th>\n",
       "    </tr>\n",
       "  </thead>\n",
       "  <tbody>\n",
       "  </tbody>\n",
       "</table>\n",
       "</div>"
      ],
      "text/plain": [
       "Empty DataFrame\n",
       "Columns: [sample, fastq, fastq_rg, ubam, ubam_rg, vcf, cram, crai, job_fq2u, job_gatk, status, pass, dup]\n",
       "Index: []"
      ]
     },
     "metadata": {},
     "output_type": "display_data"
    }
   ],
   "source": [
    "##-- Display of this table\n",
    "pd.set_option('display.float_format', lambda x: '%.f' % x)\n",
    "\n",
    "display(sample_qc_df[sample_qc_df['status']=='success'].head(2))\n",
    "#display(sample_qc_df[sample_qc_df['status']=='duplicated jobs'].head(13))\n",
    "#display(sample_qc_df[sample_qc_df['status']=='duplicated nodes'].head(7))\n",
    "display(sample_qc_df[sample_qc_df['status']=='no fq2u'].head(2))\n",
    "display(sample_qc_df[sample_qc_df['status']=='failed fq2u'].head(2))\n",
    "display(sample_qc_df[sample_qc_df['status']=='no gatk'].head(4))\n",
    "display(sample_qc_df[sample_qc_df['status']=='failed gatk'].head(5))\n",
    "display(sample_qc_df[sample_qc_df['status']=='missing rg'].head(9))"
   ]
  },
  {
   "cell_type": "markdown",
   "metadata": {},
   "source": [
    "## Generate Status Table"
   ]
  },
  {
   "cell_type": "markdown",
   "metadata": {},
   "source": [
    "### The number of samples by status and success"
   ]
  },
  {
   "cell_type": "code",
   "execution_count": 178,
   "metadata": {},
   "outputs": [
    {
     "name": "stderr",
     "output_type": "stream",
     "text": [
      "/usr/local/lib/python3.5/dist-packages/ipykernel_launcher.py:4: SettingWithCopyWarning: \n",
      "A value is trying to be set on a copy of a slice from a DataFrame.\n",
      "Try using .loc[row_indexer,col_indexer] = value instead\n",
      "\n",
      "See the caveats in the documentation: http://pandas.pydata.org/pandas-docs/stable/user_guide/indexing.html#returning-a-view-versus-a-copy\n",
      "  after removing the cwd from sys.path.\n"
     ]
    },
    {
     "data": {
      "text/html": [
       "<div>\n",
       "<style scoped>\n",
       "    .dataframe tbody tr th:only-of-type {\n",
       "        vertical-align: middle;\n",
       "    }\n",
       "\n",
       "    .dataframe tbody tr th {\n",
       "        vertical-align: top;\n",
       "    }\n",
       "\n",
       "    .dataframe thead th {\n",
       "        text-align: right;\n",
       "    }\n",
       "</style>\n",
       "<table border=\"1\" class=\"dataframe\">\n",
       "  <thead>\n",
       "    <tr style=\"text-align: right;\">\n",
       "      <th></th>\n",
       "      <th>status</th>\n",
       "      <th>rate</th>\n",
       "      <th>dup</th>\n",
       "      <th>dup_rate</th>\n",
       "    </tr>\n",
       "  </thead>\n",
       "  <tbody>\n",
       "    <tr>\n",
       "      <th>success</th>\n",
       "      <td>287.00</td>\n",
       "      <td>99.65</td>\n",
       "      <td>0.00</td>\n",
       "      <td>0.00</td>\n",
       "    </tr>\n",
       "    <tr>\n",
       "      <th>no fq2u</th>\n",
       "      <td>0.00</td>\n",
       "      <td>0.00</td>\n",
       "      <td>0.00</td>\n",
       "      <td>0.00</td>\n",
       "    </tr>\n",
       "    <tr>\n",
       "      <th>failed fq2u</th>\n",
       "      <td>0.00</td>\n",
       "      <td>0.00</td>\n",
       "      <td>0.00</td>\n",
       "      <td>0.00</td>\n",
       "    </tr>\n",
       "    <tr>\n",
       "      <th>no gatk</th>\n",
       "      <td>1.00</td>\n",
       "      <td>0.35</td>\n",
       "      <td>0.00</td>\n",
       "      <td>0.00</td>\n",
       "    </tr>\n",
       "    <tr>\n",
       "      <th>failed gatk</th>\n",
       "      <td>0.00</td>\n",
       "      <td>0.00</td>\n",
       "      <td>0.00</td>\n",
       "      <td>0.00</td>\n",
       "    </tr>\n",
       "    <tr>\n",
       "      <th>missing rg</th>\n",
       "      <td>0.00</td>\n",
       "      <td>0.00</td>\n",
       "      <td>0.00</td>\n",
       "      <td>0.00</td>\n",
       "    </tr>\n",
       "  </tbody>\n",
       "</table>\n",
       "</div>"
      ],
      "text/plain": [
       "             status  rate  dup  dup_rate\n",
       "success      287.00 99.65 0.00      0.00\n",
       "no fq2u        0.00  0.00 0.00      0.00\n",
       "failed fq2u    0.00  0.00 0.00      0.00\n",
       "no gatk        1.00  0.35 0.00      0.00\n",
       "failed gatk    0.00  0.00 0.00      0.00\n",
       "missing rg     0.00  0.00 0.00      0.00"
      ]
     },
     "metadata": {},
     "output_type": "display_data"
    },
    {
     "name": "stdout",
     "output_type": "stream",
     "text": [
      "Success Samples : 287.0\n",
      "Failed Samples : 1.0\n",
      "Success Rate : 99.65277777777779%\n",
      "Failed Rate : 0.3472222222222222%\n"
     ]
    }
   ],
   "source": [
    "stat_status_qc=sample_qc_df['status'].value_counts().to_frame()\n",
    "stat_status_qc['rate']=100*(stat_status_qc['status']/numsample)\n",
    "temp = sample_qc_df[['status','dup']]\n",
    "temp['dup']=[1 if i > 0 else 0 for i in temp['dup']]\n",
    "stat_status_qc['dup']=temp.groupby('status').sum()\n",
    "stat_status_qc['dup_rate']=100*(stat_status_qc['dup']/stat_status_qc['status'])\n",
    "\n",
    "pd.set_option('display.float_format', lambda x: '%.2f' % x)\n",
    "#stat_status_qc=stat_status_qc.reindex(index = ['success', 'duplicated jobs', 'duplicated nodes', 'no fq2u', 'failed fq2u', 'no gatk', 'failed gatk','missing rg'])\n",
    "stat_status_qc=stat_status_qc.reindex(index = ['success', 'no fq2u', 'failed fq2u', 'no gatk', 'failed gatk','missing rg'])\n",
    "stat_status_qc=stat_status_qc.replace(np.nan,0)\n",
    "display(stat_status_qc)\n",
    "\n",
    "pd.set_option('display.float_format', lambda x: '%.2f' % x)\n",
    "print(\"Success Samples : \" + str(sum(stat_status_qc['status'][0:3])))\n",
    "print(\"Failed Samples : \" + str(sum(stat_status_qc['status'][3:7])))\n",
    "print(\"Success Rate : \" + str(sum(stat_status_qc['rate'][0:3])) + \"%\")\n",
    "print(\"Failed Rate : \" + str(sum(stat_status_qc['rate'][3:7])) + \"%\")"
   ]
  },
  {
   "cell_type": "code",
   "execution_count": 179,
   "metadata": {},
   "outputs": [
    {
     "data": {
      "image/png": "[encoded data removed]",
      "text/plain": [
       "<Figure size 720x720 with 1 Axes>"
      ]
     },
     "metadata": {},
     "output_type": "display_data"
    }
   ],
   "source": [
    "from matplotlib import style\n",
    "import matplotlib as mpl\n",
    "style.use('ggplot')\n",
    "\n",
    "fig = plt.figure(1, figsize=(10,10))\n",
    "labels = ['Pass','Fail']\n",
    "colors = ['green','red']\n",
    "ratio = [sum(stat_status_qc['rate'][0:3]),sum(stat_status_qc['rate'][3:7])]\n",
    "patches, texts, autotexts=plt.pie(ratio, labels=labels, colors=colors, autopct='%.2f%%', shadow=False, startangle=30, textprops={'fontsize': 20})\n",
    "texts[0].set_fontsize(20)\n",
    "texts[1].set_fontsize(20)\n",
    "plt.show()\n",
    "#plt.savefig('./success_rate.png')"
   ]
  },
  {
   "cell_type": "markdown",
   "metadata": {},
   "source": [
    "### Upload CSV Files to BigQuery"
   ]
  },
  {
   "cell_type": "code",
   "execution_count": 180,
   "metadata": {},
   "outputs": [],
   "source": [
    "# columnlist=[\"sample\",\"pass\",\"status\",\"dup\",\"fastq\",\"fastq_rg\",\"ubam\",\"ubam_rg\",\"vcf\",\"cram\",\"crai\",\"job_fq2u\",\"job_gatk\"]\n",
    "# sample_qc_df_simple=sample_qc_df[columnlist]\n",
    "# sample_qc_df_simple.to_csv('sample-based-analysis-v058-1-simple2.csv')"
   ]
  },
  {
   "cell_type": "code",
   "execution_count": 181,
   "metadata": {},
   "outputs": [],
   "source": [
    "# table_id='mvp_wgs35_v058_1.sample_based_analysis'\n",
    "# projectid='gbsc-gcp-project-mvp-test'\n",
    "\n",
    "# pandas_gbq.to_gbq(\n",
    "#     sample_qc_df_simple, table_id, project_id=projectid, if_exists='replace',\n",
    "# )"
   ]
  }
 ],
 "metadata": {
  "kernelspec": {
   "display_name": "Python 3",
   "language": "python",
   "name": "python3"
  },
  "language_info": {
   "codemirror_mode": {
    "name": "ipython",
    "version": 3
   },
   "file_extension": ".py",
   "mimetype": "text/x-python",
   "name": "python",
   "nbconvert_exporter": "python",
   "pygments_lexer": "ipython3",
   "version": "3.5.3"
  }
 },
 "nbformat": 4,
 "nbformat_minor": 4
}
